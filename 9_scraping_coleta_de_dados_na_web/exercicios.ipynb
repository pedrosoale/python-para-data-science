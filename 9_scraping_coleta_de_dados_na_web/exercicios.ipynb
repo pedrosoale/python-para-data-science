{
 "cells": [
  {
   "cell_type": "markdown",
   "metadata": {},
   "source": [
    "# Aula 1"
   ]
  },
  {
   "cell_type": "markdown",
   "metadata": {},
   "source": [
    "## Hello World!"
   ]
  },
  {
   "cell_type": "code",
   "execution_count": 1,
   "metadata": {},
   "outputs": [
    {
     "data": {
      "text/plain": [
       "'Curso de Web Scraping'"
      ]
     },
     "execution_count": 1,
     "metadata": {},
     "output_type": "execute_result"
    }
   ],
   "source": [
    "from urllib.request import urlopen\n",
    "from bs4 import BeautifulSoup\n",
    "\n",
    "url = 'https://alura-site-scraping.herokuapp.com/hello-world.php'\n",
    "\n",
    "response = urlopen(url)\n",
    "html = response.read()\n",
    "\n",
    "soup = BeautifulSoup(html, 'html.parser')\n",
    "\n",
    "soup.find('h1', {'class': 'sub-header'}).get_text()"
   ]
  },
  {
   "cell_type": "markdown",
   "metadata": {},
   "source": [
    "# Aula 4"
   ]
  },
  {
   "cell_type": "code",
   "execution_count": 2,
   "metadata": {},
   "outputs": [],
   "source": [
    "from bs4 import BeautifulSoup\n",
    "\n",
    "html = \"\"\"\n",
    "    <html>\n",
    "        <body>\n",
    "            <div id=\"container-a\">\n",
    "                <h1>Título A</h1>\n",
    "                <h2 class=\"ref-a\">Sub título A</h2>\n",
    "                <p>Texto de conteúdo A</p>\n",
    "            </div>\n",
    "            <div id=\"container-b\">\n",
    "                <h1>Título B</h1>\n",
    "                <h2 class=\"ref-b\">Sub título B</h2>\n",
    "                <p>Texto de conteúdo B</p>\n",
    "            </div>\n",
    "        </body>\n",
    "    </html>\n",
    "\"\"\"\n",
    "soup = BeautifulSoup(html, 'html.parser')\n"
   ]
  },
  {
   "cell_type": "code",
   "execution_count": 3,
   "metadata": {},
   "outputs": [
    {
     "name": "stdout",
     "output_type": "stream",
     "text": [
      "<h2 class=\"ref-b\">Sub título B</h2>\n"
     ]
    }
   ],
   "source": [
    "print(soup.find('h2', {'class': 'ref-b'}))\n"
   ]
  },
  {
   "cell_type": "code",
   "execution_count": 4,
   "metadata": {},
   "outputs": [
    {
     "name": "stdout",
     "output_type": "stream",
     "text": [
      "Texto de conteúdo B\n"
     ]
    }
   ],
   "source": [
    "print(soup.find('div', {'id': 'container-b'}).p.get_text())\n"
   ]
  },
  {
   "cell_type": "code",
   "execution_count": 5,
   "metadata": {},
   "outputs": [
    {
     "name": "stdout",
     "output_type": "stream",
     "text": [
      "[<h1>Título A</h1>, <h1>Título B</h1>]\n"
     ]
    }
   ],
   "source": [
    "print(soup.findAll('h1'))\n"
   ]
  },
  {
   "cell_type": "markdown",
   "metadata": {},
   "source": [
    "# Aula 5"
   ]
  },
  {
   "cell_type": "code",
   "execution_count": 1,
   "metadata": {},
   "outputs": [],
   "source": [
    "from bs4 import BeautifulSoup\n",
    "\n",
    "html = \"\"\"\n",
    "    <html>\n",
    "        <body>\n",
    "            <div id=\"container-a\">\n",
    "                <h1>Curso de Web Scraping</h1>\n",
    "                <h3>Treinamento Alura</h3>\n",
    "                <p class=\"main descr\">Curso para ensinar técnicas de coleta de dados na web.</p>\n",
    "            </div>\n",
    "            <div id=\"tools\">\n",
    "                <p class=\"main lib-a\">BeautifulSoup</p>\n",
    "                <p class=\"libs\">findAll()</p>\n",
    "                <p class=\"libs\">getText()</p>\n",
    "                <p class=\"main lib-b\">urllib.request</p>\n",
    "                <p class=\"libs\">urlopen()</p>\n",
    "                <p class=\"main lib-c\">pandas</p>\n",
    "                <p class=\"libs\">DataFrame()</p>\n",
    "            </div>\n",
    "        </body>\n",
    "    </html>\n",
    "\"\"\"\n",
    "soup = BeautifulSoup(html, 'html.parser')"
   ]
  },
  {
   "cell_type": "code",
   "execution_count": 2,
   "metadata": {},
   "outputs": [
    {
     "name": "stdout",
     "output_type": "stream",
     "text": [
      "BeautifulSoup\n",
      "urllib.request\n",
      "pandas\n"
     ]
    }
   ],
   "source": [
    "items = soup.find('div', {'id': 'tools'}).findAll('p', {'class': ['lib-a', 'lib-b', 'lib-c']})\n",
    "for item in items:\n",
    "    print(item.getText())"
   ]
  },
  {
   "cell_type": "code",
   "execution_count": 3,
   "metadata": {},
   "outputs": [
    {
     "name": "stdout",
     "output_type": "stream",
     "text": [
      "BeautifulSoup\n",
      "urllib.request\n",
      "pandas\n"
     ]
    }
   ],
   "source": [
    "items = soup.find('div', {'id': 'tools'}).findAll('p', {'class': 'main'})\n",
    "for item in items:\n",
    "    print(item.getText())"
   ]
  },
  {
   "cell_type": "code",
   "execution_count": 4,
   "metadata": {},
   "outputs": [
    {
     "name": "stdout",
     "output_type": "stream",
     "text": [
      "BeautifulSoup\n",
      "urllib.request\n",
      "pandas\n"
     ]
    }
   ],
   "source": [
    "\n",
    "items = soup.find('div', {'id': 'tools'})('p', {'class': 'main'})\n",
    "for item in items:\n",
    "    print(item.getText())"
   ]
  },
  {
   "cell_type": "code",
   "execution_count": 5,
   "metadata": {},
   "outputs": [],
   "source": [
    "from bs4 import BeautifulSoup\n",
    "\n",
    "html = \"\"\"\n",
    "    <html>\n",
    "        <body>\n",
    "            <ul>\n",
    "                <li>Abertura</li>\n",
    "                <li>10%</li>\n",
    "                <li>11%</li>\n",
    "                <li>10.5%</li>\n",
    "                <li>9%</li>\n",
    "                <li>Fechamento</li>\n",
    "            </ul>\n",
    "        </body>\n",
    "    </html>\n",
    "\"\"\"\n",
    "soup = BeautifulSoup(html, 'html.parser')"
   ]
  },
  {
   "cell_type": "code",
   "execution_count": 7,
   "metadata": {},
   "outputs": [
    {
     "data": {
      "text/plain": [
       "[<li>10%</li>, <li>11%</li>, <li>10.5%</li>, <li>9%</li>]"
      ]
     },
     "execution_count": 7,
     "metadata": {},
     "output_type": "execute_result"
    }
   ],
   "source": [
    "# Apresentar somente valores numéricos no conteúdo\n",
    "valores = soup.ul('li')\n",
    "valores.pop(0)\n",
    "valores.pop()\n",
    "valores"
   ]
  },
  {
   "cell_type": "code",
   "execution_count": 8,
   "metadata": {},
   "outputs": [],
   "source": [
    "import pandas as pd\n",
    "\n",
    "card = {'value': 'R$ 1000',\n",
    " 'name': 'Fusca',\n",
    " 'motor': 'Motor 1.6',\n",
    " 'description': 'Ano 1963 - 455.286 km',\n",
    " 'location': 'Belo Horizonte - MG',\n",
    " 'items': ['Rádio', 'Buzina']}"
   ]
  },
  {
   "cell_type": "code",
   "execution_count": 9,
   "metadata": {},
   "outputs": [
    {
     "data": {
      "text/html": [
       "<div>\n",
       "<style scoped>\n",
       "    .dataframe tbody tr th:only-of-type {\n",
       "        vertical-align: middle;\n",
       "    }\n",
       "\n",
       "    .dataframe tbody tr th {\n",
       "        vertical-align: top;\n",
       "    }\n",
       "\n",
       "    .dataframe thead th {\n",
       "        text-align: right;\n",
       "    }\n",
       "</style>\n",
       "<table border=\"1\" class=\"dataframe\">\n",
       "  <thead>\n",
       "    <tr style=\"text-align: right;\">\n",
       "      <th></th>\n",
       "      <th>value</th>\n",
       "      <th>name</th>\n",
       "      <th>motor</th>\n",
       "      <th>description</th>\n",
       "      <th>location</th>\n",
       "      <th>items</th>\n",
       "    </tr>\n",
       "  </thead>\n",
       "  <tbody>\n",
       "    <tr>\n",
       "      <th>0</th>\n",
       "      <td>R$ 1000</td>\n",
       "      <td>Fusca</td>\n",
       "      <td>Motor 1.6</td>\n",
       "      <td>Ano 1963 - 455.286 km</td>\n",
       "      <td>Belo Horizonte - MG</td>\n",
       "      <td>[Rádio, Buzina]</td>\n",
       "    </tr>\n",
       "  </tbody>\n",
       "</table>\n",
       "</div>"
      ],
      "text/plain": [
       "     value   name      motor            description             location  \\\n",
       "0  R$ 1000  Fusca  Motor 1.6  Ano 1963 - 455.286 km  Belo Horizonte - MG   \n",
       "\n",
       "             items  \n",
       "0  [Rádio, Buzina]  "
      ]
     },
     "execution_count": 9,
     "metadata": {},
     "output_type": "execute_result"
    }
   ],
   "source": [
    "pd.DataFrame.from_dict(card, orient='index').T"
   ]
  },
  {
   "cell_type": "code",
   "execution_count": null,
   "metadata": {},
   "outputs": [],
   "source": []
  }
 ],
 "metadata": {
  "interpreter": {
   "hash": "9726a43947539454533853d3201a59fdf1078c50b678dc55536f50e7896ad32c"
  },
  "kernelspec": {
   "display_name": "Python 3.8.5 64-bit ('base': conda)",
   "language": "python",
   "name": "python3"
  },
  "language_info": {
   "codemirror_mode": {
    "name": "ipython",
    "version": 3
   },
   "file_extension": ".py",
   "mimetype": "text/x-python",
   "name": "python",
   "nbconvert_exporter": "python",
   "pygments_lexer": "ipython3",
   "version": "3.8.5"
  },
  "orig_nbformat": 4
 },
 "nbformat": 4,
 "nbformat_minor": 2
}
