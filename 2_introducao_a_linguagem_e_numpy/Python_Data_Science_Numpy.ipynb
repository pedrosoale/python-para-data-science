{
 "cells": [
  {
   "cell_type": "markdown",
   "source": [
    "# <font color=green> PYTHON PARA DATA SCIENCE - NUMPY\n",
    "---"
   ],
   "metadata": {
    "colab_type": "text",
    "id": "do3kUOLbltjE"
   }
  },
  {
   "cell_type": "markdown",
   "source": [
    "# <font color=green> 1. INTRODUÇÃO AO PYTHON\n",
    "---"
   ],
   "metadata": {
    "colab_type": "text",
    "id": "umSz9TLxltjG"
   }
  },
  {
   "cell_type": "markdown",
   "source": [
    "# 1.1 Introdução"
   ],
   "metadata": {
    "colab_type": "text",
    "id": "gSnX12-sltjH"
   }
  },
  {
   "cell_type": "markdown",
   "source": [
    "> Python é uma linguagem de programação de alto nível com suporte a múltiplos paradigmas de programação. É um projeto *open source* e desde seu surgimento, em 1991, vem se tornando uma das linguagens de programação interpretadas mais populares. \n",
    ">\n",
    "> Nos últimos anos Python desenvolveu uma comunidade ativa de processamento científico e análise de dados e vem se destacando como uma das linguagens mais relevantes quando o assunto é ciência de dados e machine learning, tanto no ambiente acadêmico como também no mercado."
   ],
   "metadata": {
    "colab_type": "text",
    "id": "SRG_k55kltjI"
   }
  },
  {
   "cell_type": "markdown",
   "source": [
    "# 1.2 Instalação e ambiente de desenvolvimento"
   ],
   "metadata": {
    "colab_type": "text",
    "id": "2oZuKvWkltjJ"
   }
  },
  {
   "cell_type": "markdown",
   "source": [
    "### Instalação Local\n",
    "\n",
    "### https://www.python.org/downloads/\n",
    "### ou\n",
    "### https://www.anaconda.com/distribution/"
   ],
   "metadata": {
    "colab_type": "text",
    "id": "v4P8bMEIltjK"
   }
  },
  {
   "cell_type": "markdown",
   "source": [
    "### Google Colaboratory\n",
    "\n",
    "### https://colab.research.google.com"
   ],
   "metadata": {
    "colab_type": "text",
    "id": "FZtu5tjrltjL"
   }
  },
  {
   "cell_type": "markdown",
   "source": [
    "### Verificando versão"
   ],
   "metadata": {
    "colab_type": "text",
    "id": "C6vbfq8DltjM"
   }
  },
  {
   "cell_type": "code",
   "execution_count": 162,
   "source": [
    "!python --version"
   ],
   "outputs": [
    {
     "output_type": "stream",
     "name": "stdout",
     "text": [
      "Python 3.8.5\n"
     ]
    }
   ],
   "metadata": {
    "colab": {
     "base_uri": "https://localhost:8080/",
     "height": 34
    },
    "colab_type": "code",
    "id": "jeuAt-4NltjM",
    "outputId": "f54af95d-24b5-4192-ef9c-dd86a5e461ed"
   }
  },
  {
   "cell_type": "markdown",
   "source": [
    "# 1.3 Trabalhando com arrays Numpy"
   ],
   "metadata": {
    "colab_type": "text",
    "id": "v86aEyR2ltjR"
   }
  },
  {
   "cell_type": "code",
   "execution_count": 163,
   "source": [
    "import numpy as np"
   ],
   "outputs": [],
   "metadata": {
    "colab": {},
    "colab_type": "code",
    "id": "6FEhElzNltjR"
   }
  },
  {
   "cell_type": "code",
   "execution_count": 164,
   "source": [
    "km = np.loadtxt(\"carros-km.txt\")\r\n",
    "km"
   ],
   "outputs": [
    {
     "output_type": "execute_result",
     "data": {
      "text/plain": [
       "array([4.44100e+04, 5.71200e+03, 3.71230e+04, 0.00000e+00, 2.57570e+04,\n",
       "       1.07280e+04, 0.00000e+00, 7.75990e+04, 9.91970e+04, 3.79780e+04,\n",
       "       1.28590e+04, 8.05200e+03, 8.97730e+04, 0.00000e+00, 4.14570e+04,\n",
       "       1.15607e+05, 4.64490e+04, 0.00000e+00, 3.70860e+04, 1.51730e+04,\n",
       "       1.01193e+05, 0.00000e+00, 9.80790e+04, 1.02959e+05, 0.00000e+00,\n",
       "       0.00000e+00, 5.79500e+03, 0.00000e+00, 5.88480e+04, 9.43810e+04,\n",
       "       3.01630e+04, 5.33320e+04, 1.77200e+04, 3.38080e+04, 9.06840e+04,\n",
       "       4.39750e+04, 0.00000e+00, 0.00000e+00, 5.52600e+03, 0.00000e+00,\n",
       "       9.34150e+04, 4.07620e+04, 0.00000e+00, 8.63020e+04, 0.00000e+00,\n",
       "       9.75500e+03, 6.99450e+04, 2.39500e+03, 0.00000e+00, 8.03490e+04,\n",
       "       8.55540e+04, 5.04960e+04, 6.77160e+04, 9.39470e+04, 3.53450e+04,\n",
       "       8.10070e+04, 1.19513e+05, 0.00000e+00, 0.00000e+00, 0.00000e+00,\n",
       "       0.00000e+00, 0.00000e+00, 1.18895e+05, 4.85090e+04, 1.00912e+05,\n",
       "       9.56490e+04, 0.00000e+00, 9.04950e+04, 0.00000e+00, 2.91320e+04,\n",
       "       2.38020e+04, 8.49920e+04, 5.43950e+04, 2.67310e+04, 4.43290e+04,\n",
       "       1.18236e+05, 1.13808e+05, 6.10000e+02, 0.00000e+00, 0.00000e+00,\n",
       "       1.28870e+04, 7.96070e+04, 9.09240e+04, 4.27330e+04, 0.00000e+00,\n",
       "       0.00000e+00, 1.17714e+05, 1.13885e+05, 0.00000e+00, 3.05110e+04,\n",
       "       7.48670e+04, 1.19760e+05, 8.35600e+03, 6.42470e+04, 8.86610e+04,\n",
       "       4.53900e+03, 1.10116e+05, 3.32150e+04, 9.20010e+04, 0.00000e+00,\n",
       "       8.17080e+04, 7.06410e+04, 0.00000e+00, 9.12770e+04, 2.65440e+04,\n",
       "       5.25960e+04, 4.75030e+04, 8.90560e+04, 2.88340e+04, 1.10564e+05,\n",
       "       5.66380e+04, 1.73570e+04, 7.40150e+04, 1.51960e+04, 0.00000e+00,\n",
       "       1.08210e+04, 0.00000e+00, 0.00000e+00, 9.59500e+03, 9.90520e+04,\n",
       "       5.23890e+04, 1.19945e+05, 9.60050e+04, 3.16390e+04, 0.00000e+00,\n",
       "       8.01870e+04, 0.00000e+00, 5.82120e+04, 6.16720e+04, 3.20170e+04,\n",
       "       0.00000e+00, 5.69440e+04, 0.00000e+00, 8.65190e+04, 4.82100e+03,\n",
       "       1.01025e+05, 3.07050e+04, 0.00000e+00, 3.25550e+04, 1.03389e+05,\n",
       "       0.00000e+00, 5.52890e+04, 0.00000e+00, 0.00000e+00, 1.15930e+05,\n",
       "       6.64370e+04, 9.68000e+04, 1.42370e+04, 1.98960e+04, 1.13045e+05,\n",
       "       1.14942e+05, 3.17300e+03, 8.36110e+04, 2.53560e+04, 8.86340e+04,\n",
       "       2.31400e+03, 2.62700e+03, 5.20340e+04, 0.00000e+00, 0.00000e+00,\n",
       "       7.95770e+04, 1.08201e+05, 7.64530e+04, 5.76830e+04, 9.66100e+04,\n",
       "       1.09001e+05, 2.62120e+04, 4.59710e+04, 4.91820e+04, 4.99070e+04,\n",
       "       3.86200e+04, 6.09960e+04, 7.39140e+04, 1.07392e+05, 9.14600e+03,\n",
       "       0.00000e+00, 1.79240e+04, 0.00000e+00, 1.16949e+05, 2.04760e+04,\n",
       "       5.28040e+04, 8.84900e+03, 9.17240e+04, 3.20560e+04, 7.48860e+04,\n",
       "       0.00000e+00, 0.00000e+00, 5.21890e+04, 8.35590e+04, 0.00000e+00,\n",
       "       2.03280e+04, 0.00000e+00, 7.55770e+04, 3.36590e+04, 1.04341e+05,\n",
       "       2.55100e+04, 1.89650e+04, 8.71610e+04, 6.65200e+03, 5.57380e+04,\n",
       "       0.00000e+00, 0.00000e+00, 0.00000e+00, 6.43200e+04, 0.00000e+00,\n",
       "       6.86780e+04, 7.16970e+04, 0.00000e+00, 3.47830e+04, 3.37720e+04,\n",
       "       8.51270e+04, 1.36060e+04, 3.56470e+04, 9.51280e+04, 1.40460e+04,\n",
       "       4.11940e+04, 0.00000e+00, 9.61000e+04, 1.03900e+05, 4.38140e+04,\n",
       "       2.46380e+04, 0.00000e+00, 1.10966e+05, 1.59870e+04, 5.33690e+04,\n",
       "       1.00770e+04, 7.15440e+04, 1.07000e+02, 8.39400e+03, 4.14980e+04,\n",
       "       1.16002e+05, 1.00858e+05, 6.74750e+04, 8.49700e+03, 4.42000e+03,\n",
       "       0.00000e+00, 5.85370e+04, 0.00000e+00, 0.00000e+00, 1.12016e+05,\n",
       "       9.18400e+04, 1.12787e+05, 0.00000e+00, 0.00000e+00, 9.29300e+03,\n",
       "       0.00000e+00, 5.50830e+04, 4.87960e+04, 0.00000e+00, 8.96850e+04,\n",
       "       8.53840e+04, 9.81080e+04, 7.12800e+04, 2.75050e+04, 2.99810e+04,\n",
       "       5.26370e+04, 7.68500e+03, 5.01880e+04])"
      ]
     },
     "metadata": {},
     "execution_count": 164
    }
   ],
   "metadata": {}
  },
  {
   "cell_type": "code",
   "execution_count": 165,
   "source": [
    "anos = np.loadtxt(\"carros-anos.txt\", dtype=int)\r\n",
    "anos"
   ],
   "outputs": [
    {
     "output_type": "execute_result",
     "data": {
      "text/plain": [
       "array([2003, 1991, 1990, 2019, 2006, 2012, 2019, 2009, 2010, 2011, 2002,\n",
       "       2007, 2001, 2019, 2009, 2016, 2012, 2019, 2016, 2017, 2002, 2019,\n",
       "       1994, 1991, 2019, 2019, 2016, 2019, 2002, 1991, 1997, 1995, 2018,\n",
       "       1991, 2014, 1995, 2019, 2019, 2009, 2019, 2013, 2003, 2019, 2002,\n",
       "       2019, 2002, 2004, 2001, 2019, 2003, 2009, 2006, 2000, 2006, 2010,\n",
       "       1994, 2007, 2019, 2019, 2019, 2019, 2019, 2017, 2011, 2001, 1996,\n",
       "       2019, 1994, 2019, 2007, 1994, 2007, 1997, 2006, 2013, 1994, 2008,\n",
       "       2008, 2019, 2019, 1999, 2007, 1993, 1995, 2019, 2019, 2016, 2011,\n",
       "       2019, 2002, 2013, 2017, 2016, 2008, 2018, 2003, 2003, 2004, 2010,\n",
       "       2019, 2006, 2001, 2019, 2015, 2018, 2017, 1992, 2001, 1993, 1995,\n",
       "       2003, 2014, 2008, 2013, 2019, 2017, 2019, 2019, 2006, 2015, 2007,\n",
       "       2005, 2017, 1998, 2019, 1999, 2019, 2009, 2003, 1994, 2019, 1994,\n",
       "       2019, 2015, 1996, 1997, 1993, 2019, 1992, 1995, 2019, 1990, 2019,\n",
       "       2019, 1991, 1990, 2012, 2007, 2013, 2000, 2002, 1996, 1996, 2015,\n",
       "       1993, 2013, 2013, 2009, 2019, 2019, 2002, 1997, 1998, 2004, 1996,\n",
       "       2015, 2016, 2005, 1999, 1995, 1993, 2004, 2013, 1998, 2018, 2019,\n",
       "       2018, 2019, 1990, 2009, 1990, 2006, 2002, 1991, 1992, 2019, 2019,\n",
       "       2005, 2010, 2019, 2016, 2019, 2010, 1994, 2001, 2014, 1996, 1993,\n",
       "       1993, 2001, 2019, 2019, 2019, 2007, 2019, 2016, 2014, 2019, 2015,\n",
       "       2015, 1996, 2002, 2005, 1995, 1999, 2005, 2019, 1997, 1990, 2001,\n",
       "       2013, 2019, 2017, 2011, 2005, 2007, 1993, 1991, 1991, 1997, 2000,\n",
       "       2007, 2006, 2015, 2008, 2019, 1996, 2019, 2019, 2014, 2004, 2008,\n",
       "       2019, 2019, 2012, 2019, 1996, 2011, 2019, 2010, 2007, 1994, 2007,\n",
       "       2014, 1991, 2002, 1996, 1992])"
      ]
     },
     "metadata": {},
     "execution_count": 165
    }
   ],
   "metadata": {
    "colab": {
     "base_uri": "https://localhost:8080/",
     "height": 1000
    },
    "colab_type": "code",
    "id": "OFaxgUptltjW",
    "outputId": "63891cfd-6a0f-45b8-d6b7-77c4e638bc87",
    "scrolled": true
   }
  },
  {
   "cell_type": "markdown",
   "source": [
    "### Obtendo a quilometragem média por ano"
   ],
   "metadata": {
    "colab_type": "text",
    "id": "wMdUsAq4ltjs"
   }
  },
  {
   "cell_type": "code",
   "execution_count": 166,
   "source": [
    "km_media = km / (2019 - anos)\r\n",
    "km_media"
   ],
   "outputs": [
    {
     "output_type": "stream",
     "name": "stderr",
     "text": [
      "<ipython-input-166-5bc332509f35>:1: RuntimeWarning: invalid value encountered in true_divide\n",
      "  km_media = km / (2019 - anos)\n"
     ]
    },
    {
     "output_type": "execute_result",
     "data": {
      "text/plain": [
       "array([2.77562500e+03, 2.04000000e+02, 1.28010345e+03,            nan,\n",
       "       1.98130769e+03, 1.53257143e+03,            nan, 7.75990000e+03,\n",
       "       1.10218889e+04, 4.74725000e+03, 7.56411765e+02, 6.71000000e+02,\n",
       "       4.98738889e+03,            nan, 4.14570000e+03, 3.85356667e+04,\n",
       "       6.63557143e+03,            nan, 1.23620000e+04, 7.58650000e+03,\n",
       "       5.95252941e+03,            nan, 3.92316000e+03, 3.67710714e+03,\n",
       "                  nan,            nan, 1.93166667e+03,            nan,\n",
       "       3.46164706e+03, 3.37075000e+03, 1.37104545e+03, 2.22216667e+03,\n",
       "       1.77200000e+04, 1.20742857e+03, 1.81368000e+04, 1.83229167e+03,\n",
       "                  nan,            nan, 5.52600000e+02,            nan,\n",
       "       1.55691667e+04, 2.54762500e+03,            nan, 5.07658824e+03,\n",
       "                  nan, 5.73823529e+02, 4.66300000e+03, 1.33055556e+02,\n",
       "                  nan, 5.02181250e+03, 8.55540000e+03, 3.88430769e+03,\n",
       "       3.56400000e+03, 7.22669231e+03, 3.92722222e+03, 3.24028000e+03,\n",
       "       9.95941667e+03,            nan,            nan,            nan,\n",
       "                  nan,            nan, 5.94475000e+04, 6.06362500e+03,\n",
       "       5.60622222e+03, 4.15865217e+03,            nan, 3.61980000e+03,\n",
       "                  nan, 2.42766667e+03, 9.52080000e+02, 7.08266667e+03,\n",
       "       2.47250000e+03, 2.05623077e+03, 7.38816667e+03, 4.72944000e+03,\n",
       "       1.03461818e+04, 5.54545455e+01,            nan,            nan,\n",
       "       6.44350000e+02, 6.63391667e+03, 3.49707692e+03, 1.78054167e+03,\n",
       "                  nan,            nan, 3.92380000e+04, 1.42356250e+04,\n",
       "                  nan, 1.79476471e+03, 1.24778333e+04, 5.98800000e+04,\n",
       "       2.78533333e+03, 5.84063636e+03, 8.86610000e+04, 2.83687500e+02,\n",
       "       6.88225000e+03, 2.21433333e+03, 1.02223333e+04,            nan,\n",
       "       6.28523077e+03, 3.92450000e+03,            nan, 2.28192500e+04,\n",
       "       2.65440000e+04, 2.62980000e+04, 1.75937037e+03, 4.94755556e+03,\n",
       "       1.10900000e+03, 4.60683333e+03, 3.53987500e+03, 3.47140000e+03,\n",
       "       6.72863636e+03, 2.53266667e+03,            nan, 5.41050000e+03,\n",
       "                  nan,            nan, 7.38076923e+02, 2.47630000e+04,\n",
       "       4.36575000e+03, 8.56750000e+03, 4.80025000e+04, 1.50661905e+03,\n",
       "                  nan, 4.00935000e+03,            nan, 5.82120000e+03,\n",
       "       3.85450000e+03, 1.28068000e+03,            nan, 2.27776000e+03,\n",
       "                  nan, 2.16297500e+04, 2.09608696e+02, 4.59204545e+03,\n",
       "       1.18096154e+03,            nan, 1.20574074e+03, 4.30787500e+03,\n",
       "                  nan, 1.90651724e+03,            nan,            nan,\n",
       "       4.14035714e+03, 2.29093103e+03, 1.38285714e+04, 1.18641667e+03,\n",
       "       3.31600000e+03, 5.94973684e+03, 6.76129412e+03, 1.37956522e+02,\n",
       "       3.63526087e+03, 6.33900000e+03, 3.40900000e+03, 3.85666667e+02,\n",
       "       4.37833333e+02, 5.20340000e+03,            nan,            nan,\n",
       "       4.68100000e+03, 4.91822727e+03, 3.64061905e+03, 3.84553333e+03,\n",
       "       4.20043478e+03, 2.72502500e+04, 8.73733333e+03, 3.28364286e+03,\n",
       "       2.45910000e+03, 2.07945833e+03, 1.48538462e+03, 4.06640000e+03,\n",
       "       1.23190000e+04, 5.11390476e+03, 9.14600000e+03,            nan,\n",
       "       1.79240000e+04,            nan, 4.03272414e+03, 2.04760000e+03,\n",
       "       1.82082759e+03, 6.80692308e+02, 5.39552941e+03, 1.14485714e+03,\n",
       "       2.77355556e+03,            nan,            nan, 3.72778571e+03,\n",
       "       9.28433333e+03,            nan, 6.77600000e+03,            nan,\n",
       "       8.39744444e+03, 1.34636000e+03, 5.79672222e+03, 5.10200000e+03,\n",
       "       8.24565217e+02, 3.35234615e+03, 2.55846154e+02, 3.09655556e+03,\n",
       "                  nan,            nan,            nan, 5.36000000e+03,\n",
       "                  nan, 2.28926667e+04, 1.43394000e+04,            nan,\n",
       "       8.69575000e+03, 8.44300000e+03, 3.70117391e+03, 8.00352941e+02,\n",
       "       2.54621429e+03, 3.96366667e+03, 7.02300000e+02, 2.94242857e+03,\n",
       "                  nan, 4.36818182e+03, 3.58275862e+03, 2.43411111e+03,\n",
       "       4.10633333e+03,            nan, 5.54830000e+04, 1.99837500e+03,\n",
       "       3.81207143e+03, 8.39750000e+02, 2.75169231e+03, 3.82142857e+00,\n",
       "       2.99785714e+02, 1.88627273e+03, 6.10536842e+03, 8.40483333e+03,\n",
       "       5.19038462e+03, 2.12425000e+03, 4.01818182e+02,            nan,\n",
       "       2.54508696e+03,            nan,            nan, 2.24032000e+04,\n",
       "       6.12266667e+03, 1.02533636e+04,            nan,            nan,\n",
       "       1.32757143e+03,            nan, 2.39491304e+03, 6.09950000e+03,\n",
       "                  nan, 9.96500000e+03, 7.11533333e+03, 3.92432000e+03,\n",
       "       5.94000000e+03, 5.50100000e+03, 1.07075000e+03, 3.09629412e+03,\n",
       "       3.34130435e+02, 1.85881481e+03])"
      ]
     },
     "metadata": {},
     "execution_count": 166
    }
   ],
   "metadata": {
    "colab": {
     "base_uri": "https://localhost:8080/",
     "height": 51
    },
    "colab_type": "code",
    "id": "cD2M3s3Fltjt",
    "outputId": "30b2d105-5ea6-4662-f4fe-92d8e954003f"
   }
  },
  {
   "cell_type": "code",
   "execution_count": 167,
   "source": [
    "type(km_media)"
   ],
   "outputs": [
    {
     "output_type": "execute_result",
     "data": {
      "text/plain": [
       "numpy.ndarray"
      ]
     },
     "metadata": {},
     "execution_count": 167
    }
   ],
   "metadata": {
    "colab": {
     "base_uri": "https://localhost:8080/",
     "height": 1000
    },
    "colab_type": "code",
    "id": "65IyPzKKltjv",
    "outputId": "d4a637f2-7bf5-46d9-b785-ecd61557169d"
   }
  },
  {
   "cell_type": "markdown",
   "source": [
    "# <font color=green> 2. CARACTERÍSTICAS BÁSICAS DA LINGUAGEM\n",
    "---"
   ],
   "metadata": {
    "colab_type": "text",
    "id": "KdG5NmmGltj0"
   }
  },
  {
   "cell_type": "markdown",
   "source": [
    "# 2.1 Operações matemáticas\n",
    "\n",
    "### Operadores aritméticos: $+$, $-$, $*$, $/$, $**$, $\\%$, $//$"
   ],
   "metadata": {
    "colab_type": "text",
    "id": "X1K5kisFltj1"
   }
  },
  {
   "cell_type": "markdown",
   "source": [
    "### Adição ($+$)"
   ],
   "metadata": {
    "colab_type": "text",
    "id": "8YCDVpbYltj1"
   }
  },
  {
   "cell_type": "code",
   "execution_count": 168,
   "source": [
    "2 + 3"
   ],
   "outputs": [
    {
     "output_type": "execute_result",
     "data": {
      "text/plain": [
       "5"
      ]
     },
     "metadata": {},
     "execution_count": 168
    }
   ],
   "metadata": {
    "colab": {
     "base_uri": "https://localhost:8080/",
     "height": 34
    },
    "colab_type": "code",
    "id": "h6DsMqhaltj2",
    "outputId": "87907679-2476-4f2c-da41-9f0fc80936fd"
   }
  },
  {
   "cell_type": "markdown",
   "source": [
    "### Subtração ($-$)"
   ],
   "metadata": {
    "colab_type": "text",
    "id": "WeJG-WJBltj8"
   }
  },
  {
   "cell_type": "code",
   "execution_count": 169,
   "source": [
    "10 - 5"
   ],
   "outputs": [
    {
     "output_type": "execute_result",
     "data": {
      "text/plain": [
       "5"
      ]
     },
     "metadata": {},
     "execution_count": 169
    }
   ],
   "metadata": {
    "colab": {
     "base_uri": "https://localhost:8080/",
     "height": 34
    },
    "colab_type": "code",
    "id": "zoB7_OcRltj9",
    "outputId": "ee770233-336b-43e9-e618-37b7fc16a03b"
   }
  },
  {
   "cell_type": "markdown",
   "source": [
    "### Multiplicação ($*$)"
   ],
   "metadata": {
    "colab_type": "text",
    "id": "zuv8N7fjltkC"
   }
  },
  {
   "cell_type": "code",
   "execution_count": 170,
   "source": [
    "2 * 4"
   ],
   "outputs": [
    {
     "output_type": "execute_result",
     "data": {
      "text/plain": [
       "8"
      ]
     },
     "metadata": {},
     "execution_count": 170
    }
   ],
   "metadata": {
    "colab": {
     "base_uri": "https://localhost:8080/",
     "height": 34
    },
    "colab_type": "code",
    "id": "TAWG7xSTltkD",
    "outputId": "d6cc605e-3178-40b4-cd23-053dfcfd8005"
   }
  },
  {
   "cell_type": "markdown",
   "source": [
    "### Divisão ($/$) e ($//$)\n",
    "A operação divisão sempre retorna um número de ponto flutuante"
   ],
   "metadata": {
    "colab_type": "text",
    "id": "dMp7BsnwltkF"
   }
  },
  {
   "cell_type": "code",
   "execution_count": 171,
   "source": [
    "24/8"
   ],
   "outputs": [
    {
     "output_type": "execute_result",
     "data": {
      "text/plain": [
       "3.0"
      ]
     },
     "metadata": {},
     "execution_count": 171
    }
   ],
   "metadata": {
    "colab": {
     "base_uri": "https://localhost:8080/",
     "height": 34
    },
    "colab_type": "code",
    "id": "DD5kx3H3ltkF",
    "outputId": "1ff85eda-dd0f-4038-f70a-c08c51a63ce2"
   }
  },
  {
   "cell_type": "code",
   "execution_count": 172,
   "source": [
    "7//2"
   ],
   "outputs": [
    {
     "output_type": "execute_result",
     "data": {
      "text/plain": [
       "3"
      ]
     },
     "metadata": {},
     "execution_count": 172
    }
   ],
   "metadata": {
    "colab": {
     "base_uri": "https://localhost:8080/",
     "height": 34
    },
    "colab_type": "code",
    "id": "ji0CYH3UltkI",
    "outputId": "01ca9ed7-c180-41eb-d1db-2cd1eb14cd62"
   }
  },
  {
   "cell_type": "markdown",
   "source": [
    "### Exponenciação ($**$)"
   ],
   "metadata": {
    "colab_type": "text",
    "id": "3DSO7TcvltkL"
   }
  },
  {
   "cell_type": "code",
   "execution_count": 173,
   "source": [
    "2 ** 3"
   ],
   "outputs": [
    {
     "output_type": "execute_result",
     "data": {
      "text/plain": [
       "8"
      ]
     },
     "metadata": {},
     "execution_count": 173
    }
   ],
   "metadata": {
    "colab": {
     "base_uri": "https://localhost:8080/",
     "height": 34
    },
    "colab_type": "code",
    "id": "tBKvl2TWltkM",
    "outputId": "9ee998e5-2ad1-46c5-8289-b13a9097f5fb"
   }
  },
  {
   "cell_type": "markdown",
   "source": [
    "### Resto da divisão ($\\%$)"
   ],
   "metadata": {
    "colab_type": "text",
    "id": "MhD56p-9ltkQ"
   }
  },
  {
   "cell_type": "code",
   "execution_count": 174,
   "source": [
    "10 % 3"
   ],
   "outputs": [
    {
     "output_type": "execute_result",
     "data": {
      "text/plain": [
       "1"
      ]
     },
     "metadata": {},
     "execution_count": 174
    }
   ],
   "metadata": {
    "colab": {
     "base_uri": "https://localhost:8080/",
     "height": 34
    },
    "colab_type": "code",
    "id": "bfa7phO6ltkR",
    "outputId": "9359a9e3-3bcd-4885-89fc-70c0c3bb7b49"
   }
  },
  {
   "cell_type": "code",
   "execution_count": 175,
   "source": [
    "10 % 2"
   ],
   "outputs": [
    {
     "output_type": "execute_result",
     "data": {
      "text/plain": [
       "0"
      ]
     },
     "metadata": {},
     "execution_count": 175
    }
   ],
   "metadata": {
    "colab": {
     "base_uri": "https://localhost:8080/",
     "height": 34
    },
    "colab_type": "code",
    "id": "khIEx6olltkT",
    "outputId": "deeb1b0f-b6b2-4528-e00c-647b4c054a2d"
   }
  },
  {
   "cell_type": "markdown",
   "source": [
    "### Expressões matemáticas"
   ],
   "metadata": {
    "colab_type": "text",
    "id": "8pVVp5fsltkV"
   }
  },
  {
   "cell_type": "code",
   "execution_count": 176,
   "source": [
    "5 * 2 + 3 * 2"
   ],
   "outputs": [
    {
     "output_type": "execute_result",
     "data": {
      "text/plain": [
       "16"
      ]
     },
     "metadata": {},
     "execution_count": 176
    }
   ],
   "metadata": {
    "colab": {
     "base_uri": "https://localhost:8080/",
     "height": 34
    },
    "colab_type": "code",
    "id": "jlQTk4gNltkW",
    "outputId": "0713d421-184f-4aba-99f6-30917d0251fd"
   }
  },
  {
   "cell_type": "code",
   "execution_count": 177,
   "source": [
    "(5 * 2) + (3 * 2)"
   ],
   "outputs": [
    {
     "output_type": "execute_result",
     "data": {
      "text/plain": [
       "16"
      ]
     },
     "metadata": {},
     "execution_count": 177
    }
   ],
   "metadata": {
    "colab": {
     "base_uri": "https://localhost:8080/",
     "height": 34
    },
    "colab_type": "code",
    "id": "kkCb6Crgltka",
    "outputId": "4332b817-a520-472d-9be3-798c0b64932f"
   }
  },
  {
   "cell_type": "code",
   "execution_count": 178,
   "source": [
    "5 * (2 + 3) * 2"
   ],
   "outputs": [
    {
     "output_type": "execute_result",
     "data": {
      "text/plain": [
       "50"
      ]
     },
     "metadata": {},
     "execution_count": 178
    }
   ],
   "metadata": {
    "colab": {
     "base_uri": "https://localhost:8080/",
     "height": 34
    },
    "colab_type": "code",
    "id": "UD12tlgAltkd",
    "outputId": "1ee4c78b-4e88-40a4-cb8a-cc1ec1cb9149"
   }
  },
  {
   "cell_type": "markdown",
   "source": [
    "### A variável _\n",
    "\n",
    "No modo interativo, o último resultado impresso é atribuído à variável _"
   ],
   "metadata": {
    "colab_type": "text",
    "id": "a5tKQ5Beltkf"
   }
  },
  {
   "cell_type": "code",
   "execution_count": 179,
   "source": [
    "5 * 2"
   ],
   "outputs": [
    {
     "output_type": "execute_result",
     "data": {
      "text/plain": [
       "10"
      ]
     },
     "metadata": {},
     "execution_count": 179
    }
   ],
   "metadata": {
    "colab": {
     "base_uri": "https://localhost:8080/",
     "height": 34
    },
    "colab_type": "code",
    "id": "VkHEx516ltkg",
    "outputId": "50ff3dab-bfa1-42cc-947a-7b617da28ece"
   }
  },
  {
   "cell_type": "code",
   "execution_count": 180,
   "source": [
    "_ + 3 * 2"
   ],
   "outputs": [
    {
     "output_type": "execute_result",
     "data": {
      "text/plain": [
       "16"
      ]
     },
     "metadata": {},
     "execution_count": 180
    }
   ],
   "metadata": {
    "colab": {
     "base_uri": "https://localhost:8080/",
     "height": 34
    },
    "colab_type": "code",
    "id": "dFShsobXltki",
    "outputId": "59a5375c-31d8-422d-acf6-30750a4a0298"
   }
  },
  {
   "cell_type": "code",
   "execution_count": 181,
   "source": [
    "_ / 2"
   ],
   "outputs": [
    {
     "output_type": "execute_result",
     "data": {
      "text/plain": [
       "8.0"
      ]
     },
     "metadata": {},
     "execution_count": 181
    }
   ],
   "metadata": {
    "colab": {
     "base_uri": "https://localhost:8080/",
     "height": 34
    },
    "colab_type": "code",
    "id": "hJIpR3KUltkk",
    "outputId": "3e27561e-b511-4a17-ea21-d963659bd484"
   }
  },
  {
   "cell_type": "markdown",
   "source": [
    "# 2.2 Variáveis "
   ],
   "metadata": {
    "colab_type": "text",
    "id": "MUrQAf6Mltkm"
   }
  },
  {
   "cell_type": "markdown",
   "source": [
    "### Nomes de variáveis\n",
    "\n",
    "- Nomes de variáveis pode começar com letras (a - z, A - Z) ou o caractere *underscore* (_):\n",
    "\n",
    "    > Altura\n",
    "    >\n",
    "    > _peso\n",
    "    \n",
    "- O restante do nome pode conter letras, números e o caractere \"_\":\n",
    "\n",
    "    > nome_da_variavel\n",
    "    >\n",
    "    > _valor\n",
    "    >\n",
    "    > dia_28_11_\n",
    "    \n",
    "\n",
    "- O nomes são *case sensitive*:\n",
    "\n",
    "    > Nome_Da_Variável $\\ne$ nome_da_variavel $\\ne$ NOME_DA_VARIAVEL\n",
    "    \n",
    "### <font color=red>Observações:\n",
    "- Existem algumas palavras reservadas da linguagem que não podem ser utilizadas como nomes de variável:\n",
    "\n",
    "| |Lista de palavras <br>reservadas em Python| |\n",
    "|:-------------:|:------------:|:-------------:|\n",
    "| and           | as           | not           | \n",
    "| assert        | finally      | or            | \n",
    "| break         | for          | pass          | \n",
    "| class         | from         | nonlocal      | \n",
    "| continue      | global       | raise         | \n",
    "| def           | if           | return        | \n",
    "| del           | import       | try           | \n",
    "| elif          | in           | while         | \n",
    "| else          | is           | with          | \n",
    "| except        | lambda       | yield         | \n",
    "| False         | True         | None          | "
   ],
   "metadata": {
    "colab_type": "text",
    "id": "qaVLKIeultkn"
   }
  },
  {
   "cell_type": "markdown",
   "source": [
    "### Declaração de variáveis\n",
    "\n",
    "### Operadores de atribuição: $=$, $+=$, $-=$, $*=$, $/=$, $**=$, $\\%=$, $//=$"
   ],
   "metadata": {
    "colab_type": "text",
    "id": "3frWjfAtltkn"
   }
  },
  {
   "cell_type": "code",
   "execution_count": 182,
   "source": [
    "ano_atual = 2019\r\n",
    "ano_fabricacao = 2003\r\n",
    "km_total = 44410.0"
   ],
   "outputs": [],
   "metadata": {
    "colab": {},
    "colab_type": "code",
    "id": "7VIcrXNHltko"
   }
  },
  {
   "cell_type": "code",
   "execution_count": 183,
   "source": [
    "ano_atual"
   ],
   "outputs": [
    {
     "output_type": "execute_result",
     "data": {
      "text/plain": [
       "2019"
      ]
     },
     "metadata": {},
     "execution_count": 183
    }
   ],
   "metadata": {
    "colab": {
     "base_uri": "https://localhost:8080/",
     "height": 34
    },
    "colab_type": "code",
    "id": "atVoqp6bltkq",
    "outputId": "24d88002-e1e5-4f68-ab8b-25503d76e9d7"
   }
  },
  {
   "cell_type": "code",
   "execution_count": 184,
   "source": [
    "ano_fabricacao"
   ],
   "outputs": [
    {
     "output_type": "execute_result",
     "data": {
      "text/plain": [
       "2003"
      ]
     },
     "metadata": {},
     "execution_count": 184
    }
   ],
   "metadata": {
    "colab": {
     "base_uri": "https://localhost:8080/",
     "height": 34
    },
    "colab_type": "code",
    "id": "_t82qXrOltkt",
    "outputId": "4352313a-1399-47d6-e1ed-49b715e9c167"
   }
  },
  {
   "cell_type": "code",
   "execution_count": 185,
   "source": [
    "km_total"
   ],
   "outputs": [
    {
     "output_type": "execute_result",
     "data": {
      "text/plain": [
       "44410.0"
      ]
     },
     "metadata": {},
     "execution_count": 185
    }
   ],
   "metadata": {
    "colab": {
     "base_uri": "https://localhost:8080/",
     "height": 34
    },
    "colab_type": "code",
    "id": "1anwuDHiltkv",
    "outputId": "18a3323a-5aaf-4180-d25e-183313af44d9"
   }
  },
  {
   "cell_type": "markdown",
   "source": [
    "# $$km_{média} = \\frac {km_{total}}{(Ano_{atual} - Ano_{fabricação})}$$"
   ],
   "metadata": {
    "colab_type": "text",
    "id": "gCBkfq_8ltky"
   }
  },
  {
   "cell_type": "markdown",
   "source": [
    "### Operações com variáveis"
   ],
   "metadata": {
    "colab_type": "text",
    "id": "zswWS4hNltky"
   }
  },
  {
   "cell_type": "code",
   "execution_count": 186,
   "source": [
    "km_media = km_total / (ano_atual - ano_fabricacao)\r\n",
    "km_media"
   ],
   "outputs": [
    {
     "output_type": "execute_result",
     "data": {
      "text/plain": [
       "2775.625"
      ]
     },
     "metadata": {},
     "execution_count": 186
    }
   ],
   "metadata": {
    "colab": {
     "base_uri": "https://localhost:8080/",
     "height": 34
    },
    "colab_type": "code",
    "id": "HxxU0rnfltkz",
    "outputId": "714ceca7-6301-4211-dea8-6028f4e2ac32"
   }
  },
  {
   "cell_type": "code",
   "execution_count": 187,
   "source": [
    "ano_atual = 2019\r\n",
    "ano_fabricacao = 2003\r\n",
    "km_total = 44410.0\r\n",
    "km_media = km_total / (ano_atual - ano_fabricacao)\r\n",
    "km_media\r\n"
   ],
   "outputs": [
    {
     "output_type": "execute_result",
     "data": {
      "text/plain": [
       "2775.625"
      ]
     },
     "metadata": {},
     "execution_count": 187
    }
   ],
   "metadata": {
    "colab": {
     "base_uri": "https://localhost:8080/",
     "height": 34
    },
    "colab_type": "code",
    "id": "_2Qhb32jltk1",
    "outputId": "51ceadb5-f8ec-4f1b-8447-8e982ccf8f25"
   }
  },
  {
   "cell_type": "code",
   "execution_count": 188,
   "source": [
    "ano_atual = 2019\r\n",
    "ano_fabricacao = 2003\r\n",
    "km_total = 44410.0\r\n",
    "km_media = km_total / (ano_atual - ano_fabricacao)\r\n",
    "\r\n",
    "km_total = km_total + km_media\r\n",
    "km_total\r\n"
   ],
   "outputs": [
    {
     "output_type": "execute_result",
     "data": {
      "text/plain": [
       "47185.625"
      ]
     },
     "metadata": {},
     "execution_count": 188
    }
   ],
   "metadata": {
    "colab": {
     "base_uri": "https://localhost:8080/",
     "height": 34
    },
    "colab_type": "code",
    "id": "nCJzA7dyltk3",
    "outputId": "92345462-9fc7-43ac-dbb7-6b44c0a9dfa2"
   }
  },
  {
   "cell_type": "code",
   "execution_count": 189,
   "source": [
    "ano_atual = 2019\r\n",
    "ano_fabricacao = 2003\r\n",
    "km_total = 44410.0\r\n",
    "km_media = km_total / (ano_atual - ano_fabricacao)\r\n",
    "\r\n",
    "km_total += km_media\r\n",
    "km_total\r\n"
   ],
   "outputs": [
    {
     "output_type": "execute_result",
     "data": {
      "text/plain": [
       "47185.625"
      ]
     },
     "metadata": {},
     "execution_count": 189
    }
   ],
   "metadata": {
    "colab": {
     "base_uri": "https://localhost:8080/",
     "height": 34
    },
    "colab_type": "code",
    "id": "ifRwQ0vEltk9",
    "outputId": "421b6c6d-1b5d-4337-8a2f-fa1d612266c0"
   }
  },
  {
   "cell_type": "markdown",
   "source": [
    "### Conclusão:\n",
    "```\n",
    "\"valor = valor + 1\" é equivalente a \"valor += 1\"\n",
    "```"
   ],
   "metadata": {
    "colab_type": "text",
    "id": "fDBrHWSBltlB"
   }
  },
  {
   "cell_type": "markdown",
   "source": [
    "### Declaração múltipla"
   ],
   "metadata": {
    "colab_type": "text",
    "id": "uVAyJbmAltlC"
   }
  },
  {
   "cell_type": "code",
   "execution_count": 190,
   "source": [
    "ano_atual, ano_fabricacao, km_total = 2019, 2003, 44410.0"
   ],
   "outputs": [],
   "metadata": {
    "colab": {},
    "colab_type": "code",
    "id": "oMWEzjPOltlC"
   }
  },
  {
   "cell_type": "code",
   "execution_count": 191,
   "source": [
    "ano_atual"
   ],
   "outputs": [
    {
     "output_type": "execute_result",
     "data": {
      "text/plain": [
       "2019"
      ]
     },
     "metadata": {},
     "execution_count": 191
    }
   ],
   "metadata": {
    "colab": {
     "base_uri": "https://localhost:8080/",
     "height": 34
    },
    "colab_type": "code",
    "id": "9ZKlHkLultlE",
    "outputId": "9587134d-baa4-4754-90f5-04fad75f3d74"
   }
  },
  {
   "cell_type": "code",
   "execution_count": 192,
   "source": [
    "ano_fabricacao"
   ],
   "outputs": [
    {
     "output_type": "execute_result",
     "data": {
      "text/plain": [
       "2003"
      ]
     },
     "metadata": {},
     "execution_count": 192
    }
   ],
   "metadata": {
    "colab": {
     "base_uri": "https://localhost:8080/",
     "height": 34
    },
    "colab_type": "code",
    "id": "-mcMuW9nltlG",
    "outputId": "9c69556d-20d3-4f97-a96a-3db6f7cde021"
   }
  },
  {
   "cell_type": "code",
   "execution_count": 193,
   "source": [
    "km_total"
   ],
   "outputs": [
    {
     "output_type": "execute_result",
     "data": {
      "text/plain": [
       "44410.0"
      ]
     },
     "metadata": {},
     "execution_count": 193
    }
   ],
   "metadata": {
    "colab": {
     "base_uri": "https://localhost:8080/",
     "height": 34
    },
    "colab_type": "code",
    "id": "WFFavLIvltlL",
    "outputId": "2f724e2e-9bdc-49ab-cda9-e94a05732b2d"
   }
  },
  {
   "cell_type": "code",
   "execution_count": 194,
   "source": [
    "ano_atual, ano_fabricacao, km_total = 2019, 2003, 44410.0\r\n",
    "km_media = km_total / (ano_atual - ano_fabricacao)\r\n",
    "km_media\r\n"
   ],
   "outputs": [
    {
     "output_type": "execute_result",
     "data": {
      "text/plain": [
       "2775.625"
      ]
     },
     "metadata": {},
     "execution_count": 194
    }
   ],
   "metadata": {
    "colab": {
     "base_uri": "https://localhost:8080/",
     "height": 34
    },
    "colab_type": "code",
    "id": "iFawOJe6ltlO",
    "outputId": "6de42681-ee0e-4ccf-e838-b5ed2aa7684a"
   }
  },
  {
   "cell_type": "markdown",
   "source": [
    "# 2.3 Tipos de dados"
   ],
   "metadata": {
    "colab_type": "text",
    "id": "uoRXMeRDltlQ"
   }
  },
  {
   "cell_type": "markdown",
   "source": [
    "Os tipos de dados especificam como números e caracteres serão armazenados e manipulados dentro de um programa. Os tipos de dados básicos do Python são:\n",
    "\n",
    "1. **Números**\n",
    "    1. ***int*** - Inteiros\n",
    "    - ***float*** - Ponto flutuante\n",
    "- **Booleanos** - Assume os valores True ou False. Essencial quando começarmos a trabalhar com declarações condicionais\n",
    "- ***Strings*** - Sequência de um ou mais caracteres que pode incluir letras, números e outros tipos de caracteres. Representa um texto.\n",
    "- **None** - Representa a ausência de valor"
   ],
   "metadata": {
    "colab_type": "text",
    "id": "sW_G6EjWltlQ"
   }
  },
  {
   "cell_type": "markdown",
   "source": [
    "### Números"
   ],
   "metadata": {
    "colab_type": "text",
    "id": "-HRRxQOtltlQ"
   }
  },
  {
   "cell_type": "code",
   "execution_count": 195,
   "source": [
    "ano_atual = 2019"
   ],
   "outputs": [],
   "metadata": {
    "colab": {
     "base_uri": "https://localhost:8080/",
     "height": 34
    },
    "colab_type": "code",
    "id": "5PKIcIuUltlR",
    "outputId": "ff967d43-4495-47e6-a646-103ed0bad818"
   }
  },
  {
   "cell_type": "code",
   "execution_count": 196,
   "source": [
    "type(ano_atual)"
   ],
   "outputs": [
    {
     "output_type": "execute_result",
     "data": {
      "text/plain": [
       "int"
      ]
     },
     "metadata": {},
     "execution_count": 196
    }
   ],
   "metadata": {
    "colab": {
     "base_uri": "https://localhost:8080/",
     "height": 34
    },
    "colab_type": "code",
    "id": "G32Yd1g0ltlT",
    "outputId": "9891ade3-8107-494e-ed50-1d822bbd7e33"
   }
  },
  {
   "cell_type": "code",
   "execution_count": 197,
   "source": [
    "km_total = 44410.0"
   ],
   "outputs": [],
   "metadata": {
    "colab": {
     "base_uri": "https://localhost:8080/",
     "height": 34
    },
    "colab_type": "code",
    "id": "b9_v__dEltlV",
    "outputId": "02a24344-d037-4e17-ffe0-37e896c058fd"
   }
  },
  {
   "cell_type": "code",
   "execution_count": 198,
   "source": [
    "type(km_total)"
   ],
   "outputs": [
    {
     "output_type": "execute_result",
     "data": {
      "text/plain": [
       "float"
      ]
     },
     "metadata": {},
     "execution_count": 198
    }
   ],
   "metadata": {
    "colab": {
     "base_uri": "https://localhost:8080/",
     "height": 34
    },
    "colab_type": "code",
    "id": "A0nySb3LltlZ",
    "outputId": "7f597bb1-a01f-4697-ec4f-f5c9db8876a1"
   }
  },
  {
   "cell_type": "markdown",
   "source": [
    "### Booleanos"
   ],
   "metadata": {
    "colab_type": "text",
    "id": "7X9iheAnltld"
   }
  },
  {
   "cell_type": "code",
   "execution_count": 199,
   "source": [
    "zero_km = True"
   ],
   "outputs": [],
   "metadata": {
    "colab": {},
    "colab_type": "code",
    "id": "liUYdchPltle"
   }
  },
  {
   "cell_type": "code",
   "execution_count": 200,
   "source": [
    "type(zero_km)"
   ],
   "outputs": [
    {
     "output_type": "execute_result",
     "data": {
      "text/plain": [
       "bool"
      ]
     },
     "metadata": {},
     "execution_count": 200
    }
   ],
   "metadata": {
    "colab": {
     "base_uri": "https://localhost:8080/",
     "height": 34
    },
    "colab_type": "code",
    "id": "oZIQAghaltlh",
    "outputId": "50b3dc76-55d3-4328-d1d5-c62facb7a762"
   }
  },
  {
   "cell_type": "code",
   "execution_count": 201,
   "source": [
    "zero_km = False"
   ],
   "outputs": [],
   "metadata": {
    "colab": {},
    "colab_type": "code",
    "id": "XCAYApe3ltlj"
   }
  },
  {
   "cell_type": "code",
   "execution_count": 202,
   "source": [
    "type(zero_km)"
   ],
   "outputs": [
    {
     "output_type": "execute_result",
     "data": {
      "text/plain": [
       "bool"
      ]
     },
     "metadata": {},
     "execution_count": 202
    }
   ],
   "metadata": {
    "colab": {
     "base_uri": "https://localhost:8080/",
     "height": 34
    },
    "colab_type": "code",
    "id": "mJ0nGEV7ltll",
    "outputId": "e1c59cf1-fe59-489e-867b-c1f5057376dd"
   }
  },
  {
   "cell_type": "markdown",
   "source": [
    "### Strings"
   ],
   "metadata": {
    "colab_type": "text",
    "id": "Ipjq4eiSltlp"
   }
  },
  {
   "cell_type": "code",
   "execution_count": 203,
   "source": [
    "nome = 'Jetta Variant'\r\n",
    "nome"
   ],
   "outputs": [
    {
     "output_type": "execute_result",
     "data": {
      "text/plain": [
       "'Jetta Variant'"
      ]
     },
     "metadata": {},
     "execution_count": 203
    }
   ],
   "metadata": {
    "colab": {
     "base_uri": "https://localhost:8080/",
     "height": 34
    },
    "colab_type": "code",
    "id": "OeW_GQzOltlr",
    "outputId": "7633d6fa-5700-4ddc-ba2d-33a37e03f36b"
   }
  },
  {
   "cell_type": "code",
   "execution_count": 204,
   "source": [
    "nome = \"Jetta Variant\"\r\n",
    "nome"
   ],
   "outputs": [
    {
     "output_type": "execute_result",
     "data": {
      "text/plain": [
       "'Jetta Variant'"
      ]
     },
     "metadata": {},
     "execution_count": 204
    }
   ],
   "metadata": {
    "colab": {
     "base_uri": "https://localhost:8080/",
     "height": 34
    },
    "colab_type": "code",
    "id": "xF1Bi-Rkltlu",
    "outputId": "3bdd1d89-e01c-4875-ccc2-f76cb7a3bf96"
   }
  },
  {
   "cell_type": "code",
   "execution_count": 205,
   "source": [
    "nome = \"Jetta 'Variant'\"\r\n",
    "nome"
   ],
   "outputs": [
    {
     "output_type": "execute_result",
     "data": {
      "text/plain": [
       "\"Jetta 'Variant'\""
      ]
     },
     "metadata": {},
     "execution_count": 205
    }
   ],
   "metadata": {
    "colab": {
     "base_uri": "https://localhost:8080/",
     "height": 34
    },
    "colab_type": "code",
    "id": "QlobSFUtltlw",
    "outputId": "94e2f6e9-ca1f-4492-f3cb-d04069af2608"
   }
  },
  {
   "cell_type": "code",
   "execution_count": 206,
   "source": [
    "carro = '''\r\n",
    "    Nome\r\n",
    "    Idade\r\n",
    "    Nota\r\n",
    "'''"
   ],
   "outputs": [],
   "metadata": {
    "colab": {
     "base_uri": "https://localhost:8080/",
     "height": 34
    },
    "colab_type": "code",
    "id": "8LBWzzfbltly",
    "outputId": "59f79ab0-fcb3-45d0-8264-7bbc5880f9b9"
   }
  },
  {
   "cell_type": "code",
   "execution_count": 207,
   "source": [
    "type(carro)"
   ],
   "outputs": [
    {
     "output_type": "execute_result",
     "data": {
      "text/plain": [
       "str"
      ]
     },
     "metadata": {},
     "execution_count": 207
    }
   ],
   "metadata": {
    "colab": {
     "base_uri": "https://localhost:8080/",
     "height": 34
    },
    "colab_type": "code",
    "id": "ycEhoxtUltl0",
    "outputId": "9f2ba4b0-53e0-4d71-8e0e-689b2d5fd2e5"
   }
  },
  {
   "cell_type": "markdown",
   "source": [
    "### None"
   ],
   "metadata": {
    "colab_type": "text",
    "id": "w6bJU-R9ltl5"
   }
  },
  {
   "cell_type": "code",
   "execution_count": 208,
   "source": [
    "quilometragem = None\r\n",
    "quilometragem"
   ],
   "outputs": [],
   "metadata": {
    "colab": {},
    "colab_type": "code",
    "id": "RgeVhXGxltl5"
   }
  },
  {
   "cell_type": "code",
   "execution_count": 209,
   "source": [
    "type(quilometragem)"
   ],
   "outputs": [
    {
     "output_type": "execute_result",
     "data": {
      "text/plain": [
       "NoneType"
      ]
     },
     "metadata": {},
     "execution_count": 209
    }
   ],
   "metadata": {
    "colab": {
     "base_uri": "https://localhost:8080/",
     "height": 34
    },
    "colab_type": "code",
    "id": "MJI6PKS6ltl8",
    "outputId": "0909acee-7dcd-44a4-d9f1-241d3d585f4b"
   }
  },
  {
   "cell_type": "markdown",
   "source": [
    "# 2.4 Conversão de tipos"
   ],
   "metadata": {
    "colab_type": "text",
    "id": "_ilupwV-ltl-"
   }
  },
  {
   "cell_type": "code",
   "execution_count": 210,
   "source": [
    "a = 10\r\n",
    "b = 20\r\n",
    "c = 'Python é '\r\n",
    "d = 'legal'"
   ],
   "outputs": [],
   "metadata": {
    "colab": {},
    "colab_type": "code",
    "id": "D5hq5Qbvltl-"
   }
  },
  {
   "cell_type": "code",
   "execution_count": 211,
   "source": [
    "type(a)"
   ],
   "outputs": [
    {
     "output_type": "execute_result",
     "data": {
      "text/plain": [
       "int"
      ]
     },
     "metadata": {},
     "execution_count": 211
    }
   ],
   "metadata": {
    "colab": {
     "base_uri": "https://localhost:8080/",
     "height": 34
    },
    "colab_type": "code",
    "id": "aJ0vi8_Nltl_",
    "outputId": "9abac6fd-23d8-4057-9ebb-1bf37069e9a0"
   }
  },
  {
   "cell_type": "code",
   "execution_count": 212,
   "source": [
    "type(b)"
   ],
   "outputs": [
    {
     "output_type": "execute_result",
     "data": {
      "text/plain": [
       "int"
      ]
     },
     "metadata": {},
     "execution_count": 212
    }
   ],
   "metadata": {
    "colab": {
     "base_uri": "https://localhost:8080/",
     "height": 34
    },
    "colab_type": "code",
    "id": "29FVH7p7ltmB",
    "outputId": "97668c18-6566-4f1d-8569-46ae25b19285"
   }
  },
  {
   "cell_type": "code",
   "execution_count": 213,
   "source": [
    "type(c)"
   ],
   "outputs": [
    {
     "output_type": "execute_result",
     "data": {
      "text/plain": [
       "str"
      ]
     },
     "metadata": {},
     "execution_count": 213
    }
   ],
   "metadata": {
    "colab": {
     "base_uri": "https://localhost:8080/",
     "height": 34
    },
    "colab_type": "code",
    "id": "NGseTO2SltmC",
    "outputId": "264526b0-7601-44c9-aecc-a5ac446c19be"
   }
  },
  {
   "cell_type": "code",
   "execution_count": 214,
   "source": [
    "type(d)"
   ],
   "outputs": [
    {
     "output_type": "execute_result",
     "data": {
      "text/plain": [
       "str"
      ]
     },
     "metadata": {},
     "execution_count": 214
    }
   ],
   "metadata": {
    "colab": {
     "base_uri": "https://localhost:8080/",
     "height": 34
    },
    "colab_type": "code",
    "id": "yaSBhwNWltmE",
    "outputId": "30c98a5f-37f6-4456-cad6-6fbab27cc87b"
   }
  },
  {
   "cell_type": "code",
   "execution_count": 215,
   "source": [
    "a + b"
   ],
   "outputs": [
    {
     "output_type": "execute_result",
     "data": {
      "text/plain": [
       "30"
      ]
     },
     "metadata": {},
     "execution_count": 215
    }
   ],
   "metadata": {
    "colab": {
     "base_uri": "https://localhost:8080/",
     "height": 34
    },
    "colab_type": "code",
    "id": "5zMXVwLHltmF",
    "outputId": "7c8de48a-ba6c-4a4f-ac0c-20dd96033916"
   }
  },
  {
   "cell_type": "code",
   "execution_count": 216,
   "source": [
    "c + d"
   ],
   "outputs": [
    {
     "output_type": "execute_result",
     "data": {
      "text/plain": [
       "'Python é legal'"
      ]
     },
     "metadata": {},
     "execution_count": 216
    }
   ],
   "metadata": {
    "colab": {
     "base_uri": "https://localhost:8080/",
     "height": 34
    },
    "colab_type": "code",
    "id": "JJrqKRZFltmJ",
    "outputId": "3a55a40a-c70f-4239-f2f6-8aa9d89fdd4f"
   }
  },
  {
   "cell_type": "code",
   "execution_count": 217,
   "source": [
    "# c + a"
   ],
   "outputs": [],
   "metadata": {
    "colab": {},
    "colab_type": "code",
    "id": "hWEIttpgltmM"
   }
  },
  {
   "cell_type": "markdown",
   "source": [
    "### Conversões de tipo\n",
    "\n",
    "Funções int(), float(), str()"
   ],
   "metadata": {
    "colab_type": "text",
    "id": "dByigpENltmO"
   }
  },
  {
   "cell_type": "code",
   "execution_count": 218,
   "source": [
    "str(a)"
   ],
   "outputs": [
    {
     "output_type": "execute_result",
     "data": {
      "text/plain": [
       "'10'"
      ]
     },
     "metadata": {},
     "execution_count": 218
    }
   ],
   "metadata": {
    "colab": {
     "base_uri": "https://localhost:8080/",
     "height": 34
    },
    "colab_type": "code",
    "id": "MtecvWlsltmP",
    "outputId": "30fc575a-515f-4425-8598-44c35167e584"
   }
  },
  {
   "cell_type": "code",
   "execution_count": 219,
   "source": [
    "type(str(a))"
   ],
   "outputs": [
    {
     "output_type": "execute_result",
     "data": {
      "text/plain": [
       "str"
      ]
     },
     "metadata": {},
     "execution_count": 219
    }
   ],
   "metadata": {
    "colab": {
     "base_uri": "https://localhost:8080/",
     "height": 34
    },
    "colab_type": "code",
    "id": "S1NuIhDVltmS",
    "outputId": "7c51f5bc-26b0-4b52-f56c-8260491580c2"
   }
  },
  {
   "cell_type": "code",
   "execution_count": 220,
   "source": [
    "c + str(a)"
   ],
   "outputs": [
    {
     "output_type": "execute_result",
     "data": {
      "text/plain": [
       "'Python é 10'"
      ]
     },
     "metadata": {},
     "execution_count": 220
    }
   ],
   "metadata": {
    "colab": {
     "base_uri": "https://localhost:8080/",
     "height": 34
    },
    "colab_type": "code",
    "id": "3kCUD1X-ltmT",
    "outputId": "b170abf9-57a8-4ef7-a9ea-9a990987ccc5"
   }
  },
  {
   "cell_type": "code",
   "execution_count": 221,
   "source": [
    "float(a)"
   ],
   "outputs": [
    {
     "output_type": "execute_result",
     "data": {
      "text/plain": [
       "10.0"
      ]
     },
     "metadata": {},
     "execution_count": 221
    }
   ],
   "metadata": {
    "colab": {
     "base_uri": "https://localhost:8080/",
     "height": 34
    },
    "colab_type": "code",
    "id": "TTjSEVRaltmU",
    "outputId": "b7bb06c8-ff94-40e6-c6d8-796c364ce198"
   }
  },
  {
   "cell_type": "code",
   "execution_count": 222,
   "source": [
    " var = 3.141592"
   ],
   "outputs": [],
   "metadata": {
    "colab": {},
    "colab_type": "code",
    "id": "P1P1bXaYltmV"
   }
  },
  {
   "cell_type": "code",
   "execution_count": 223,
   "source": [
    "type(var)"
   ],
   "outputs": [
    {
     "output_type": "execute_result",
     "data": {
      "text/plain": [
       "float"
      ]
     },
     "metadata": {},
     "execution_count": 223
    }
   ],
   "metadata": {
    "colab": {
     "base_uri": "https://localhost:8080/",
     "height": 34
    },
    "colab_type": "code",
    "id": "F_8Cn0aAltmW",
    "outputId": "fdbe78ab-1cf4-4f67-8afb-c27a6639852c"
   }
  },
  {
   "cell_type": "code",
   "execution_count": 224,
   "source": [
    "var = 3.99"
   ],
   "outputs": [],
   "metadata": {
    "colab": {},
    "colab_type": "code",
    "id": "_KA6MUgmltmY"
   }
  },
  {
   "cell_type": "code",
   "execution_count": 225,
   "source": [
    "int(var)"
   ],
   "outputs": [
    {
     "output_type": "execute_result",
     "data": {
      "text/plain": [
       "3"
      ]
     },
     "metadata": {},
     "execution_count": 225
    }
   ],
   "metadata": {
    "colab": {
     "base_uri": "https://localhost:8080/",
     "height": 34
    },
    "colab_type": "code",
    "id": "7uiCxqUcltma",
    "outputId": "2156d834-7396-40b9-e9a2-db6017c88d05"
   }
  },
  {
   "cell_type": "markdown",
   "source": [
    "# 2.5 Indentação, comentários e formatação de *strings*"
   ],
   "metadata": {
    "colab_type": "text",
    "id": "gGpflJMYltmd"
   }
  },
  {
   "cell_type": "markdown",
   "source": [
    "### Indentação\n",
    "\n",
    "Na linguagem Python os programas são estruturados por meio de indentação. Em qualquer linguagem de programação a prática da indentação é bastante útil, facilitando a leitura e também a manutenção do código. Em Python a indentação não é somente uma questão de organização e estilo, mas sim um requisito da linguagem."
   ],
   "metadata": {
    "colab_type": "text",
    "id": "XbijUgqVltmw"
   }
  },
  {
   "cell_type": "code",
   "execution_count": 226,
   "source": [
    "ano_atual = 2019\r\n",
    "ano_fabricacao = 2019\r\n",
    "\r\n",
    "if (ano_atual == ano_fabricacao):\r\n",
    "    print('Verdadeiro')\r\n",
    "else:\r\n",
    "    print('Falso')"
   ],
   "outputs": [
    {
     "output_type": "stream",
     "name": "stdout",
     "text": [
      "Verdadeiro\n"
     ]
    }
   ],
   "metadata": {
    "colab": {
     "base_uri": "https://localhost:8080/",
     "height": 34
    },
    "colab_type": "code",
    "id": "DqXANnyultmw",
    "outputId": "36c6bc96-ff94-46ef-f7dc-9d29493010ba"
   }
  },
  {
   "cell_type": "markdown",
   "source": [
    "### Comentários\n",
    "\n",
    "Comentários são extremamente importantes em um programa. Consiste em um texto que descreve o que o programa ou uma parte específica do programa está fazendo. Os comentários são ignorados pelo interpretador Python. \n",
    "\n",
    "Podemos ter comentários de uma única linha ou de múltiplas linhas."
   ],
   "metadata": {
    "colab_type": "text",
    "id": "dNBfv7x7ltmy"
   }
  },
  {
   "cell_type": "code",
   "execution_count": 227,
   "source": [
    "# Isto é um comentário\r\n",
    "ano_atual = 2019\r\n",
    "ano_atual"
   ],
   "outputs": [
    {
     "output_type": "execute_result",
     "data": {
      "text/plain": [
       "2019"
      ]
     },
     "metadata": {},
     "execution_count": 227
    }
   ],
   "metadata": {
    "colab": {
     "base_uri": "https://localhost:8080/",
     "height": 34
    },
    "colab_type": "code",
    "id": "GN3DfwiRltmy",
    "outputId": "f4aeffbd-3091-4433-c7b6-062ab45a8e9e"
   }
  },
  {
   "cell_type": "code",
   "execution_count": 228,
   "source": [
    "# Isto\r\n",
    "# é um \r\n",
    "# comentário\r\n",
    "ano_atual = 2019\r\n",
    "ano_atual"
   ],
   "outputs": [
    {
     "output_type": "execute_result",
     "data": {
      "text/plain": [
       "2019"
      ]
     },
     "metadata": {},
     "execution_count": 228
    }
   ],
   "metadata": {
    "colab": {
     "base_uri": "https://localhost:8080/",
     "height": 34
    },
    "colab_type": "code",
    "id": "PICBiohFltm2",
    "outputId": "fb204e85-bf2b-4fb9-937a-73681b81594f"
   }
  },
  {
   "cell_type": "code",
   "execution_count": 229,
   "source": [
    "'''Isto é um\r\n",
    "comentário'''\r\n",
    "ano_atual = 2019\r\n",
    "ano_atual"
   ],
   "outputs": [
    {
     "output_type": "execute_result",
     "data": {
      "text/plain": [
       "2019"
      ]
     },
     "metadata": {},
     "execution_count": 229
    }
   ],
   "metadata": {
    "colab": {
     "base_uri": "https://localhost:8080/",
     "height": 34
    },
    "colab_type": "code",
    "id": "PTkJ4Vjultm4",
    "outputId": "465642af-bed5-4907-9b46-6c668ee40313"
   }
  },
  {
   "cell_type": "code",
   "execution_count": 230,
   "source": [
    "# Definindo variáveis\r\n",
    "ano_atual = 2019\r\n",
    "ano_fabricacao = 2019\r\n",
    "\r\n",
    "'''\r\n",
    "Estrutura condicional que vamos \r\n",
    "aprender na próxima aula\r\n",
    "'''\r\n",
    "if (ano_atual == ano_fabricacao):   # Testando se condição é verdadeira\r\n",
    "    print('Verdadeiro')\r\n",
    "else:                               # Testando se condição é falsa\r\n",
    "    print('Falso')"
   ],
   "outputs": [
    {
     "output_type": "stream",
     "name": "stdout",
     "text": [
      "Verdadeiro\n"
     ]
    }
   ],
   "metadata": {
    "colab": {
     "base_uri": "https://localhost:8080/",
     "height": 34
    },
    "colab_type": "code",
    "id": "SYEGdALxltm5",
    "outputId": "8f658721-c7e1-43ed-d838-a4f9a3ebede5"
   }
  },
  {
   "cell_type": "markdown",
   "source": [
    "### Formatação de *strings*"
   ],
   "metadata": {
    "colab_type": "text",
    "id": "8--bcJ01ltm8"
   }
  },
  {
   "cell_type": "markdown",
   "source": [
    "## *str % valor*\r\n",
    "https://docs.python.org/3.6/library/stdtypes.html#old-string-formatting"
   ],
   "metadata": {
    "colab_type": "text",
    "id": "8lSC0XEDltm-"
   }
  },
  {
   "cell_type": "code",
   "execution_count": null,
   "source": [],
   "outputs": [],
   "metadata": {
    "colab": {},
    "colab_type": "code",
    "id": "aqqBQJ8kltm_"
   }
  },
  {
   "cell_type": "code",
   "execution_count": null,
   "source": [],
   "outputs": [],
   "metadata": {
    "colab": {
     "base_uri": "https://localhost:8080/",
     "height": 34
    },
    "colab_type": "code",
    "id": "EFK1y92vltnA",
    "outputId": "b56c2f85-138b-4355-a00c-83ad50b3327c"
   }
  },
  {
   "cell_type": "code",
   "execution_count": null,
   "source": [],
   "outputs": [],
   "metadata": {
    "colab": {
     "base_uri": "https://localhost:8080/",
     "height": 34
    },
    "colab_type": "code",
    "id": "3Y-V_AVDltnD",
    "outputId": "92522599-9c58-44a9-a4b3-90e04ee007ec"
   }
  },
  {
   "cell_type": "code",
   "execution_count": null,
   "source": [],
   "outputs": [],
   "metadata": {
    "colab": {
     "base_uri": "https://localhost:8080/",
     "height": 34
    },
    "colab_type": "code",
    "id": "pr4wrDaSltnE",
    "outputId": "b36e3baa-b690-498a-f5ba-4841cc017977"
   }
  },
  {
   "cell_type": "code",
   "execution_count": null,
   "source": [],
   "outputs": [],
   "metadata": {
    "colab": {
     "base_uri": "https://localhost:8080/",
     "height": 34
    },
    "colab_type": "code",
    "id": "iQVGzKNvltnF",
    "outputId": "7cbf8da3-3afa-49c6-f4a0-fdff5b83df14"
   }
  },
  {
   "cell_type": "markdown",
   "source": [
    "## *str.format()*\n",
    "\n",
    "https://docs.python.org/3.6/library/stdtypes.html#str.format"
   ],
   "metadata": {
    "colab_type": "text",
    "id": "CMovhJZ_ltnG"
   }
  },
  {
   "cell_type": "code",
   "execution_count": 231,
   "source": [
    "print('Olá, {}!'.format('Alexandre'))\r\n"
   ],
   "outputs": [
    {
     "output_type": "stream",
     "name": "stdout",
     "text": [
      "Olá, Alexandre!\n"
     ]
    }
   ],
   "metadata": {
    "colab": {
     "base_uri": "https://localhost:8080/",
     "height": 34
    },
    "colab_type": "code",
    "id": "N12xmMehltnG",
    "outputId": "392fd5f7-b4c3-44c0-ded1-3f12615a399e"
   }
  },
  {
   "cell_type": "code",
   "execution_count": 232,
   "source": [
    "print('Olá, {nome}! Este é o seu acesso de número {acessos}.'.format(nome = 'Alexandre', acessos = 42))\r\n"
   ],
   "outputs": [
    {
     "output_type": "stream",
     "name": "stdout",
     "text": [
      "Olá, Alexandre! Este é o seu acesso de número 42.\n"
     ]
    }
   ],
   "metadata": {
    "colab": {
     "base_uri": "https://localhost:8080/",
     "height": 34
    },
    "colab_type": "code",
    "id": "mRBmU9G1ltnJ",
    "outputId": "8716c489-e70e-436c-f0aa-83cf94ed3676"
   }
  },
  {
   "cell_type": "code",
   "execution_count": 233,
   "source": [
    "print('Olá, {}! Este é o seu acesso de número {}.'.format('Alexandre', 42))\r\n"
   ],
   "outputs": [
    {
     "output_type": "stream",
     "name": "stdout",
     "text": [
      "Olá, Alexandre! Este é o seu acesso de número 42.\n"
     ]
    }
   ],
   "metadata": {
    "colab": {
     "base_uri": "https://localhost:8080/",
     "height": 34
    },
    "colab_type": "code",
    "id": "wpqEsTwnltnL",
    "outputId": "b21a4b54-82bb-488b-8b82-52a96183ff22"
   }
  },
  {
   "cell_type": "markdown",
   "source": [
    "## *f-Strings*\n",
    "\n",
    "https://docs.python.org/3.6/reference/lexical_analysis.html#f-strings"
   ],
   "metadata": {
    "colab_type": "text",
    "id": "V-wPNUN9ltnN"
   }
  },
  {
   "cell_type": "code",
   "execution_count": 234,
   "source": [
    "nome = 'Alexandre'\r\n",
    "acessos = 42"
   ],
   "outputs": [],
   "metadata": {
    "colab": {},
    "colab_type": "code",
    "id": "7Fq_WPv0ltnO"
   }
  },
  {
   "cell_type": "code",
   "execution_count": 235,
   "source": [
    "print(f'Olá, {nome}! Este é o seu acesso de número {acessos}.')"
   ],
   "outputs": [
    {
     "output_type": "stream",
     "name": "stdout",
     "text": [
      "Olá, Alexandre! Este é o seu acesso de número 42.\n"
     ]
    }
   ],
   "metadata": {
    "colab": {
     "base_uri": "https://localhost:8080/",
     "height": 34
    },
    "colab_type": "code",
    "id": "bE3qbd6WltnR",
    "outputId": "e129b251-acd9-4ec1-eff9-eab2dcfc35a5"
   }
  },
  {
   "cell_type": "markdown",
   "source": [
    "# <font color=green> 3. TRABALHANDO COM LISTAS\n",
    "---"
   ],
   "metadata": {
    "colab_type": "text",
    "id": "_IZuNE48ltnS"
   }
  },
  {
   "cell_type": "markdown",
   "source": [
    "# 3.1 Criando listas\n",
    "\n",
    "Listas são sequências **mutáveis** que são utilizadas para armazenar coleções de itens, geralmente homogêneos. Podem ser construídas de várias formas:\n",
    "```\n",
    "- Utilizando um par de colchetes: [ ], [ 1 ]\n",
    "- Utilizando um par de colchetes com itens separados por vírgulas: [ 1, 2, 3 ]\n",
    "```"
   ],
   "metadata": {
    "colab_type": "text",
    "id": "zhS89xysltnS"
   }
  },
  {
   "cell_type": "code",
   "execution_count": 236,
   "source": [
    "Acessorios = ['Rodas de liga', 'Travas elétricas', 'Piloto automático', 'Bancos de couro', 'Ar condicionado', 'Sensor de estacionamento', 'Sensor crepuscular', 'Sensor de chuva']\r\n",
    "Acessorios"
   ],
   "outputs": [
    {
     "output_type": "execute_result",
     "data": {
      "text/plain": [
       "['Rodas de liga',\n",
       " 'Travas elétricas',\n",
       " 'Piloto automático',\n",
       " 'Bancos de couro',\n",
       " 'Ar condicionado',\n",
       " 'Sensor de estacionamento',\n",
       " 'Sensor crepuscular',\n",
       " 'Sensor de chuva']"
      ]
     },
     "metadata": {},
     "execution_count": 236
    }
   ],
   "metadata": {
    "colab": {
     "base_uri": "https://localhost:8080/",
     "height": 153
    },
    "colab_type": "code",
    "id": "aE4UWF10ltnS",
    "outputId": "179285f6-ac09-4abe-e67f-eaa723b79687"
   }
  },
  {
   "cell_type": "markdown",
   "source": [
    "### Lista com tipos de dados variados"
   ],
   "metadata": {
    "colab_type": "text",
    "id": "Mmlkh5TVltnT"
   }
  },
  {
   "cell_type": "code",
   "execution_count": 237,
   "source": [
    "Carro_1 = ['Jetta Variant', 'Motor 4.0 Turbo', 2003, 44410.0, False, ['Rodas de liga', 'Travas elétricas', 'Piloto automático'], 88078.64]\r\n",
    "Carro_2 = ['Passat', 'Motor Diesel', 1991, 5712.0, False, ['Central multimídia', 'Teto panorâmico', 'Freios ABS'], 106161.94]"
   ],
   "outputs": [],
   "metadata": {
    "colab": {},
    "colab_type": "code",
    "id": "Mfpu7NoJltnT"
   }
  },
  {
   "cell_type": "code",
   "execution_count": 238,
   "source": [
    "Carros = [Carro_1, Carro_2]\r\n",
    "Carros"
   ],
   "outputs": [
    {
     "output_type": "execute_result",
     "data": {
      "text/plain": [
       "[['Jetta Variant',\n",
       "  'Motor 4.0 Turbo',\n",
       "  2003,\n",
       "  44410.0,\n",
       "  False,\n",
       "  ['Rodas de liga', 'Travas elétricas', 'Piloto automático'],\n",
       "  88078.64],\n",
       " ['Passat',\n",
       "  'Motor Diesel',\n",
       "  1991,\n",
       "  5712.0,\n",
       "  False,\n",
       "  ['Central multimídia', 'Teto panorâmico', 'Freios ABS'],\n",
       "  106161.94]]"
      ]
     },
     "metadata": {},
     "execution_count": 238
    }
   ],
   "metadata": {
    "colab": {
     "base_uri": "https://localhost:8080/",
     "height": 136
    },
    "colab_type": "code",
    "id": "EJSJFJjKltnV",
    "outputId": "3761c00b-b215-47fa-be1f-bf3774a86874"
   }
  },
  {
   "cell_type": "markdown",
   "source": [
    "# 3.2 Operações com listas\n",
    "\n",
    "https://docs.python.org/3.6/library/stdtypes.html#common-sequence-operations"
   ],
   "metadata": {
    "colab_type": "text",
    "id": "5yMXJ0xdltna"
   }
  },
  {
   "cell_type": "markdown",
   "source": [
    "## *x in A*\n",
    "\n",
    "Retorna **True** se um elemento da lista *A* for igual a *x*."
   ],
   "metadata": {
    "colab_type": "text",
    "id": "YSorJOGlltna"
   }
  },
  {
   "cell_type": "code",
   "execution_count": 239,
   "source": [
    "Acessorios"
   ],
   "outputs": [
    {
     "output_type": "execute_result",
     "data": {
      "text/plain": [
       "['Rodas de liga',\n",
       " 'Travas elétricas',\n",
       " 'Piloto automático',\n",
       " 'Bancos de couro',\n",
       " 'Ar condicionado',\n",
       " 'Sensor de estacionamento',\n",
       " 'Sensor crepuscular',\n",
       " 'Sensor de chuva']"
      ]
     },
     "metadata": {},
     "execution_count": 239
    }
   ],
   "metadata": {
    "colab": {
     "base_uri": "https://localhost:8080/",
     "height": 153
    },
    "colab_type": "code",
    "id": "GgSP_nlHltnb",
    "outputId": "5e2fef4b-9cbf-4af2-fb50-23ac1b1ee879"
   }
  },
  {
   "cell_type": "code",
   "execution_count": 240,
   "source": [
    "'Rodas de liga' in Acessorios"
   ],
   "outputs": [
    {
     "output_type": "execute_result",
     "data": {
      "text/plain": [
       "True"
      ]
     },
     "metadata": {},
     "execution_count": 240
    }
   ],
   "metadata": {
    "colab": {
     "base_uri": "https://localhost:8080/",
     "height": 34
    },
    "colab_type": "code",
    "id": "_JyyHPmWltnd",
    "outputId": "8354f264-e976-414f-eacc-1ec2c23418f9"
   }
  },
  {
   "cell_type": "code",
   "execution_count": 241,
   "source": [
    "'4 x 4' in Acessorios\r\n"
   ],
   "outputs": [
    {
     "output_type": "execute_result",
     "data": {
      "text/plain": [
       "False"
      ]
     },
     "metadata": {},
     "execution_count": 241
    }
   ],
   "metadata": {
    "colab": {
     "base_uri": "https://localhost:8080/",
     "height": 34
    },
    "colab_type": "code",
    "id": "tebg9gAyltne",
    "outputId": "0a1b5321-4ff3-45e9-8120-1c05bf15cd4b"
   }
  },
  {
   "cell_type": "code",
   "execution_count": 242,
   "source": [
    "'Rodas de liga' not in Acessorios\r\n"
   ],
   "outputs": [
    {
     "output_type": "execute_result",
     "data": {
      "text/plain": [
       "False"
      ]
     },
     "metadata": {},
     "execution_count": 242
    }
   ],
   "metadata": {
    "colab": {
     "base_uri": "https://localhost:8080/",
     "height": 34
    },
    "colab_type": "code",
    "id": "W_1PKJYsltnf",
    "outputId": "ebf5de50-2d7f-428f-bd54-1c6d41e50dbf"
   }
  },
  {
   "cell_type": "code",
   "execution_count": 243,
   "source": [
    "'4 x 4' not in Acessorios\r\n"
   ],
   "outputs": [
    {
     "output_type": "execute_result",
     "data": {
      "text/plain": [
       "True"
      ]
     },
     "metadata": {},
     "execution_count": 243
    }
   ],
   "metadata": {
    "colab": {
     "base_uri": "https://localhost:8080/",
     "height": 34
    },
    "colab_type": "code",
    "id": "1WNsBXFyltng",
    "outputId": "c8ba839c-4e41-4b99-8dfa-23526a2a1547"
   }
  },
  {
   "cell_type": "markdown",
   "source": [
    "## *A + B*\n",
    "\n",
    "Concatena as listas *A* e *B*."
   ],
   "metadata": {
    "colab_type": "text",
    "id": "RF6_rf90ltnh"
   }
  },
  {
   "cell_type": "code",
   "execution_count": 244,
   "source": [
    "A = ['Rodas de liga', 'Travas elétricas', 'Piloto automático', 'Bancos de couro']\r\n",
    "B = ['Ar condicionado', 'Sensor de estacionamento', 'Sensor crepuscular', 'Sensor de chuva']"
   ],
   "outputs": [],
   "metadata": {
    "colab": {},
    "colab_type": "code",
    "id": "8lnzbYnRltnh"
   }
  },
  {
   "cell_type": "code",
   "execution_count": 245,
   "source": [
    "A"
   ],
   "outputs": [
    {
     "output_type": "execute_result",
     "data": {
      "text/plain": [
       "['Rodas de liga', 'Travas elétricas', 'Piloto automático', 'Bancos de couro']"
      ]
     },
     "metadata": {},
     "execution_count": 245
    }
   ],
   "metadata": {
    "colab": {
     "base_uri": "https://localhost:8080/",
     "height": 34
    },
    "colab_type": "code",
    "id": "SzbiHHF4ltni",
    "outputId": "4c964473-6e1a-49fc-bd26-55e9c8e8aa41"
   }
  },
  {
   "cell_type": "code",
   "execution_count": 246,
   "source": [
    "B"
   ],
   "outputs": [
    {
     "output_type": "execute_result",
     "data": {
      "text/plain": [
       "['Ar condicionado',\n",
       " 'Sensor de estacionamento',\n",
       " 'Sensor crepuscular',\n",
       " 'Sensor de chuva']"
      ]
     },
     "metadata": {},
     "execution_count": 246
    }
   ],
   "metadata": {
    "colab": {
     "base_uri": "https://localhost:8080/",
     "height": 85
    },
    "colab_type": "code",
    "id": "It5Cn5aXltni",
    "outputId": "dacc8445-b26c-4c4b-c4f3-7197e1f42209"
   }
  },
  {
   "cell_type": "code",
   "execution_count": 247,
   "source": [
    "A + B"
   ],
   "outputs": [
    {
     "output_type": "execute_result",
     "data": {
      "text/plain": [
       "['Rodas de liga',\n",
       " 'Travas elétricas',\n",
       " 'Piloto automático',\n",
       " 'Bancos de couro',\n",
       " 'Ar condicionado',\n",
       " 'Sensor de estacionamento',\n",
       " 'Sensor crepuscular',\n",
       " 'Sensor de chuva']"
      ]
     },
     "metadata": {},
     "execution_count": 247
    }
   ],
   "metadata": {
    "colab": {
     "base_uri": "https://localhost:8080/",
     "height": 153
    },
    "colab_type": "code",
    "id": "l7gF4Ph5ltnj",
    "outputId": "b4b28d24-8f9c-4778-a88b-dd79ff5aa6fb"
   }
  },
  {
   "cell_type": "markdown",
   "source": [
    "## *len(A)*\n",
    "\n",
    "Tamanho da lista A."
   ],
   "metadata": {
    "colab_type": "text",
    "id": "iTv5t7zAltnk"
   }
  },
  {
   "cell_type": "code",
   "execution_count": 248,
   "source": [
    "len(Acessorios)"
   ],
   "outputs": [
    {
     "output_type": "execute_result",
     "data": {
      "text/plain": [
       "8"
      ]
     },
     "metadata": {},
     "execution_count": 248
    }
   ],
   "metadata": {
    "colab": {
     "base_uri": "https://localhost:8080/",
     "height": 34
    },
    "colab_type": "code",
    "id": "dtbuCDSOltnk",
    "outputId": "92a02510-1865-45a6-f5ee-194eee53f0bf"
   }
  },
  {
   "cell_type": "markdown",
   "source": [
    "# 3.3 Seleções em listas"
   ],
   "metadata": {
    "colab_type": "text",
    "id": "k7wWCbAmltnl"
   }
  },
  {
   "cell_type": "markdown",
   "source": [
    "## *A[ i ]*\n",
    "\n",
    "Retorna o i-ésimo item da lista *A*.\n",
    "\n",
    "<font color=red>**Observação:**</font> Listas têm indexação com origem no zero."
   ],
   "metadata": {
    "colab_type": "text",
    "id": "uF3NmgUaltnl"
   }
  },
  {
   "cell_type": "code",
   "execution_count": 249,
   "source": [
    "Acessorios"
   ],
   "outputs": [
    {
     "output_type": "execute_result",
     "data": {
      "text/plain": [
       "['Rodas de liga',\n",
       " 'Travas elétricas',\n",
       " 'Piloto automático',\n",
       " 'Bancos de couro',\n",
       " 'Ar condicionado',\n",
       " 'Sensor de estacionamento',\n",
       " 'Sensor crepuscular',\n",
       " 'Sensor de chuva']"
      ]
     },
     "metadata": {},
     "execution_count": 249
    }
   ],
   "metadata": {
    "colab": {
     "base_uri": "https://localhost:8080/",
     "height": 153
    },
    "colab_type": "code",
    "id": "f5ct7w1Wltnm",
    "outputId": "f0eb0957-49fc-4cf6-c6a0-ec01503b7f75"
   }
  },
  {
   "cell_type": "code",
   "execution_count": 250,
   "source": [
    "Acessorios[0]"
   ],
   "outputs": [
    {
     "output_type": "execute_result",
     "data": {
      "text/plain": [
       "'Rodas de liga'"
      ]
     },
     "metadata": {},
     "execution_count": 250
    }
   ],
   "metadata": {
    "colab": {
     "base_uri": "https://localhost:8080/",
     "height": 34
    },
    "colab_type": "code",
    "id": "-BLG7yifltnn",
    "outputId": "5e3253d2-b1ce-434b-de36-0dbcd0d4b7b4"
   }
  },
  {
   "cell_type": "code",
   "execution_count": 251,
   "source": [
    "Acessorios[1]"
   ],
   "outputs": [
    {
     "output_type": "execute_result",
     "data": {
      "text/plain": [
       "'Travas elétricas'"
      ]
     },
     "metadata": {},
     "execution_count": 251
    }
   ],
   "metadata": {
    "colab": {
     "base_uri": "https://localhost:8080/",
     "height": 34
    },
    "colab_type": "code",
    "id": "SoL6PIjJltno",
    "outputId": "35a7a907-7890-44f0-9ffb-6aa936a6ac23"
   }
  },
  {
   "cell_type": "code",
   "execution_count": 252,
   "source": [
    "Acessorios[-1]"
   ],
   "outputs": [
    {
     "output_type": "execute_result",
     "data": {
      "text/plain": [
       "'Sensor de chuva'"
      ]
     },
     "metadata": {},
     "execution_count": 252
    }
   ],
   "metadata": {
    "colab": {
     "base_uri": "https://localhost:8080/",
     "height": 34
    },
    "colab_type": "code",
    "id": "pGMDc5FLltnq",
    "outputId": "3fcdbc28-68b1-4fa7-99d9-c8492fa2434e"
   }
  },
  {
   "cell_type": "code",
   "execution_count": 253,
   "source": [
    "Carros"
   ],
   "outputs": [
    {
     "output_type": "execute_result",
     "data": {
      "text/plain": [
       "[['Jetta Variant',\n",
       "  'Motor 4.0 Turbo',\n",
       "  2003,\n",
       "  44410.0,\n",
       "  False,\n",
       "  ['Rodas de liga', 'Travas elétricas', 'Piloto automático'],\n",
       "  88078.64],\n",
       " ['Passat',\n",
       "  'Motor Diesel',\n",
       "  1991,\n",
       "  5712.0,\n",
       "  False,\n",
       "  ['Central multimídia', 'Teto panorâmico', 'Freios ABS'],\n",
       "  106161.94]]"
      ]
     },
     "metadata": {},
     "execution_count": 253
    }
   ],
   "metadata": {
    "colab": {
     "base_uri": "https://localhost:8080/",
     "height": 255
    },
    "colab_type": "code",
    "id": "m3AaFe73ltnr",
    "outputId": "780d4f18-42e1-4c65-b4e9-f3e8cae080cf"
   }
  },
  {
   "cell_type": "code",
   "execution_count": 254,
   "source": [
    "Carros[0]"
   ],
   "outputs": [
    {
     "output_type": "execute_result",
     "data": {
      "text/plain": [
       "['Jetta Variant',\n",
       " 'Motor 4.0 Turbo',\n",
       " 2003,\n",
       " 44410.0,\n",
       " False,\n",
       " ['Rodas de liga', 'Travas elétricas', 'Piloto automático'],\n",
       " 88078.64]"
      ]
     },
     "metadata": {},
     "execution_count": 254
    }
   ],
   "metadata": {
    "colab": {
     "base_uri": "https://localhost:8080/",
     "height": 136
    },
    "colab_type": "code",
    "id": "AeDJviqoltns",
    "outputId": "8a66abfd-254e-45e2-d57c-4b07b56ad0dd"
   }
  },
  {
   "cell_type": "code",
   "execution_count": 255,
   "source": [
    "Carros[0][0]"
   ],
   "outputs": [
    {
     "output_type": "execute_result",
     "data": {
      "text/plain": [
       "'Jetta Variant'"
      ]
     },
     "metadata": {},
     "execution_count": 255
    }
   ],
   "metadata": {
    "colab": {
     "base_uri": "https://localhost:8080/",
     "height": 34
    },
    "colab_type": "code",
    "id": "KdenG1BZltnt",
    "outputId": "80487f3a-e8dc-437e-a79e-7cb610575193"
   }
  },
  {
   "cell_type": "code",
   "execution_count": 256,
   "source": [
    "Carros[0][-2]"
   ],
   "outputs": [
    {
     "output_type": "execute_result",
     "data": {
      "text/plain": [
       "['Rodas de liga', 'Travas elétricas', 'Piloto automático']"
      ]
     },
     "metadata": {},
     "execution_count": 256
    }
   ],
   "metadata": {
    "colab": {
     "base_uri": "https://localhost:8080/",
     "height": 34
    },
    "colab_type": "code",
    "id": "iOjsfrlFltnu",
    "outputId": "07305a2c-5c83-497a-bb9c-18c3323de205"
   }
  },
  {
   "cell_type": "code",
   "execution_count": 257,
   "source": [
    "Carros[0][-2][1]\r\n"
   ],
   "outputs": [
    {
     "output_type": "execute_result",
     "data": {
      "text/plain": [
       "'Travas elétricas'"
      ]
     },
     "metadata": {},
     "execution_count": 257
    }
   ],
   "metadata": {
    "colab": {
     "base_uri": "https://localhost:8080/",
     "height": 34
    },
    "colab_type": "code",
    "id": "6BrON70Zltnu",
    "outputId": "e7441adb-89a1-4a8b-f2c0-27b1288fa5a3"
   }
  },
  {
   "cell_type": "markdown",
   "source": [
    "## *A[ i : j ]*\n",
    "\n",
    "Recorta a lista *A* do índice i até o j. Neste fatiamento o elemento com índice i é **incluído** e o elemento com índice j **não é incluído** no resultado."
   ],
   "metadata": {
    "colab_type": "text",
    "id": "9WgwxPIMltnv"
   }
  },
  {
   "cell_type": "code",
   "execution_count": 258,
   "source": [
    "Acessorios"
   ],
   "outputs": [
    {
     "output_type": "execute_result",
     "data": {
      "text/plain": [
       "['Rodas de liga',\n",
       " 'Travas elétricas',\n",
       " 'Piloto automático',\n",
       " 'Bancos de couro',\n",
       " 'Ar condicionado',\n",
       " 'Sensor de estacionamento',\n",
       " 'Sensor crepuscular',\n",
       " 'Sensor de chuva']"
      ]
     },
     "metadata": {},
     "execution_count": 258
    }
   ],
   "metadata": {
    "colab": {
     "base_uri": "https://localhost:8080/",
     "height": 153
    },
    "colab_type": "code",
    "id": "bJzL2PMiltnv",
    "outputId": "c3655691-cfc6-449c-8f37-dcb5f2c7e869"
   }
  },
  {
   "cell_type": "code",
   "execution_count": 259,
   "source": [
    "Acessorios[2:6]"
   ],
   "outputs": [
    {
     "output_type": "execute_result",
     "data": {
      "text/plain": [
       "['Piloto automático',\n",
       " 'Bancos de couro',\n",
       " 'Ar condicionado',\n",
       " 'Sensor de estacionamento']"
      ]
     },
     "metadata": {},
     "execution_count": 259
    }
   ],
   "metadata": {
    "colab": {
     "base_uri": "https://localhost:8080/",
     "height": 34
    },
    "colab_type": "code",
    "id": "sFAlJ4u_ltnw",
    "outputId": "4ab4f052-e011-4ade-c796-ce14bafe83a3"
   }
  },
  {
   "cell_type": "code",
   "execution_count": 260,
   "source": [
    "Acessorios[2:]"
   ],
   "outputs": [
    {
     "output_type": "execute_result",
     "data": {
      "text/plain": [
       "['Piloto automático',\n",
       " 'Bancos de couro',\n",
       " 'Ar condicionado',\n",
       " 'Sensor de estacionamento',\n",
       " 'Sensor crepuscular',\n",
       " 'Sensor de chuva']"
      ]
     },
     "metadata": {},
     "execution_count": 260
    }
   ],
   "metadata": {
    "colab": {
     "base_uri": "https://localhost:8080/",
     "height": 102
    },
    "colab_type": "code",
    "id": "dFdTBWa9ltnz",
    "outputId": "1400bbd5-5ddd-49d3-b304-eb8e0f91a6f3"
   }
  },
  {
   "cell_type": "code",
   "execution_count": 261,
   "source": [
    "Acessorios[:5]"
   ],
   "outputs": [
    {
     "output_type": "execute_result",
     "data": {
      "text/plain": [
       "['Rodas de liga',\n",
       " 'Travas elétricas',\n",
       " 'Piloto automático',\n",
       " 'Bancos de couro',\n",
       " 'Ar condicionado']"
      ]
     },
     "metadata": {},
     "execution_count": 261
    }
   ],
   "metadata": {
    "colab": {
     "base_uri": "https://localhost:8080/",
     "height": 119
    },
    "colab_type": "code",
    "id": "yxxB2-_Dltn0",
    "outputId": "7dd2523b-3ae4-4c9d-f76c-be286ad75bbe"
   }
  },
  {
   "cell_type": "markdown",
   "source": [
    "# 3.4 Métodos de listas\n",
    "\n",
    "https://docs.python.org/3.6/library/stdtypes.html#mutable-sequence-types"
   ],
   "metadata": {
    "colab_type": "text",
    "id": "R-S-LCPGltn0"
   }
  },
  {
   "cell_type": "markdown",
   "source": [
    "## *A.sort()*\n",
    "\n",
    "Ordena a lista *A*."
   ],
   "metadata": {
    "colab_type": "text",
    "id": "j9s2OyyPltn1"
   }
  },
  {
   "cell_type": "code",
   "execution_count": 262,
   "source": [
    "Acessorios"
   ],
   "outputs": [
    {
     "output_type": "execute_result",
     "data": {
      "text/plain": [
       "['Rodas de liga',\n",
       " 'Travas elétricas',\n",
       " 'Piloto automático',\n",
       " 'Bancos de couro',\n",
       " 'Ar condicionado',\n",
       " 'Sensor de estacionamento',\n",
       " 'Sensor crepuscular',\n",
       " 'Sensor de chuva']"
      ]
     },
     "metadata": {},
     "execution_count": 262
    }
   ],
   "metadata": {
    "colab": {
     "base_uri": "https://localhost:8080/",
     "height": 153
    },
    "colab_type": "code",
    "id": "A2dJGhFsltn1",
    "outputId": "bbe65e33-b326-4e01-bfb1-1e7104cc7551"
   }
  },
  {
   "cell_type": "code",
   "execution_count": 263,
   "source": [
    "Acessorios.sort()\r\n",
    "Acessorios"
   ],
   "outputs": [
    {
     "output_type": "execute_result",
     "data": {
      "text/plain": [
       "['Ar condicionado',\n",
       " 'Bancos de couro',\n",
       " 'Piloto automático',\n",
       " 'Rodas de liga',\n",
       " 'Sensor crepuscular',\n",
       " 'Sensor de chuva',\n",
       " 'Sensor de estacionamento',\n",
       " 'Travas elétricas']"
      ]
     },
     "metadata": {},
     "execution_count": 263
    }
   ],
   "metadata": {
    "colab": {
     "base_uri": "https://localhost:8080/",
     "height": 153
    },
    "colab_type": "code",
    "id": "VDWCHlTcltn2",
    "outputId": "6ef8c9b3-b719-4e48-c8ec-3a0a60f05cd6"
   }
  },
  {
   "cell_type": "markdown",
   "source": [
    "## *A.append(x)*\n",
    "\n",
    "Adiciona o elemnto *x* no final da lista *A*."
   ],
   "metadata": {
    "colab_type": "text",
    "id": "N9Spp7-xltn3"
   }
  },
  {
   "cell_type": "code",
   "execution_count": 264,
   "source": [
    "Acessorios.append('4 x 4')\r\n",
    "Acessorios"
   ],
   "outputs": [
    {
     "output_type": "execute_result",
     "data": {
      "text/plain": [
       "['Ar condicionado',\n",
       " 'Bancos de couro',\n",
       " 'Piloto automático',\n",
       " 'Rodas de liga',\n",
       " 'Sensor crepuscular',\n",
       " 'Sensor de chuva',\n",
       " 'Sensor de estacionamento',\n",
       " 'Travas elétricas',\n",
       " '4 x 4']"
      ]
     },
     "metadata": {},
     "execution_count": 264
    }
   ],
   "metadata": {
    "colab": {
     "base_uri": "https://localhost:8080/",
     "height": 170
    },
    "colab_type": "code",
    "id": "l7I_U-sRltn4",
    "outputId": "761e1d98-1de8-4d85-bfe4-69da7b3ba414"
   }
  },
  {
   "cell_type": "markdown",
   "source": [
    "## *A.pop(i)*\n",
    "\n",
    "Remove e retorna o elemento de índice i da lista *A*.\n",
    "\n",
    "<font color=red>**Observação:**</font> Por *default* o método *pop()* remove e retorna o último elemento de uma lista."
   ],
   "metadata": {
    "colab_type": "text",
    "id": "eiP3oACPltn6"
   }
  },
  {
   "cell_type": "code",
   "execution_count": 265,
   "source": [
    "Acessorios.pop()"
   ],
   "outputs": [
    {
     "output_type": "execute_result",
     "data": {
      "text/plain": [
       "'4 x 4'"
      ]
     },
     "metadata": {},
     "execution_count": 265
    }
   ],
   "metadata": {
    "colab": {
     "base_uri": "https://localhost:8080/",
     "height": 34
    },
    "colab_type": "code",
    "id": "BoCKa5Hqltn6",
    "outputId": "b7d0e690-7ee4-44e2-c874-618ebb001b68"
   }
  },
  {
   "cell_type": "code",
   "execution_count": 266,
   "source": [
    "Acessorios"
   ],
   "outputs": [
    {
     "output_type": "execute_result",
     "data": {
      "text/plain": [
       "['Ar condicionado',\n",
       " 'Bancos de couro',\n",
       " 'Piloto automático',\n",
       " 'Rodas de liga',\n",
       " 'Sensor crepuscular',\n",
       " 'Sensor de chuva',\n",
       " 'Sensor de estacionamento',\n",
       " 'Travas elétricas']"
      ]
     },
     "metadata": {},
     "execution_count": 266
    }
   ],
   "metadata": {
    "colab": {
     "base_uri": "https://localhost:8080/",
     "height": 153
    },
    "colab_type": "code",
    "id": "GfGX1jw-ltn9",
    "outputId": "5bd2933c-52b9-4500-db6f-a2b7a66b7b31"
   }
  },
  {
   "cell_type": "code",
   "execution_count": 267,
   "source": [
    "Acessorios.pop(3)"
   ],
   "outputs": [
    {
     "output_type": "execute_result",
     "data": {
      "text/plain": [
       "'Rodas de liga'"
      ]
     },
     "metadata": {},
     "execution_count": 267
    }
   ],
   "metadata": {
    "colab": {
     "base_uri": "https://localhost:8080/",
     "height": 34
    },
    "colab_type": "code",
    "id": "tppe9tqbltn-",
    "outputId": "36a6ae6e-e79d-47e7-8da3-4d308d099938"
   }
  },
  {
   "cell_type": "code",
   "execution_count": 268,
   "source": [
    "Acessorios"
   ],
   "outputs": [
    {
     "output_type": "execute_result",
     "data": {
      "text/plain": [
       "['Ar condicionado',\n",
       " 'Bancos de couro',\n",
       " 'Piloto automático',\n",
       " 'Sensor crepuscular',\n",
       " 'Sensor de chuva',\n",
       " 'Sensor de estacionamento',\n",
       " 'Travas elétricas']"
      ]
     },
     "metadata": {},
     "execution_count": 268
    }
   ],
   "metadata": {
    "colab": {
     "base_uri": "https://localhost:8080/",
     "height": 136
    },
    "colab_type": "code",
    "id": "Ku6ZHTdJltn_",
    "outputId": "b24c362a-bfbd-4207-9afa-ded84d8e6845"
   }
  },
  {
   "cell_type": "markdown",
   "source": [
    "## *A.copy()*\n",
    "\n",
    "Cria uma cópia da lista *A*.\n",
    "\n",
    "<font color=red>**Observação:**</font> O mesmo resultado pode ser obtido com o seguinte código: \n",
    "```\n",
    "A[:]\n",
    "```"
   ],
   "metadata": {
    "colab_type": "text",
    "id": "NySIp62hltoC"
   }
  },
  {
   "cell_type": "code",
   "execution_count": 269,
   "source": [
    "Acessorios_2 = Acessorios\r\n",
    "Acessorios_2"
   ],
   "outputs": [
    {
     "output_type": "execute_result",
     "data": {
      "text/plain": [
       "['Ar condicionado',\n",
       " 'Bancos de couro',\n",
       " 'Piloto automático',\n",
       " 'Sensor crepuscular',\n",
       " 'Sensor de chuva',\n",
       " 'Sensor de estacionamento',\n",
       " 'Travas elétricas']"
      ]
     },
     "metadata": {},
     "execution_count": 269
    }
   ],
   "metadata": {
    "colab": {
     "base_uri": "https://localhost:8080/",
     "height": 136
    },
    "colab_type": "code",
    "id": "yP9ODygcltoC",
    "outputId": "e64316b6-682c-46cc-ce5a-d4bec622864e"
   }
  },
  {
   "cell_type": "code",
   "execution_count": 270,
   "source": [
    "Acessorios_2.append('4 x 4')\r\n",
    "Acessorios_2"
   ],
   "outputs": [
    {
     "output_type": "execute_result",
     "data": {
      "text/plain": [
       "['Ar condicionado',\n",
       " 'Bancos de couro',\n",
       " 'Piloto automático',\n",
       " 'Sensor crepuscular',\n",
       " 'Sensor de chuva',\n",
       " 'Sensor de estacionamento',\n",
       " 'Travas elétricas',\n",
       " '4 x 4']"
      ]
     },
     "metadata": {},
     "execution_count": 270
    }
   ],
   "metadata": {
    "colab": {
     "base_uri": "https://localhost:8080/",
     "height": 136
    },
    "colab_type": "code",
    "id": "W3eQdVWkltoF",
    "outputId": "e562b631-af5d-4841-854b-68719c2b29e3"
   }
  },
  {
   "cell_type": "code",
   "execution_count": 271,
   "source": [
    "Acessorios"
   ],
   "outputs": [
    {
     "output_type": "execute_result",
     "data": {
      "text/plain": [
       "['Ar condicionado',\n",
       " 'Bancos de couro',\n",
       " 'Piloto automático',\n",
       " 'Sensor crepuscular',\n",
       " 'Sensor de chuva',\n",
       " 'Sensor de estacionamento',\n",
       " 'Travas elétricas',\n",
       " '4 x 4']"
      ]
     },
     "metadata": {},
     "execution_count": 271
    }
   ],
   "metadata": {
    "colab": {
     "base_uri": "https://localhost:8080/",
     "height": 153
    },
    "colab_type": "code",
    "id": "OVbvjjmdltoG",
    "outputId": "07b58d5a-5dc4-4d01-e680-52cb5d17c480"
   }
  },
  {
   "cell_type": "code",
   "execution_count": 272,
   "source": [
    "Acessorios.pop()\r\n",
    "Acessorios"
   ],
   "outputs": [
    {
     "output_type": "execute_result",
     "data": {
      "text/plain": [
       "['Ar condicionado',\n",
       " 'Bancos de couro',\n",
       " 'Piloto automático',\n",
       " 'Sensor crepuscular',\n",
       " 'Sensor de chuva',\n",
       " 'Sensor de estacionamento',\n",
       " 'Travas elétricas']"
      ]
     },
     "metadata": {},
     "execution_count": 272
    }
   ],
   "metadata": {
    "colab": {
     "base_uri": "https://localhost:8080/",
     "height": 153
    },
    "colab_type": "code",
    "id": "P-MN1JfAltoH",
    "outputId": "f28ef733-a175-429f-f71b-1dd8368b59b9"
   }
  },
  {
   "cell_type": "code",
   "execution_count": 273,
   "source": [
    "Acessorios_2"
   ],
   "outputs": [
    {
     "output_type": "execute_result",
     "data": {
      "text/plain": [
       "['Ar condicionado',\n",
       " 'Bancos de couro',\n",
       " 'Piloto automático',\n",
       " 'Sensor crepuscular',\n",
       " 'Sensor de chuva',\n",
       " 'Sensor de estacionamento',\n",
       " 'Travas elétricas']"
      ]
     },
     "metadata": {},
     "execution_count": 273
    }
   ],
   "metadata": {
    "colab": {
     "base_uri": "https://localhost:8080/",
     "height": 136
    },
    "colab_type": "code",
    "id": "ZVQ38eqVltoJ",
    "outputId": "4dbacadd-bc45-4b33-a1ea-c291dc124183"
   }
  },
  {
   "cell_type": "code",
   "execution_count": 274,
   "source": [
    "Acessorios_2 = Acessorios.copy()\r\n",
    "Acessorios_2"
   ],
   "outputs": [
    {
     "output_type": "execute_result",
     "data": {
      "text/plain": [
       "['Ar condicionado',\n",
       " 'Bancos de couro',\n",
       " 'Piloto automático',\n",
       " 'Sensor crepuscular',\n",
       " 'Sensor de chuva',\n",
       " 'Sensor de estacionamento',\n",
       " 'Travas elétricas']"
      ]
     },
     "metadata": {},
     "execution_count": 274
    }
   ],
   "metadata": {
    "colab": {
     "base_uri": "https://localhost:8080/",
     "height": 136
    },
    "colab_type": "code",
    "id": "bqPiw5wSltoM",
    "outputId": "1658c51c-4222-4714-a9a0-7cab61de8557"
   }
  },
  {
   "cell_type": "code",
   "execution_count": 275,
   "source": [
    "Acessorios_2.append('4 x 4')\r\n",
    "Acessorios_2"
   ],
   "outputs": [
    {
     "output_type": "execute_result",
     "data": {
      "text/plain": [
       "['Ar condicionado',\n",
       " 'Bancos de couro',\n",
       " 'Piloto automático',\n",
       " 'Sensor crepuscular',\n",
       " 'Sensor de chuva',\n",
       " 'Sensor de estacionamento',\n",
       " 'Travas elétricas',\n",
       " '4 x 4']"
      ]
     },
     "metadata": {},
     "execution_count": 275
    }
   ],
   "metadata": {
    "colab": {
     "base_uri": "https://localhost:8080/",
     "height": 136
    },
    "colab_type": "code",
    "id": "Lo9WgzF6ltoP",
    "outputId": "c92a0f14-5926-40b4-fcc1-4be1ec9e23e0"
   }
  },
  {
   "cell_type": "code",
   "execution_count": 276,
   "source": [
    "Acessorios"
   ],
   "outputs": [
    {
     "output_type": "execute_result",
     "data": {
      "text/plain": [
       "['Ar condicionado',\n",
       " 'Bancos de couro',\n",
       " 'Piloto automático',\n",
       " 'Sensor crepuscular',\n",
       " 'Sensor de chuva',\n",
       " 'Sensor de estacionamento',\n",
       " 'Travas elétricas']"
      ]
     },
     "metadata": {},
     "execution_count": 276
    }
   ],
   "metadata": {
    "colab": {
     "base_uri": "https://localhost:8080/",
     "height": 153
    },
    "colab_type": "code",
    "id": "r2LPHB34ltoQ",
    "outputId": "060e522e-408e-41a0-e665-632108d4f36f"
   }
  },
  {
   "cell_type": "code",
   "execution_count": 277,
   "source": [
    "Acessorios_2 = Acessorios[:]\r\n",
    "Acessorios_2"
   ],
   "outputs": [
    {
     "output_type": "execute_result",
     "data": {
      "text/plain": [
       "['Ar condicionado',\n",
       " 'Bancos de couro',\n",
       " 'Piloto automático',\n",
       " 'Sensor crepuscular',\n",
       " 'Sensor de chuva',\n",
       " 'Sensor de estacionamento',\n",
       " 'Travas elétricas']"
      ]
     },
     "metadata": {},
     "execution_count": 277
    }
   ],
   "metadata": {
    "colab": {
     "base_uri": "https://localhost:8080/",
     "height": 136
    },
    "colab_type": "code",
    "id": "UQqUkO8YltoR",
    "outputId": "9721590f-3858-4d61-8e26-15bb7e431a8f"
   }
  },
  {
   "cell_type": "markdown",
   "source": [
    "# <font color=green> 4. ESTRUTURAS DE REPETIÇÃO E CONDICIONAIS\n",
    "---"
   ],
   "metadata": {
    "colab_type": "text",
    "id": "8zMZNsg2ltoU"
   }
  },
  {
   "cell_type": "markdown",
   "source": [
    "# 4.1 Instrução *for*\n",
    "\n",
    "#### Formato padrão\n",
    "\n",
    "```\n",
    "for <variável> in <coleção>:\n",
    "    <instruções>\n",
    "```"
   ],
   "metadata": {
    "colab_type": "text",
    "id": "gxUmCLyJltoU"
   }
  },
  {
   "cell_type": "markdown",
   "source": [
    "### Loops com listas"
   ],
   "metadata": {
    "colab_type": "text",
    "id": "Irl5oa0altoU"
   }
  },
  {
   "cell_type": "code",
   "execution_count": 278,
   "source": [
    "Acessorios = ['Rodas de liga', 'Travas elétricas', 'Piloto automático', 'Bancos de couro',\r\n",
    "              'Ar condicionado', 'Sensor de estacionamento', 'Sensor crepuscular', 'Sensor de chuva']\r\n",
    "Acessorios\r\n"
   ],
   "outputs": [
    {
     "output_type": "execute_result",
     "data": {
      "text/plain": [
       "['Rodas de liga',\n",
       " 'Travas elétricas',\n",
       " 'Piloto automático',\n",
       " 'Bancos de couro',\n",
       " 'Ar condicionado',\n",
       " 'Sensor de estacionamento',\n",
       " 'Sensor crepuscular',\n",
       " 'Sensor de chuva']"
      ]
     },
     "metadata": {},
     "execution_count": 278
    }
   ],
   "metadata": {
    "colab": {
     "base_uri": "https://localhost:8080/",
     "height": 136
    },
    "colab_type": "code",
    "id": "E1LZ5n25ltoV",
    "outputId": "ca9f9bea-d01d-4880-ea1a-752740e17403"
   }
  },
  {
   "cell_type": "code",
   "execution_count": 279,
   "source": [
    "for item in Acessorios:\r\n",
    "    print(item)"
   ],
   "outputs": [
    {
     "output_type": "stream",
     "name": "stdout",
     "text": [
      "Rodas de liga\n",
      "Travas elétricas\n",
      "Piloto automático\n",
      "Bancos de couro\n",
      "Ar condicionado\n",
      "Sensor de estacionamento\n",
      "Sensor crepuscular\n",
      "Sensor de chuva\n"
     ]
    }
   ],
   "metadata": {
    "colab": {
     "base_uri": "https://localhost:8080/",
     "height": 136
    },
    "colab_type": "code",
    "id": "Z459QqsFltoY",
    "outputId": "68a05115-29e3-44be-f0f5-b5a774334c5c"
   }
  },
  {
   "cell_type": "markdown",
   "source": [
    "###  List comprehensions\n",
    "\n",
    "https://docs.python.org/3.6/tutorial/datastructures.html#list-comprehensions"
   ],
   "metadata": {
    "colab_type": "text",
    "id": "Gbztj9T4ltoZ"
   }
  },
  {
   "cell_type": "markdown",
   "source": [
    "*range()* -> https://docs.python.org/3.6/library/functions.html#func-range"
   ],
   "metadata": {
    "colab_type": "text",
    "id": "4Y8g0cSHjbof"
   }
  },
  {
   "cell_type": "code",
   "execution_count": 280,
   "source": [
    "range(10)"
   ],
   "outputs": [
    {
     "output_type": "execute_result",
     "data": {
      "text/plain": [
       "range(0, 10)"
      ]
     },
     "metadata": {},
     "execution_count": 280
    }
   ],
   "metadata": {
    "colab": {
     "base_uri": "https://localhost:8080/",
     "height": 34
    },
    "colab_type": "code",
    "id": "xDo9TLdYltoZ",
    "outputId": "d3cf8562-be5f-4008-874e-00e4a723aba7"
   }
  },
  {
   "cell_type": "code",
   "execution_count": 281,
   "source": [
    "list(range(10))"
   ],
   "outputs": [
    {
     "output_type": "execute_result",
     "data": {
      "text/plain": [
       "[0, 1, 2, 3, 4, 5, 6, 7, 8, 9]"
      ]
     },
     "metadata": {},
     "execution_count": 281
    }
   ],
   "metadata": {
    "colab": {
     "base_uri": "https://localhost:8080/",
     "height": 34
    },
    "colab_type": "code",
    "id": "V12p_CQBltoc",
    "outputId": "4567917f-a946-4f1e-9665-955f6617d38c"
   }
  },
  {
   "cell_type": "code",
   "execution_count": 282,
   "source": [
    "for i in range(10):\r\n",
    "    print(i ** 2)"
   ],
   "outputs": [
    {
     "output_type": "stream",
     "name": "stdout",
     "text": [
      "0\n",
      "1\n",
      "4\n",
      "9\n",
      "16\n",
      "25\n",
      "36\n",
      "49\n",
      "64\n",
      "81\n"
     ]
    }
   ],
   "metadata": {
    "colab": {
     "base_uri": "https://localhost:8080/",
     "height": 187
    },
    "colab_type": "code",
    "id": "OOzHHRWHltof",
    "outputId": "2059643d-aebd-40d5-e1f2-56ee5dd14487"
   }
  },
  {
   "cell_type": "code",
   "execution_count": 283,
   "source": [
    "quadrado = []\r\n",
    "for i in range(10):\r\n",
    "    quadrado.append(i ** 2)\r\n",
    "\r\n",
    "quadrado"
   ],
   "outputs": [
    {
     "output_type": "execute_result",
     "data": {
      "text/plain": [
       "[0, 1, 4, 9, 16, 25, 36, 49, 64, 81]"
      ]
     },
     "metadata": {},
     "execution_count": 283
    }
   ],
   "metadata": {
    "colab": {
     "base_uri": "https://localhost:8080/",
     "height": 34
    },
    "colab_type": "code",
    "id": "TKynwnxgltog",
    "outputId": "d1a5a478-4ac5-419f-bca3-47d4560ac985"
   }
  },
  {
   "cell_type": "code",
   "execution_count": 284,
   "source": [
    "[i ** 2 for i in range(10)]"
   ],
   "outputs": [
    {
     "output_type": "execute_result",
     "data": {
      "text/plain": [
       "[0, 1, 4, 9, 16, 25, 36, 49, 64, 81]"
      ]
     },
     "metadata": {},
     "execution_count": 284
    }
   ],
   "metadata": {
    "colab": {
     "base_uri": "https://localhost:8080/",
     "height": 34
    },
    "colab_type": "code",
    "id": "d77YH_dVltoh",
    "outputId": "8a6c14ce-88cd-432c-defc-207660b098da"
   }
  },
  {
   "cell_type": "markdown",
   "source": [
    "# 4.2 Loops aninhados"
   ],
   "metadata": {
    "colab_type": "text",
    "id": "AcAcaKFXltom"
   }
  },
  {
   "cell_type": "code",
   "execution_count": 285,
   "source": [
    "dados = [ \r\n",
    "    ['Rodas de liga', 'Travas elétricas', 'Piloto automático', 'Bancos de couro', 'Ar condicionado', 'Sensor de estacionamento', 'Sensor crepuscular', 'Sensor de chuva'],\r\n",
    "    ['Central multimídia', 'Teto panorâmico', 'Freios ABS', '4 X 4', 'Painel digital', 'Piloto automático', 'Bancos de couro', 'Câmera de estacionamento'],\r\n",
    "    ['Piloto automático', 'Controle de estabilidade', 'Sensor crepuscular', 'Freios ABS', 'Câmbio automático', 'Bancos de couro', 'Central multimídia', 'Vidros elétricos']\r\n",
    "]\r\n",
    "dados"
   ],
   "outputs": [
    {
     "output_type": "execute_result",
     "data": {
      "text/plain": [
       "[['Rodas de liga',\n",
       "  'Travas elétricas',\n",
       "  'Piloto automático',\n",
       "  'Bancos de couro',\n",
       "  'Ar condicionado',\n",
       "  'Sensor de estacionamento',\n",
       "  'Sensor crepuscular',\n",
       "  'Sensor de chuva'],\n",
       " ['Central multimídia',\n",
       "  'Teto panorâmico',\n",
       "  'Freios ABS',\n",
       "  '4 X 4',\n",
       "  'Painel digital',\n",
       "  'Piloto automático',\n",
       "  'Bancos de couro',\n",
       "  'Câmera de estacionamento'],\n",
       " ['Piloto automático',\n",
       "  'Controle de estabilidade',\n",
       "  'Sensor crepuscular',\n",
       "  'Freios ABS',\n",
       "  'Câmbio automático',\n",
       "  'Bancos de couro',\n",
       "  'Central multimídia',\n",
       "  'Vidros elétricos']]"
      ]
     },
     "metadata": {},
     "execution_count": 285
    }
   ],
   "metadata": {
    "colab": {
     "base_uri": "https://localhost:8080/",
     "height": 425
    },
    "colab_type": "code",
    "id": "mjgJCo3dlton",
    "outputId": "7ee9270d-b5da-41e6-9c2b-fdcd15f21b51"
   }
  },
  {
   "cell_type": "code",
   "execution_count": 286,
   "source": [
    "for lista in dados:\r\n",
    "    print(lista)"
   ],
   "outputs": [
    {
     "output_type": "stream",
     "name": "stdout",
     "text": [
      "['Rodas de liga', 'Travas elétricas', 'Piloto automático', 'Bancos de couro', 'Ar condicionado', 'Sensor de estacionamento', 'Sensor crepuscular', 'Sensor de chuva']\n",
      "['Central multimídia', 'Teto panorâmico', 'Freios ABS', '4 X 4', 'Painel digital', 'Piloto automático', 'Bancos de couro', 'Câmera de estacionamento']\n",
      "['Piloto automático', 'Controle de estabilidade', 'Sensor crepuscular', 'Freios ABS', 'Câmbio automático', 'Bancos de couro', 'Central multimídia', 'Vidros elétricos']\n"
     ]
    }
   ],
   "metadata": {
    "colab": {
     "base_uri": "https://localhost:8080/",
     "height": 68
    },
    "colab_type": "code",
    "id": "pLgxwApVltop",
    "outputId": "78ef859a-f80e-4e6e-e356-fe5be747b8a2"
   }
  },
  {
   "cell_type": "code",
   "execution_count": 287,
   "source": [
    "for lista in dados:\r\n",
    "    for item in lista:\r\n",
    "        print(item)"
   ],
   "outputs": [
    {
     "output_type": "stream",
     "name": "stdout",
     "text": [
      "Rodas de liga\n",
      "Travas elétricas\n",
      "Piloto automático\n",
      "Bancos de couro\n",
      "Ar condicionado\n",
      "Sensor de estacionamento\n",
      "Sensor crepuscular\n",
      "Sensor de chuva\n",
      "Central multimídia\n",
      "Teto panorâmico\n",
      "Freios ABS\n",
      "4 X 4\n",
      "Painel digital\n",
      "Piloto automático\n",
      "Bancos de couro\n",
      "Câmera de estacionamento\n",
      "Piloto automático\n",
      "Controle de estabilidade\n",
      "Sensor crepuscular\n",
      "Freios ABS\n",
      "Câmbio automático\n",
      "Bancos de couro\n",
      "Central multimídia\n",
      "Vidros elétricos\n"
     ]
    }
   ],
   "metadata": {
    "colab": {
     "base_uri": "https://localhost:8080/",
     "height": 425
    },
    "colab_type": "code",
    "id": "OYnDRvcYltor",
    "outputId": "27a82aad-7063-4cb1-aa44-01ed38653fa0"
   }
  },
  {
   "cell_type": "code",
   "execution_count": 288,
   "source": [
    "Acessorios = []\r\n",
    "for lista in dados:\r\n",
    "    for item in lista:\r\n",
    "        Acessorios.append(item)\r\n",
    "\r\n",
    "Acessorios"
   ],
   "outputs": [
    {
     "output_type": "execute_result",
     "data": {
      "text/plain": [
       "['Rodas de liga',\n",
       " 'Travas elétricas',\n",
       " 'Piloto automático',\n",
       " 'Bancos de couro',\n",
       " 'Ar condicionado',\n",
       " 'Sensor de estacionamento',\n",
       " 'Sensor crepuscular',\n",
       " 'Sensor de chuva',\n",
       " 'Central multimídia',\n",
       " 'Teto panorâmico',\n",
       " 'Freios ABS',\n",
       " '4 X 4',\n",
       " 'Painel digital',\n",
       " 'Piloto automático',\n",
       " 'Bancos de couro',\n",
       " 'Câmera de estacionamento',\n",
       " 'Piloto automático',\n",
       " 'Controle de estabilidade',\n",
       " 'Sensor crepuscular',\n",
       " 'Freios ABS',\n",
       " 'Câmbio automático',\n",
       " 'Bancos de couro',\n",
       " 'Central multimídia',\n",
       " 'Vidros elétricos']"
      ]
     },
     "metadata": {},
     "execution_count": 288
    }
   ],
   "metadata": {
    "colab": {
     "base_uri": "https://localhost:8080/",
     "height": 425
    },
    "colab_type": "code",
    "id": "DbJa5_cJltos",
    "outputId": "22fea8e3-5760-4845-c561-ce29d309c1c6"
   }
  },
  {
   "cell_type": "markdown",
   "source": [
    "## *set()*\n",
    "\n",
    "https://docs.python.org/3.6/library/stdtypes.html#types-set\n",
    "\n",
    "https://docs.python.org/3.6/library/functions.html#func-set"
   ],
   "metadata": {
    "colab_type": "text",
    "id": "RrGAOy1rn1Dj"
   }
  },
  {
   "cell_type": "code",
   "execution_count": 289,
   "source": [
    "list(set(Acessorios))"
   ],
   "outputs": [
    {
     "output_type": "execute_result",
     "data": {
      "text/plain": [
       "['Sensor de estacionamento',\n",
       " 'Câmera de estacionamento',\n",
       " 'Rodas de liga',\n",
       " 'Central multimídia',\n",
       " 'Sensor de chuva',\n",
       " 'Ar condicionado',\n",
       " 'Câmbio automático',\n",
       " 'Freios ABS',\n",
       " '4 X 4',\n",
       " 'Sensor crepuscular',\n",
       " 'Painel digital',\n",
       " 'Controle de estabilidade',\n",
       " 'Bancos de couro',\n",
       " 'Piloto automático',\n",
       " 'Vidros elétricos',\n",
       " 'Travas elétricas',\n",
       " 'Teto panorâmico']"
      ]
     },
     "metadata": {},
     "execution_count": 289
    }
   ],
   "metadata": {
    "colab": {
     "base_uri": "https://localhost:8080/",
     "height": 306
    },
    "colab_type": "code",
    "id": "CuB-9ClSltos",
    "outputId": "a51fb957-846b-4f5e-ed6c-ee62372728a7"
   }
  },
  {
   "cell_type": "markdown",
   "source": [
    "### List comprehensions"
   ],
   "metadata": {
    "colab_type": "text",
    "id": "9hHKKABhltot"
   }
  },
  {
   "cell_type": "code",
   "execution_count": 290,
   "source": [
    "[item for lista in dados for item in lista]"
   ],
   "outputs": [
    {
     "output_type": "execute_result",
     "data": {
      "text/plain": [
       "['Rodas de liga',\n",
       " 'Travas elétricas',\n",
       " 'Piloto automático',\n",
       " 'Bancos de couro',\n",
       " 'Ar condicionado',\n",
       " 'Sensor de estacionamento',\n",
       " 'Sensor crepuscular',\n",
       " 'Sensor de chuva',\n",
       " 'Central multimídia',\n",
       " 'Teto panorâmico',\n",
       " 'Freios ABS',\n",
       " '4 X 4',\n",
       " 'Painel digital',\n",
       " 'Piloto automático',\n",
       " 'Bancos de couro',\n",
       " 'Câmera de estacionamento',\n",
       " 'Piloto automático',\n",
       " 'Controle de estabilidade',\n",
       " 'Sensor crepuscular',\n",
       " 'Freios ABS',\n",
       " 'Câmbio automático',\n",
       " 'Bancos de couro',\n",
       " 'Central multimídia',\n",
       " 'Vidros elétricos']"
      ]
     },
     "metadata": {},
     "execution_count": 290
    }
   ],
   "metadata": {
    "colab": {
     "base_uri": "https://localhost:8080/",
     "height": 306
    },
    "colab_type": "code",
    "id": "T6t79LTlltot",
    "outputId": "8ce3f380-6d92-4b46-d904-6e2b720ea78e"
   }
  },
  {
   "cell_type": "code",
   "execution_count": 291,
   "source": [
    "list(set([item for lista in dados for item in lista]))"
   ],
   "outputs": [
    {
     "output_type": "execute_result",
     "data": {
      "text/plain": [
       "['Sensor de estacionamento',\n",
       " 'Câmera de estacionamento',\n",
       " 'Rodas de liga',\n",
       " 'Central multimídia',\n",
       " 'Sensor de chuva',\n",
       " 'Ar condicionado',\n",
       " 'Câmbio automático',\n",
       " 'Freios ABS',\n",
       " '4 X 4',\n",
       " 'Sensor crepuscular',\n",
       " 'Painel digital',\n",
       " 'Controle de estabilidade',\n",
       " 'Bancos de couro',\n",
       " 'Piloto automático',\n",
       " 'Vidros elétricos',\n",
       " 'Travas elétricas',\n",
       " 'Teto panorâmico']"
      ]
     },
     "metadata": {},
     "execution_count": 291
    }
   ],
   "metadata": {}
  },
  {
   "cell_type": "markdown",
   "source": [
    "# 4.3 Instrução *if*\n",
    "\n",
    "#### Formato padrão\n",
    "\n",
    "```\n",
    "if <condição>:\n",
    "     <instruções caso a condição seja verdadeira>\n",
    "```"
   ],
   "metadata": {
    "colab_type": "text",
    "id": "cJ4fPdj5ltou"
   }
  },
  {
   "cell_type": "markdown",
   "source": [
    "### Operadores de comparação: $==$, $!=$, $>$, $<$, $>=$, $<=$\n",
    "### e\n",
    "### Operadores lógicos: $and$, $or$, $not$"
   ],
   "metadata": {
    "colab_type": "text",
    "id": "bqOYDJiWltou"
   }
  },
  {
   "cell_type": "code",
   "execution_count": 292,
   "source": [
    "# 1º item da lista - Nome do veículo\r\n",
    "# 2º item da lista - Ano de fabricação\r\n",
    "# 3º item da lista - Veículo é zero km?\r\n",
    "\r\n",
    "dados = [\r\n",
    "    ['Jetta Variant', 2003, False],\r\n",
    "    ['Passat', 1991, False],\r\n",
    "    ['Crossfox', 1990, False],\r\n",
    "    ['DS5', 2019, True],\r\n",
    "    ['Aston Martin DB4', 2006, False],\r\n",
    "    ['Palio Weekend', 2012, False],\r\n",
    "    ['A5', 2019, True],\r\n",
    "    ['Série 3 Cabrio', 2009, False],\r\n",
    "    ['Dodge Jorney', 2019, False],\r\n",
    "    ['Carens', 2011, False]\r\n",
    "]\r\n",
    "dados"
   ],
   "outputs": [
    {
     "output_type": "execute_result",
     "data": {
      "text/plain": [
       "[['Jetta Variant', 2003, False],\n",
       " ['Passat', 1991, False],\n",
       " ['Crossfox', 1990, False],\n",
       " ['DS5', 2019, True],\n",
       " ['Aston Martin DB4', 2006, False],\n",
       " ['Palio Weekend', 2012, False],\n",
       " ['A5', 2019, True],\n",
       " ['Série 3 Cabrio', 2009, False],\n",
       " ['Dodge Jorney', 2019, False],\n",
       " ['Carens', 2011, False]]"
      ]
     },
     "metadata": {},
     "execution_count": 292
    }
   ],
   "metadata": {
    "colab": {
     "base_uri": "https://localhost:8080/",
     "height": 187
    },
    "colab_type": "code",
    "id": "5eY_XPmrltov",
    "outputId": "f16b154b-1922-4193-97df-b5b2d0d91d6b"
   }
  },
  {
   "cell_type": "code",
   "execution_count": 293,
   "source": [
    "zero_km_Y = []\r\n",
    "for lista in dados:\r\n",
    "    if(lista[2] == True):\r\n",
    "        zero_km_Y.append(lista)\r\n",
    "\r\n",
    "zero_km_Y"
   ],
   "outputs": [
    {
     "output_type": "execute_result",
     "data": {
      "text/plain": [
       "[['DS5', 2019, True], ['A5', 2019, True]]"
      ]
     },
     "metadata": {},
     "execution_count": 293
    }
   ],
   "metadata": {
    "colab": {
     "base_uri": "https://localhost:8080/",
     "height": 34
    },
    "colab_type": "code",
    "id": "nyb0iDH1ltoy",
    "outputId": "961e4590-0216-4652-83ec-4044264c40ae"
   }
  },
  {
   "cell_type": "code",
   "execution_count": 294,
   "source": [
    "zero_km_N = []\r\n",
    "for lista in dados:\r\n",
    "    if(lista[2] == False):\r\n",
    "        zero_km_N.append(lista)\r\n",
    "\r\n",
    "zero_km_N\r\n"
   ],
   "outputs": [
    {
     "output_type": "execute_result",
     "data": {
      "text/plain": [
       "[['Jetta Variant', 2003, False],\n",
       " ['Passat', 1991, False],\n",
       " ['Crossfox', 1990, False],\n",
       " ['Aston Martin DB4', 2006, False],\n",
       " ['Palio Weekend', 2012, False],\n",
       " ['Série 3 Cabrio', 2009, False],\n",
       " ['Dodge Jorney', 2019, False],\n",
       " ['Carens', 2011, False]]"
      ]
     },
     "metadata": {},
     "execution_count": 294
    }
   ],
   "metadata": {
    "colab": {
     "base_uri": "https://localhost:8080/",
     "height": 153
    },
    "colab_type": "code",
    "id": "5MlITJppltoy",
    "outputId": "688d681e-e26b-436d-bcf4-56ca27854c64"
   }
  },
  {
   "cell_type": "markdown",
   "source": [
    "### List comprehensions"
   ],
   "metadata": {
    "colab_type": "text",
    "id": "51Js0kXD0aRH"
   }
  },
  {
   "cell_type": "code",
   "execution_count": 295,
   "source": [
    "[lista for lista in dados if lista[2] == True]"
   ],
   "outputs": [
    {
     "output_type": "execute_result",
     "data": {
      "text/plain": [
       "[['DS5', 2019, True], ['A5', 2019, True]]"
      ]
     },
     "metadata": {},
     "execution_count": 295
    }
   ],
   "metadata": {
    "colab": {
     "base_uri": "https://localhost:8080/",
     "height": 34
    },
    "colab_type": "code",
    "id": "Ly4QUX5J0aRI",
    "outputId": "2c0cdbb5-8904-4f08-b7d4-ed70a9b11902"
   }
  },
  {
   "cell_type": "code",
   "execution_count": 296,
   "source": [
    "[lista for lista in dados if lista[2] == False]\r\n"
   ],
   "outputs": [
    {
     "output_type": "execute_result",
     "data": {
      "text/plain": [
       "[['Jetta Variant', 2003, False],\n",
       " ['Passat', 1991, False],\n",
       " ['Crossfox', 1990, False],\n",
       " ['Aston Martin DB4', 2006, False],\n",
       " ['Palio Weekend', 2012, False],\n",
       " ['Série 3 Cabrio', 2009, False],\n",
       " ['Dodge Jorney', 2019, False],\n",
       " ['Carens', 2011, False]]"
      ]
     },
     "metadata": {},
     "execution_count": 296
    }
   ],
   "metadata": {}
  },
  {
   "cell_type": "markdown",
   "source": [
    "# 4.4 Instruções *if-else* e *if-elif-else*\n",
    "\n",
    "#### Formato padrão\n",
    "\n",
    "```\n",
    "if <condição>:\n",
    "    <instruções caso a condição seja verdadeira>\n",
    "else:\n",
    "    <instruções caso a condição não seja verdadeira>\n",
    "```"
   ],
   "metadata": {
    "colab_type": "text",
    "id": "CKjrvO5Tltoz"
   }
  },
  {
   "cell_type": "code",
   "execution_count": 297,
   "source": [
    "zero_km_Y, zero_km_N = [], []\r\n",
    "for lista in dados:\r\n",
    "    if(lista[2] == True):\r\n",
    "        zero_km_Y.append(lista)\r\n",
    "    else:\r\n",
    "        zero_km_N.append(lista)\r\n"
   ],
   "outputs": [],
   "metadata": {
    "colab": {},
    "colab_type": "code",
    "id": "K_VORb47ltoz"
   }
  },
  {
   "cell_type": "code",
   "execution_count": 298,
   "source": [
    "zero_km_Y"
   ],
   "outputs": [
    {
     "output_type": "execute_result",
     "data": {
      "text/plain": [
       "[['DS5', 2019, True], ['A5', 2019, True]]"
      ]
     },
     "metadata": {},
     "execution_count": 298
    }
   ],
   "metadata": {
    "colab": {
     "base_uri": "https://localhost:8080/",
     "height": 34
    },
    "colab_type": "code",
    "id": "vhz5T7jDlto1",
    "outputId": "23011d63-fe16-4d8f-a310-3fe6b333ad0d"
   }
  },
  {
   "cell_type": "code",
   "execution_count": 299,
   "source": [
    "zero_km_N"
   ],
   "outputs": [
    {
     "output_type": "execute_result",
     "data": {
      "text/plain": [
       "[['Jetta Variant', 2003, False],\n",
       " ['Passat', 1991, False],\n",
       " ['Crossfox', 1990, False],\n",
       " ['Aston Martin DB4', 2006, False],\n",
       " ['Palio Weekend', 2012, False],\n",
       " ['Série 3 Cabrio', 2009, False],\n",
       " ['Dodge Jorney', 2019, False],\n",
       " ['Carens', 2011, False]]"
      ]
     },
     "metadata": {},
     "execution_count": 299
    }
   ],
   "metadata": {
    "colab": {
     "base_uri": "https://localhost:8080/",
     "height": 153
    },
    "colab_type": "code",
    "id": "XlvlpPjhlto1",
    "outputId": "9b1ae98f-3b20-492d-a13b-af23f604d22d"
   }
  },
  {
   "cell_type": "markdown",
   "source": [
    "#### Formato padrão\n",
    "\n",
    "```\n",
    "if <condição 1>:\n",
    "    <instruções caso a condição 1 seja verdadeira>\n",
    "elif <condição 2>:\n",
    "    <instruções caso a condição 2 seja verdadeira>\n",
    "elif <condição 3>:\n",
    "    <instruções caso a condição 3 seja verdadeira>\n",
    "                        .\n",
    "                        .\n",
    "                        .\n",
    "else:\n",
    "    <instruções caso as condições anteriores não sejam verdadeiras>\n",
    "```"
   ],
   "metadata": {
    "colab_type": "text",
    "id": "Z2-8WeN1lto2"
   }
  },
  {
   "cell_type": "code",
   "execution_count": 300,
   "source": [
    "dados"
   ],
   "outputs": [
    {
     "output_type": "execute_result",
     "data": {
      "text/plain": [
       "[['Jetta Variant', 2003, False],\n",
       " ['Passat', 1991, False],\n",
       " ['Crossfox', 1990, False],\n",
       " ['DS5', 2019, True],\n",
       " ['Aston Martin DB4', 2006, False],\n",
       " ['Palio Weekend', 2012, False],\n",
       " ['A5', 2019, True],\n",
       " ['Série 3 Cabrio', 2009, False],\n",
       " ['Dodge Jorney', 2019, False],\n",
       " ['Carens', 2011, False]]"
      ]
     },
     "metadata": {},
     "execution_count": 300
    }
   ],
   "metadata": {
    "colab": {
     "base_uri": "https://localhost:8080/",
     "height": 187
    },
    "colab_type": "code",
    "id": "ggrbaB4Tlto2",
    "outputId": "78f4adf3-34cf-48af-fc96-2c053f6287fb"
   }
  },
  {
   "cell_type": "code",
   "execution_count": 301,
   "source": [
    "print('AND')\r\n",
    "print(f'(True and True) o resultado é: {True and True}')\r\n",
    "print(f'(True and False) o resultado é: {True and False}')\r\n",
    "print(f'(False and True) o resultado é: {False and True}')\r\n",
    "print(f'(False and False) o resultado é: {False and False}')"
   ],
   "outputs": [
    {
     "output_type": "stream",
     "name": "stdout",
     "text": [
      "AND\n",
      "(True and True) o resultado é: True\n",
      "(True and False) o resultado é: False\n",
      "(False and True) o resultado é: False\n",
      "(False and False) o resultado é: False\n"
     ]
    }
   ],
   "metadata": {
    "colab": {
     "base_uri": "https://localhost:8080/",
     "height": 102
    },
    "colab_type": "code",
    "id": "KJgRc1F9lto3",
    "outputId": "67054bad-771d-4fea-b0c4-bf6e0bc0baf3"
   }
  },
  {
   "cell_type": "code",
   "execution_count": 302,
   "source": [
    "print('OR')\r\n",
    "print(f'(True or True) o resultado é: {True or True}')\r\n",
    "print(f'(True or False) o resultado é: {True or False}')\r\n",
    "print(f'(False or True) o resultado é: {False or True}')\r\n",
    "print(f'(False or False) o resultado é: {False or False}')"
   ],
   "outputs": [
    {
     "output_type": "stream",
     "name": "stdout",
     "text": [
      "OR\n",
      "(True or True) o resultado é: True\n",
      "(True or False) o resultado é: True\n",
      "(False or True) o resultado é: True\n",
      "(False or False) o resultado é: False\n"
     ]
    }
   ],
   "metadata": {
    "colab": {
     "base_uri": "https://localhost:8080/",
     "height": 102
    },
    "colab_type": "code",
    "id": "sb0mSh-o0aRM",
    "outputId": "6f607bbf-7cd3-4f1c-d6ff-01207ff74b0f"
   }
  },
  {
   "cell_type": "code",
   "execution_count": 303,
   "source": [
    "A, B, C = [], [], []\r\n",
    "\r\n",
    "for lista in dados:\r\n",
    "    if(lista[1] <= 2000):\r\n",
    "        A.append(lista)\r\n",
    "    elif(lista[1] > 2000 and lista[1] <= 2010):\r\n",
    "        B.append(lista)\r\n",
    "    else:\r\n",
    "        C.append(lista)"
   ],
   "outputs": [],
   "metadata": {
    "colab": {},
    "colab_type": "code",
    "id": "AfNdTPzElto3"
   }
  },
  {
   "cell_type": "code",
   "execution_count": 304,
   "source": [
    "A"
   ],
   "outputs": [
    {
     "output_type": "execute_result",
     "data": {
      "text/plain": [
       "[['Passat', 1991, False], ['Crossfox', 1990, False]]"
      ]
     },
     "metadata": {},
     "execution_count": 304
    }
   ],
   "metadata": {
    "colab": {},
    "colab_type": "code",
    "id": "5bN7SuvTlto4"
   }
  },
  {
   "cell_type": "code",
   "execution_count": 305,
   "source": [
    "B"
   ],
   "outputs": [
    {
     "output_type": "execute_result",
     "data": {
      "text/plain": [
       "[['Jetta Variant', 2003, False],\n",
       " ['Aston Martin DB4', 2006, False],\n",
       " ['Série 3 Cabrio', 2009, False]]"
      ]
     },
     "metadata": {},
     "execution_count": 305
    }
   ],
   "metadata": {
    "colab": {
     "base_uri": "https://localhost:8080/",
     "height": 34
    },
    "colab_type": "code",
    "id": "dDEl3Vfglto4",
    "outputId": "d0978d78-2395-4b16-d7c1-1e521032a827"
   }
  },
  {
   "cell_type": "code",
   "execution_count": 306,
   "source": [
    "C"
   ],
   "outputs": [
    {
     "output_type": "execute_result",
     "data": {
      "text/plain": [
       "[['DS5', 2019, True],\n",
       " ['Palio Weekend', 2012, False],\n",
       " ['A5', 2019, True],\n",
       " ['Dodge Jorney', 2019, False],\n",
       " ['Carens', 2011, False]]"
      ]
     },
     "metadata": {},
     "execution_count": 306
    }
   ],
   "metadata": {
    "colab": {
     "base_uri": "https://localhost:8080/",
     "height": 68
    },
    "colab_type": "code",
    "id": "Ot4HLQlelto5",
    "outputId": "c7ce788c-2ce9-487d-fe05-7f0ff9ffa8ef"
   }
  },
  {
   "cell_type": "code",
   "execution_count": 307,
   "source": [
    "A, B, C = [], [], []\r\n",
    "\r\n",
    "for lista in dados:\r\n",
    "    if(lista[1] <= 2000):\r\n",
    "        A.append(lista)\r\n",
    "    elif(2000 < lista[1] <= 2010):\r\n",
    "        B.append(lista)\r\n",
    "    else:\r\n",
    "        C.append(lista)\r\n"
   ],
   "outputs": [],
   "metadata": {
    "colab": {
     "base_uri": "https://localhost:8080/",
     "height": 102
    },
    "colab_type": "code",
    "id": "FN26ZBKJlto5",
    "outputId": "ff5d0420-ac3c-488d-8033-f70b9455b29c"
   }
  },
  {
   "cell_type": "markdown",
   "source": [
    "# <font color=green> 5. NUMPY BÁSICO\n",
    "---\n",
    "\n",
    "Numpy é a abreviação de Numerical Python e é um dos pacotes mais importantes para processamento numérico em Python. Numpy oferece a base para a maioria dos pacotes de aplicações científicas que utilizem dados numéricos em Python (estruturas de dados e algoritmos). Pode-se destacar os seguintes recursos que o pacote Numpy contém:\n",
    "\n",
    "- Um poderoso objeto array multidimensional;\n",
    "- Funções matemáticas sofisticadas para operações com arrays sem a necessidade de utilização de laços *for*;\n",
    "- Recursos de algebra linear e geração de números aleatórios\n",
    "\n",
    "Além de seus óbvios usos científicos, o pacote NumPy também é muito utilizado em análise de dados como um eficiente contêiner multidimensional de dados genéricos para transporte entre diversos algoritmos e bibliotecas em Python.\n",
    "\n",
    "**Versão:** 1.16.5\n",
    "\n",
    "**Instalação:** https://scipy.org/install.html\n",
    "\n",
    "**Documentação:** https://numpy.org/doc/1.16/"
   ],
   "metadata": {
    "colab_type": "text",
    "id": "aRfQfubxlto6"
   }
  },
  {
   "cell_type": "markdown",
   "source": [
    "### Pacotes\n",
    "\n",
    "Existem diversos pacotes Python disponíveis para download na internet. Cada pacote tem como objetivo a solução de determinado tipo de problema e para isso são desenvolvidos novos tipos, funções e métodos.\n",
    "\n",
    "Alguns pacotes são bastante utilizados em um contexto de ciência de dados como por exemplo:\n",
    "\n",
    "- Numpy\n",
    "- Pandas\n",
    "- Scikit-learn\n",
    "- Matplotlib\n",
    "\n",
    "Alguns pacotes não são distribuídos com a instalação default do Python. Neste caso devemos instalar os pacotes que necessitamos em nosso sistema para podermos utilizar suas funcionalidades."
   ],
   "metadata": {
    "colab_type": "text",
    "id": "RtG2-g1ultme"
   }
  },
  {
   "cell_type": "markdown",
   "source": [
    "### Importando todo o pacote"
   ],
   "metadata": {
    "colab_type": "text",
    "id": "b8prsQjmltme"
   }
  },
  {
   "cell_type": "code",
   "execution_count": 313,
   "source": [
    "import numpy"
   ],
   "outputs": [],
   "metadata": {
    "colab": {},
    "colab_type": "code",
    "id": "lP0tqXHLltmf"
   }
  },
  {
   "cell_type": "markdown",
   "source": [
    "https://numpy.org/doc/1.16/reference/generated/numpy.arange.html"
   ],
   "metadata": {}
  },
  {
   "cell_type": "code",
   "execution_count": 314,
   "source": [
    "numpy.arange(10)"
   ],
   "outputs": [
    {
     "output_type": "execute_result",
     "data": {
      "text/plain": [
       "array([0, 1, 2, 3, 4, 5, 6, 7, 8, 9])"
      ]
     },
     "metadata": {},
     "execution_count": 314
    }
   ],
   "metadata": {
    "colab": {
     "base_uri": "https://localhost:8080/",
     "height": 34
    },
    "colab_type": "code",
    "id": "Y40UP3K7ltmg",
    "outputId": "35f0bfcc-af82-4e41-ed31-d615a6ab57ff"
   }
  },
  {
   "cell_type": "markdown",
   "source": [
    "### Importando todo o pacote e atribuindo um novo nome "
   ],
   "metadata": {
    "colab_type": "text",
    "id": "84-53f4Lltmh"
   }
  },
  {
   "cell_type": "code",
   "execution_count": 315,
   "source": [
    "import numpy as np"
   ],
   "outputs": [],
   "metadata": {
    "colab": {},
    "colab_type": "code",
    "id": "CzESWck7ltmi"
   }
  },
  {
   "cell_type": "code",
   "execution_count": 316,
   "source": [
    "np.arange(10)"
   ],
   "outputs": [
    {
     "output_type": "execute_result",
     "data": {
      "text/plain": [
       "array([0, 1, 2, 3, 4, 5, 6, 7, 8, 9])"
      ]
     },
     "metadata": {},
     "execution_count": 316
    }
   ],
   "metadata": {
    "colab": {
     "base_uri": "https://localhost:8080/",
     "height": 34
    },
    "colab_type": "code",
    "id": "RC7Dr5Viltmj",
    "outputId": "641cdf28-11c8-44ff-ee8b-7316ea3309a3"
   }
  },
  {
   "cell_type": "markdown",
   "source": [
    "### Importando parte do pacote"
   ],
   "metadata": {
    "colab_type": "text",
    "id": "WWawttSpltml"
   }
  },
  {
   "cell_type": "code",
   "execution_count": 317,
   "source": [
    "from numpy import arange"
   ],
   "outputs": [],
   "metadata": {
    "colab": {},
    "colab_type": "code",
    "id": "8kTeo3Ltltmo"
   }
  },
  {
   "cell_type": "code",
   "execution_count": 318,
   "source": [
    "arange(10)"
   ],
   "outputs": [
    {
     "output_type": "execute_result",
     "data": {
      "text/plain": [
       "array([0, 1, 2, 3, 4, 5, 6, 7, 8, 9])"
      ]
     },
     "metadata": {},
     "execution_count": 318
    }
   ],
   "metadata": {
    "colab": {
     "base_uri": "https://localhost:8080/",
     "height": 34
    },
    "colab_type": "code",
    "id": "4LPnpiEwltmt",
    "outputId": "fdd7cfc4-ce08-49b4-c04b-a6f1b9ac2562"
   }
  },
  {
   "cell_type": "markdown",
   "source": [
    "# 5.1 Criando arrays Numpy"
   ],
   "metadata": {
    "colab_type": "text",
    "id": "VSmffnCklto6"
   }
  },
  {
   "cell_type": "code",
   "execution_count": 324,
   "source": [
    "import numpy as np"
   ],
   "outputs": [],
   "metadata": {}
  },
  {
   "cell_type": "markdown",
   "source": [
    "### A partir de listas\n",
    "\n",
    "https://numpy.org/doc/1.16/user/basics.creation.html"
   ],
   "metadata": {
    "colab_type": "text",
    "id": "ock4Ku-Ulto8"
   }
  },
  {
   "cell_type": "code",
   "execution_count": 325,
   "source": [
    "km = np.array([1000, 2300, 4987, 1500])\r\n",
    "km"
   ],
   "outputs": [
    {
     "output_type": "execute_result",
     "data": {
      "text/plain": [
       "array([1000, 2300, 4987, 1500])"
      ]
     },
     "metadata": {},
     "execution_count": 325
    }
   ],
   "metadata": {
    "colab": {},
    "colab_type": "code",
    "id": "82H-09CQlto9"
   }
  },
  {
   "cell_type": "code",
   "execution_count": 327,
   "source": [
    "type(km)"
   ],
   "outputs": [
    {
     "output_type": "execute_result",
     "data": {
      "text/plain": [
       "numpy.ndarray"
      ]
     },
     "metadata": {},
     "execution_count": 327
    }
   ],
   "metadata": {
    "colab": {
     "base_uri": "https://localhost:8080/",
     "height": 34
    },
    "colab_type": "code",
    "id": "8VYE3JSYlto9",
    "outputId": "994bfcb0-3620-493d-b52e-e0d7d1211fea"
   }
  },
  {
   "cell_type": "markdown",
   "source": [
    "https://numpy.org/doc/1.16/user/basics.types.html"
   ],
   "metadata": {
    "colab_type": "text",
    "id": "RfQ3jJSAlto-"
   }
  },
  {
   "cell_type": "code",
   "execution_count": 328,
   "source": [
    "km.dtype"
   ],
   "outputs": [
    {
     "output_type": "execute_result",
     "data": {
      "text/plain": [
       "dtype('int32')"
      ]
     },
     "metadata": {},
     "execution_count": 328
    }
   ],
   "metadata": {
    "colab": {
     "base_uri": "https://localhost:8080/",
     "height": 34
    },
    "colab_type": "code",
    "id": "6yLpkJcAlto-",
    "outputId": "b50ec0ed-1af4-4955-a781-e796453002e1"
   }
  },
  {
   "cell_type": "markdown",
   "source": [
    "### A partir de dados externos\n",
    "\n",
    "https://numpy.org/doc/1.16/reference/generated/numpy.loadtxt.html"
   ],
   "metadata": {
    "colab_type": "text",
    "id": "1pFx86QPlto_"
   }
  },
  {
   "cell_type": "code",
   "execution_count": 329,
   "source": [
    "km = np.loadtxt(fname = 'carros-km.txt', dtype = int)"
   ],
   "outputs": [],
   "metadata": {
    "colab": {},
    "colab_type": "code",
    "id": "26pQLNgrlto_"
   }
  },
  {
   "cell_type": "code",
   "execution_count": 330,
   "source": [
    "km"
   ],
   "outputs": [
    {
     "output_type": "execute_result",
     "data": {
      "text/plain": [
       "array([ 44410,   5712,  37123,      0,  25757,  10728,      0,  77599,\n",
       "        99197,  37978,  12859,   8052,  89773,      0,  41457, 115607,\n",
       "        46449,      0,  37086,  15173, 101193,      0,  98079, 102959,\n",
       "            0,      0,   5795,      0,  58848,  94381,  30163,  53332,\n",
       "        17720,  33808,  90684,  43975,      0,      0,   5526,      0,\n",
       "        93415,  40762,      0,  86302,      0,   9755,  69945,   2395,\n",
       "            0,  80349,  85554,  50496,  67716,  93947,  35345,  81007,\n",
       "       119513,      0,      0,      0,      0,      0, 118895,  48509,\n",
       "       100912,  95649,      0,  90495,      0,  29132,  23802,  84992,\n",
       "        54395,  26731,  44329, 118236, 113808,    610,      0,      0,\n",
       "        12887,  79607,  90924,  42733,      0,      0, 117714, 113885,\n",
       "            0,  30511,  74867, 119760,   8356,  64247,  88661,   4539,\n",
       "       110116,  33215,  92001,      0,  81708,  70641,      0,  91277,\n",
       "        26544,  52596,  47503,  89056,  28834, 110564,  56638,  17357,\n",
       "        74015,  15196,      0,  10821,      0,      0,   9595,  99052,\n",
       "        52389, 119945,  96005,  31639,      0,  80187,      0,  58212,\n",
       "        61672,  32017,      0,  56944,      0,  86519,   4821, 101025,\n",
       "        30705,      0,  32555, 103389,      0,  55289,      0,      0,\n",
       "       115930,  66437,  96800,  14237,  19896, 113045, 114942,   3173,\n",
       "        83611,  25356,  88634,   2314,   2627,  52034,      0,      0,\n",
       "        79577, 108201,  76453,  57683,  96610, 109001,  26212,  45971,\n",
       "        49182,  49907,  38620,  60996,  73914, 107392,   9146,      0,\n",
       "        17924,      0, 116949,  20476,  52804,   8849,  91724,  32056,\n",
       "        74886,      0,      0,  52189,  83559,      0,  20328,      0,\n",
       "        75577,  33659, 104341,  25510,  18965,  87161,   6652,  55738,\n",
       "            0,      0,      0,  64320,      0,  68678,  71697,      0,\n",
       "        34783,  33772,  85127,  13606,  35647,  95128,  14046,  41194,\n",
       "            0,  96100, 103900,  43814,  24638,      0, 110966,  15987,\n",
       "        53369,  10077,  71544,    107,   8394,  41498, 116002, 100858,\n",
       "        67475,   8497,   4420,      0,  58537,      0,      0, 112016,\n",
       "        91840, 112787,      0,      0,   9293,      0,  55083,  48796,\n",
       "            0,  89685,  85384,  98108,  71280,  27505,  29981,  52637,\n",
       "         7685,  50188])"
      ]
     },
     "metadata": {},
     "execution_count": 330
    }
   ],
   "metadata": {
    "colab": {
     "base_uri": "https://localhost:8080/",
     "height": 578
    },
    "colab_type": "code",
    "id": "FoP42bdpltpA",
    "outputId": "d42c7fff-2645-4c1a-a32d-699e52896f8d",
    "scrolled": true
   }
  },
  {
   "cell_type": "code",
   "execution_count": 331,
   "source": [
    "km.dtype"
   ],
   "outputs": [
    {
     "output_type": "execute_result",
     "data": {
      "text/plain": [
       "dtype('int32')"
      ]
     },
     "metadata": {},
     "execution_count": 331
    }
   ],
   "metadata": {
    "colab": {
     "base_uri": "https://localhost:8080/",
     "height": 34
    },
    "colab_type": "code",
    "id": "MNPjZJbYltpA",
    "outputId": "b284de8d-0a2e-4969-c1a1-80da256e4335"
   }
  },
  {
   "cell_type": "markdown",
   "source": [
    "### Arrays com duas dimensões"
   ],
   "metadata": {
    "colab_type": "text",
    "id": "_wnTg0wJltpB"
   }
  },
  {
   "cell_type": "code",
   "execution_count": 332,
   "source": [
    "dados = [ \r\n",
    "    ['Rodas de liga', 'Travas elétricas', 'Piloto automático', 'Bancos de couro', 'Ar condicionado', 'Sensor de estacionamento', 'Sensor crepuscular', 'Sensor de chuva'],\r\n",
    "    ['Central multimídia', 'Teto panorâmico', 'Freios ABS', '4 X 4', 'Painel digital', 'Piloto automático', 'Bancos de couro', 'Câmera de estacionamento'],\r\n",
    "    ['Piloto automático', 'Controle de estabilidade', 'Sensor crepuscular', 'Freios ABS', 'Câmbio automático', 'Bancos de couro', 'Central multimídia', 'Vidros elétricos']\r\n",
    "]\r\n",
    "dados"
   ],
   "outputs": [
    {
     "output_type": "execute_result",
     "data": {
      "text/plain": [
       "[['Rodas de liga',\n",
       "  'Travas elétricas',\n",
       "  'Piloto automático',\n",
       "  'Bancos de couro',\n",
       "  'Ar condicionado',\n",
       "  'Sensor de estacionamento',\n",
       "  'Sensor crepuscular',\n",
       "  'Sensor de chuva'],\n",
       " ['Central multimídia',\n",
       "  'Teto panorâmico',\n",
       "  'Freios ABS',\n",
       "  '4 X 4',\n",
       "  'Painel digital',\n",
       "  'Piloto automático',\n",
       "  'Bancos de couro',\n",
       "  'Câmera de estacionamento'],\n",
       " ['Piloto automático',\n",
       "  'Controle de estabilidade',\n",
       "  'Sensor crepuscular',\n",
       "  'Freios ABS',\n",
       "  'Câmbio automático',\n",
       "  'Bancos de couro',\n",
       "  'Central multimídia',\n",
       "  'Vidros elétricos']]"
      ]
     },
     "metadata": {},
     "execution_count": 332
    }
   ],
   "metadata": {
    "colab": {
     "base_uri": "https://localhost:8080/",
     "height": 425
    },
    "colab_type": "code",
    "id": "Gt1dL27GltpB",
    "outputId": "93a154b3-dd3d-476f-e0a6-62ec03ed38ca",
    "scrolled": true
   }
  },
  {
   "cell_type": "code",
   "execution_count": 341,
   "source": [
    "Acessorios = np.array(dados)"
   ],
   "outputs": [],
   "metadata": {
    "colab": {},
    "colab_type": "code",
    "id": "IlbYeZPkltpC"
   }
  },
  {
   "cell_type": "code",
   "execution_count": 342,
   "source": [
    "Acessorios"
   ],
   "outputs": [
    {
     "output_type": "execute_result",
     "data": {
      "text/plain": [
       "array([['Rodas de liga', 'Travas elétricas', 'Piloto automático',\n",
       "        'Bancos de couro', 'Ar condicionado', 'Sensor de estacionamento',\n",
       "        'Sensor crepuscular', 'Sensor de chuva'],\n",
       "       ['Central multimídia', 'Teto panorâmico', 'Freios ABS', '4 X 4',\n",
       "        'Painel digital', 'Piloto automático', 'Bancos de couro',\n",
       "        'Câmera de estacionamento'],\n",
       "       ['Piloto automático', 'Controle de estabilidade',\n",
       "        'Sensor crepuscular', 'Freios ABS', 'Câmbio automático',\n",
       "        'Bancos de couro', 'Central multimídia', 'Vidros elétricos']],\n",
       "      dtype='<U24')"
      ]
     },
     "metadata": {},
     "execution_count": 342
    }
   ],
   "metadata": {
    "colab": {
     "base_uri": "https://localhost:8080/",
     "height": 187
    },
    "colab_type": "code",
    "id": "FgjmWozgltpD",
    "outputId": "082af2de-402a-4a7c-d18c-35d6d0cb8adc",
    "scrolled": true
   }
  },
  {
   "cell_type": "code",
   "execution_count": 343,
   "source": [
    "km.shape"
   ],
   "outputs": [
    {
     "output_type": "execute_result",
     "data": {
      "text/plain": [
       "(258,)"
      ]
     },
     "metadata": {},
     "execution_count": 343
    }
   ],
   "metadata": {
    "colab": {
     "base_uri": "https://localhost:8080/",
     "height": 34
    },
    "colab_type": "code",
    "id": "TDM9HskUltpD",
    "outputId": "510eedab-e026-49cf-e31a-ab52bb3b1bae"
   }
  },
  {
   "cell_type": "code",
   "execution_count": 344,
   "source": [
    "Acessorios.shape"
   ],
   "outputs": [
    {
     "output_type": "execute_result",
     "data": {
      "text/plain": [
       "(3, 8)"
      ]
     },
     "metadata": {},
     "execution_count": 344
    }
   ],
   "metadata": {
    "colab": {
     "base_uri": "https://localhost:8080/",
     "height": 34
    },
    "colab_type": "code",
    "id": "bBmnzpF5ltpE",
    "outputId": "cdd9cf12-9f2d-4bb5-efcc-817398b2855f"
   }
  },
  {
   "cell_type": "markdown",
   "source": [
    "### Comparando desempenho com listas"
   ],
   "metadata": {
    "colab_type": "text",
    "id": "cPbkST9pltpE"
   }
  },
  {
   "cell_type": "code",
   "execution_count": 345,
   "source": [
    "np_array = np.arange(1000000)"
   ],
   "outputs": [],
   "metadata": {
    "colab": {},
    "colab_type": "code",
    "id": "tTPC-G4vltpE"
   }
  },
  {
   "cell_type": "code",
   "execution_count": 346,
   "source": [
    "py_list = list(range(1000000))"
   ],
   "outputs": [],
   "metadata": {
    "colab": {},
    "colab_type": "code",
    "id": "PIC-ndg9ltpF"
   }
  },
  {
   "cell_type": "code",
   "execution_count": 347,
   "source": [
    "%time for _ in range(100): np_array *= 2"
   ],
   "outputs": [
    {
     "output_type": "stream",
     "name": "stdout",
     "text": [
      "Wall time: 91.8 ms\n"
     ]
    }
   ],
   "metadata": {
    "colab": {
     "base_uri": "https://localhost:8080/",
     "height": 51
    },
    "colab_type": "code",
    "id": "vXy57nk2ltpF",
    "outputId": "887c4318-de05-42f7-8b08-ec0f44805f33"
   }
  },
  {
   "cell_type": "code",
   "execution_count": 348,
   "source": [
    "%time for _ in range(100): py_list = [x * 2 for x in py_list]"
   ],
   "outputs": [
    {
     "output_type": "stream",
     "name": "stdout",
     "text": [
      "Wall time: 11.9 s\n"
     ]
    }
   ],
   "metadata": {
    "colab": {
     "base_uri": "https://localhost:8080/",
     "height": 51
    },
    "colab_type": "code",
    "id": "I94lVgCRltpG",
    "outputId": "09665988-9e30-404f-ced3-94bb0f59fb8f"
   }
  },
  {
   "cell_type": "markdown",
   "source": [
    "# 5.2 Operações aritméticas com arrays Numpy"
   ],
   "metadata": {
    "colab_type": "text",
    "id": "ul4MuKyTltpG"
   }
  },
  {
   "cell_type": "markdown",
   "source": [
    "### Operações entre arrays e constantes"
   ],
   "metadata": {
    "colab_type": "text",
    "id": "QwnxO_rYltpH"
   }
  },
  {
   "cell_type": "code",
   "execution_count": 349,
   "source": [
    "km = [44410., 5712., 37123., 0., 25757.]\r\n",
    "anos = [2003, 1991, 1990, 2019, 2006]"
   ],
   "outputs": [],
   "metadata": {
    "colab": {},
    "colab_type": "code",
    "id": "63KVHPK0ltpH"
   }
  },
  {
   "cell_type": "code",
   "execution_count": 350,
   "source": [
    "idade = 2021 - anos"
   ],
   "outputs": [
    {
     "output_type": "error",
     "ename": "TypeError",
     "evalue": "unsupported operand type(s) for -: 'int' and 'list'",
     "traceback": [
      "\u001b[1;31m---------------------------------------------------------------------------\u001b[0m",
      "\u001b[1;31mTypeError\u001b[0m                                 Traceback (most recent call last)",
      "\u001b[1;32m<ipython-input-350-92d4f1f5c991>\u001b[0m in \u001b[0;36m<module>\u001b[1;34m\u001b[0m\n\u001b[1;32m----> 1\u001b[1;33m \u001b[0midade\u001b[0m \u001b[1;33m=\u001b[0m \u001b[1;36m2021\u001b[0m \u001b[1;33m-\u001b[0m \u001b[0manos\u001b[0m\u001b[1;33m\u001b[0m\u001b[1;33m\u001b[0m\u001b[0m\n\u001b[0m",
      "\u001b[1;31mTypeError\u001b[0m: unsupported operand type(s) for -: 'int' and 'list'"
     ]
    }
   ],
   "metadata": {
    "colab": {},
    "colab_type": "code",
    "id": "AryIZaBIltpH"
   }
  },
  {
   "cell_type": "code",
   "execution_count": 352,
   "source": [
    "km = np.array([44410., 5712., 37123., 0., 25757.])\r\n",
    "anos = np.array([2003, 1991, 1990, 2019, 2006])"
   ],
   "outputs": [],
   "metadata": {
    "colab": {},
    "colab_type": "code",
    "id": "s8GvEk4HltpI"
   }
  },
  {
   "cell_type": "code",
   "execution_count": 356,
   "source": [
    "idade = 2019 - anos\r\n"
   ],
   "outputs": [],
   "metadata": {
    "colab": {},
    "colab_type": "code",
    "id": "aUnYV7OultpI"
   }
  },
  {
   "cell_type": "code",
   "execution_count": 357,
   "source": [
    "idade"
   ],
   "outputs": [
    {
     "output_type": "execute_result",
     "data": {
      "text/plain": [
       "array([16, 28, 29,  0, 13])"
      ]
     },
     "metadata": {},
     "execution_count": 357
    }
   ],
   "metadata": {
    "colab": {
     "base_uri": "https://localhost:8080/",
     "height": 34
    },
    "colab_type": "code",
    "id": "vg5yZ9IpltpJ",
    "outputId": "231e6535-3234-4343-dd12-25bffa432ce5"
   }
  },
  {
   "cell_type": "markdown",
   "source": [
    "### Operações entre arrays"
   ],
   "metadata": {
    "colab_type": "text",
    "id": "qn1PUsM9ltpJ"
   }
  },
  {
   "cell_type": "code",
   "execution_count": 358,
   "source": [
    "km_media = km / idade"
   ],
   "outputs": [
    {
     "output_type": "stream",
     "name": "stderr",
     "text": [
      "<ipython-input-358-502b13b90eb3>:1: RuntimeWarning: invalid value encountered in true_divide\n",
      "  km_media = km / idade\n"
     ]
    }
   ],
   "metadata": {
    "colab": {
     "base_uri": "https://localhost:8080/",
     "height": 85
    },
    "colab_type": "code",
    "id": "gU_d5aZkltpJ",
    "outputId": "987ae738-4d0b-4cf4-e1bd-87ecc0245e52"
   }
  },
  {
   "cell_type": "code",
   "execution_count": 359,
   "source": [
    "km_media"
   ],
   "outputs": [
    {
     "output_type": "execute_result",
     "data": {
      "text/plain": [
       "array([2775.625     ,  204.        , 1280.10344828,           nan,\n",
       "       1981.30769231])"
      ]
     },
     "metadata": {},
     "execution_count": 359
    }
   ],
   "metadata": {
    "colab": {
     "base_uri": "https://localhost:8080/",
     "height": 34
    },
    "colab_type": "code",
    "id": "U9DXntUEltpK",
    "outputId": "1abedb19-e628-4742-8f62-5bf023e9bda0"
   }
  },
  {
   "cell_type": "code",
   "execution_count": 360,
   "source": [
    "44410 / (2019 - 2003)"
   ],
   "outputs": [
    {
     "output_type": "execute_result",
     "data": {
      "text/plain": [
       "2775.625"
      ]
     },
     "metadata": {},
     "execution_count": 360
    }
   ],
   "metadata": {
    "colab": {
     "base_uri": "https://localhost:8080/",
     "height": 34
    },
    "colab_type": "code",
    "id": "n0rPxgY1ltpL",
    "outputId": "37cff722-ea36-42ef-dce3-f635e6121c21"
   }
  },
  {
   "cell_type": "markdown",
   "source": [
    "### Operações com arrays de duas dimensões"
   ],
   "metadata": {
    "colab_type": "text",
    "id": "o4-gsGICltpN"
   }
  },
  {
   "cell_type": "code",
   "execution_count": 361,
   "source": [
    "dados = np.array([km, anos])"
   ],
   "outputs": [],
   "metadata": {
    "colab": {},
    "colab_type": "code",
    "id": "VT71Pbb3ltpN"
   }
  },
  {
   "cell_type": "code",
   "execution_count": 362,
   "source": [
    "dados"
   ],
   "outputs": [
    {
     "output_type": "execute_result",
     "data": {
      "text/plain": [
       "array([[44410.,  5712., 37123.,     0., 25757.],\n",
       "       [ 2003.,  1991.,  1990.,  2019.,  2006.]])"
      ]
     },
     "metadata": {},
     "execution_count": 362
    }
   ],
   "metadata": {}
  },
  {
   "cell_type": "code",
   "execution_count": 363,
   "source": [
    "dados.shape"
   ],
   "outputs": [
    {
     "output_type": "execute_result",
     "data": {
      "text/plain": [
       "(2, 5)"
      ]
     },
     "metadata": {},
     "execution_count": 363
    }
   ],
   "metadata": {
    "colab": {
     "base_uri": "https://localhost:8080/",
     "height": 51
    },
    "colab_type": "code",
    "id": "bgDe00q8ltpO",
    "outputId": "47e0ef11-cef0-4ae9-f7ed-a833a72183d6"
   }
  },
  {
   "cell_type": "markdown",
   "source": [
    "![1410-img01.png](https://caelum-online-public.s3.amazonaws.com/1410-pythondatascience/01/1410-img01.png)"
   ],
   "metadata": {
    "colab_type": "text",
    "id": "dsgz-E5ZltpP"
   }
  },
  {
   "cell_type": "code",
   "execution_count": 364,
   "source": [
    "dados[0]"
   ],
   "outputs": [
    {
     "output_type": "execute_result",
     "data": {
      "text/plain": [
       "array([44410.,  5712., 37123.,     0., 25757.])"
      ]
     },
     "metadata": {},
     "execution_count": 364
    }
   ],
   "metadata": {
    "colab": {
     "base_uri": "https://localhost:8080/",
     "height": 34
    },
    "colab_type": "code",
    "id": "imANn6HultpQ",
    "outputId": "25b27625-593e-460c-80ab-f2b10254c11b"
   }
  },
  {
   "cell_type": "code",
   "execution_count": 365,
   "source": [
    "dados[1]"
   ],
   "outputs": [
    {
     "output_type": "execute_result",
     "data": {
      "text/plain": [
       "array([2003., 1991., 1990., 2019., 2006.])"
      ]
     },
     "metadata": {},
     "execution_count": 365
    }
   ],
   "metadata": {
    "colab": {
     "base_uri": "https://localhost:8080/",
     "height": 34
    },
    "colab_type": "code",
    "id": "Nkp9ljkvltpQ",
    "outputId": "1a9e9903-3048-49fb-a4a6-8221ce47c737"
   }
  },
  {
   "cell_type": "code",
   "execution_count": 368,
   "source": [
    "km_media = dados[0] / (2019 - dados[1])"
   ],
   "outputs": [
    {
     "output_type": "stream",
     "name": "stderr",
     "text": [
      "<ipython-input-368-ba3d668d4f3e>:1: RuntimeWarning: invalid value encountered in true_divide\n",
      "  km_media = dados[0] / (2019 - dados[1])\n"
     ]
    }
   ],
   "metadata": {
    "colab": {
     "base_uri": "https://localhost:8080/",
     "height": 85
    },
    "colab_type": "code",
    "id": "njJ2z3HJltpR",
    "outputId": "9990316d-4ca4-431b-bd84-08de6f23a81a"
   }
  },
  {
   "cell_type": "code",
   "execution_count": 369,
   "source": [
    "km_media"
   ],
   "outputs": [
    {
     "output_type": "execute_result",
     "data": {
      "text/plain": [
       "array([2775.625     ,  204.        , 1280.10344828,           nan,\n",
       "       1981.30769231])"
      ]
     },
     "metadata": {},
     "execution_count": 369
    }
   ],
   "metadata": {}
  },
  {
   "cell_type": "markdown",
   "source": [
    "# 5.3 Seleções com arrays Numpy"
   ],
   "metadata": {
    "colab_type": "text",
    "id": "4CAwtS0-ltpR"
   }
  },
  {
   "cell_type": "markdown",
   "source": [
    "![1410-img01.png](https://caelum-online-public.s3.amazonaws.com/1410-pythondatascience/01/1410-img01.png)"
   ],
   "metadata": {
    "colab_type": "text",
    "id": "QDAT1vODltpS"
   }
  },
  {
   "cell_type": "code",
   "execution_count": 370,
   "source": [
    "dados"
   ],
   "outputs": [
    {
     "output_type": "execute_result",
     "data": {
      "text/plain": [
       "array([[44410.,  5712., 37123.,     0., 25757.],\n",
       "       [ 2003.,  1991.,  1990.,  2019.,  2006.]])"
      ]
     },
     "metadata": {},
     "execution_count": 370
    }
   ],
   "metadata": {
    "colab": {
     "base_uri": "https://localhost:8080/",
     "height": 51
    },
    "colab_type": "code",
    "id": "nZpPGS2TltpS",
    "outputId": "7da9a1c6-991a-400b-fa4e-f11e79bfce8d"
   }
  },
  {
   "cell_type": "markdown",
   "source": [
    "![1410-img02.png](https://caelum-online-public.s3.amazonaws.com/1410-pythondatascience/01/1410-img02.png)"
   ],
   "metadata": {
    "colab_type": "text",
    "id": "b--BIPcOltpT"
   }
  },
  {
   "cell_type": "markdown",
   "source": [
    "### Indexação \n",
    "\n",
    "<font color=red>**Observação:**</font> A indexação tem origem no zero."
   ],
   "metadata": {
    "colab_type": "text",
    "id": "86-hOHa7ltpT"
   }
  },
  {
   "cell_type": "code",
   "execution_count": 371,
   "source": [
    "contador = np.arange(10)\r\n",
    "contador"
   ],
   "outputs": [
    {
     "output_type": "execute_result",
     "data": {
      "text/plain": [
       "array([0, 1, 2, 3, 4, 5, 6, 7, 8, 9])"
      ]
     },
     "metadata": {},
     "execution_count": 371
    }
   ],
   "metadata": {
    "colab": {
     "base_uri": "https://localhost:8080/",
     "height": 34
    },
    "colab_type": "code",
    "id": "mr0Q_X0JltpT",
    "outputId": "fb805552-176f-46e8-bda5-14d8f6f3f956"
   }
  },
  {
   "cell_type": "code",
   "execution_count": 372,
   "source": [
    "contador[0]"
   ],
   "outputs": [
    {
     "output_type": "execute_result",
     "data": {
      "text/plain": [
       "0"
      ]
     },
     "metadata": {},
     "execution_count": 372
    }
   ],
   "metadata": {
    "colab": {
     "base_uri": "https://localhost:8080/",
     "height": 34
    },
    "colab_type": "code",
    "id": "VxiR_IgdltpU",
    "outputId": "789052b6-4d9b-48e1-dee4-3a72e38bae10"
   }
  },
  {
   "cell_type": "code",
   "execution_count": 373,
   "source": [
    "item = 6\r\n",
    "index = item -1\r\n",
    "contador[index]"
   ],
   "outputs": [
    {
     "output_type": "execute_result",
     "data": {
      "text/plain": [
       "5"
      ]
     },
     "metadata": {},
     "execution_count": 373
    }
   ],
   "metadata": {
    "colab": {
     "base_uri": "https://localhost:8080/",
     "height": 34
    },
    "colab_type": "code",
    "id": "xGDomIyAltpU",
    "outputId": "b463a50b-69fa-4038-f3ef-b9a9745db367"
   }
  },
  {
   "cell_type": "code",
   "execution_count": 374,
   "source": [
    "contador[-1]"
   ],
   "outputs": [
    {
     "output_type": "execute_result",
     "data": {
      "text/plain": [
       "9"
      ]
     },
     "metadata": {},
     "execution_count": 374
    }
   ],
   "metadata": {
    "colab": {
     "base_uri": "https://localhost:8080/",
     "height": 34
    },
    "colab_type": "code",
    "id": "QEO5Za5PltpV",
    "outputId": "1c7569a6-4be0-4d03-ec92-f74c081809f7"
   }
  },
  {
   "cell_type": "code",
   "execution_count": 375,
   "source": [
    "dados[0]"
   ],
   "outputs": [
    {
     "output_type": "execute_result",
     "data": {
      "text/plain": [
       "array([44410.,  5712., 37123.,     0., 25757.])"
      ]
     },
     "metadata": {},
     "execution_count": 375
    }
   ],
   "metadata": {
    "colab": {
     "base_uri": "https://localhost:8080/",
     "height": 34
    },
    "colab_type": "code",
    "id": "rvkeMK8KltpV",
    "outputId": "e6ec3ad3-2aa5-446e-fa86-89991007d880"
   }
  },
  {
   "cell_type": "code",
   "execution_count": 376,
   "source": [
    "dados[1]"
   ],
   "outputs": [
    {
     "output_type": "execute_result",
     "data": {
      "text/plain": [
       "array([2003., 1991., 1990., 2019., 2006.])"
      ]
     },
     "metadata": {},
     "execution_count": 376
    }
   ],
   "metadata": {
    "colab": {
     "base_uri": "https://localhost:8080/",
     "height": 34
    },
    "colab_type": "code",
    "id": "X8c-lJRJltpW",
    "outputId": "6ea4c3e0-ae5e-4a2d-fcf4-9389a806b0a4"
   }
  },
  {
   "cell_type": "markdown",
   "source": [
    "## <font color=green>**Dica:**</font>\n",
    "### *ndarray[ linha ][ coluna ]* ou *ndarray[ linha, coluna ]*"
   ],
   "metadata": {
    "colab_type": "text",
    "id": "fCWUSI1zltpZ"
   }
  },
  {
   "cell_type": "code",
   "execution_count": 377,
   "source": [
    "dados[1][2]"
   ],
   "outputs": [
    {
     "output_type": "execute_result",
     "data": {
      "text/plain": [
       "1990.0"
      ]
     },
     "metadata": {},
     "execution_count": 377
    }
   ],
   "metadata": {
    "colab": {
     "base_uri": "https://localhost:8080/",
     "height": 34
    },
    "colab_type": "code",
    "id": "Nxc3uY-ZltpZ",
    "outputId": "82bcfdd7-0fb9-4f07-86d6-659de36d65dd"
   }
  },
  {
   "cell_type": "code",
   "execution_count": 378,
   "source": [
    "dados[1, 2]"
   ],
   "outputs": [
    {
     "output_type": "execute_result",
     "data": {
      "text/plain": [
       "1990.0"
      ]
     },
     "metadata": {},
     "execution_count": 378
    }
   ],
   "metadata": {
    "colab": {
     "base_uri": "https://localhost:8080/",
     "height": 34
    },
    "colab_type": "code",
    "id": "xp8ByjualtpZ",
    "outputId": "ba078aaf-cc7d-4696-b66b-5f493a0eec1f"
   }
  },
  {
   "cell_type": "markdown",
   "source": [
    " ### Fatiamentos\n",
    " \n",
    "A sintaxe para realizar fatiamento em um array Numpy é $i : j : k$ onde $i$ é o índice inicial, $j$ é o índice de parada, e $k$ é o indicador de passo ($k\\neq0$)\n",
    " \n",
    "<font color=red>**Observação:**</font> Nos fatiamentos (*slices*) o item com índice i é **incluído** e o item com índice j **não é incluído** no resultado."
   ],
   "metadata": {
    "colab_type": "text",
    "id": "7osmTUC4ltpa"
   }
  },
  {
   "cell_type": "markdown",
   "source": [
    "![1410-img01.png](https://caelum-online-public.s3.amazonaws.com/1410-pythondatascience/01/1410-img01.png)"
   ],
   "metadata": {
    "colab_type": "text",
    "id": "HEx4TbNlltpa"
   }
  },
  {
   "cell_type": "code",
   "execution_count": 379,
   "source": [
    "contador = np.arange(10)\r\n",
    "contador"
   ],
   "outputs": [
    {
     "output_type": "execute_result",
     "data": {
      "text/plain": [
       "array([0, 1, 2, 3, 4, 5, 6, 7, 8, 9])"
      ]
     },
     "metadata": {},
     "execution_count": 379
    }
   ],
   "metadata": {
    "colab": {
     "base_uri": "https://localhost:8080/",
     "height": 34
    },
    "colab_type": "code",
    "id": "tlaD1SENltpb",
    "outputId": "1c126afe-6ce1-4a99-8fe2-0807f37720a8"
   }
  },
  {
   "cell_type": "code",
   "execution_count": 380,
   "source": [
    "contador[1:4]"
   ],
   "outputs": [
    {
     "output_type": "execute_result",
     "data": {
      "text/plain": [
       "array([1, 2, 3])"
      ]
     },
     "metadata": {},
     "execution_count": 380
    }
   ],
   "metadata": {
    "colab": {
     "base_uri": "https://localhost:8080/",
     "height": 34
    },
    "colab_type": "code",
    "id": "vXLIO1cVltpc",
    "outputId": "e4bc0c09-fc11-49d1-8013-bd98d1b2bfef"
   }
  },
  {
   "cell_type": "code",
   "execution_count": 381,
   "source": [
    "contador[1:8:2]"
   ],
   "outputs": [
    {
     "output_type": "execute_result",
     "data": {
      "text/plain": [
       "array([1, 3, 5, 7])"
      ]
     },
     "metadata": {},
     "execution_count": 381
    }
   ],
   "metadata": {
    "colab": {
     "base_uri": "https://localhost:8080/",
     "height": 34
    },
    "colab_type": "code",
    "id": "kYLgsQcHltpc",
    "outputId": "75041cfe-d698-418c-df94-a2a515170195"
   }
  },
  {
   "cell_type": "code",
   "execution_count": 382,
   "source": [
    "contador[::2]"
   ],
   "outputs": [
    {
     "output_type": "execute_result",
     "data": {
      "text/plain": [
       "array([0, 2, 4, 6, 8])"
      ]
     },
     "metadata": {},
     "execution_count": 382
    }
   ],
   "metadata": {
    "colab": {
     "base_uri": "https://localhost:8080/",
     "height": 34
    },
    "colab_type": "code",
    "id": "H2MJpIasltpd",
    "outputId": "c92dece1-fa73-4805-db15-8d3bd885bdc9"
   }
  },
  {
   "cell_type": "code",
   "execution_count": 383,
   "source": [
    "contador[1::2]"
   ],
   "outputs": [
    {
     "output_type": "execute_result",
     "data": {
      "text/plain": [
       "array([1, 3, 5, 7, 9])"
      ]
     },
     "metadata": {},
     "execution_count": 383
    }
   ],
   "metadata": {
    "colab": {
     "base_uri": "https://localhost:8080/",
     "height": 34
    },
    "colab_type": "code",
    "id": "YVzf4fNCltpe",
    "outputId": "7c087f8e-e82b-487c-ddbb-3819bb6cfeff"
   }
  },
  {
   "cell_type": "code",
   "execution_count": 384,
   "source": [
    "dados"
   ],
   "outputs": [
    {
     "output_type": "execute_result",
     "data": {
      "text/plain": [
       "array([[44410.,  5712., 37123.,     0., 25757.],\n",
       "       [ 2003.,  1991.,  1990.,  2019.,  2006.]])"
      ]
     },
     "metadata": {},
     "execution_count": 384
    }
   ],
   "metadata": {
    "colab": {
     "base_uri": "https://localhost:8080/",
     "height": 51
    },
    "colab_type": "code",
    "id": "bPyQsUFPltpf",
    "outputId": "decb9b9d-1365-4abc-b931-0bf7c7c25902"
   }
  },
  {
   "cell_type": "code",
   "execution_count": 385,
   "source": [
    "dados[:,1:4]"
   ],
   "outputs": [
    {
     "output_type": "execute_result",
     "data": {
      "text/plain": [
       "array([[ 5712., 37123.,     0.],\n",
       "       [ 1991.,  1990.,  2019.]])"
      ]
     },
     "metadata": {},
     "execution_count": 385
    }
   ],
   "metadata": {
    "colab": {
     "base_uri": "https://localhost:8080/",
     "height": 51
    },
    "colab_type": "code",
    "id": "IRxfixG-ltpg",
    "outputId": "e9fe63bd-b94e-40c6-9151-a7d55f2f3d78"
   }
  },
  {
   "cell_type": "code",
   "execution_count": 386,
   "source": [
    "dados[:, 1:4][0] / (2019 - dados[:, 1:4][1])\r\n"
   ],
   "outputs": [
    {
     "output_type": "stream",
     "name": "stderr",
     "text": [
      "<ipython-input-386-ed1c70bf5231>:1: RuntimeWarning: invalid value encountered in true_divide\n",
      "  dados[:, 1:4][0] / (2019 - dados[:, 1:4][1])\n"
     ]
    },
    {
     "output_type": "execute_result",
     "data": {
      "text/plain": [
       "array([ 204.        , 1280.10344828,           nan])"
      ]
     },
     "metadata": {},
     "execution_count": 386
    }
   ],
   "metadata": {
    "colab": {
     "base_uri": "https://localhost:8080/",
     "height": 34
    },
    "colab_type": "code",
    "id": "wfoJ84haltph",
    "outputId": "cc831053-a80d-4f17-81df-5110e67a3b27"
   }
  },
  {
   "cell_type": "code",
   "execution_count": 387,
   "source": [
    "dados[0] / (2019 - dados[1])"
   ],
   "outputs": [
    {
     "output_type": "stream",
     "name": "stderr",
     "text": [
      "<ipython-input-387-fb26cb8e809a>:1: RuntimeWarning: invalid value encountered in true_divide\n",
      "  dados[0] / (2019 - dados[1])\n"
     ]
    },
    {
     "output_type": "execute_result",
     "data": {
      "text/plain": [
       "array([2775.625     ,  204.        , 1280.10344828,           nan,\n",
       "       1981.30769231])"
      ]
     },
     "metadata": {},
     "execution_count": 387
    }
   ],
   "metadata": {
    "colab": {
     "base_uri": "https://localhost:8080/",
     "height": 85
    },
    "colab_type": "code",
    "id": "UeejSXUAltph",
    "outputId": "f3f4e506-88a6-44d9-c185-11948413900a"
   }
  },
  {
   "cell_type": "markdown",
   "source": [
    "### Indexação com array booleano\n",
    "\n",
    "<font color=red>**Observação:**</font> Seleciona um grupo de linhas e colunas segundo os rótulos ou um array booleano."
   ],
   "metadata": {
    "colab_type": "text",
    "id": "-fW4EXIqltpi"
   }
  },
  {
   "cell_type": "code",
   "execution_count": 388,
   "source": [
    "contador = np.arange(10)\r\n",
    "contador"
   ],
   "outputs": [
    {
     "output_type": "execute_result",
     "data": {
      "text/plain": [
       "array([0, 1, 2, 3, 4, 5, 6, 7, 8, 9])"
      ]
     },
     "metadata": {},
     "execution_count": 388
    }
   ],
   "metadata": {
    "colab": {
     "base_uri": "https://localhost:8080/",
     "height": 34
    },
    "colab_type": "code",
    "id": "MgmH-rCSltpi",
    "outputId": "fdce327f-6fc8-4beb-bc07-401c5c4d4050"
   }
  },
  {
   "cell_type": "code",
   "execution_count": 389,
   "source": [
    "contador > 5"
   ],
   "outputs": [
    {
     "output_type": "execute_result",
     "data": {
      "text/plain": [
       "array([False, False, False, False, False, False,  True,  True,  True,\n",
       "        True])"
      ]
     },
     "metadata": {},
     "execution_count": 389
    }
   ],
   "metadata": {
    "colab": {
     "base_uri": "https://localhost:8080/",
     "height": 51
    },
    "colab_type": "code",
    "id": "HN1i-BlLltpj",
    "outputId": "8c8cac71-a75c-4d96-8829-ebcf81393aa5"
   }
  },
  {
   "cell_type": "code",
   "execution_count": 390,
   "source": [
    "contador[contador > 5]"
   ],
   "outputs": [
    {
     "output_type": "execute_result",
     "data": {
      "text/plain": [
       "array([6, 7, 8, 9])"
      ]
     },
     "metadata": {},
     "execution_count": 390
    }
   ],
   "metadata": {
    "colab": {
     "base_uri": "https://localhost:8080/",
     "height": 34
    },
    "colab_type": "code",
    "id": "iXJa9tL4ltpj",
    "outputId": "61ec0c5a-8959-4fae-afcc-6f16c6d832d1"
   }
  },
  {
   "cell_type": "code",
   "execution_count": 392,
   "source": [
    "contador[[False, False, False, False, False, False,  True,  True,  True,\r\n",
    "         True]]\r\n"
   ],
   "outputs": [
    {
     "output_type": "execute_result",
     "data": {
      "text/plain": [
       "array([6, 7, 8, 9])"
      ]
     },
     "metadata": {},
     "execution_count": 392
    }
   ],
   "metadata": {
    "colab": {
     "base_uri": "https://localhost:8080/",
     "height": 34
    },
    "colab_type": "code",
    "id": "54gH6X5eltpk",
    "outputId": "0b7bcbdb-f0da-4362-f9d4-da3b832895f6"
   }
  },
  {
   "cell_type": "code",
   "execution_count": 393,
   "source": [
    "dados"
   ],
   "outputs": [
    {
     "output_type": "execute_result",
     "data": {
      "text/plain": [
       "array([[44410.,  5712., 37123.,     0., 25757.],\n",
       "       [ 2003.,  1991.,  1990.,  2019.,  2006.]])"
      ]
     },
     "metadata": {},
     "execution_count": 393
    }
   ],
   "metadata": {
    "colab": {
     "base_uri": "https://localhost:8080/",
     "height": 51
    },
    "colab_type": "code",
    "id": "F3z6zMELltpk",
    "outputId": "0847c7bf-7203-47e1-c3fb-6fb98c642385"
   }
  },
  {
   "cell_type": "code",
   "execution_count": 394,
   "source": [
    "dados[1] > 2000"
   ],
   "outputs": [
    {
     "output_type": "execute_result",
     "data": {
      "text/plain": [
       "array([ True, False, False,  True,  True])"
      ]
     },
     "metadata": {},
     "execution_count": 394
    }
   ],
   "metadata": {
    "colab": {
     "base_uri": "https://localhost:8080/",
     "height": 34
    },
    "colab_type": "code",
    "id": "pk8A68z1ltpl",
    "outputId": "384b5017-e439-43d6-aa21-f080ee6881e4"
   }
  },
  {
   "cell_type": "code",
   "execution_count": 395,
   "source": [
    "dados[:, dados[1] > 2000]"
   ],
   "outputs": [
    {
     "output_type": "execute_result",
     "data": {
      "text/plain": [
       "array([[44410.,     0., 25757.],\n",
       "       [ 2003.,  2019.,  2006.]])"
      ]
     },
     "metadata": {},
     "execution_count": 395
    }
   ],
   "metadata": {
    "colab": {
     "base_uri": "https://localhost:8080/",
     "height": 51
    },
    "colab_type": "code",
    "id": "WUVMN29_ltpm",
    "outputId": "65384f27-5bb7-43af-bcb0-02879a6b0a38"
   }
  },
  {
   "cell_type": "markdown",
   "source": [
    "# 5.4 Atributos e métodos de arrays Numpy"
   ],
   "metadata": {
    "colab_type": "text",
    "id": "Acw1DffHltpn"
   }
  },
  {
   "cell_type": "code",
   "execution_count": 396,
   "source": [
    "dados = np.array([[44410.,  5712., 37123.,     0., 25757.],\r\n",
    "                  [2003.,  1991.,  1990.,  2019.,  2006.]])\r\n",
    "dados"
   ],
   "outputs": [
    {
     "output_type": "execute_result",
     "data": {
      "text/plain": [
       "array([[44410.,  5712., 37123.,     0., 25757.],\n",
       "       [ 2003.,  1991.,  1990.,  2019.,  2006.]])"
      ]
     },
     "metadata": {},
     "execution_count": 396
    }
   ],
   "metadata": {}
  },
  {
   "cell_type": "markdown",
   "source": [
    "### Atributos\n",
    "\n",
    "https://numpy.org/doc/1.16/reference/arrays.ndarray.html#array-attributes"
   ],
   "metadata": {
    "colab_type": "text",
    "id": "RBnSne6Eltpo"
   }
  },
  {
   "cell_type": "markdown",
   "source": [
    "## *ndarray.shape*\n",
    "\n",
    "Retorna uma tupla com as dimensões do array."
   ],
   "metadata": {
    "colab_type": "text",
    "id": "uKqPxg2Zltpo"
   }
  },
  {
   "cell_type": "code",
   "execution_count": 397,
   "source": [
    "dados.shape"
   ],
   "outputs": [
    {
     "output_type": "execute_result",
     "data": {
      "text/plain": [
       "(2, 5)"
      ]
     },
     "metadata": {},
     "execution_count": 397
    }
   ],
   "metadata": {
    "colab": {
     "base_uri": "https://localhost:8080/",
     "height": 34
    },
    "colab_type": "code",
    "id": "gmaZhF04ltpp",
    "outputId": "ddc2e444-3bce-4795-b4e1-70c050c3cccb"
   }
  },
  {
   "cell_type": "markdown",
   "source": [
    "## *ndarray.ndim*\n",
    "\n",
    "Retorna o número de dimensões do array."
   ],
   "metadata": {
    "colab_type": "text",
    "id": "XaY6oXkmltpp"
   }
  },
  {
   "cell_type": "code",
   "execution_count": 398,
   "source": [
    "dados.ndim"
   ],
   "outputs": [
    {
     "output_type": "execute_result",
     "data": {
      "text/plain": [
       "2"
      ]
     },
     "metadata": {},
     "execution_count": 398
    }
   ],
   "metadata": {
    "colab": {
     "base_uri": "https://localhost:8080/",
     "height": 34
    },
    "colab_type": "code",
    "id": "inJ4HDjaltpq",
    "outputId": "7abafd3f-aa10-4798-f7d4-3c106ccfaaf9"
   }
  },
  {
   "cell_type": "markdown",
   "source": [
    "## *ndarray.size*\n",
    "\n",
    "Retorna o número de elementos do array."
   ],
   "metadata": {
    "colab_type": "text",
    "id": "ESgVt5xOltpq"
   }
  },
  {
   "cell_type": "code",
   "execution_count": 399,
   "source": [
    "dados.size"
   ],
   "outputs": [
    {
     "output_type": "execute_result",
     "data": {
      "text/plain": [
       "10"
      ]
     },
     "metadata": {},
     "execution_count": 399
    }
   ],
   "metadata": {
    "colab": {
     "base_uri": "https://localhost:8080/",
     "height": 34
    },
    "colab_type": "code",
    "id": "BWr4efoiltpq",
    "outputId": "2c465a85-49a4-4410-b98f-69375c926bc2"
   }
  },
  {
   "cell_type": "markdown",
   "source": [
    "## *ndarray.dtype*\n",
    "\n",
    "Retorna o tipo de dados dos elementos do array."
   ],
   "metadata": {
    "colab_type": "text",
    "id": "Ox8JlBM3ltpr"
   }
  },
  {
   "cell_type": "code",
   "execution_count": 400,
   "source": [
    "dados.dtype"
   ],
   "outputs": [
    {
     "output_type": "execute_result",
     "data": {
      "text/plain": [
       "dtype('float64')"
      ]
     },
     "metadata": {},
     "execution_count": 400
    }
   ],
   "metadata": {
    "colab": {
     "base_uri": "https://localhost:8080/",
     "height": 34
    },
    "colab_type": "code",
    "id": "npiL84Vfltpu",
    "outputId": "e0922ec0-a1d4-4097-8328-79e7a9048aa2"
   }
  },
  {
   "cell_type": "markdown",
   "source": [
    "## *ndarray.T*\n",
    "\n",
    "Retorna o array transposto, isto é, converte linhas em colunas e vice versa."
   ],
   "metadata": {
    "colab_type": "text",
    "id": "j7uPN16oltpv"
   }
  },
  {
   "cell_type": "code",
   "execution_count": 401,
   "source": [
    "dados.T"
   ],
   "outputs": [
    {
     "output_type": "execute_result",
     "data": {
      "text/plain": [
       "array([[44410.,  2003.],\n",
       "       [ 5712.,  1991.],\n",
       "       [37123.,  1990.],\n",
       "       [    0.,  2019.],\n",
       "       [25757.,  2006.]])"
      ]
     },
     "metadata": {},
     "execution_count": 401
    }
   ],
   "metadata": {
    "colab": {
     "base_uri": "https://localhost:8080/",
     "height": 102
    },
    "colab_type": "code",
    "id": "bLjrrx56ltpv",
    "outputId": "54439045-02cb-40d1-9862-475e9d350aa3"
   }
  },
  {
   "cell_type": "code",
   "execution_count": 403,
   "source": [
    "dados.transpose()"
   ],
   "outputs": [
    {
     "output_type": "execute_result",
     "data": {
      "text/plain": [
       "array([[44410.,  2003.],\n",
       "       [ 5712.,  1991.],\n",
       "       [37123.,  1990.],\n",
       "       [    0.,  2019.],\n",
       "       [25757.,  2006.]])"
      ]
     },
     "metadata": {},
     "execution_count": 403
    }
   ],
   "metadata": {
    "colab": {
     "base_uri": "https://localhost:8080/",
     "height": 102
    },
    "colab_type": "code",
    "id": "5A9SlJQvltpw",
    "outputId": "830c7107-c7ce-4cbc-c2d0-de6fa5c98781"
   }
  },
  {
   "cell_type": "markdown",
   "source": [
    "### Métodos\n",
    "\n",
    "https://numpy.org/doc/1.16/reference/arrays.ndarray.html#array-methods"
   ],
   "metadata": {
    "colab_type": "text",
    "id": "e9r6ryTrltpw"
   }
  },
  {
   "cell_type": "markdown",
   "source": [
    "## *ndarray.tolist()*\n",
    "\n",
    "Retorna o array como uma lista Python."
   ],
   "metadata": {
    "colab_type": "text",
    "id": "SR9KYy-0ltpw"
   }
  },
  {
   "cell_type": "code",
   "execution_count": 404,
   "source": [
    "dados.tolist()"
   ],
   "outputs": [
    {
     "output_type": "execute_result",
     "data": {
      "text/plain": [
       "[[44410.0, 5712.0, 37123.0, 0.0, 25757.0],\n",
       " [2003.0, 1991.0, 1990.0, 2019.0, 2006.0]]"
      ]
     },
     "metadata": {},
     "execution_count": 404
    }
   ],
   "metadata": {
    "colab": {
     "base_uri": "https://localhost:8080/",
     "height": 51
    },
    "colab_type": "code",
    "id": "C2aTAwOXltpw",
    "outputId": "fa7a9260-94dc-4a0e-f83f-2aaff67e864d"
   }
  },
  {
   "cell_type": "markdown",
   "source": [
    "## *ndarray.reshape(shape[, order])*\n",
    "\n",
    "Retorna um array que contém os mesmos dados com uma nova forma."
   ],
   "metadata": {
    "colab_type": "text",
    "id": "bHxcxugPltpx"
   }
  },
  {
   "cell_type": "code",
   "execution_count": 405,
   "source": [
    "contador = np.arange(10)\r\n",
    "contador"
   ],
   "outputs": [
    {
     "output_type": "execute_result",
     "data": {
      "text/plain": [
       "array([0, 1, 2, 3, 4, 5, 6, 7, 8, 9])"
      ]
     },
     "metadata": {},
     "execution_count": 405
    }
   ],
   "metadata": {
    "colab": {
     "base_uri": "https://localhost:8080/",
     "height": 34
    },
    "colab_type": "code",
    "id": "lwESxO71ltpx",
    "outputId": "25e45d80-e0ac-42d1-cb75-c284a7974264"
   }
  },
  {
   "cell_type": "code",
   "execution_count": 406,
   "source": [
    "contador.reshape((5, 2))"
   ],
   "outputs": [
    {
     "output_type": "execute_result",
     "data": {
      "text/plain": [
       "array([[0, 1],\n",
       "       [2, 3],\n",
       "       [4, 5],\n",
       "       [6, 7],\n",
       "       [8, 9]])"
      ]
     },
     "metadata": {},
     "execution_count": 406
    }
   ],
   "metadata": {
    "colab": {
     "base_uri": "https://localhost:8080/",
     "height": 102
    },
    "colab_type": "code",
    "id": "sh9poyfzltpy",
    "outputId": "749190d1-f59e-4e86-f134-46bc32af6400"
   }
  },
  {
   "cell_type": "code",
   "execution_count": 407,
   "source": [
    "contador.reshape((5, 2), order = 'C')\r\n"
   ],
   "outputs": [
    {
     "output_type": "execute_result",
     "data": {
      "text/plain": [
       "array([[0, 1],\n",
       "       [2, 3],\n",
       "       [4, 5],\n",
       "       [6, 7],\n",
       "       [8, 9]])"
      ]
     },
     "metadata": {},
     "execution_count": 407
    }
   ],
   "metadata": {
    "colab": {
     "base_uri": "https://localhost:8080/",
     "height": 102
    },
    "colab_type": "code",
    "id": "5332Xu8-ltpy",
    "outputId": "be1bd786-2632-4740-f356-1ece1681bad2"
   }
  },
  {
   "cell_type": "code",
   "execution_count": 408,
   "source": [
    "contador.reshape((5, 2), order='F')\r\n"
   ],
   "outputs": [
    {
     "output_type": "execute_result",
     "data": {
      "text/plain": [
       "array([[0, 5],\n",
       "       [1, 6],\n",
       "       [2, 7],\n",
       "       [3, 8],\n",
       "       [4, 9]])"
      ]
     },
     "metadata": {},
     "execution_count": 408
    }
   ],
   "metadata": {
    "colab": {
     "base_uri": "https://localhost:8080/",
     "height": 102
    },
    "colab_type": "code",
    "id": "2RoZvbgHltpz",
    "outputId": "00c856c5-6b66-4bba-9cae-54882c1fb729"
   }
  },
  {
   "cell_type": "code",
   "execution_count": 409,
   "source": [
    "km = [44410, 5712, 37123, 0, 25757]\r\n",
    "anos = [2003, 1991, 1990, 2019, 2006]"
   ],
   "outputs": [],
   "metadata": {
    "colab": {},
    "colab_type": "code",
    "id": "6q0dJZ-dltp0"
   }
  },
  {
   "cell_type": "code",
   "execution_count": 410,
   "source": [
    "info_carros = km + anos\r\n",
    "info_carros"
   ],
   "outputs": [
    {
     "output_type": "execute_result",
     "data": {
      "text/plain": [
       "[44410, 5712, 37123, 0, 25757, 2003, 1991, 1990, 2019, 2006]"
      ]
     },
     "metadata": {},
     "execution_count": 410
    }
   ],
   "metadata": {
    "colab": {
     "base_uri": "https://localhost:8080/",
     "height": 34
    },
    "colab_type": "code",
    "id": "bs56aGrkltp0",
    "outputId": "151668b5-b428-4139-a941-091203c8a827"
   }
  },
  {
   "cell_type": "code",
   "execution_count": 412,
   "source": [
    "np.array(info_carros).reshape((2, 5))"
   ],
   "outputs": [
    {
     "output_type": "execute_result",
     "data": {
      "text/plain": [
       "array([[44410,  5712, 37123,     0, 25757],\n",
       "       [ 2003,  1991,  1990,  2019,  2006]])"
      ]
     },
     "metadata": {},
     "execution_count": 412
    }
   ],
   "metadata": {
    "colab": {
     "base_uri": "https://localhost:8080/",
     "height": 51
    },
    "colab_type": "code",
    "id": "s_GkTk2fltp1",
    "outputId": "9e6b7037-8ec0-485d-fc38-c3189e728caf"
   }
  },
  {
   "cell_type": "code",
   "execution_count": 413,
   "source": [
    "np.array(info_carros).reshape((5, 2), order = 'F')\r\n"
   ],
   "outputs": [
    {
     "output_type": "execute_result",
     "data": {
      "text/plain": [
       "array([[44410,  2003],\n",
       "       [ 5712,  1991],\n",
       "       [37123,  1990],\n",
       "       [    0,  2019],\n",
       "       [25757,  2006]])"
      ]
     },
     "metadata": {},
     "execution_count": 413
    }
   ],
   "metadata": {
    "colab": {
     "base_uri": "https://localhost:8080/",
     "height": 102
    },
    "colab_type": "code",
    "id": "xodm8DVZltp1",
    "outputId": "7fe87021-3ac5-4e5b-cb64-c24739104564"
   }
  },
  {
   "cell_type": "markdown",
   "source": [
    "## *ndarray.resize(new_shape[, refcheck])*\n",
    "\n",
    "Altera a forma e o tamanho do array."
   ],
   "metadata": {
    "colab_type": "text",
    "id": "Tdj5iArbltp2"
   }
  },
  {
   "cell_type": "code",
   "execution_count": 414,
   "source": [
    "dados_new = dados.copy()\r\n",
    "dados_new"
   ],
   "outputs": [
    {
     "output_type": "execute_result",
     "data": {
      "text/plain": [
       "array([[44410.,  5712., 37123.,     0., 25757.],\n",
       "       [ 2003.,  1991.,  1990.,  2019.,  2006.]])"
      ]
     },
     "metadata": {},
     "execution_count": 414
    }
   ],
   "metadata": {
    "colab": {
     "base_uri": "https://localhost:8080/",
     "height": 51
    },
    "colab_type": "code",
    "id": "vB2zxCDtltp2",
    "outputId": "1709d905-c9b5-4365-9e40-08b422050b09"
   }
  },
  {
   "cell_type": "code",
   "execution_count": 416,
   "source": [
    "dados_new.resize((3, 5), refcheck = False)"
   ],
   "outputs": [],
   "metadata": {
    "colab": {},
    "colab_type": "code",
    "id": "IMv0m4Multp2"
   }
  },
  {
   "cell_type": "code",
   "execution_count": 417,
   "source": [
    "dados_new"
   ],
   "outputs": [
    {
     "output_type": "execute_result",
     "data": {
      "text/plain": [
       "array([[44410.,  5712., 37123.,     0., 25757.],\n",
       "       [ 2003.,  1991.,  1990.,  2019.,  2006.],\n",
       "       [    0.,     0.,     0.,     0.,     0.]])"
      ]
     },
     "metadata": {},
     "execution_count": 417
    }
   ],
   "metadata": {
    "colab": {
     "base_uri": "https://localhost:8080/",
     "height": 68
    },
    "colab_type": "code",
    "id": "wpAi9928ltp3",
    "outputId": "3e74adf2-de07-4f6b-e753-f2c8e352fbcf"
   }
  },
  {
   "cell_type": "code",
   "execution_count": 418,
   "source": [
    "dados_new[2] = dados_new[0] / (2019 - dados_new[1])"
   ],
   "outputs": [
    {
     "output_type": "stream",
     "name": "stderr",
     "text": [
      "<ipython-input-418-f9c7ebd2c682>:1: RuntimeWarning: invalid value encountered in true_divide\n",
      "  dados_new[2] = dados_new[0] / (2019 - dados_new[1])\n"
     ]
    }
   ],
   "metadata": {
    "colab": {
     "base_uri": "https://localhost:8080/",
     "height": 51
    },
    "colab_type": "code",
    "id": "CJyuKqaFltp3",
    "outputId": "aa61e9f3-ae59-4bae-80f7-7721129c6c83"
   }
  },
  {
   "cell_type": "code",
   "execution_count": 419,
   "source": [
    "dados_new"
   ],
   "outputs": [
    {
     "output_type": "execute_result",
     "data": {
      "text/plain": [
       "array([[44410.        ,  5712.        , 37123.        ,     0.        ,\n",
       "        25757.        ],\n",
       "       [ 2003.        ,  1991.        ,  1990.        ,  2019.        ,\n",
       "         2006.        ],\n",
       "       [ 2775.625     ,   204.        ,  1280.10344828,            nan,\n",
       "         1981.30769231]])"
      ]
     },
     "metadata": {},
     "execution_count": 419
    }
   ],
   "metadata": {
    "colab": {
     "base_uri": "https://localhost:8080/",
     "height": 119
    },
    "colab_type": "code",
    "id": "bj_iPZAultp4",
    "outputId": "89d42d11-ba8f-45f0-eae7-ef8cdcda706d"
   }
  },
  {
   "cell_type": "markdown",
   "source": [
    "# 5.5 Estatísticas com arrays Numpy\n",
    "\n",
    "https://numpy.org/doc/1.16/reference/arrays.ndarray.html#calculation\n",
    "\n",
    "e\n",
    "\n",
    "https://numpy.org/doc/1.16/reference/routines.statistics.html\n",
    "\n",
    "e\n",
    "\n",
    "https://numpy.org/doc/1.16/reference/routines.math.html"
   ],
   "metadata": {
    "colab_type": "text",
    "id": "GPSk7Q_Dltp4"
   }
  },
  {
   "cell_type": "code",
   "execution_count": 421,
   "source": [
    "anos = np.loadtxt(fname = \"carros-anos.txt\", dtype = int)\r\n",
    "km = np.loadtxt(fname = \"carros-km.txt\")\r\n",
    "valor = np.loadtxt(fname = \"carros-valor.txt\")"
   ],
   "outputs": [],
   "metadata": {
    "colab": {},
    "colab_type": "code",
    "id": "RH2u1orXltp5"
   }
  },
  {
   "cell_type": "code",
   "execution_count": 422,
   "source": [
    "anos.shape"
   ],
   "outputs": [
    {
     "output_type": "execute_result",
     "data": {
      "text/plain": [
       "(258,)"
      ]
     },
     "metadata": {},
     "execution_count": 422
    }
   ],
   "metadata": {
    "colab": {
     "base_uri": "https://localhost:8080/",
     "height": 34
    },
    "colab_type": "code",
    "id": "wbITF7r6ltp5",
    "outputId": "b8aa6e88-3d2a-4bd8-801b-211fd0cbc6eb"
   }
  },
  {
   "cell_type": "markdown",
   "source": [
    "https://numpy.org/doc/1.16/reference/generated/numpy.column_stack.html"
   ],
   "metadata": {
    "colab_type": "text",
    "id": "U_x3SOVDltp7"
   }
  },
  {
   "cell_type": "code",
   "execution_count": 424,
   "source": [
    "dataset = np.column_stack((anos, km, valor))\r\n",
    "dataset"
   ],
   "outputs": [
    {
     "output_type": "execute_result",
     "data": {
      "text/plain": [
       "array([[2.0030000e+03, 4.4410000e+04, 8.8078640e+04],\n",
       "       [1.9910000e+03, 5.7120000e+03, 1.0616194e+05],\n",
       "       [1.9900000e+03, 3.7123000e+04, 7.2832160e+04],\n",
       "       [2.0190000e+03, 0.0000000e+00, 1.2454907e+05],\n",
       "       [2.0060000e+03, 2.5757000e+04, 9.2612100e+04],\n",
       "       [2.0120000e+03, 1.0728000e+04, 9.7497730e+04],\n",
       "       [2.0190000e+03, 0.0000000e+00, 5.6445200e+04],\n",
       "       [2.0090000e+03, 7.7599000e+04, 1.1231044e+05],\n",
       "       [2.0100000e+03, 9.9197000e+04, 1.2071627e+05],\n",
       "       [2.0110000e+03, 3.7978000e+04, 7.6566490e+04],\n",
       "       [2.0020000e+03, 1.2859000e+04, 7.1647590e+04],\n",
       "       [2.0070000e+03, 8.0520000e+03, 7.3919530e+04],\n",
       "       [2.0010000e+03, 8.9773000e+04, 1.1273299e+05],\n",
       "       [2.0190000e+03, 0.0000000e+00, 5.3183380e+04],\n",
       "       [2.0090000e+03, 4.1457000e+04, 1.2748842e+05],\n",
       "       [2.0160000e+03, 1.1560700e+05, 5.9910400e+04],\n",
       "       [2.0120000e+03, 4.6449000e+04, 6.1118590e+04],\n",
       "       [2.0190000e+03, 0.0000000e+00, 8.8552390e+04],\n",
       "       [2.0160000e+03, 3.7086000e+04, 6.2696690e+04],\n",
       "       [2.0170000e+03, 1.5173000e+04, 1.0172630e+05],\n",
       "       [2.0020000e+03, 1.0119300e+05, 1.0614738e+05],\n",
       "       [2.0190000e+03, 0.0000000e+00, 9.4564400e+04],\n",
       "       [1.9940000e+03, 9.8079000e+04, 1.3352984e+05],\n",
       "       [1.9910000e+03, 1.0295900e+05, 1.2568465e+05],\n",
       "       [2.0190000e+03, 0.0000000e+00, 1.2159621e+05],\n",
       "       [2.0190000e+03, 0.0000000e+00, 7.1367100e+04],\n",
       "       [2.0160000e+03, 5.7950000e+03, 9.5347750e+04],\n",
       "       [2.0190000e+03, 0.0000000e+00, 1.0543284e+05],\n",
       "       [2.0020000e+03, 5.8848000e+04, 5.7045270e+04],\n",
       "       [1.9910000e+03, 9.4381000e+04, 1.2043270e+05],\n",
       "       [1.9970000e+03, 3.0163000e+04, 7.0707200e+04],\n",
       "       [1.9950000e+03, 5.3332000e+04, 6.9105180e+04],\n",
       "       [2.0180000e+03, 1.7720000e+04, 5.9358690e+04],\n",
       "       [1.9910000e+03, 3.3808000e+04, 6.5955400e+04],\n",
       "       [2.0140000e+03, 9.0684000e+04, 6.0017030e+04],\n",
       "       [1.9950000e+03, 4.3975000e+04, 1.1890952e+05],\n",
       "       [2.0190000e+03, 0.0000000e+00, 5.1606590e+04],\n",
       "       [2.0190000e+03, 0.0000000e+00, 1.2328187e+05],\n",
       "       [2.0090000e+03, 5.5260000e+03, 6.9770180e+04],\n",
       "       [2.0190000e+03, 0.0000000e+00, 1.0260954e+05],\n",
       "       [2.0130000e+03, 9.3415000e+04, 6.7997190e+04],\n",
       "       [2.0030000e+03, 4.0762000e+04, 1.3523529e+05],\n",
       "       [2.0190000e+03, 0.0000000e+00, 8.6641340e+04],\n",
       "       [2.0020000e+03, 8.6302000e+04, 1.3681839e+05],\n",
       "       [2.0190000e+03, 0.0000000e+00, 1.1762673e+05],\n",
       "       [2.0020000e+03, 9.7550000e+03, 5.6208700e+04],\n",
       "       [2.0040000e+03, 6.9945000e+04, 8.4222650e+04],\n",
       "       [2.0010000e+03, 2.3950000e+03, 9.0781650e+04],\n",
       "       [2.0190000e+03, 0.0000000e+00, 6.4701100e+04],\n",
       "       [2.0030000e+03, 8.0349000e+04, 1.2635049e+05],\n",
       "       [2.0090000e+03, 8.5554000e+04, 1.4815289e+05],\n",
       "       [2.0060000e+03, 5.0496000e+04, 1.3229883e+05],\n",
       "       [2.0000000e+03, 6.7716000e+04, 1.3762763e+05],\n",
       "       [2.0060000e+03, 9.3947000e+04, 8.0422710e+04],\n",
       "       [2.0100000e+03, 3.5345000e+04, 5.6373990e+04],\n",
       "       [1.9940000e+03, 8.1007000e+04, 7.0846030e+04],\n",
       "       [2.0070000e+03, 1.1951300e+05, 1.2869423e+05],\n",
       "       [2.0190000e+03, 0.0000000e+00, 1.3332919e+05],\n",
       "       [2.0190000e+03, 0.0000000e+00, 1.3196143e+05],\n",
       "       [2.0190000e+03, 0.0000000e+00, 1.1203327e+05],\n",
       "       [2.0190000e+03, 0.0000000e+00, 8.1399350e+04],\n",
       "       [2.0190000e+03, 0.0000000e+00, 9.7163100e+04],\n",
       "       [2.0170000e+03, 1.1889500e+05, 6.6007160e+04],\n",
       "       [2.0110000e+03, 4.8509000e+04, 1.2877622e+05],\n",
       "       [2.0010000e+03, 1.0091200e+05, 1.4262302e+05],\n",
       "       [1.9960000e+03, 9.5649000e+04, 1.3693013e+05],\n",
       "       [2.0190000e+03, 0.0000000e+00, 6.6526610e+04],\n",
       "       [1.9940000e+03, 9.0495000e+04, 1.1415487e+05],\n",
       "       [2.0190000e+03, 0.0000000e+00, 1.4239275e+05],\n",
       "       [2.0070000e+03, 2.9132000e+04, 1.4671691e+05],\n",
       "       [1.9940000e+03, 2.3802000e+04, 1.2248568e+05],\n",
       "       [2.0070000e+03, 8.4992000e+04, 9.7951030e+04],\n",
       "       [1.9970000e+03, 5.4395000e+04, 7.8283490e+04],\n",
       "       [2.0060000e+03, 2.6731000e+04, 8.3434040e+04],\n",
       "       [2.0130000e+03, 4.4329000e+04, 7.7836230e+04],\n",
       "       [1.9940000e+03, 1.1823600e+05, 6.0813920e+04],\n",
       "       [2.0080000e+03, 1.1380800e+05, 9.1353860e+04],\n",
       "       [2.0080000e+03, 6.1000000e+02, 1.1628121e+05],\n",
       "       [2.0190000e+03, 0.0000000e+00, 1.4519770e+05],\n",
       "       [2.0190000e+03, 0.0000000e+00, 5.0742100e+04],\n",
       "       [1.9990000e+03, 1.2887000e+04, 7.3033530e+04],\n",
       "       [2.0070000e+03, 7.9607000e+04, 5.4332870e+04],\n",
       "       [1.9930000e+03, 9.0924000e+04, 5.2207450e+04],\n",
       "       [1.9950000e+03, 4.2733000e+04, 6.3578500e+04],\n",
       "       [2.0190000e+03, 0.0000000e+00, 6.4507720e+04],\n",
       "       [2.0190000e+03, 0.0000000e+00, 1.1507559e+05],\n",
       "       [2.0160000e+03, 1.1771400e+05, 1.3303060e+05],\n",
       "       [2.0110000e+03, 1.1388500e+05, 1.4159186e+05],\n",
       "       [2.0190000e+03, 0.0000000e+00, 1.0038028e+05],\n",
       "       [2.0020000e+03, 3.0511000e+04, 9.6369040e+04],\n",
       "       [2.0130000e+03, 7.4867000e+04, 1.4260384e+05],\n",
       "       [2.0170000e+03, 1.1976000e+05, 1.1770967e+05],\n",
       "       [2.0160000e+03, 8.3560000e+03, 1.0224154e+05],\n",
       "       [2.0080000e+03, 6.4247000e+04, 9.6065380e+04],\n",
       "       [2.0180000e+03, 8.8661000e+04, 5.3894610e+04],\n",
       "       [2.0030000e+03, 4.5390000e+03, 1.2391178e+05],\n",
       "       [2.0030000e+03, 1.1011600e+05, 1.0199635e+05],\n",
       "       [2.0040000e+03, 3.3215000e+04, 8.3431660e+04],\n",
       "       [2.0100000e+03, 9.2001000e+04, 1.2297563e+05],\n",
       "       [2.0190000e+03, 0.0000000e+00, 9.3227730e+04],\n",
       "       [2.0060000e+03, 8.1708000e+04, 5.8762650e+04],\n",
       "       [2.0010000e+03, 7.0641000e+04, 1.3954967e+05],\n",
       "       [2.0190000e+03, 0.0000000e+00, 1.2201642e+05],\n",
       "       [2.0150000e+03, 9.1277000e+04, 7.2731980e+04],\n",
       "       [2.0180000e+03, 2.6544000e+04, 8.8416540e+04],\n",
       "       [2.0170000e+03, 5.2596000e+04, 7.3873420e+04],\n",
       "       [1.9920000e+03, 4.7503000e+04, 7.0709340e+04],\n",
       "       [2.0010000e+03, 8.9056000e+04, 1.1530650e+05],\n",
       "       [1.9930000e+03, 2.8834000e+04, 5.5924630e+04],\n",
       "       [1.9950000e+03, 1.1056400e+05, 8.5052260e+04],\n",
       "       [2.0030000e+03, 5.6638000e+04, 5.6646340e+04],\n",
       "       [2.0140000e+03, 1.7357000e+04, 1.3894688e+05],\n",
       "       [2.0080000e+03, 7.4015000e+04, 1.0825672e+05],\n",
       "       [2.0130000e+03, 1.5196000e+04, 5.8979300e+04],\n",
       "       [2.0190000e+03, 0.0000000e+00, 1.1472768e+05],\n",
       "       [2.0170000e+03, 1.0821000e+04, 1.3966148e+05],\n",
       "       [2.0190000e+03, 0.0000000e+00, 8.0382240e+04],\n",
       "       [2.0190000e+03, 0.0000000e+00, 1.4915717e+05],\n",
       "       [2.0060000e+03, 9.5950000e+03, 8.7830410e+04],\n",
       "       [2.0150000e+03, 9.9052000e+04, 1.4356822e+05],\n",
       "       [2.0070000e+03, 5.2389000e+04, 1.3817185e+05],\n",
       "       [2.0050000e+03, 1.1994500e+05, 1.1578495e+05],\n",
       "       [2.0170000e+03, 9.6005000e+04, 1.4650899e+05],\n",
       "       [1.9980000e+03, 3.1639000e+04, 1.3767023e+05],\n",
       "       [2.0190000e+03, 0.0000000e+00, 1.3859727e+05],\n",
       "       [1.9990000e+03, 8.0187000e+04, 1.4762781e+05],\n",
       "       [2.0190000e+03, 0.0000000e+00, 6.2999020e+04],\n",
       "       [2.0090000e+03, 5.8212000e+04, 9.1242440e+04],\n",
       "       [2.0030000e+03, 6.1672000e+04, 1.4948992e+05],\n",
       "       [1.9940000e+03, 3.2017000e+04, 6.3529950e+04],\n",
       "       [2.0190000e+03, 0.0000000e+00, 5.8525410e+04],\n",
       "       [1.9940000e+03, 5.6944000e+04, 9.0345050e+04],\n",
       "       [2.0190000e+03, 0.0000000e+00, 1.4777087e+05],\n",
       "       [2.0150000e+03, 8.6519000e+04, 1.0661771e+05],\n",
       "       [1.9960000e+03, 4.8210000e+03, 1.0492988e+05],\n",
       "       [1.9970000e+03, 1.0102500e+05, 1.0071245e+05],\n",
       "       [1.9930000e+03, 3.0705000e+04, 1.4198293e+05],\n",
       "       [2.0190000e+03, 0.0000000e+00, 1.0403879e+05],\n",
       "       [1.9920000e+03, 3.2555000e+04, 8.8501540e+04],\n",
       "       [1.9950000e+03, 1.0338900e+05, 7.9782020e+04],\n",
       "       [2.0190000e+03, 0.0000000e+00, 8.6224100e+04],\n",
       "       [1.9900000e+03, 5.5289000e+04, 1.0359618e+05],\n",
       "       [2.0190000e+03, 0.0000000e+00, 1.4899647e+05],\n",
       "       [2.0190000e+03, 0.0000000e+00, 6.0948010e+04],\n",
       "       [1.9910000e+03, 1.1593000e+05, 6.9535440e+04],\n",
       "       [1.9900000e+03, 6.6437000e+04, 1.1113033e+05],\n",
       "       [2.0120000e+03, 9.6800000e+04, 6.5847690e+04],\n",
       "       [2.0070000e+03, 1.4237000e+04, 7.8096060e+04],\n",
       "       [2.0130000e+03, 1.9896000e+04, 6.9219890e+04],\n",
       "       [2.0000000e+03, 1.1304500e+05, 1.4411891e+05],\n",
       "       [2.0020000e+03, 1.1494200e+05, 7.7397050e+04],\n",
       "       [1.9960000e+03, 3.1730000e+03, 6.8974250e+04],\n",
       "       [1.9960000e+03, 8.3611000e+04, 1.2523130e+05],\n",
       "       [2.0150000e+03, 2.5356000e+04, 8.5501120e+04],\n",
       "       [1.9930000e+03, 8.8634000e+04, 1.3711621e+05],\n",
       "       [2.0130000e+03, 2.3140000e+03, 1.3882381e+05],\n",
       "       [2.0130000e+03, 2.6270000e+03, 1.1796195e+05],\n",
       "       [2.0090000e+03, 5.2034000e+04, 1.3266232e+05],\n",
       "       [2.0190000e+03, 0.0000000e+00, 1.4640579e+05],\n",
       "       [2.0190000e+03, 0.0000000e+00, 8.1999210e+04],\n",
       "       [2.0020000e+03, 7.9577000e+04, 1.4093460e+05],\n",
       "       [1.9970000e+03, 1.0820100e+05, 8.2366810e+04],\n",
       "       [1.9980000e+03, 7.6453000e+04, 7.0424110e+04],\n",
       "       [2.0040000e+03, 5.7683000e+04, 5.3620310e+04],\n",
       "       [1.9960000e+03, 9.6610000e+04, 7.3389180e+04],\n",
       "       [2.0150000e+03, 1.0900100e+05, 1.1161812e+05],\n",
       "       [2.0160000e+03, 2.6212000e+04, 1.1218737e+05],\n",
       "       [2.0050000e+03, 4.5971000e+04, 1.2081257e+05],\n",
       "       [1.9990000e+03, 4.9182000e+04, 1.1603104e+05],\n",
       "       [1.9950000e+03, 4.9907000e+04, 1.2539811e+05],\n",
       "       [1.9930000e+03, 3.8620000e+04, 7.6101470e+04],\n",
       "       [2.0040000e+03, 6.0996000e+04, 7.5263240e+04],\n",
       "       [2.0130000e+03, 7.3914000e+04, 1.4738776e+05],\n",
       "       [1.9980000e+03, 1.0739200e+05, 8.5311400e+04],\n",
       "       [2.0180000e+03, 9.1460000e+03, 5.4388110e+04],\n",
       "       [2.0190000e+03, 0.0000000e+00, 1.2415665e+05],\n",
       "       [2.0180000e+03, 1.7924000e+04, 1.4620334e+05],\n",
       "       [2.0190000e+03, 0.0000000e+00, 5.6453940e+04],\n",
       "       [1.9900000e+03, 1.1694900e+05, 6.8873790e+04],\n",
       "       [2.0090000e+03, 2.0476000e+04, 9.1667610e+04],\n",
       "       [1.9900000e+03, 5.2804000e+04, 9.3776520e+04],\n",
       "       [2.0060000e+03, 8.8490000e+03, 6.6433820e+04],\n",
       "       [2.0020000e+03, 9.1724000e+04, 1.0905927e+05],\n",
       "       [1.9910000e+03, 3.2056000e+04, 1.2206997e+05],\n",
       "       [1.9920000e+03, 7.4886000e+04, 1.1309032e+05],\n",
       "       [2.0190000e+03, 0.0000000e+00, 8.9401100e+04],\n",
       "       [2.0190000e+03, 0.0000000e+00, 5.6842790e+04],\n",
       "       [2.0050000e+03, 5.2189000e+04, 1.4667671e+05],\n",
       "       [2.0100000e+03, 8.3559000e+04, 8.9511960e+04],\n",
       "       [2.0190000e+03, 0.0000000e+00, 9.7290180e+04],\n",
       "       [2.0160000e+03, 2.0328000e+04, 1.2067356e+05],\n",
       "       [2.0190000e+03, 0.0000000e+00, 1.1443494e+05],\n",
       "       [2.0100000e+03, 7.5577000e+04, 1.3954669e+05],\n",
       "       [1.9940000e+03, 3.3659000e+04, 9.5078160e+04],\n",
       "       [2.0010000e+03, 1.0434100e+05, 6.8091770e+04],\n",
       "       [2.0140000e+03, 2.5510000e+04, 6.1496970e+04],\n",
       "       [1.9960000e+03, 1.8965000e+04, 1.3966930e+05],\n",
       "       [1.9930000e+03, 8.7161000e+04, 8.0661390e+04],\n",
       "       [1.9930000e+03, 6.6520000e+03, 6.1783650e+04],\n",
       "       [2.0010000e+03, 5.5738000e+04, 5.2805910e+04],\n",
       "       [2.0190000e+03, 0.0000000e+00, 1.2702475e+05],\n",
       "       [2.0190000e+03, 0.0000000e+00, 1.3554300e+05],\n",
       "       [2.0190000e+03, 0.0000000e+00, 1.2170873e+05],\n",
       "       [2.0070000e+03, 6.4320000e+04, 1.0734268e+05],\n",
       "       [2.0190000e+03, 0.0000000e+00, 5.7888100e+04],\n",
       "       [2.0160000e+03, 6.8678000e+04, 1.1816148e+05],\n",
       "       [2.0140000e+03, 7.1697000e+04, 1.4249906e+05],\n",
       "       [2.0190000e+03, 0.0000000e+00, 1.2839611e+05],\n",
       "       [2.0150000e+03, 3.4783000e+04, 1.1235061e+05],\n",
       "       [2.0150000e+03, 3.3772000e+04, 1.2466138e+05],\n",
       "       [1.9960000e+03, 8.5127000e+04, 5.4263160e+04],\n",
       "       [2.0020000e+03, 1.3606000e+04, 6.2041320e+04],\n",
       "       [2.0050000e+03, 3.5647000e+04, 1.2929611e+05],\n",
       "       [1.9950000e+03, 9.5128000e+04, 6.0998330e+04],\n",
       "       [1.9990000e+03, 1.4046000e+04, 5.8008500e+04],\n",
       "       [2.0050000e+03, 4.1194000e+04, 8.2304190e+04],\n",
       "       [2.0190000e+03, 0.0000000e+00, 1.1453174e+05],\n",
       "       [1.9970000e+03, 9.6100000e+04, 1.2856561e+05],\n",
       "       [1.9900000e+03, 1.0390000e+05, 1.2648826e+05],\n",
       "       [2.0010000e+03, 4.3814000e+04, 1.1907455e+05],\n",
       "       [2.0130000e+03, 2.4638000e+04, 1.3023804e+05],\n",
       "       [2.0190000e+03, 0.0000000e+00, 1.1576017e+05],\n",
       "       [2.0170000e+03, 1.1096600e+05, 1.2124800e+05],\n",
       "       [2.0110000e+03, 1.5987000e+04, 9.8156350e+04],\n",
       "       [2.0050000e+03, 5.3369000e+04, 1.1214680e+05],\n",
       "       [2.0070000e+03, 1.0077000e+04, 1.0272963e+05],\n",
       "       [1.9930000e+03, 7.1544000e+04, 1.4108335e+05],\n",
       "       [1.9910000e+03, 1.0700000e+02, 1.0296876e+05],\n",
       "       [1.9910000e+03, 8.3940000e+03, 7.6310010e+04],\n",
       "       [1.9970000e+03, 4.1498000e+04, 1.2048174e+05],\n",
       "       [2.0000000e+03, 1.1600200e+05, 5.4559180e+04],\n",
       "       [2.0070000e+03, 1.0085800e+05, 9.2957640e+04],\n",
       "       [2.0060000e+03, 6.7475000e+04, 1.2781006e+05],\n",
       "       [2.0150000e+03, 8.4970000e+03, 7.3311750e+04],\n",
       "       [2.0080000e+03, 4.4200000e+03, 6.5138030e+04],\n",
       "       [2.0190000e+03, 0.0000000e+00, 9.0141470e+04],\n",
       "       [1.9960000e+03, 5.8537000e+04, 7.1160360e+04],\n",
       "       [2.0190000e+03, 0.0000000e+00, 6.7539790e+04],\n",
       "       [2.0190000e+03, 0.0000000e+00, 6.7664860e+04],\n",
       "       [2.0140000e+03, 1.1201600e+05, 6.8652160e+04],\n",
       "       [2.0040000e+03, 9.1840000e+04, 1.1472874e+05],\n",
       "       [2.0080000e+03, 1.1278700e+05, 1.4164508e+05],\n",
       "       [2.0190000e+03, 0.0000000e+00, 1.2624784e+05],\n",
       "       [2.0190000e+03, 0.0000000e+00, 1.2885221e+05],\n",
       "       [2.0120000e+03, 9.2930000e+03, 1.3238476e+05],\n",
       "       [2.0190000e+03, 0.0000000e+00, 1.2941533e+05],\n",
       "       [1.9960000e+03, 5.5083000e+04, 8.9536820e+04],\n",
       "       [2.0110000e+03, 4.8796000e+04, 8.7975300e+04],\n",
       "       [2.0190000e+03, 0.0000000e+00, 7.7675790e+04],\n",
       "       [2.0100000e+03, 8.9685000e+04, 5.8881670e+04],\n",
       "       [2.0070000e+03, 8.5384000e+04, 5.5081990e+04],\n",
       "       [1.9940000e+03, 9.8108000e+04, 1.1882644e+05],\n",
       "       [2.0070000e+03, 7.1280000e+04, 1.3762762e+05],\n",
       "       [2.0140000e+03, 2.7505000e+04, 5.1759580e+04],\n",
       "       [1.9910000e+03, 2.9981000e+04, 5.1667060e+04],\n",
       "       [2.0020000e+03, 5.2637000e+04, 6.8934030e+04],\n",
       "       [1.9960000e+03, 7.6850000e+03, 1.2211090e+05],\n",
       "       [1.9920000e+03, 5.0188000e+04, 9.0381470e+04]])"
      ]
     },
     "metadata": {},
     "execution_count": 424
    }
   ],
   "metadata": {
    "colab": {
     "base_uri": "https://localhost:8080/",
     "height": 1000
    },
    "colab_type": "code",
    "id": "wefxl-XBltp8",
    "outputId": "7d31e768-4d29-4c2e-8893-0b71f1bf1da1"
   }
  },
  {
   "cell_type": "code",
   "execution_count": 427,
   "source": [
    "dataset.shape"
   ],
   "outputs": [
    {
     "output_type": "execute_result",
     "data": {
      "text/plain": [
       "(258, 3)"
      ]
     },
     "metadata": {},
     "execution_count": 427
    }
   ],
   "metadata": {
    "colab": {
     "base_uri": "https://localhost:8080/",
     "height": 34
    },
    "colab_type": "code",
    "id": "OzDTTmj8ltp_",
    "outputId": "ab5c3112-2b74-4adb-8129-6efecc5a0856",
    "scrolled": true
   }
  },
  {
   "cell_type": "markdown",
   "source": [
    "## *np.mean()*\n",
    "\n",
    "Retorna a média dos elementos do array ao longo do eixo especificado."
   ],
   "metadata": {
    "colab_type": "text",
    "id": "Me6yUU_RltqA"
   }
  },
  {
   "cell_type": "code",
   "execution_count": 430,
   "source": [
    "np.mean(dataset, axis = 0)"
   ],
   "outputs": [
    {
     "output_type": "execute_result",
     "data": {
      "text/plain": [
       "array([ 2007.51162791, 44499.41472868, 98960.51310078])"
      ]
     },
     "metadata": {},
     "execution_count": 430
    }
   ],
   "metadata": {
    "colab": {
     "base_uri": "https://localhost:8080/",
     "height": 34
    },
    "colab_type": "code",
    "id": "MNEKcP38ltqA",
    "outputId": "b88f235c-a375-44c8-b30c-2c7b9a176714"
   }
  },
  {
   "cell_type": "code",
   "execution_count": null,
   "source": [
    "np.mean(dataset, axis=1)"
   ],
   "outputs": [],
   "metadata": {
    "colab": {
     "base_uri": "https://localhost:8080/",
     "height": 1000
    },
    "colab_type": "code",
    "id": "sekHQ84zltqB",
    "outputId": "80164c3a-6f6b-4774-dc17-88930e1fac58"
   }
  },
  {
   "cell_type": "code",
   "execution_count": 432,
   "source": [
    "np.mean(dataset[:, 1])"
   ],
   "outputs": [
    {
     "output_type": "execute_result",
     "data": {
      "text/plain": [
       "44499.41472868217"
      ]
     },
     "metadata": {},
     "execution_count": 432
    }
   ],
   "metadata": {
    "colab": {
     "base_uri": "https://localhost:8080/",
     "height": 34
    },
    "colab_type": "code",
    "id": "RpyETIVSltqC",
    "outputId": "3c4da336-d239-42c6-b818-6a6f997a618c"
   }
  },
  {
   "cell_type": "code",
   "execution_count": 433,
   "source": [
    "np.mean(dataset[:, 2])\r\n"
   ],
   "outputs": [
    {
     "output_type": "execute_result",
     "data": {
      "text/plain": [
       "98960.51310077519"
      ]
     },
     "metadata": {},
     "execution_count": 433
    }
   ],
   "metadata": {
    "colab": {
     "base_uri": "https://localhost:8080/",
     "height": 34
    },
    "colab_type": "code",
    "id": "_-kpcTI8ltqD",
    "outputId": "e238f752-2fd6-4a07-c50a-1a4c937f45da",
    "scrolled": true
   }
  },
  {
   "cell_type": "markdown",
   "source": [
    "## *np.std()*\n",
    "\n",
    "Retorna o desvio padrão dos elementos do array ao longo do eixo especificado."
   ],
   "metadata": {
    "colab_type": "text",
    "id": "71jViVBUltqE"
   }
  },
  {
   "cell_type": "code",
   "execution_count": 435,
   "source": [
    "np.std(dataset[:, 2])\r\n"
   ],
   "outputs": [
    {
     "output_type": "execute_result",
     "data": {
      "text/plain": [
       "29754.101150388564"
      ]
     },
     "metadata": {},
     "execution_count": 435
    }
   ],
   "metadata": {
    "colab": {
     "base_uri": "https://localhost:8080/",
     "height": 34
    },
    "colab_type": "code",
    "id": "lEwUbPx2ltqE",
    "outputId": "50758772-5a03-4041-e067-5208434654cd",
    "scrolled": true
   }
  },
  {
   "cell_type": "markdown",
   "source": [
    "## *ndarray.sum()*\n",
    "\n",
    "Retorna a soma dos elementos do array ao longo do eixo especificado."
   ],
   "metadata": {
    "colab_type": "text",
    "id": "JTUH-vAeltqG"
   }
  },
  {
   "cell_type": "code",
   "execution_count": 436,
   "source": [
    "dataset.sum(axis = 0)"
   ],
   "outputs": [
    {
     "output_type": "execute_result",
     "data": {
      "text/plain": [
       "array([  517938.        , 11480849.        , 25531812.37999999])"
      ]
     },
     "metadata": {},
     "execution_count": 436
    }
   ],
   "metadata": {
    "colab": {
     "base_uri": "https://localhost:8080/",
     "height": 34
    },
    "colab_type": "code",
    "id": "jIi3yoaWltqG",
    "outputId": "74d5043b-9e9d-4231-bf71-a8d127df0fa8"
   }
  },
  {
   "cell_type": "code",
   "execution_count": 437,
   "source": [
    "dataset[:, 1].sum()"
   ],
   "outputs": [
    {
     "output_type": "execute_result",
     "data": {
      "text/plain": [
       "11480849.0"
      ]
     },
     "metadata": {},
     "execution_count": 437
    }
   ],
   "metadata": {
    "colab": {
     "base_uri": "https://localhost:8080/",
     "height": 34
    },
    "colab_type": "code",
    "id": "X3QYbdYLltqH",
    "outputId": "c5baaa9e-a26c-4baf-844c-0dbeaddf2c05"
   }
  },
  {
   "cell_type": "markdown",
   "source": [
    "## *np.sum()*\n",
    "\n",
    "Retorna a soma dos elementos do array ao longo do eixo especificado."
   ],
   "metadata": {
    "colab_type": "text",
    "id": "WbBD5ixaltqH"
   }
  },
  {
   "cell_type": "code",
   "execution_count": 438,
   "source": [
    "np.sum(dataset, axis = 0)"
   ],
   "outputs": [
    {
     "output_type": "execute_result",
     "data": {
      "text/plain": [
       "array([  517938.        , 11480849.        , 25531812.37999999])"
      ]
     },
     "metadata": {},
     "execution_count": 438
    }
   ],
   "metadata": {
    "colab": {
     "base_uri": "https://localhost:8080/",
     "height": 34
    },
    "colab_type": "code",
    "id": "omB6kgWgltqH",
    "outputId": "dc6ccc67-663e-4960-fcb6-7679473254d6"
   }
  },
  {
   "cell_type": "code",
   "execution_count": 439,
   "source": [
    "np.sum(dataset[:, 2])"
   ],
   "outputs": [
    {
     "output_type": "execute_result",
     "data": {
      "text/plain": [
       "25531812.38"
      ]
     },
     "metadata": {},
     "execution_count": 439
    }
   ],
   "metadata": {
    "colab": {
     "base_uri": "https://localhost:8080/",
     "height": 34
    },
    "colab_type": "code",
    "id": "LiD4G3kQltqI",
    "outputId": "7f4a5b05-15fe-45dc-b4fa-3bd405ccea45"
   }
  },
  {
   "cell_type": "code",
   "execution_count": null,
   "source": [],
   "outputs": [],
   "metadata": {
    "colab": {},
    "colab_type": "code",
    "id": "kpakpnntltqJ"
   }
  }
 ],
 "metadata": {
  "colab": {
   "name": "Python_para_Data_Science_Numpy.ipynb",
   "provenance": [],
   "toc_visible": true
  },
  "kernelspec": {
   "name": "python3",
   "display_name": "Python 3.8.5 64-bit"
  },
  "language_info": {
   "codemirror_mode": {
    "name": "ipython",
    "version": 3
   },
   "file_extension": ".py",
   "mimetype": "text/x-python",
   "name": "python",
   "nbconvert_exporter": "python",
   "pygments_lexer": "ipython3",
   "version": "3.8.5"
  },
  "interpreter": {
   "hash": "a707b6ce8c685eb936424fcc3009d4b4b7a52543c4db09380a3fc49186ceb509"
  }
 },
 "nbformat": 4,
 "nbformat_minor": 1
}