{
  "cells": [
    {
      "cell_type": "markdown",
      "metadata": {
        "colab_type": "text",
        "id": "W4bTJkJED0-t"
      },
      "source": [
        "# <font color=green> PYTHON PARA DATA SCIENCE - PANDAS\n",
        "---"
      ]
    },
    {
      "cell_type": "markdown",
      "metadata": {
        "colab_type": "text",
        "id": "GOEcCc62D0-x"
      },
      "source": [
        "# <font color=green> 1. INTRODUÇÃO AO PYTHON\n",
        "---"
      ]
    },
    {
      "cell_type": "markdown",
      "metadata": {
        "colab_type": "text",
        "id": "oGvoOJ-XD0-y"
      },
      "source": [
        "# 1.1 Introdução"
      ]
    },
    {
      "cell_type": "markdown",
      "metadata": {
        "colab_type": "text",
        "id": "fam3BM0aD0-z"
      },
      "source": [
        "> Python é uma linguagem de programação de alto nível com suporte a múltiplos paradigmas de programação. É um projeto *open source* e desde seu surgimento, em 1991, vem se tornando uma das linguagens de programação interpretadas mais populares. \n",
        ">\n",
        "> Nos últimos anos Python desenvolveu uma comunidade ativa de processamento científico e análise de dados e vem se destacando como uma das linguagens mais relevantes quando o assundo é ciência de dados e machine learning, tanto no ambiente acadêmico como também no mercado."
      ]
    },
    {
      "cell_type": "markdown",
      "metadata": {
        "colab_type": "text",
        "id": "6kH5DY-vD0-1"
      },
      "source": [
        "# 1.2 Instalação e ambiente de desenvolvimento"
      ]
    },
    {
      "cell_type": "markdown",
      "metadata": {
        "colab_type": "text",
        "id": "BTpm79I2D0-2"
      },
      "source": [
        "### Instalação Local\n",
        "\n",
        "### https://www.python.org/downloads/\n",
        "### ou\n",
        "### https://www.anaconda.com/distribution/"
      ]
    },
    {
      "cell_type": "markdown",
      "metadata": {
        "colab_type": "text",
        "id": "AuPS_XwRD0-3"
      },
      "source": [
        "### Google Colaboratory\n",
        "\n",
        "### https://colab.research.google.com"
      ]
    },
    {
      "cell_type": "markdown",
      "metadata": {
        "colab_type": "text",
        "id": "4rUYsPrXD0-4"
      },
      "source": [
        "### Verificando versão"
      ]
    },
    {
      "cell_type": "code",
      "execution_count": 1,
      "metadata": {
        "colab": {},
        "colab_type": "code",
        "id": "PgTCVRB2D0-5"
      },
      "outputs": [
        {
          "name": "stdout",
          "output_type": "stream",
          "text": [
            "Python 3.8.5\n"
          ]
        }
      ],
      "source": [
        "!python -V"
      ]
    },
    {
      "cell_type": "markdown",
      "metadata": {
        "colab_type": "text",
        "id": "lTtI6so4D0-9"
      },
      "source": [
        "# 1.3 Trabalhando com dados"
      ]
    },
    {
      "cell_type": "code",
      "execution_count": 2,
      "metadata": {
        "colab": {},
        "colab_type": "code",
        "id": "E_n4FUUWD0-9"
      },
      "outputs": [],
      "source": [
        "import pandas as pd\n",
        "#pd.set_option('display.max_rows', 10)\n",
        "#pd.set_option('display.max_columns', 1000)\n"
      ]
    },
    {
      "cell_type": "code",
      "execution_count": 3,
      "metadata": {
        "colab": {},
        "colab_type": "code",
        "id": "Kq-JdRHFD0-_"
      },
      "outputs": [],
      "source": [
        "dataset = pd.read_csv('db.csv', sep = ';')"
      ]
    },
    {
      "cell_type": "code",
      "execution_count": 4,
      "metadata": {
        "colab": {},
        "colab_type": "code",
        "id": "mOV1rCA6D0_A",
        "scrolled": true
      },
      "outputs": [
        {
          "data": {
            "text/html": [
              "<div>\n",
              "<style scoped>\n",
              "    .dataframe tbody tr th:only-of-type {\n",
              "        vertical-align: middle;\n",
              "    }\n",
              "\n",
              "    .dataframe tbody tr th {\n",
              "        vertical-align: top;\n",
              "    }\n",
              "\n",
              "    .dataframe thead th {\n",
              "        text-align: right;\n",
              "    }\n",
              "</style>\n",
              "<table border=\"1\" class=\"dataframe\">\n",
              "  <thead>\n",
              "    <tr style=\"text-align: right;\">\n",
              "      <th></th>\n",
              "      <th>Nome</th>\n",
              "      <th>Motor</th>\n",
              "      <th>Ano</th>\n",
              "      <th>Quilometragem</th>\n",
              "      <th>Zero_km</th>\n",
              "      <th>Acessórios</th>\n",
              "      <th>Valor</th>\n",
              "    </tr>\n",
              "  </thead>\n",
              "  <tbody>\n",
              "    <tr>\n",
              "      <th>0</th>\n",
              "      <td>Jetta Variant</td>\n",
              "      <td>Motor 4.0 Turbo</td>\n",
              "      <td>2003</td>\n",
              "      <td>44410.0</td>\n",
              "      <td>False</td>\n",
              "      <td>['Rodas de liga', 'Travas elétricas', 'Piloto ...</td>\n",
              "      <td>88078.64</td>\n",
              "    </tr>\n",
              "    <tr>\n",
              "      <th>1</th>\n",
              "      <td>Passat</td>\n",
              "      <td>Motor Diesel</td>\n",
              "      <td>1991</td>\n",
              "      <td>5712.0</td>\n",
              "      <td>False</td>\n",
              "      <td>['Central multimídia', 'Teto panorâmico', 'Fre...</td>\n",
              "      <td>106161.94</td>\n",
              "    </tr>\n",
              "    <tr>\n",
              "      <th>2</th>\n",
              "      <td>Crossfox</td>\n",
              "      <td>Motor Diesel V8</td>\n",
              "      <td>1990</td>\n",
              "      <td>37123.0</td>\n",
              "      <td>False</td>\n",
              "      <td>['Piloto automático', 'Controle de estabilidad...</td>\n",
              "      <td>72832.16</td>\n",
              "    </tr>\n",
              "    <tr>\n",
              "      <th>3</th>\n",
              "      <td>DS5</td>\n",
              "      <td>Motor 2.4 Turbo</td>\n",
              "      <td>2019</td>\n",
              "      <td>NaN</td>\n",
              "      <td>True</td>\n",
              "      <td>['Travas elétricas', '4 X 4', 'Vidros elétrico...</td>\n",
              "      <td>124549.07</td>\n",
              "    </tr>\n",
              "    <tr>\n",
              "      <th>4</th>\n",
              "      <td>Aston Martin DB4</td>\n",
              "      <td>Motor 2.4 Turbo</td>\n",
              "      <td>2006</td>\n",
              "      <td>25757.0</td>\n",
              "      <td>False</td>\n",
              "      <td>['Rodas de liga', '4 X 4', 'Central multimídia...</td>\n",
              "      <td>92612.10</td>\n",
              "    </tr>\n",
              "    <tr>\n",
              "      <th>...</th>\n",
              "      <td>...</td>\n",
              "      <td>...</td>\n",
              "      <td>...</td>\n",
              "      <td>...</td>\n",
              "      <td>...</td>\n",
              "      <td>...</td>\n",
              "      <td>...</td>\n",
              "    </tr>\n",
              "    <tr>\n",
              "      <th>253</th>\n",
              "      <td>Phantom 2013</td>\n",
              "      <td>Motor V8</td>\n",
              "      <td>2014</td>\n",
              "      <td>27505.0</td>\n",
              "      <td>False</td>\n",
              "      <td>['Controle de estabilidade', 'Piloto automátic...</td>\n",
              "      <td>51759.58</td>\n",
              "    </tr>\n",
              "    <tr>\n",
              "      <th>254</th>\n",
              "      <td>Cadillac Ciel concept</td>\n",
              "      <td>Motor V8</td>\n",
              "      <td>1991</td>\n",
              "      <td>29981.0</td>\n",
              "      <td>False</td>\n",
              "      <td>['Bancos de couro', 'Painel digital', 'Sensor ...</td>\n",
              "      <td>51667.06</td>\n",
              "    </tr>\n",
              "    <tr>\n",
              "      <th>255</th>\n",
              "      <td>Classe GLK</td>\n",
              "      <td>Motor 5.0 V8 Bi-Turbo</td>\n",
              "      <td>2002</td>\n",
              "      <td>52637.0</td>\n",
              "      <td>False</td>\n",
              "      <td>['Rodas de liga', 'Controle de tração', 'Câmbi...</td>\n",
              "      <td>68934.03</td>\n",
              "    </tr>\n",
              "    <tr>\n",
              "      <th>256</th>\n",
              "      <td>Aston Martin DB5</td>\n",
              "      <td>Motor Diesel</td>\n",
              "      <td>1996</td>\n",
              "      <td>7685.0</td>\n",
              "      <td>False</td>\n",
              "      <td>['Ar condicionado', '4 X 4', 'Câmbio automátic...</td>\n",
              "      <td>122110.90</td>\n",
              "    </tr>\n",
              "    <tr>\n",
              "      <th>257</th>\n",
              "      <td>Macan</td>\n",
              "      <td>Motor Diesel V6</td>\n",
              "      <td>1992</td>\n",
              "      <td>50188.0</td>\n",
              "      <td>False</td>\n",
              "      <td>['Central multimídia', 'Teto panorâmico', 'Vid...</td>\n",
              "      <td>90381.47</td>\n",
              "    </tr>\n",
              "  </tbody>\n",
              "</table>\n",
              "<p>258 rows × 7 columns</p>\n",
              "</div>"
            ],
            "text/plain": [
              "                      Nome                  Motor   Ano  Quilometragem  \\\n",
              "0            Jetta Variant        Motor 4.0 Turbo  2003        44410.0   \n",
              "1                   Passat           Motor Diesel  1991         5712.0   \n",
              "2                 Crossfox        Motor Diesel V8  1990        37123.0   \n",
              "3                      DS5        Motor 2.4 Turbo  2019            NaN   \n",
              "4         Aston Martin DB4        Motor 2.4 Turbo  2006        25757.0   \n",
              "..                     ...                    ...   ...            ...   \n",
              "253           Phantom 2013               Motor V8  2014        27505.0   \n",
              "254  Cadillac Ciel concept               Motor V8  1991        29981.0   \n",
              "255             Classe GLK  Motor 5.0 V8 Bi-Turbo  2002        52637.0   \n",
              "256       Aston Martin DB5           Motor Diesel  1996         7685.0   \n",
              "257                  Macan        Motor Diesel V6  1992        50188.0   \n",
              "\n",
              "     Zero_km                                         Acessórios      Valor  \n",
              "0      False  ['Rodas de liga', 'Travas elétricas', 'Piloto ...   88078.64  \n",
              "1      False  ['Central multimídia', 'Teto panorâmico', 'Fre...  106161.94  \n",
              "2      False  ['Piloto automático', 'Controle de estabilidad...   72832.16  \n",
              "3       True  ['Travas elétricas', '4 X 4', 'Vidros elétrico...  124549.07  \n",
              "4      False  ['Rodas de liga', '4 X 4', 'Central multimídia...   92612.10  \n",
              "..       ...                                                ...        ...  \n",
              "253    False  ['Controle de estabilidade', 'Piloto automátic...   51759.58  \n",
              "254    False  ['Bancos de couro', 'Painel digital', 'Sensor ...   51667.06  \n",
              "255    False  ['Rodas de liga', 'Controle de tração', 'Câmbi...   68934.03  \n",
              "256    False  ['Ar condicionado', '4 X 4', 'Câmbio automátic...  122110.90  \n",
              "257    False  ['Central multimídia', 'Teto panorâmico', 'Vid...   90381.47  \n",
              "\n",
              "[258 rows x 7 columns]"
            ]
          },
          "execution_count": 4,
          "metadata": {},
          "output_type": "execute_result"
        }
      ],
      "source": [
        "dataset"
      ]
    },
    {
      "cell_type": "code",
      "execution_count": 5,
      "metadata": {
        "colab": {},
        "colab_type": "code",
        "id": "5D739PzJD0_B"
      },
      "outputs": [
        {
          "data": {
            "text/plain": [
              "Nome              object\n",
              "Motor             object\n",
              "Ano                int64\n",
              "Quilometragem    float64\n",
              "Zero_km             bool\n",
              "Acessórios        object\n",
              "Valor            float64\n",
              "dtype: object"
            ]
          },
          "execution_count": 5,
          "metadata": {},
          "output_type": "execute_result"
        }
      ],
      "source": [
        "dataset.dtypes"
      ]
    },
    {
      "cell_type": "code",
      "execution_count": 6,
      "metadata": {
        "colab": {},
        "colab_type": "code",
        "id": "r_qUf16LD0_D"
      },
      "outputs": [
        {
          "data": {
            "text/html": [
              "<div>\n",
              "<style scoped>\n",
              "    .dataframe tbody tr th:only-of-type {\n",
              "        vertical-align: middle;\n",
              "    }\n",
              "\n",
              "    .dataframe tbody tr th {\n",
              "        vertical-align: top;\n",
              "    }\n",
              "\n",
              "    .dataframe thead th {\n",
              "        text-align: right;\n",
              "    }\n",
              "</style>\n",
              "<table border=\"1\" class=\"dataframe\">\n",
              "  <thead>\n",
              "    <tr style=\"text-align: right;\">\n",
              "      <th></th>\n",
              "      <th>Quilometragem</th>\n",
              "      <th>Valor</th>\n",
              "    </tr>\n",
              "  </thead>\n",
              "  <tbody>\n",
              "    <tr>\n",
              "      <th>count</th>\n",
              "      <td>197.000000</td>\n",
              "      <td>258.000000</td>\n",
              "    </tr>\n",
              "    <tr>\n",
              "      <th>mean</th>\n",
              "      <td>58278.421320</td>\n",
              "      <td>98960.513101</td>\n",
              "    </tr>\n",
              "    <tr>\n",
              "      <th>std</th>\n",
              "      <td>35836.733259</td>\n",
              "      <td>29811.932305</td>\n",
              "    </tr>\n",
              "    <tr>\n",
              "      <th>min</th>\n",
              "      <td>107.000000</td>\n",
              "      <td>50742.100000</td>\n",
              "    </tr>\n",
              "    <tr>\n",
              "      <th>25%</th>\n",
              "      <td>27505.000000</td>\n",
              "      <td>70743.512500</td>\n",
              "    </tr>\n",
              "    <tr>\n",
              "      <th>50%</th>\n",
              "      <td>55083.000000</td>\n",
              "      <td>97724.380000</td>\n",
              "    </tr>\n",
              "    <tr>\n",
              "      <th>75%</th>\n",
              "      <td>90495.000000</td>\n",
              "      <td>124633.302500</td>\n",
              "    </tr>\n",
              "    <tr>\n",
              "      <th>max</th>\n",
              "      <td>119945.000000</td>\n",
              "      <td>149489.920000</td>\n",
              "    </tr>\n",
              "  </tbody>\n",
              "</table>\n",
              "</div>"
            ],
            "text/plain": [
              "       Quilometragem          Valor\n",
              "count     197.000000     258.000000\n",
              "mean    58278.421320   98960.513101\n",
              "std     35836.733259   29811.932305\n",
              "min       107.000000   50742.100000\n",
              "25%     27505.000000   70743.512500\n",
              "50%     55083.000000   97724.380000\n",
              "75%     90495.000000  124633.302500\n",
              "max    119945.000000  149489.920000"
            ]
          },
          "execution_count": 6,
          "metadata": {},
          "output_type": "execute_result"
        }
      ],
      "source": [
        "dataset[['Quilometragem', 'Valor']].describe()"
      ]
    },
    {
      "cell_type": "code",
      "execution_count": 7,
      "metadata": {
        "colab": {},
        "colab_type": "code",
        "id": "0R-_7PH5D0_E"
      },
      "outputs": [
        {
          "name": "stdout",
          "output_type": "stream",
          "text": [
            "<class 'pandas.core.frame.DataFrame'>\n",
            "RangeIndex: 258 entries, 0 to 257\n",
            "Data columns (total 7 columns):\n",
            " #   Column         Non-Null Count  Dtype  \n",
            "---  ------         --------------  -----  \n",
            " 0   Nome           258 non-null    object \n",
            " 1   Motor          258 non-null    object \n",
            " 2   Ano            258 non-null    int64  \n",
            " 3   Quilometragem  197 non-null    float64\n",
            " 4   Zero_km        258 non-null    bool   \n",
            " 5   Acessórios     258 non-null    object \n",
            " 6   Valor          258 non-null    float64\n",
            "dtypes: bool(1), float64(2), int64(1), object(3)\n",
            "memory usage: 12.5+ KB\n"
          ]
        }
      ],
      "source": [
        "dataset.info()"
      ]
    },
    {
      "cell_type": "markdown",
      "metadata": {
        "colab_type": "text",
        "id": "htjoBLwiD0_F"
      },
      "source": [
        "# <font color=green> 2. TRABALHANDO COM TUPLAS\n",
        "---"
      ]
    },
    {
      "cell_type": "markdown",
      "metadata": {
        "colab_type": "text",
        "id": "MZH5_QnYD0_G"
      },
      "source": [
        "# 2.1 Criando tuplas\n",
        "\n",
        "Tuplas são sequências imutáveis que são utilizadas para armazenar coleções de itens, geralmente heterogêneos. Podem ser construídas de várias formas:\n",
        "```\n",
        "- Utilizando um par de parênteses: ( )\n",
        "- Utilizando uma vírgula à direita: x,\n",
        "- Utilizando um par de parênteses com itens separados por vírgulas: ( x, y, z )\n",
        "- Utilizando: tuple() ou tuple(iterador)\n",
        "```"
      ]
    },
    {
      "cell_type": "code",
      "execution_count": 8,
      "metadata": {
        "colab": {},
        "colab_type": "code",
        "id": "xzcs9fzeD0_G"
      },
      "outputs": [
        {
          "data": {
            "text/plain": [
              "()"
            ]
          },
          "execution_count": 8,
          "metadata": {},
          "output_type": "execute_result"
        }
      ],
      "source": [
        "()"
      ]
    },
    {
      "cell_type": "code",
      "execution_count": 9,
      "metadata": {
        "colab": {},
        "colab_type": "code",
        "id": "qJq7a2qTD0_I"
      },
      "outputs": [
        {
          "data": {
            "text/plain": [
              "(1, 2, 3)"
            ]
          },
          "execution_count": 9,
          "metadata": {},
          "output_type": "execute_result"
        }
      ],
      "source": [
        "1, 2, 3"
      ]
    },
    {
      "cell_type": "code",
      "execution_count": 10,
      "metadata": {
        "colab": {},
        "colab_type": "code",
        "id": "sg7LdvptD0_J"
      },
      "outputs": [
        {
          "data": {
            "text/plain": [
              "('Passat', 153000)"
            ]
          },
          "execution_count": 10,
          "metadata": {},
          "output_type": "execute_result"
        }
      ],
      "source": [
        "nome = 'Passat'\n",
        "valor = 153000\n",
        "(nome, valor)"
      ]
    },
    {
      "cell_type": "code",
      "execution_count": 11,
      "metadata": {
        "colab": {},
        "colab_type": "code",
        "id": "XSSMebXjD0_K"
      },
      "outputs": [
        {
          "data": {
            "text/plain": [
              "('Jetta Variant', 'Passat', 'Crossfox', 'DS5')"
            ]
          },
          "execution_count": 11,
          "metadata": {},
          "output_type": "execute_result"
        }
      ],
      "source": [
        "nomes_carros = tuple(['Jetta Variant', 'Passat', 'Crossfox', 'DS5'])\n",
        "nomes_carros"
      ]
    },
    {
      "cell_type": "code",
      "execution_count": 12,
      "metadata": {
        "colab": {},
        "colab_type": "code",
        "id": "dpkdzrzRD0_M"
      },
      "outputs": [
        {
          "data": {
            "text/plain": [
              "tuple"
            ]
          },
          "execution_count": 12,
          "metadata": {},
          "output_type": "execute_result"
        }
      ],
      "source": [
        "type(nomes_carros)"
      ]
    },
    {
      "cell_type": "markdown",
      "metadata": {
        "colab_type": "text",
        "id": "iKUY2DOUD0_N"
      },
      "source": [
        "# 2.2 Seleções em tuplas"
      ]
    },
    {
      "cell_type": "code",
      "execution_count": 13,
      "metadata": {
        "colab": {},
        "colab_type": "code",
        "id": "hBEeAM7_D0_N"
      },
      "outputs": [
        {
          "data": {
            "text/plain": [
              "('Jetta Variant', 'Passat', 'Crossfox', 'DS5')"
            ]
          },
          "execution_count": 13,
          "metadata": {},
          "output_type": "execute_result"
        }
      ],
      "source": [
        "nomes_carros = tuple(['Jetta Variant', 'Passat', 'Crossfox', 'DS5'])\n",
        "nomes_carros"
      ]
    },
    {
      "cell_type": "code",
      "execution_count": 14,
      "metadata": {
        "colab": {},
        "colab_type": "code",
        "id": "-mx_1E_tD0_P"
      },
      "outputs": [
        {
          "data": {
            "text/plain": [
              "'Jetta Variant'"
            ]
          },
          "execution_count": 14,
          "metadata": {},
          "output_type": "execute_result"
        }
      ],
      "source": [
        "nomes_carros[0]"
      ]
    },
    {
      "cell_type": "code",
      "execution_count": 15,
      "metadata": {
        "colab": {},
        "colab_type": "code",
        "id": "LMhyqnFID0_Q"
      },
      "outputs": [
        {
          "data": {
            "text/plain": [
              "'Passat'"
            ]
          },
          "execution_count": 15,
          "metadata": {},
          "output_type": "execute_result"
        }
      ],
      "source": [
        "nomes_carros[1]"
      ]
    },
    {
      "cell_type": "code",
      "execution_count": 16,
      "metadata": {
        "colab": {},
        "colab_type": "code",
        "id": "6btHff4BD0_T"
      },
      "outputs": [
        {
          "data": {
            "text/plain": [
              "'DS5'"
            ]
          },
          "execution_count": 16,
          "metadata": {},
          "output_type": "execute_result"
        }
      ],
      "source": [
        "nomes_carros[-1]"
      ]
    },
    {
      "cell_type": "code",
      "execution_count": 17,
      "metadata": {
        "colab": {},
        "colab_type": "code",
        "id": "K_Dc12xBD0_U"
      },
      "outputs": [
        {
          "data": {
            "text/plain": [
              "('Passat', 'Crossfox')"
            ]
          },
          "execution_count": 17,
          "metadata": {},
          "output_type": "execute_result"
        }
      ],
      "source": [
        "nomes_carros[1:3]"
      ]
    },
    {
      "cell_type": "code",
      "execution_count": 18,
      "metadata": {
        "colab": {},
        "colab_type": "code",
        "id": "zvrWYkkeD0_W"
      },
      "outputs": [
        {
          "data": {
            "text/plain": [
              "('Jetta Variant', 'Passat', 'Crossfox', 'DS5', ('Fusca', 'Gol', 'C4'))"
            ]
          },
          "execution_count": 18,
          "metadata": {},
          "output_type": "execute_result"
        }
      ],
      "source": [
        "nomes_carros = ('Jetta Variant', 'Passat', 'Crossfox', 'DS5', ('Fusca', 'Gol', 'C4'))\n",
        "nomes_carros"
      ]
    },
    {
      "cell_type": "code",
      "execution_count": 19,
      "metadata": {
        "colab": {},
        "colab_type": "code",
        "id": "Dw7tbM2ED0_Z"
      },
      "outputs": [
        {
          "data": {
            "text/plain": [
              "('Fusca', 'Gol', 'C4')"
            ]
          },
          "execution_count": 19,
          "metadata": {},
          "output_type": "execute_result"
        }
      ],
      "source": [
        "nomes_carros[-1]"
      ]
    },
    {
      "cell_type": "code",
      "execution_count": 20,
      "metadata": {
        "colab": {},
        "colab_type": "code",
        "id": "SAMD3BtXD0_b"
      },
      "outputs": [
        {
          "data": {
            "text/plain": [
              "'Gol'"
            ]
          },
          "execution_count": 20,
          "metadata": {},
          "output_type": "execute_result"
        }
      ],
      "source": [
        "nomes_carros[-1][1]"
      ]
    },
    {
      "cell_type": "markdown",
      "metadata": {
        "colab_type": "text",
        "id": "KLMxh4-0D0_c"
      },
      "source": [
        "# 2.3 Iterando em tuplas"
      ]
    },
    {
      "cell_type": "code",
      "execution_count": 21,
      "metadata": {
        "colab": {},
        "colab_type": "code",
        "id": "K53elKsYD0_c"
      },
      "outputs": [
        {
          "data": {
            "text/plain": [
              "('Jetta Variant', 'Passat', 'Crossfox', 'DS5')"
            ]
          },
          "execution_count": 21,
          "metadata": {},
          "output_type": "execute_result"
        }
      ],
      "source": [
        "nomes_carros = ('Jetta Variant', 'Passat', 'Crossfox', 'DS5')\n",
        "nomes_carros"
      ]
    },
    {
      "cell_type": "code",
      "execution_count": 22,
      "metadata": {
        "colab": {},
        "colab_type": "code",
        "id": "igZhZ5zdD0_d"
      },
      "outputs": [
        {
          "name": "stdout",
          "output_type": "stream",
          "text": [
            "Jetta Variant\n",
            "Passat\n",
            "Crossfox\n",
            "DS5\n"
          ]
        }
      ],
      "source": [
        "for item in nomes_carros:\n",
        "    print(item)"
      ]
    },
    {
      "cell_type": "markdown",
      "metadata": {
        "colab_type": "text",
        "id": "AOBjxBk8D0_f"
      },
      "source": [
        "### Desempacotamento de tuplas"
      ]
    },
    {
      "cell_type": "code",
      "execution_count": 23,
      "metadata": {
        "colab": {},
        "colab_type": "code",
        "id": "UoEFnumhD0_f"
      },
      "outputs": [
        {
          "data": {
            "text/plain": [
              "('Jetta Variant', 'Passat', 'Crossfox', 'DS5')"
            ]
          },
          "execution_count": 23,
          "metadata": {},
          "output_type": "execute_result"
        }
      ],
      "source": [
        "nomes_carros = ('Jetta Variant', 'Passat', 'Crossfox', 'DS5')\n",
        "nomes_carros"
      ]
    },
    {
      "cell_type": "code",
      "execution_count": 24,
      "metadata": {
        "colab": {},
        "colab_type": "code",
        "id": "AaCLcNYTD0_g"
      },
      "outputs": [],
      "source": [
        "carro_1, carro_2, carro_3, carro_4 = nomes_carros"
      ]
    },
    {
      "cell_type": "code",
      "execution_count": 25,
      "metadata": {
        "colab": {},
        "colab_type": "code",
        "id": "TA71S9egD0_h"
      },
      "outputs": [
        {
          "data": {
            "text/plain": [
              "'Jetta Variant'"
            ]
          },
          "execution_count": 25,
          "metadata": {},
          "output_type": "execute_result"
        }
      ],
      "source": [
        "carro_1"
      ]
    },
    {
      "cell_type": "code",
      "execution_count": 26,
      "metadata": {
        "colab": {},
        "colab_type": "code",
        "id": "CHoJ034MD0_i"
      },
      "outputs": [
        {
          "data": {
            "text/plain": [
              "'Passat'"
            ]
          },
          "execution_count": 26,
          "metadata": {},
          "output_type": "execute_result"
        }
      ],
      "source": [
        "carro_2"
      ]
    },
    {
      "cell_type": "code",
      "execution_count": 27,
      "metadata": {
        "colab": {},
        "colab_type": "code",
        "id": "oxJrOuCSD0_j"
      },
      "outputs": [
        {
          "data": {
            "text/plain": [
              "'Crossfox'"
            ]
          },
          "execution_count": 27,
          "metadata": {},
          "output_type": "execute_result"
        }
      ],
      "source": [
        "carro_3"
      ]
    },
    {
      "cell_type": "code",
      "execution_count": 28,
      "metadata": {
        "colab": {},
        "colab_type": "code",
        "id": "BbR9sB4BD0_k"
      },
      "outputs": [
        {
          "data": {
            "text/plain": [
              "'DS5'"
            ]
          },
          "execution_count": 28,
          "metadata": {},
          "output_type": "execute_result"
        }
      ],
      "source": [
        "carro_4"
      ]
    },
    {
      "cell_type": "code",
      "execution_count": 29,
      "metadata": {
        "colab": {},
        "colab_type": "code",
        "id": "aZvokrjPD0_m"
      },
      "outputs": [],
      "source": [
        "_, A, _, B = nomes_carros"
      ]
    },
    {
      "cell_type": "code",
      "execution_count": 30,
      "metadata": {
        "colab": {},
        "colab_type": "code",
        "id": "wZXDbVg0D0_o"
      },
      "outputs": [
        {
          "data": {
            "text/plain": [
              "'Passat'"
            ]
          },
          "execution_count": 30,
          "metadata": {},
          "output_type": "execute_result"
        }
      ],
      "source": [
        "A"
      ]
    },
    {
      "cell_type": "code",
      "execution_count": 31,
      "metadata": {
        "colab": {},
        "colab_type": "code",
        "id": "aWgDMBXiD0_p"
      },
      "outputs": [
        {
          "data": {
            "text/plain": [
              "'DS5'"
            ]
          },
          "execution_count": 31,
          "metadata": {},
          "output_type": "execute_result"
        }
      ],
      "source": [
        "B"
      ]
    },
    {
      "cell_type": "code",
      "execution_count": 32,
      "metadata": {
        "colab": {},
        "colab_type": "code",
        "id": "OdpgNh-ND0_q"
      },
      "outputs": [],
      "source": [
        "_, C, *_ = nomes_carros"
      ]
    },
    {
      "cell_type": "code",
      "execution_count": 33,
      "metadata": {
        "colab": {},
        "colab_type": "code",
        "id": "upVYFnMdD0_r"
      },
      "outputs": [
        {
          "data": {
            "text/plain": [
              "'Passat'"
            ]
          },
          "execution_count": 33,
          "metadata": {},
          "output_type": "execute_result"
        }
      ],
      "source": [
        "C"
      ]
    },
    {
      "cell_type": "markdown",
      "metadata": {
        "colab_type": "text",
        "id": "u85Aou8WD0_s"
      },
      "source": [
        "## *zip()*\n",
        "\n",
        "https://docs.python.org/3.6/library/functions.html#zip"
      ]
    },
    {
      "cell_type": "code",
      "execution_count": 34,
      "metadata": {
        "colab": {},
        "colab_type": "code",
        "id": "PaC2oXGED0_t"
      },
      "outputs": [
        {
          "data": {
            "text/plain": [
              "['Jetta Variant', 'Passat', 'Crossfox', 'DS5']"
            ]
          },
          "execution_count": 34,
          "metadata": {},
          "output_type": "execute_result"
        }
      ],
      "source": [
        "carros = ['Jetta Variant', 'Passat', 'Crossfox', 'DS5']\n",
        "carros"
      ]
    },
    {
      "cell_type": "code",
      "execution_count": 35,
      "metadata": {
        "colab": {},
        "colab_type": "code",
        "id": "_02O1VnHD0_u"
      },
      "outputs": [
        {
          "data": {
            "text/plain": [
              "[88078.64, 106161.94, 72832.16, 124549.07]"
            ]
          },
          "execution_count": 35,
          "metadata": {},
          "output_type": "execute_result"
        }
      ],
      "source": [
        "valores = [88078.64, 106161.94, 72832.16, 124549.07]\n",
        "valores"
      ]
    },
    {
      "cell_type": "code",
      "execution_count": 36,
      "metadata": {
        "colab": {},
        "colab_type": "code",
        "id": "roQK5nYRD0_v"
      },
      "outputs": [
        {
          "data": {
            "text/plain": [
              "[('Jetta Variant', 88078.64),\n",
              " ('Passat', 106161.94),\n",
              " ('Crossfox', 72832.16),\n",
              " ('DS5', 124549.07)]"
            ]
          },
          "execution_count": 36,
          "metadata": {},
          "output_type": "execute_result"
        }
      ],
      "source": [
        "list(zip(carros, valores))"
      ]
    },
    {
      "cell_type": "code",
      "execution_count": 37,
      "metadata": {
        "colab": {},
        "colab_type": "code",
        "id": "_WRxIRHrD0_w"
      },
      "outputs": [
        {
          "name": "stdout",
          "output_type": "stream",
          "text": [
            "('Jetta Variant', 88078.64)\n",
            "('Passat', 106161.94)\n",
            "('Crossfox', 72832.16)\n",
            "('DS5', 124549.07)\n"
          ]
        }
      ],
      "source": [
        "for item in zip(carros, valores):\n",
        "    print(item)"
      ]
    },
    {
      "cell_type": "code",
      "execution_count": 38,
      "metadata": {
        "colab": {},
        "colab_type": "code",
        "id": "2zIuhIILD0_x"
      },
      "outputs": [
        {
          "name": "stdout",
          "output_type": "stream",
          "text": [
            "Jetta Variant 88078.64\n",
            "Passat 106161.94\n",
            "Crossfox 72832.16\n",
            "DS5 124549.07\n"
          ]
        }
      ],
      "source": [
        "for carro, valor in zip(carros, valores):\n",
        "    print(carro, valor)"
      ]
    },
    {
      "cell_type": "code",
      "execution_count": 39,
      "metadata": {
        "colab": {},
        "colab_type": "code",
        "id": "ZJaL62IpD0_y"
      },
      "outputs": [
        {
          "name": "stdout",
          "output_type": "stream",
          "text": [
            "Passat\n",
            "DS5\n"
          ]
        }
      ],
      "source": [
        "for carro, valor in zip(carros, valores):\n",
        "    if(valor > 100000):\n",
        "        print(carro)"
      ]
    },
    {
      "cell_type": "markdown",
      "metadata": {
        "colab_type": "text",
        "id": "xo76nR8rD0_0"
      },
      "source": [
        "# <font color=green> 3. TRABALHANDO COM DICIONÁRIOS\n",
        "---"
      ]
    },
    {
      "cell_type": "markdown",
      "metadata": {
        "colab_type": "text",
        "id": "wfWzOuztD0_0"
      },
      "source": [
        "# 3.1 Criando dicionários\n",
        "\n",
        "Listas são coleções sequenciais, isto é, os itens destas sequências estão ordenados e utilizam índices (números inteiros) para acessar os valores.\n",
        "\n",
        "Os dicionários são coleções um pouco diferentes. São estruturas de dados que representam um tipo de mapeamento. Mapeamentos são coleções de associações entre pares de valores onde o primeiro elemento do par é conhecido como chave (*key*) e o segundo como valor (*value*).\n",
        "\n",
        "```\n",
        "dicionario = {key_1: value_1, key_2: value_2, ..., key_n: value_n}\n",
        "```\n",
        "\n",
        "https://docs.python.org/3.6/library/stdtypes.html#typesmapping"
      ]
    },
    {
      "cell_type": "code",
      "execution_count": 40,
      "metadata": {
        "colab": {},
        "colab_type": "code",
        "id": "YIFVkWT6D0_1"
      },
      "outputs": [
        {
          "data": {
            "text/plain": [
              "['Jetta Variant', 'Passat', 'Crossfox']"
            ]
          },
          "execution_count": 40,
          "metadata": {},
          "output_type": "execute_result"
        }
      ],
      "source": [
        "carros = ['Jetta Variant', 'Passat', 'Crossfox']\n",
        "carros"
      ]
    },
    {
      "cell_type": "code",
      "execution_count": 41,
      "metadata": {
        "colab": {},
        "colab_type": "code",
        "id": "2LHiBn3-D0_2"
      },
      "outputs": [
        {
          "data": {
            "text/plain": [
              "[88078.64, 106161.94, 72832.16]"
            ]
          },
          "execution_count": 41,
          "metadata": {},
          "output_type": "execute_result"
        }
      ],
      "source": [
        "valores = [88078.64, 106161.94, 72832.16]\n",
        "valores"
      ]
    },
    {
      "cell_type": "code",
      "execution_count": 42,
      "metadata": {
        "colab": {},
        "colab_type": "code",
        "id": "YxLAx_sqD0_4"
      },
      "outputs": [
        {
          "data": {
            "text/plain": [
              "1"
            ]
          },
          "execution_count": 42,
          "metadata": {},
          "output_type": "execute_result"
        }
      ],
      "source": [
        "carros.index('Passat')"
      ]
    },
    {
      "cell_type": "code",
      "execution_count": 43,
      "metadata": {
        "colab": {},
        "colab_type": "code",
        "id": "WITNWExID0_7"
      },
      "outputs": [
        {
          "data": {
            "text/plain": [
              "106161.94"
            ]
          },
          "execution_count": 43,
          "metadata": {},
          "output_type": "execute_result"
        }
      ],
      "source": [
        "valores[carros.index('Passat')]"
      ]
    },
    {
      "cell_type": "code",
      "execution_count": 44,
      "metadata": {
        "colab": {},
        "colab_type": "code",
        "id": "bHNqoDbTD0_8"
      },
      "outputs": [
        {
          "data": {
            "text/plain": [
              "{'Jetta Variant': 88078.64, 'Passat': 106161.94, 'Crossfox': 72832.16}"
            ]
          },
          "execution_count": 44,
          "metadata": {},
          "output_type": "execute_result"
        }
      ],
      "source": [
        "dados = {'Jetta Variant': 88078.64, 'Passat': 106161.94, 'Crossfox': 72832.16}\n",
        "dados"
      ]
    },
    {
      "cell_type": "code",
      "execution_count": 45,
      "metadata": {
        "colab": {},
        "colab_type": "code",
        "id": "4FyQgmcAD0_9"
      },
      "outputs": [
        {
          "data": {
            "text/plain": [
              "dict"
            ]
          },
          "execution_count": 45,
          "metadata": {},
          "output_type": "execute_result"
        }
      ],
      "source": [
        "type(dados)"
      ]
    },
    {
      "cell_type": "markdown",
      "metadata": {
        "colab_type": "text",
        "id": "PQg-MLkGD0_-"
      },
      "source": [
        "### Criando dicionários com *zip()*"
      ]
    },
    {
      "cell_type": "code",
      "execution_count": 46,
      "metadata": {
        "colab": {},
        "colab_type": "code",
        "id": "iB4Q_gbND0__"
      },
      "outputs": [
        {
          "data": {
            "text/plain": [
              "[('Jetta Variant', 88078.64), ('Passat', 106161.94), ('Crossfox', 72832.16)]"
            ]
          },
          "execution_count": 46,
          "metadata": {},
          "output_type": "execute_result"
        }
      ],
      "source": [
        "list(zip(carros, valores))"
      ]
    },
    {
      "cell_type": "code",
      "execution_count": 47,
      "metadata": {
        "colab": {},
        "colab_type": "code",
        "id": "mIgZqdKKD1AA"
      },
      "outputs": [
        {
          "data": {
            "text/plain": [
              "{'Jetta Variant': 88078.64, 'Passat': 106161.94, 'Crossfox': 72832.16}"
            ]
          },
          "execution_count": 47,
          "metadata": {},
          "output_type": "execute_result"
        }
      ],
      "source": [
        "dados = dict(zip(carros, valores))\n",
        "dados"
      ]
    },
    {
      "cell_type": "markdown",
      "metadata": {
        "colab_type": "text",
        "id": "KYeRqavFD1AD"
      },
      "source": [
        "# 3.2 Operações com dicionários"
      ]
    },
    {
      "cell_type": "markdown",
      "metadata": {
        "colab_type": "text",
        "id": "KzmWbEltD1AD"
      },
      "source": [
        "## *dict[ key ]*\n",
        "\n",
        "Retorna o valor correspondente à chave (*key*) no dicionário."
      ]
    },
    {
      "cell_type": "code",
      "execution_count": 48,
      "metadata": {
        "colab": {},
        "colab_type": "code",
        "id": "hFFDz6wKD1AD"
      },
      "outputs": [
        {
          "data": {
            "text/plain": [
              "{'Jetta Variant': 88078.64, 'Passat': 106161.94, 'Crossfox': 72832.16}"
            ]
          },
          "execution_count": 48,
          "metadata": {},
          "output_type": "execute_result"
        }
      ],
      "source": [
        "dados = {'Jetta Variant': 88078.64, 'Passat': 106161.94, 'Crossfox': 72832.16}\n",
        "dados"
      ]
    },
    {
      "cell_type": "code",
      "execution_count": 49,
      "metadata": {},
      "outputs": [
        {
          "data": {
            "text/plain": [
              "106161.94"
            ]
          },
          "execution_count": 49,
          "metadata": {},
          "output_type": "execute_result"
        }
      ],
      "source": [
        "dados['Passat']"
      ]
    },
    {
      "cell_type": "markdown",
      "metadata": {
        "colab_type": "text",
        "id": "SWlE6VTBD1AE"
      },
      "source": [
        "## *key in dict*\n",
        "\n",
        "Retorna **True** se a chave (*key*) for encontrada no dicionário."
      ]
    },
    {
      "cell_type": "code",
      "execution_count": 50,
      "metadata": {
        "colab": {},
        "colab_type": "code",
        "id": "Iy88SxBtD1AE"
      },
      "outputs": [
        {
          "data": {
            "text/plain": [
              "True"
            ]
          },
          "execution_count": 50,
          "metadata": {},
          "output_type": "execute_result"
        }
      ],
      "source": [
        "'Passat' in dados"
      ]
    },
    {
      "cell_type": "code",
      "execution_count": 51,
      "metadata": {
        "colab": {},
        "colab_type": "code",
        "id": "Oma56NkAD1AF"
      },
      "outputs": [
        {
          "data": {
            "text/plain": [
              "False"
            ]
          },
          "execution_count": 51,
          "metadata": {},
          "output_type": "execute_result"
        }
      ],
      "source": [
        "'Fusca' in dados"
      ]
    },
    {
      "cell_type": "code",
      "execution_count": 52,
      "metadata": {
        "colab": {},
        "colab_type": "code",
        "id": "yS2U-_8gD1AG"
      },
      "outputs": [
        {
          "data": {
            "text/plain": [
              "True"
            ]
          },
          "execution_count": 52,
          "metadata": {},
          "output_type": "execute_result"
        }
      ],
      "source": [
        "'Fusca' not in dados"
      ]
    },
    {
      "cell_type": "markdown",
      "metadata": {
        "colab_type": "text",
        "id": "oWbWyDd0D1AI"
      },
      "source": [
        "## *len(dict)*\n",
        "\n",
        "Retorna o número de itens do dicionário."
      ]
    },
    {
      "cell_type": "code",
      "execution_count": 53,
      "metadata": {
        "colab": {},
        "colab_type": "code",
        "id": "k08YkCc1D1AJ"
      },
      "outputs": [
        {
          "data": {
            "text/plain": [
              "3"
            ]
          },
          "execution_count": 53,
          "metadata": {},
          "output_type": "execute_result"
        }
      ],
      "source": [
        "len(dados)"
      ]
    },
    {
      "cell_type": "markdown",
      "metadata": {
        "colab_type": "text",
        "id": "yYNqIHJBD1AK"
      },
      "source": [
        "## *dict[ key ] = value*\n",
        "\n",
        "Inclui um item ao dicionário."
      ]
    },
    {
      "cell_type": "code",
      "execution_count": 54,
      "metadata": {
        "colab": {},
        "colab_type": "code",
        "id": "5jj3i52bD1AK"
      },
      "outputs": [],
      "source": [
        "dados['DS5'] = 124549.07"
      ]
    },
    {
      "cell_type": "code",
      "execution_count": 55,
      "metadata": {
        "colab": {},
        "colab_type": "code",
        "id": "y6rso5hLD1AL"
      },
      "outputs": [
        {
          "data": {
            "text/plain": [
              "{'Jetta Variant': 88078.64,\n",
              " 'Passat': 106161.94,\n",
              " 'Crossfox': 72832.16,\n",
              " 'DS5': 124549.07}"
            ]
          },
          "execution_count": 55,
          "metadata": {},
          "output_type": "execute_result"
        }
      ],
      "source": [
        "dados"
      ]
    },
    {
      "cell_type": "markdown",
      "metadata": {
        "colab_type": "text",
        "id": "_z0JySuqD1AL"
      },
      "source": [
        "## *del dict[ key ]*\n",
        "\n",
        "Remove o item de chave (*key*) do dicionário."
      ]
    },
    {
      "cell_type": "code",
      "execution_count": 56,
      "metadata": {
        "colab": {},
        "colab_type": "code",
        "id": "PPfh6sfID1AM"
      },
      "outputs": [
        {
          "data": {
            "text/plain": [
              "{'Jetta Variant': 88078.64,\n",
              " 'Passat': 106161.94,\n",
              " 'Crossfox': 72832.16,\n",
              " 'DS5': 124549.07}"
            ]
          },
          "execution_count": 56,
          "metadata": {},
          "output_type": "execute_result"
        }
      ],
      "source": [
        "dados"
      ]
    },
    {
      "cell_type": "code",
      "execution_count": 57,
      "metadata": {
        "colab": {},
        "colab_type": "code",
        "id": "BtjGpXtGD1AN"
      },
      "outputs": [],
      "source": [
        "del dados['Passat']"
      ]
    },
    {
      "cell_type": "code",
      "execution_count": 58,
      "metadata": {},
      "outputs": [
        {
          "data": {
            "text/plain": [
              "{'Jetta Variant': 88078.64, 'Crossfox': 72832.16, 'DS5': 124549.07}"
            ]
          },
          "execution_count": 58,
          "metadata": {},
          "output_type": "execute_result"
        }
      ],
      "source": [
        "dados"
      ]
    },
    {
      "cell_type": "markdown",
      "metadata": {
        "colab_type": "text",
        "id": "FodJVx5sD1AP"
      },
      "source": [
        "# 3.3 Métodos de dicionários"
      ]
    },
    {
      "cell_type": "markdown",
      "metadata": {
        "colab_type": "text",
        "id": "7pqdPOkYD1AP"
      },
      "source": [
        "## *dict.update()*\n",
        "\n",
        "Atualiza o dicionário."
      ]
    },
    {
      "cell_type": "code",
      "execution_count": 59,
      "metadata": {
        "colab": {},
        "colab_type": "code",
        "id": "DUySYxKQD1AQ"
      },
      "outputs": [
        {
          "data": {
            "text/plain": [
              "{'Jetta Variant': 88078.64, 'Crossfox': 72832.16, 'DS5': 124549.07}"
            ]
          },
          "execution_count": 59,
          "metadata": {},
          "output_type": "execute_result"
        }
      ],
      "source": [
        "dados"
      ]
    },
    {
      "cell_type": "code",
      "execution_count": 60,
      "metadata": {
        "colab": {},
        "colab_type": "code",
        "id": "DLsqp71cD1AR"
      },
      "outputs": [
        {
          "data": {
            "text/plain": [
              "{'Jetta Variant': 88078.64,\n",
              " 'Crossfox': 72832.16,\n",
              " 'DS5': 124549.07,\n",
              " 'Passat': 106161.94,\n",
              " 'Fusca': 150000}"
            ]
          },
          "execution_count": 60,
          "metadata": {},
          "output_type": "execute_result"
        }
      ],
      "source": [
        "dados.update({'Passat': 106161.94, 'Fusca': 150000})\n",
        "dados"
      ]
    },
    {
      "cell_type": "markdown",
      "metadata": {
        "colab_type": "text",
        "id": "JLs5c0DeD1AR"
      },
      "source": [
        "## *dict.copy()*\n",
        "\n",
        "Cria uma cópia do dicionário."
      ]
    },
    {
      "cell_type": "code",
      "execution_count": 61,
      "metadata": {
        "colab": {},
        "colab_type": "code",
        "id": "X9F7OB3eD1AS"
      },
      "outputs": [],
      "source": [
        "dadosCopy = dados.copy()"
      ]
    },
    {
      "cell_type": "code",
      "execution_count": 62,
      "metadata": {
        "colab": {},
        "colab_type": "code",
        "id": "v0rL0bveD1AS"
      },
      "outputs": [
        {
          "data": {
            "text/plain": [
              "{'Jetta Variant': 88078.64,\n",
              " 'Crossfox': 72832.16,\n",
              " 'DS5': 124549.07,\n",
              " 'Passat': 106161.94,\n",
              " 'Fusca': 150000}"
            ]
          },
          "execution_count": 62,
          "metadata": {},
          "output_type": "execute_result"
        }
      ],
      "source": [
        "dadosCopy"
      ]
    },
    {
      "cell_type": "code",
      "execution_count": 63,
      "metadata": {
        "colab": {},
        "colab_type": "code",
        "id": "M-abRGGrD1AT"
      },
      "outputs": [
        {
          "data": {
            "text/plain": [
              "{'Jetta Variant': 88078.64,\n",
              " 'Crossfox': 72832.16,\n",
              " 'DS5': 124549.07,\n",
              " 'Passat': 106161.94}"
            ]
          },
          "execution_count": 63,
          "metadata": {},
          "output_type": "execute_result"
        }
      ],
      "source": [
        "del dadosCopy['Fusca']\n",
        "dadosCopy\n"
      ]
    },
    {
      "cell_type": "code",
      "execution_count": 64,
      "metadata": {
        "colab": {},
        "colab_type": "code",
        "id": "ETBD0TkND1AU"
      },
      "outputs": [
        {
          "data": {
            "text/plain": [
              "{'Jetta Variant': 88078.64,\n",
              " 'Crossfox': 72832.16,\n",
              " 'DS5': 124549.07,\n",
              " 'Passat': 106161.94,\n",
              " 'Fusca': 150000}"
            ]
          },
          "execution_count": 64,
          "metadata": {},
          "output_type": "execute_result"
        }
      ],
      "source": [
        "dados"
      ]
    },
    {
      "cell_type": "markdown",
      "metadata": {
        "colab_type": "text",
        "id": "mNODkmHCD1AV"
      },
      "source": [
        "## *dict.pop(key[, default ])*\n",
        "\n",
        "Se a chave for encontrada no dicionário, o item é removido e seu valor é retornado. Caso contrário, o valor especificado como *default* é retornado. Se o valor *default* não for fornecido e a chave não for encontrada no dicionário um erro será gerado."
      ]
    },
    {
      "cell_type": "code",
      "execution_count": 65,
      "metadata": {
        "colab": {},
        "colab_type": "code",
        "id": "_4QEPwScD1AW"
      },
      "outputs": [
        {
          "data": {
            "text/plain": [
              "{'Jetta Variant': 88078.64,\n",
              " 'Crossfox': 72832.16,\n",
              " 'DS5': 124549.07,\n",
              " 'Passat': 106161.94}"
            ]
          },
          "execution_count": 65,
          "metadata": {},
          "output_type": "execute_result"
        }
      ],
      "source": [
        "dadosCopy"
      ]
    },
    {
      "cell_type": "code",
      "execution_count": 66,
      "metadata": {
        "colab": {},
        "colab_type": "code",
        "id": "Hjh0MuymD1AX"
      },
      "outputs": [
        {
          "data": {
            "text/plain": [
              "106161.94"
            ]
          },
          "execution_count": 66,
          "metadata": {},
          "output_type": "execute_result"
        }
      ],
      "source": [
        "dadosCopy.pop('Passat')"
      ]
    },
    {
      "cell_type": "code",
      "execution_count": 67,
      "metadata": {
        "colab": {},
        "colab_type": "code",
        "id": "f51rKjkuD1AX"
      },
      "outputs": [
        {
          "data": {
            "text/plain": [
              "{'Jetta Variant': 88078.64, 'Crossfox': 72832.16, 'DS5': 124549.07}"
            ]
          },
          "execution_count": 67,
          "metadata": {},
          "output_type": "execute_result"
        }
      ],
      "source": [
        "dadosCopy"
      ]
    },
    {
      "cell_type": "code",
      "execution_count": 68,
      "metadata": {
        "colab": {},
        "colab_type": "code",
        "id": "Ah4sZ7axD1AZ"
      },
      "outputs": [],
      "source": [
        "#dadosCopy.pop('Passat')"
      ]
    },
    {
      "cell_type": "code",
      "execution_count": 69,
      "metadata": {
        "colab": {},
        "colab_type": "code",
        "id": "SJATRY8RD1Aa"
      },
      "outputs": [
        {
          "data": {
            "text/plain": [
              "'Chave não encontrada'"
            ]
          },
          "execution_count": 69,
          "metadata": {},
          "output_type": "execute_result"
        }
      ],
      "source": [
        "dadosCopy.pop('Passat', 'Chave não encontrada')"
      ]
    },
    {
      "cell_type": "code",
      "execution_count": 70,
      "metadata": {
        "colab": {},
        "colab_type": "code",
        "id": "V36wHdzmD1Ab"
      },
      "outputs": [
        {
          "data": {
            "text/plain": [
              "124549.07"
            ]
          },
          "execution_count": 70,
          "metadata": {},
          "output_type": "execute_result"
        }
      ],
      "source": [
        "dadosCopy.pop('DS5', 'Chave não encontrada')"
      ]
    },
    {
      "cell_type": "code",
      "execution_count": 71,
      "metadata": {
        "colab": {},
        "colab_type": "code",
        "id": "LJ0lQIrdD1Ac"
      },
      "outputs": [
        {
          "data": {
            "text/plain": [
              "{'Jetta Variant': 88078.64, 'Crossfox': 72832.16}"
            ]
          },
          "execution_count": 71,
          "metadata": {},
          "output_type": "execute_result"
        }
      ],
      "source": [
        "dadosCopy"
      ]
    },
    {
      "cell_type": "markdown",
      "metadata": {
        "colab_type": "text",
        "id": "Q5J0R7d3D1Ag"
      },
      "source": [
        "## *dict.clear()*\n",
        "\n",
        "Remove todos os itens do dicionário."
      ]
    },
    {
      "cell_type": "code",
      "execution_count": 72,
      "metadata": {
        "colab": {},
        "colab_type": "code",
        "id": "AvkP_8mND1Ag"
      },
      "outputs": [],
      "source": [
        "dadosCopy.clear()"
      ]
    },
    {
      "cell_type": "code",
      "execution_count": 73,
      "metadata": {
        "colab": {},
        "colab_type": "code",
        "id": "S69pMYboD1Ah"
      },
      "outputs": [
        {
          "data": {
            "text/plain": [
              "{}"
            ]
          },
          "execution_count": 73,
          "metadata": {},
          "output_type": "execute_result"
        }
      ],
      "source": [
        "dadosCopy"
      ]
    },
    {
      "cell_type": "markdown",
      "metadata": {
        "colab_type": "text",
        "id": "QhoSRfPsD1Ai"
      },
      "source": [
        "# 3.4 Iterando em dicionários"
      ]
    },
    {
      "cell_type": "code",
      "execution_count": 74,
      "metadata": {},
      "outputs": [
        {
          "data": {
            "text/plain": [
              "{'Jetta Variant': 88078.64,\n",
              " 'Crossfox': 72832.16,\n",
              " 'DS5': 124549.07,\n",
              " 'Passat': 106161.94,\n",
              " 'Fusca': 150000}"
            ]
          },
          "execution_count": 74,
          "metadata": {},
          "output_type": "execute_result"
        }
      ],
      "source": [
        "dados = {'Jetta Variant': 88078.64, 'Crossfox': 72832.16,\n",
        "         'DS5': 124549.07, 'Passat': 106161.94, 'Fusca': 150000}\n",
        "dados"
      ]
    },
    {
      "cell_type": "markdown",
      "metadata": {
        "colab_type": "text",
        "id": "E-agaqakD1Ai"
      },
      "source": [
        "## *dict.keys()*\n",
        "\n",
        "Retorna uma lista contendo as chaves (*keys*) do dicionário."
      ]
    },
    {
      "cell_type": "code",
      "execution_count": 75,
      "metadata": {
        "colab": {},
        "colab_type": "code",
        "id": "qFADEYmBD1Aj"
      },
      "outputs": [
        {
          "data": {
            "text/plain": [
              "dict_keys(['Jetta Variant', 'Crossfox', 'DS5', 'Passat', 'Fusca'])"
            ]
          },
          "execution_count": 75,
          "metadata": {},
          "output_type": "execute_result"
        }
      ],
      "source": [
        "dados.keys()"
      ]
    },
    {
      "cell_type": "code",
      "execution_count": 76,
      "metadata": {
        "colab": {},
        "colab_type": "code",
        "id": "niwh9AgDD1Aj"
      },
      "outputs": [
        {
          "name": "stdout",
          "output_type": "stream",
          "text": [
            "88078.64\n",
            "72832.16\n",
            "124549.07\n",
            "106161.94\n",
            "150000\n"
          ]
        }
      ],
      "source": [
        "for key in dados.keys():\n",
        "    print(dados[key])"
      ]
    },
    {
      "cell_type": "markdown",
      "metadata": {
        "colab_type": "text",
        "id": "qFj6Cc7dD1Ak"
      },
      "source": [
        "## *dict.values()*\n",
        "\n",
        "Retorna uma lista com todos os valores (*values*) do dicionário."
      ]
    },
    {
      "cell_type": "code",
      "execution_count": 77,
      "metadata": {
        "colab": {},
        "colab_type": "code",
        "id": "nfpLxrQVD1Al"
      },
      "outputs": [
        {
          "data": {
            "text/plain": [
              "dict_values([88078.64, 72832.16, 124549.07, 106161.94, 150000])"
            ]
          },
          "execution_count": 77,
          "metadata": {},
          "output_type": "execute_result"
        }
      ],
      "source": [
        "dados.values()"
      ]
    },
    {
      "cell_type": "markdown",
      "metadata": {
        "colab_type": "text",
        "id": "-NGRwX0AD1Al"
      },
      "source": [
        "## *dict.items()*\n",
        "\n",
        "Retorna uma lista contendo uma tupla para cada par chave-valor (*key-value*) do dicionário."
      ]
    },
    {
      "cell_type": "code",
      "execution_count": 78,
      "metadata": {
        "colab": {},
        "colab_type": "code",
        "id": "Q2I9_6YvD1Am"
      },
      "outputs": [
        {
          "data": {
            "text/plain": [
              "dict_items([('Jetta Variant', 88078.64), ('Crossfox', 72832.16), ('DS5', 124549.07), ('Passat', 106161.94), ('Fusca', 150000)])"
            ]
          },
          "execution_count": 78,
          "metadata": {},
          "output_type": "execute_result"
        }
      ],
      "source": [
        "dados.items()"
      ]
    },
    {
      "cell_type": "code",
      "execution_count": 79,
      "metadata": {
        "colab": {},
        "colab_type": "code",
        "id": "0j41ZqgQD1Am"
      },
      "outputs": [
        {
          "name": "stdout",
          "output_type": "stream",
          "text": [
            "('Jetta Variant', 88078.64)\n",
            "('Crossfox', 72832.16)\n",
            "('DS5', 124549.07)\n",
            "('Passat', 106161.94)\n",
            "('Fusca', 150000)\n"
          ]
        }
      ],
      "source": [
        "for item in dados.items():\n",
        "    print(item)"
      ]
    },
    {
      "cell_type": "code",
      "execution_count": 80,
      "metadata": {
        "colab": {},
        "colab_type": "code",
        "id": "OVY9rIwFD1An"
      },
      "outputs": [
        {
          "name": "stdout",
          "output_type": "stream",
          "text": [
            "Jetta Variant 88078.64\n",
            "Crossfox 72832.16\n",
            "DS5 124549.07\n",
            "Passat 106161.94\n",
            "Fusca 150000\n"
          ]
        }
      ],
      "source": [
        "for key, value in dados.items():\n",
        "    print(key, value)"
      ]
    },
    {
      "cell_type": "code",
      "execution_count": 81,
      "metadata": {
        "colab": {},
        "colab_type": "code",
        "id": "ma2Ol8vcD1Ap"
      },
      "outputs": [
        {
          "name": "stdout",
          "output_type": "stream",
          "text": [
            "DS5\n",
            "Passat\n",
            "Fusca\n"
          ]
        }
      ],
      "source": [
        "for key, value in dados.items():\n",
        "    if(value > 100000):\n",
        "        print(key)"
      ]
    },
    {
      "cell_type": "markdown",
      "metadata": {
        "colab_type": "text",
        "id": "-q3AlSg3D1Aq"
      },
      "source": [
        "# <font color=green> 4. FUNÇÕES E PACOTES\n",
        "---\n",
        "    \n",
        "Funções são unidades de código reutilizáveis que realizam uma tarefa específica, podem receber alguma entrada e também podem retornar alguma resultado."
      ]
    },
    {
      "cell_type": "markdown",
      "metadata": {
        "colab_type": "text",
        "id": "5CfEcU58D1Aq"
      },
      "source": [
        "# 4.1 Built-in function\n",
        "\n",
        "A linguagem Python possui várias funções integradas que estão sempre acessíveis. Algumas já utilizamos em nosso treinamento: type(), print(), zip(), len(), set() etc.\n",
        "\n",
        "https://docs.python.org/3.6/library/functions.html"
      ]
    },
    {
      "cell_type": "code",
      "execution_count": 82,
      "metadata": {
        "colab": {},
        "colab_type": "code",
        "id": "DP7cmY7xD1Aq"
      },
      "outputs": [
        {
          "data": {
            "text/plain": [
              "{'Jetta Variant': 88078.64, 'Passat': 106161.94, 'Crossfox': 72832.16}"
            ]
          },
          "execution_count": 82,
          "metadata": {},
          "output_type": "execute_result"
        }
      ],
      "source": [
        "dados = {'Jetta Variant': 88078.64, 'Passat': 106161.94, 'Crossfox': 72832.16}\n",
        "dados"
      ]
    },
    {
      "cell_type": "code",
      "execution_count": 83,
      "metadata": {
        "colab": {},
        "colab_type": "code",
        "id": "5zAcGSCbD1Ar"
      },
      "outputs": [
        {
          "data": {
            "text/plain": [
              "[88078.64, 106161.94, 72832.16]"
            ]
          },
          "execution_count": 83,
          "metadata": {},
          "output_type": "execute_result"
        }
      ],
      "source": [
        "valores = []\n",
        "for valor in dados.values():\n",
        "    valores.append(valor)\n",
        "valores"
      ]
    },
    {
      "cell_type": "code",
      "execution_count": 84,
      "metadata": {
        "colab": {},
        "colab_type": "code",
        "id": "zG9_jU_1D1At"
      },
      "outputs": [
        {
          "data": {
            "text/plain": [
              "267072.74"
            ]
          },
          "execution_count": 84,
          "metadata": {},
          "output_type": "execute_result"
        }
      ],
      "source": [
        "soma = 0\n",
        "for valor in dados.values():\n",
        "    soma += valor\n",
        "soma"
      ]
    },
    {
      "cell_type": "code",
      "execution_count": 85,
      "metadata": {
        "colab": {},
        "colab_type": "code",
        "id": "jn0O3uXZD1Au"
      },
      "outputs": [
        {
          "data": {
            "text/plain": [
              "[88078.64, 106161.94, 72832.16]"
            ]
          },
          "execution_count": 85,
          "metadata": {},
          "output_type": "execute_result"
        }
      ],
      "source": [
        "list(dados.values())"
      ]
    },
    {
      "cell_type": "code",
      "execution_count": 86,
      "metadata": {
        "colab": {},
        "colab_type": "code",
        "id": "lnUjKVnoD1Aw"
      },
      "outputs": [
        {
          "data": {
            "text/plain": [
              "267072.74"
            ]
          },
          "execution_count": 86,
          "metadata": {},
          "output_type": "execute_result"
        }
      ],
      "source": [
        "sum(dados.values())"
      ]
    },
    {
      "cell_type": "code",
      "execution_count": 87,
      "metadata": {
        "colab": {},
        "colab_type": "code",
        "id": "WdEuYXe2D1Ay",
        "scrolled": false
      },
      "outputs": [
        {
          "name": "stdout",
          "output_type": "stream",
          "text": [
            "Help on built-in function print in module builtins:\n",
            "\n",
            "print(...)\n",
            "    print(value, ..., sep=' ', end='\\n', file=sys.stdout, flush=False)\n",
            "    \n",
            "    Prints the values to a stream, or to sys.stdout by default.\n",
            "    Optional keyword arguments:\n",
            "    file:  a file-like object (stream); defaults to the current sys.stdout.\n",
            "    sep:   string inserted between values, default a space.\n",
            "    end:   string appended after the last value, default a newline.\n",
            "    flush: whether to forcibly flush the stream.\n",
            "\n"
          ]
        }
      ],
      "source": [
        "help(print)"
      ]
    },
    {
      "cell_type": "code",
      "execution_count": 88,
      "metadata": {
        "colab": {},
        "colab_type": "code",
        "id": "hIA29O3tD1Az"
      },
      "outputs": [
        {
          "name": "stdout",
          "output_type": "stream",
          "text": [
            "\u001b[1;31mDocstring:\u001b[0m\n",
            "print(value, ..., sep=' ', end='\\n', file=sys.stdout, flush=False)\n",
            "\n",
            "Prints the values to a stream, or to sys.stdout by default.\n",
            "Optional keyword arguments:\n",
            "file:  a file-like object (stream); defaults to the current sys.stdout.\n",
            "sep:   string inserted between values, default a space.\n",
            "end:   string appended after the last value, default a newline.\n",
            "flush: whether to forcibly flush the stream.\n",
            "\u001b[1;31mType:\u001b[0m      builtin_function_or_method\n"
          ]
        }
      ],
      "source": [
        "print?"
      ]
    },
    {
      "cell_type": "markdown",
      "metadata": {
        "colab_type": "text",
        "id": "6w62Sl5ZD1A0"
      },
      "source": [
        "# 4.2 Definindo funções sem e com parâmetros"
      ]
    },
    {
      "cell_type": "markdown",
      "metadata": {
        "colab_type": "text",
        "id": "OADZiBP2D1A0"
      },
      "source": [
        "### Funções sem parâmetros\n",
        "\n",
        "#### Formato padrão\n",
        "\n",
        "```\n",
        "def <nome>():\n",
        "    <instruções>\n",
        "```"
      ]
    },
    {
      "cell_type": "code",
      "execution_count": 89,
      "metadata": {
        "colab": {},
        "colab_type": "code",
        "id": "uCkplEpQD1A0"
      },
      "outputs": [],
      "source": [
        "def media():\n",
        "    valor = (1 + 2 + 3) / 3\n",
        "    print(valor)"
      ]
    },
    {
      "cell_type": "code",
      "execution_count": 90,
      "metadata": {
        "colab": {},
        "colab_type": "code",
        "id": "fOCEGq5VD1A1"
      },
      "outputs": [
        {
          "name": "stdout",
          "output_type": "stream",
          "text": [
            "2.0\n"
          ]
        }
      ],
      "source": [
        "media()"
      ]
    },
    {
      "cell_type": "markdown",
      "metadata": {
        "colab_type": "text",
        "id": "PwSlYSVAD1A2"
      },
      "source": [
        "### Funções com parâmetros\n",
        "\n",
        "#### Formato padrão\n",
        "\n",
        "```\n",
        "def <nome>(<param_1>, <param_2>, ..., <param_n>):\n",
        "    <instruções>\n",
        "```"
      ]
    },
    {
      "cell_type": "code",
      "execution_count": 91,
      "metadata": {
        "colab": {},
        "colab_type": "code",
        "id": "A3YnBUduD1A3"
      },
      "outputs": [],
      "source": [
        "def media(number_1, number_2, number_3):\n",
        "    valor = (number_1 + number_2 + number_3) / 3\n",
        "    print(valor)"
      ]
    },
    {
      "cell_type": "code",
      "execution_count": 92,
      "metadata": {
        "colab": {},
        "colab_type": "code",
        "id": "rGUZbRERD1A3"
      },
      "outputs": [
        {
          "name": "stdout",
          "output_type": "stream",
          "text": [
            "2.0\n"
          ]
        }
      ],
      "source": [
        "media(1, 2, 3)"
      ]
    },
    {
      "cell_type": "code",
      "execution_count": 93,
      "metadata": {
        "colab": {},
        "colab_type": "code",
        "id": "B9WDlRE7D1A5"
      },
      "outputs": [
        {
          "name": "stdout",
          "output_type": "stream",
          "text": [
            "45.0\n"
          ]
        }
      ],
      "source": [
        "media(23, 45, 67)"
      ]
    },
    {
      "cell_type": "code",
      "execution_count": 94,
      "metadata": {
        "colab": {},
        "colab_type": "code",
        "id": "1HAy8OK_D1A6"
      },
      "outputs": [],
      "source": [
        "def media(lista):\n",
        "    valor = sum(lista) / len(lista)\n",
        "    print(valor)"
      ]
    },
    {
      "cell_type": "code",
      "execution_count": 95,
      "metadata": {
        "colab": {},
        "colab_type": "code",
        "id": "_CDa4oOfD1A6"
      },
      "outputs": [
        {
          "name": "stdout",
          "output_type": "stream",
          "text": [
            "5.0\n"
          ]
        }
      ],
      "source": [
        "resultado = media([1, 2, 3, 4, 5, 6, 7, 8, 9])"
      ]
    },
    {
      "cell_type": "code",
      "execution_count": 96,
      "metadata": {
        "colab": {},
        "colab_type": "code",
        "id": "xH-mxqYAD1A8"
      },
      "outputs": [],
      "source": [
        "resultado"
      ]
    },
    {
      "cell_type": "code",
      "execution_count": 97,
      "metadata": {
        "colab": {},
        "colab_type": "code",
        "id": "WXXC_UidD1A8"
      },
      "outputs": [
        {
          "data": {
            "text/plain": [
              "NoneType"
            ]
          },
          "execution_count": 97,
          "metadata": {},
          "output_type": "execute_result"
        }
      ],
      "source": [
        "type(resultado)"
      ]
    },
    {
      "cell_type": "markdown",
      "metadata": {
        "colab_type": "text",
        "id": "8zNYrmFbD1A9"
      },
      "source": [
        "# 4.3 Definindo funções que retornam valores"
      ]
    },
    {
      "cell_type": "markdown",
      "metadata": {
        "colab_type": "text",
        "id": "J44K-dMOD1A9"
      },
      "source": [
        "### Funções que retornam um valor\n",
        "\n",
        "#### Formato padrão\n",
        "\n",
        "```\n",
        "def <nome>(<param_1>, <param_2>, ..., <param_n>):\n",
        "    <instruções>\n",
        "    return <resultado>\n",
        "```"
      ]
    },
    {
      "cell_type": "code",
      "execution_count": 98,
      "metadata": {
        "colab": {},
        "colab_type": "code",
        "id": "-UG42RQJD1A9"
      },
      "outputs": [],
      "source": [
        "def media(lista):\n",
        "    valor = sum(lista) / len(lista)\n",
        "    print(valor)\n"
      ]
    },
    {
      "cell_type": "code",
      "execution_count": 99,
      "metadata": {
        "colab": {},
        "colab_type": "code",
        "id": "VJwdvoT5D1A-"
      },
      "outputs": [],
      "source": [
        "def media(lista):\n",
        "    valor = sum(lista) / len(lista)\n",
        "    return valor\n"
      ]
    },
    {
      "cell_type": "code",
      "execution_count": 100,
      "metadata": {
        "colab": {},
        "colab_type": "code",
        "id": "AgAeJkpND1A-"
      },
      "outputs": [
        {
          "data": {
            "text/plain": [
              "5.0"
            ]
          },
          "execution_count": 100,
          "metadata": {},
          "output_type": "execute_result"
        }
      ],
      "source": [
        "media([1, 2, 3, 4, 5, 6, 7, 8, 9])"
      ]
    },
    {
      "cell_type": "code",
      "execution_count": 101,
      "metadata": {
        "colab": {},
        "colab_type": "code",
        "id": "_r616TevD1A_"
      },
      "outputs": [],
      "source": [
        "resultado = media([1, 2, 3, 4, 5, 6, 7, 8, 9])"
      ]
    },
    {
      "cell_type": "code",
      "execution_count": 102,
      "metadata": {},
      "outputs": [
        {
          "data": {
            "text/plain": [
              "5.0"
            ]
          },
          "execution_count": 102,
          "metadata": {},
          "output_type": "execute_result"
        }
      ],
      "source": [
        "resultado"
      ]
    },
    {
      "cell_type": "markdown",
      "metadata": {
        "colab_type": "text",
        "id": "MQaK8GV5D1BA"
      },
      "source": [
        "### Funções que retornam mais de um valor\n",
        "\n",
        "#### Formato padrão\n",
        "\n",
        "```\n",
        "def <nome>(<param_1>, <param_2>, ..., <param_n>):\n",
        "    <instruções>\n",
        "    return (<resultado_1>, <resultado_2>, ..., <resultado_n>)\n",
        "```"
      ]
    },
    {
      "cell_type": "code",
      "execution_count": 103,
      "metadata": {
        "colab": {},
        "colab_type": "code",
        "id": "v0PUMegVD1BA"
      },
      "outputs": [],
      "source": [
        "def media(lista):\n",
        "    valor = sum(lista) / len(lista)\n",
        "    return (valor, len(lista))"
      ]
    },
    {
      "cell_type": "code",
      "execution_count": 104,
      "metadata": {
        "colab": {},
        "colab_type": "code",
        "id": "Ys-etom8D1BA"
      },
      "outputs": [
        {
          "data": {
            "text/plain": [
              "(5.0, 9)"
            ]
          },
          "execution_count": 104,
          "metadata": {},
          "output_type": "execute_result"
        }
      ],
      "source": [
        "media([1, 2, 3, 4, 5, 6, 7, 8, 9])"
      ]
    },
    {
      "cell_type": "code",
      "execution_count": 105,
      "metadata": {
        "colab": {},
        "colab_type": "code",
        "id": "LERrvkMHD1BC"
      },
      "outputs": [],
      "source": [
        "resultado, n = media([1, 2, 3, 4, 5, 6, 7, 8, 9])"
      ]
    },
    {
      "cell_type": "code",
      "execution_count": 106,
      "metadata": {
        "colab": {},
        "colab_type": "code",
        "id": "sqoFOWSsD1BC"
      },
      "outputs": [
        {
          "data": {
            "text/plain": [
              "5.0"
            ]
          },
          "execution_count": 106,
          "metadata": {},
          "output_type": "execute_result"
        }
      ],
      "source": [
        "resultado"
      ]
    },
    {
      "cell_type": "code",
      "execution_count": 107,
      "metadata": {
        "colab": {},
        "colab_type": "code",
        "id": "NdB_Jyw_D1BD"
      },
      "outputs": [
        {
          "data": {
            "text/plain": [
              "9"
            ]
          },
          "execution_count": 107,
          "metadata": {},
          "output_type": "execute_result"
        }
      ],
      "source": [
        "n"
      ]
    },
    {
      "cell_type": "code",
      "execution_count": 108,
      "metadata": {},
      "outputs": [
        {
          "data": {
            "text/plain": [
              "{'Crossfox': 2500.0,\n",
              " 'DS5': 4250.0,\n",
              " 'Fusca': 3250.0,\n",
              " 'Jetta': 7000.0,\n",
              " 'Passat': 3100.0}"
            ]
          },
          "execution_count": 108,
          "metadata": {},
          "output_type": "execute_result"
        }
      ],
      "source": [
        "#exercício\n",
        "dados = {\n",
        "    'Crossfox': {'km': 35000, 'ano': 2005},\n",
        "    'DS5': {'km': 17000, 'ano': 2015},\n",
        "    'Fusca': {'km': 130000, 'ano': 1979},\n",
        "    'Jetta': {'km': 56000, 'ano': 2011},\n",
        "    'Passat': {'km': 62000, 'ano': 1999}\n",
        "}\n",
        "\n",
        "\n",
        "def km_media(dataset, ano_atual):\n",
        "    result = {}\n",
        "    for item in dataset.items():\n",
        "        media = item[1]['km'] / (ano_atual - item[1]['ano'])\n",
        "        result.update({item[0]: media})\n",
        "    return result\n",
        "\n",
        "\n",
        "km_media(dados, 2019)\n"
      ]
    },
    {
      "cell_type": "code",
      "execution_count": 109,
      "metadata": {},
      "outputs": [
        {
          "data": {
            "text/plain": [
              "{'Crossfox': {'km': 35000, 'ano': 2005, 'km_media': 2500.0},\n",
              " 'DS5': {'km': 17000, 'ano': 2015, 'km_media': 4250.0},\n",
              " 'Fusca': {'km': 130000, 'ano': 1979, 'km_media': 3250.0},\n",
              " 'Jetta': {'km': 56000, 'ano': 2011, 'km_media': 7000.0},\n",
              " 'Passat': {'km': 62000, 'ano': 1999, 'km_media': 3100.0}}"
            ]
          },
          "execution_count": 109,
          "metadata": {},
          "output_type": "execute_result"
        }
      ],
      "source": [
        "#exercício\n",
        "dados = {\n",
        "    'Crossfox': {'km': 35000, 'ano': 2005},\n",
        "    'DS5': {'km': 17000, 'ano': 2015},\n",
        "    'Fusca': {'km': 130000, 'ano': 1979},\n",
        "    'Jetta': {'km': 56000, 'ano': 2011},\n",
        "    'Passat': {'km': 62000, 'ano': 1999}\n",
        "}\n",
        "\n",
        "\n",
        "def km_media(dataset, ano_atual):\n",
        "    result = {}\n",
        "    for item in dataset.items():\n",
        "        media = item[1]['km'] / (ano_atual - item[1]['ano'])\n",
        "        item[1].update({'km_media': media})\n",
        "        result.update({item[0]: item[1]})\n",
        "\n",
        "    return result\n",
        "\n",
        "\n",
        "km_media(dados, 2019)\n"
      ]
    },
    {
      "cell_type": "markdown",
      "metadata": {
        "colab_type": "text",
        "id": "uQ5lNnKrD1BD"
      },
      "source": [
        "# <font color=green> 5. PANDAS BÁSICO\n",
        "---\n",
        "\n",
        "**versão: 0.25.2**\n",
        "  \n",
        "Pandas é uma ferramenta de manipulação de dados de alto nível, construída com base no pacote Numpy. O pacote pandas possui estruturas de dados bastante interessantes para manipulação de dados e por isso é muito utilizado por cientistas de dados.\n",
        "\n",
        "\n",
        "## Estruturas de Dados\n",
        "\n",
        "### Series\n",
        "\n",
        "Series são arrays unidimensionais rotulados capazes de armazenar qualquer tipo de dado. Os rótulos das linhas são chamados de **index**. A forma básica de criação de uma Series é a seguinte:\n",
        "\n",
        "\n",
        "```\n",
        "    s = pd.Series(dados, index = index)\n",
        "```\n",
        "\n",
        "O argumento *dados* pode ser um dicionário, uma lista, um array Numpy ou uma constante.\n",
        "\n",
        "### DataFrames\n",
        "\n",
        "DataFrame é uma estrutura de dados tabular bidimensional com rótulos nas linha e colunas. Como a Series, os DataFrames são capazes de armazenar qualquer tipo de dados.\n",
        "\n",
        "\n",
        "```\n",
        "    df = pd.DataFrame(dados, index = index, columns = columns)\n",
        "```\n",
        "\n",
        "O argumento *dados* pode ser um dicionário, uma lista, um array Numpy, uma Series e outro DataFrame.\n",
        "\n",
        "**Documentação:** https://pandas.pydata.org/pandas-docs/version/0.25/"
      ]
    },
    {
      "cell_type": "markdown",
      "metadata": {
        "colab_type": "text",
        "id": "2qa7RC03D1BD"
      },
      "source": [
        "# 5.1 Estruturas de dados"
      ]
    },
    {
      "cell_type": "code",
      "execution_count": 112,
      "metadata": {
        "colab": {},
        "colab_type": "code",
        "id": "4QyFDeS4D1BD"
      },
      "outputs": [],
      "source": [
        "import pandas as pd"
      ]
    },
    {
      "cell_type": "markdown",
      "metadata": {
        "colab_type": "text",
        "id": "kIey8_OcD1BF"
      },
      "source": [
        "### Criando uma Series a partir de uma lista"
      ]
    },
    {
      "cell_type": "code",
      "execution_count": 113,
      "metadata": {
        "colab": {},
        "colab_type": "code",
        "id": "yEZR6DWiD1BF"
      },
      "outputs": [
        {
          "data": {
            "text/plain": [
              "['Jetta Variant', 'Passat', 'CrossFox']"
            ]
          },
          "execution_count": 113,
          "metadata": {},
          "output_type": "execute_result"
        }
      ],
      "source": [
        "carros = ['Jetta Variant', 'Passat', 'CrossFox' ]\n",
        "carros"
      ]
    },
    {
      "cell_type": "code",
      "execution_count": 114,
      "metadata": {
        "colab": {},
        "colab_type": "code",
        "id": "rLudWKZ_D1BF"
      },
      "outputs": [
        {
          "data": {
            "text/plain": [
              "0    Jetta Variant\n",
              "1           Passat\n",
              "2         CrossFox\n",
              "dtype: object"
            ]
          },
          "execution_count": 114,
          "metadata": {},
          "output_type": "execute_result"
        }
      ],
      "source": [
        "pd.Series(carros)"
      ]
    },
    {
      "cell_type": "markdown",
      "metadata": {
        "colab_type": "text",
        "id": "VYVIKd1-D1BG"
      },
      "source": [
        "### Criando um DataFrame a partir de uma lista de dicionários"
      ]
    },
    {
      "cell_type": "code",
      "execution_count": 115,
      "metadata": {
        "colab": {},
        "colab_type": "code",
        "id": "QFNS9PckD1BG"
      },
      "outputs": [],
      "source": [
        "dados = [\n",
        "    {'Nome': 'Jetta Variant', 'Motor': 'Motor 4.0 Turbo', 'Ano': 2003, 'Quilometragem': 44410.0, 'Zero_km': False, 'Valor': 88078.64},\n",
        "    {'Nome': 'Passat', 'Motor': 'Motor Diesel', 'Ano': 1991, 'Quilometragem': 5712.0, 'Zero_km': False, 'Valor': 106161.94},\n",
        "    {'Nome': 'Crossfox', 'Motor': 'Motor Diesel V8', 'Ano': 1990, 'Quilometragem': 37123.0, 'Zero_km': False, 'Valor': 72832.16}\n",
        "]"
      ]
    },
    {
      "cell_type": "code",
      "execution_count": 116,
      "metadata": {
        "colab": {},
        "colab_type": "code",
        "id": "WDQb9AnKD1BH"
      },
      "outputs": [],
      "source": [
        "dataset = pd.DataFrame(dados)"
      ]
    },
    {
      "cell_type": "code",
      "execution_count": 117,
      "metadata": {
        "colab": {},
        "colab_type": "code",
        "id": "-2-jGvmGD1BI"
      },
      "outputs": [
        {
          "data": {
            "text/html": [
              "<div>\n",
              "<style scoped>\n",
              "    .dataframe tbody tr th:only-of-type {\n",
              "        vertical-align: middle;\n",
              "    }\n",
              "\n",
              "    .dataframe tbody tr th {\n",
              "        vertical-align: top;\n",
              "    }\n",
              "\n",
              "    .dataframe thead th {\n",
              "        text-align: right;\n",
              "    }\n",
              "</style>\n",
              "<table border=\"1\" class=\"dataframe\">\n",
              "  <thead>\n",
              "    <tr style=\"text-align: right;\">\n",
              "      <th></th>\n",
              "      <th>Nome</th>\n",
              "      <th>Motor</th>\n",
              "      <th>Ano</th>\n",
              "      <th>Quilometragem</th>\n",
              "      <th>Zero_km</th>\n",
              "      <th>Valor</th>\n",
              "    </tr>\n",
              "  </thead>\n",
              "  <tbody>\n",
              "    <tr>\n",
              "      <th>0</th>\n",
              "      <td>Jetta Variant</td>\n",
              "      <td>Motor 4.0 Turbo</td>\n",
              "      <td>2003</td>\n",
              "      <td>44410.0</td>\n",
              "      <td>False</td>\n",
              "      <td>88078.64</td>\n",
              "    </tr>\n",
              "    <tr>\n",
              "      <th>1</th>\n",
              "      <td>Passat</td>\n",
              "      <td>Motor Diesel</td>\n",
              "      <td>1991</td>\n",
              "      <td>5712.0</td>\n",
              "      <td>False</td>\n",
              "      <td>106161.94</td>\n",
              "    </tr>\n",
              "    <tr>\n",
              "      <th>2</th>\n",
              "      <td>Crossfox</td>\n",
              "      <td>Motor Diesel V8</td>\n",
              "      <td>1990</td>\n",
              "      <td>37123.0</td>\n",
              "      <td>False</td>\n",
              "      <td>72832.16</td>\n",
              "    </tr>\n",
              "  </tbody>\n",
              "</table>\n",
              "</div>"
            ],
            "text/plain": [
              "            Nome            Motor   Ano  Quilometragem  Zero_km      Valor\n",
              "0  Jetta Variant  Motor 4.0 Turbo  2003        44410.0    False   88078.64\n",
              "1         Passat     Motor Diesel  1991         5712.0    False  106161.94\n",
              "2       Crossfox  Motor Diesel V8  1990        37123.0    False   72832.16"
            ]
          },
          "execution_count": 117,
          "metadata": {},
          "output_type": "execute_result"
        }
      ],
      "source": [
        "dataset"
      ]
    },
    {
      "cell_type": "code",
      "execution_count": 118,
      "metadata": {
        "colab": {},
        "colab_type": "code",
        "id": "2kbyOThiD1BJ"
      },
      "outputs": [
        {
          "data": {
            "text/html": [
              "<div>\n",
              "<style scoped>\n",
              "    .dataframe tbody tr th:only-of-type {\n",
              "        vertical-align: middle;\n",
              "    }\n",
              "\n",
              "    .dataframe tbody tr th {\n",
              "        vertical-align: top;\n",
              "    }\n",
              "\n",
              "    .dataframe thead th {\n",
              "        text-align: right;\n",
              "    }\n",
              "</style>\n",
              "<table border=\"1\" class=\"dataframe\">\n",
              "  <thead>\n",
              "    <tr style=\"text-align: right;\">\n",
              "      <th></th>\n",
              "      <th>Nome</th>\n",
              "      <th>Ano</th>\n",
              "      <th>Motor</th>\n",
              "      <th>Quilometragem</th>\n",
              "      <th>Zero_km</th>\n",
              "      <th>Valor</th>\n",
              "    </tr>\n",
              "  </thead>\n",
              "  <tbody>\n",
              "    <tr>\n",
              "      <th>0</th>\n",
              "      <td>Jetta Variant</td>\n",
              "      <td>2003</td>\n",
              "      <td>Motor 4.0 Turbo</td>\n",
              "      <td>44410.0</td>\n",
              "      <td>False</td>\n",
              "      <td>88078.64</td>\n",
              "    </tr>\n",
              "    <tr>\n",
              "      <th>1</th>\n",
              "      <td>Passat</td>\n",
              "      <td>1991</td>\n",
              "      <td>Motor Diesel</td>\n",
              "      <td>5712.0</td>\n",
              "      <td>False</td>\n",
              "      <td>106161.94</td>\n",
              "    </tr>\n",
              "    <tr>\n",
              "      <th>2</th>\n",
              "      <td>Crossfox</td>\n",
              "      <td>1990</td>\n",
              "      <td>Motor Diesel V8</td>\n",
              "      <td>37123.0</td>\n",
              "      <td>False</td>\n",
              "      <td>72832.16</td>\n",
              "    </tr>\n",
              "  </tbody>\n",
              "</table>\n",
              "</div>"
            ],
            "text/plain": [
              "            Nome   Ano            Motor  Quilometragem  Zero_km      Valor\n",
              "0  Jetta Variant  2003  Motor 4.0 Turbo        44410.0    False   88078.64\n",
              "1         Passat  1991     Motor Diesel         5712.0    False  106161.94\n",
              "2       Crossfox  1990  Motor Diesel V8        37123.0    False   72832.16"
            ]
          },
          "execution_count": 118,
          "metadata": {},
          "output_type": "execute_result"
        }
      ],
      "source": [
        "dataset[['Nome', 'Ano', 'Motor', 'Quilometragem', 'Zero_km', 'Valor']]"
      ]
    },
    {
      "cell_type": "markdown",
      "metadata": {
        "colab_type": "text",
        "id": "pJK2tQgYD1BK"
      },
      "source": [
        "### Criando um DataFrame a partir de um dicionário"
      ]
    },
    {
      "cell_type": "code",
      "execution_count": 119,
      "metadata": {
        "colab": {},
        "colab_type": "code",
        "id": "WKNQwKucD1BK"
      },
      "outputs": [],
      "source": [
        "dados = {\n",
        "    'Nome': ['Jetta Variant', 'Passat', 'Crossfox'], \n",
        "    'Motor': ['Motor 4.0 Turbo', 'Motor Diesel', 'Motor Diesel V8'],\n",
        "    'Ano': [2003, 1991, 1990],\n",
        "    'Quilometragem': [44410.0, 5712.0, 37123.0],\n",
        "    'Zero_km': [False, False, False],\n",
        "    'Valor': [88078.64, 106161.94, 72832.16]\n",
        "}"
      ]
    },
    {
      "cell_type": "code",
      "execution_count": 121,
      "metadata": {
        "colab": {},
        "colab_type": "code",
        "id": "lKnuZfzcD1BK"
      },
      "outputs": [],
      "source": [
        "dataset = pd.DataFrame(dados)"
      ]
    },
    {
      "cell_type": "code",
      "execution_count": 122,
      "metadata": {
        "colab": {},
        "colab_type": "code",
        "id": "PNqTytC-D1BL"
      },
      "outputs": [
        {
          "data": {
            "text/html": [
              "<div>\n",
              "<style scoped>\n",
              "    .dataframe tbody tr th:only-of-type {\n",
              "        vertical-align: middle;\n",
              "    }\n",
              "\n",
              "    .dataframe tbody tr th {\n",
              "        vertical-align: top;\n",
              "    }\n",
              "\n",
              "    .dataframe thead th {\n",
              "        text-align: right;\n",
              "    }\n",
              "</style>\n",
              "<table border=\"1\" class=\"dataframe\">\n",
              "  <thead>\n",
              "    <tr style=\"text-align: right;\">\n",
              "      <th></th>\n",
              "      <th>Nome</th>\n",
              "      <th>Motor</th>\n",
              "      <th>Ano</th>\n",
              "      <th>Quilometragem</th>\n",
              "      <th>Zero_km</th>\n",
              "      <th>Valor</th>\n",
              "    </tr>\n",
              "  </thead>\n",
              "  <tbody>\n",
              "    <tr>\n",
              "      <th>0</th>\n",
              "      <td>Jetta Variant</td>\n",
              "      <td>Motor 4.0 Turbo</td>\n",
              "      <td>2003</td>\n",
              "      <td>44410.0</td>\n",
              "      <td>False</td>\n",
              "      <td>88078.64</td>\n",
              "    </tr>\n",
              "    <tr>\n",
              "      <th>1</th>\n",
              "      <td>Passat</td>\n",
              "      <td>Motor Diesel</td>\n",
              "      <td>1991</td>\n",
              "      <td>5712.0</td>\n",
              "      <td>False</td>\n",
              "      <td>106161.94</td>\n",
              "    </tr>\n",
              "    <tr>\n",
              "      <th>2</th>\n",
              "      <td>Crossfox</td>\n",
              "      <td>Motor Diesel V8</td>\n",
              "      <td>1990</td>\n",
              "      <td>37123.0</td>\n",
              "      <td>False</td>\n",
              "      <td>72832.16</td>\n",
              "    </tr>\n",
              "  </tbody>\n",
              "</table>\n",
              "</div>"
            ],
            "text/plain": [
              "            Nome            Motor   Ano  Quilometragem  Zero_km      Valor\n",
              "0  Jetta Variant  Motor 4.0 Turbo  2003        44410.0    False   88078.64\n",
              "1         Passat     Motor Diesel  1991         5712.0    False  106161.94\n",
              "2       Crossfox  Motor Diesel V8  1990        37123.0    False   72832.16"
            ]
          },
          "execution_count": 122,
          "metadata": {},
          "output_type": "execute_result"
        }
      ],
      "source": [
        "dataset"
      ]
    },
    {
      "cell_type": "markdown",
      "metadata": {
        "colab_type": "text",
        "id": "fCCXs0reD1BL"
      },
      "source": [
        "### Criando um DataFrame a partir de uma arquivo externo"
      ]
    },
    {
      "cell_type": "code",
      "execution_count": 125,
      "metadata": {
        "colab": {},
        "colab_type": "code",
        "id": "78PRHGeZD1BL"
      },
      "outputs": [],
      "source": [
        "dataset = pd.read_csv('db.csv', sep = ';', index_col = 0)"
      ]
    },
    {
      "cell_type": "code",
      "execution_count": 126,
      "metadata": {},
      "outputs": [
        {
          "data": {
            "text/html": [
              "<div>\n",
              "<style scoped>\n",
              "    .dataframe tbody tr th:only-of-type {\n",
              "        vertical-align: middle;\n",
              "    }\n",
              "\n",
              "    .dataframe tbody tr th {\n",
              "        vertical-align: top;\n",
              "    }\n",
              "\n",
              "    .dataframe thead th {\n",
              "        text-align: right;\n",
              "    }\n",
              "</style>\n",
              "<table border=\"1\" class=\"dataframe\">\n",
              "  <thead>\n",
              "    <tr style=\"text-align: right;\">\n",
              "      <th></th>\n",
              "      <th>Motor</th>\n",
              "      <th>Ano</th>\n",
              "      <th>Quilometragem</th>\n",
              "      <th>Zero_km</th>\n",
              "      <th>Acessórios</th>\n",
              "      <th>Valor</th>\n",
              "    </tr>\n",
              "    <tr>\n",
              "      <th>Nome</th>\n",
              "      <th></th>\n",
              "      <th></th>\n",
              "      <th></th>\n",
              "      <th></th>\n",
              "      <th></th>\n",
              "      <th></th>\n",
              "    </tr>\n",
              "  </thead>\n",
              "  <tbody>\n",
              "    <tr>\n",
              "      <th>Jetta Variant</th>\n",
              "      <td>Motor 4.0 Turbo</td>\n",
              "      <td>2003</td>\n",
              "      <td>44410.0</td>\n",
              "      <td>False</td>\n",
              "      <td>['Rodas de liga', 'Travas elétricas', 'Piloto ...</td>\n",
              "      <td>88078.64</td>\n",
              "    </tr>\n",
              "    <tr>\n",
              "      <th>Passat</th>\n",
              "      <td>Motor Diesel</td>\n",
              "      <td>1991</td>\n",
              "      <td>5712.0</td>\n",
              "      <td>False</td>\n",
              "      <td>['Central multimídia', 'Teto panorâmico', 'Fre...</td>\n",
              "      <td>106161.94</td>\n",
              "    </tr>\n",
              "    <tr>\n",
              "      <th>Crossfox</th>\n",
              "      <td>Motor Diesel V8</td>\n",
              "      <td>1990</td>\n",
              "      <td>37123.0</td>\n",
              "      <td>False</td>\n",
              "      <td>['Piloto automático', 'Controle de estabilidad...</td>\n",
              "      <td>72832.16</td>\n",
              "    </tr>\n",
              "    <tr>\n",
              "      <th>DS5</th>\n",
              "      <td>Motor 2.4 Turbo</td>\n",
              "      <td>2019</td>\n",
              "      <td>NaN</td>\n",
              "      <td>True</td>\n",
              "      <td>['Travas elétricas', '4 X 4', 'Vidros elétrico...</td>\n",
              "      <td>124549.07</td>\n",
              "    </tr>\n",
              "    <tr>\n",
              "      <th>Aston Martin DB4</th>\n",
              "      <td>Motor 2.4 Turbo</td>\n",
              "      <td>2006</td>\n",
              "      <td>25757.0</td>\n",
              "      <td>False</td>\n",
              "      <td>['Rodas de liga', '4 X 4', 'Central multimídia...</td>\n",
              "      <td>92612.10</td>\n",
              "    </tr>\n",
              "    <tr>\n",
              "      <th>...</th>\n",
              "      <td>...</td>\n",
              "      <td>...</td>\n",
              "      <td>...</td>\n",
              "      <td>...</td>\n",
              "      <td>...</td>\n",
              "      <td>...</td>\n",
              "    </tr>\n",
              "    <tr>\n",
              "      <th>Phantom 2013</th>\n",
              "      <td>Motor V8</td>\n",
              "      <td>2014</td>\n",
              "      <td>27505.0</td>\n",
              "      <td>False</td>\n",
              "      <td>['Controle de estabilidade', 'Piloto automátic...</td>\n",
              "      <td>51759.58</td>\n",
              "    </tr>\n",
              "    <tr>\n",
              "      <th>Cadillac Ciel concept</th>\n",
              "      <td>Motor V8</td>\n",
              "      <td>1991</td>\n",
              "      <td>29981.0</td>\n",
              "      <td>False</td>\n",
              "      <td>['Bancos de couro', 'Painel digital', 'Sensor ...</td>\n",
              "      <td>51667.06</td>\n",
              "    </tr>\n",
              "    <tr>\n",
              "      <th>Classe GLK</th>\n",
              "      <td>Motor 5.0 V8 Bi-Turbo</td>\n",
              "      <td>2002</td>\n",
              "      <td>52637.0</td>\n",
              "      <td>False</td>\n",
              "      <td>['Rodas de liga', 'Controle de tração', 'Câmbi...</td>\n",
              "      <td>68934.03</td>\n",
              "    </tr>\n",
              "    <tr>\n",
              "      <th>Aston Martin DB5</th>\n",
              "      <td>Motor Diesel</td>\n",
              "      <td>1996</td>\n",
              "      <td>7685.0</td>\n",
              "      <td>False</td>\n",
              "      <td>['Ar condicionado', '4 X 4', 'Câmbio automátic...</td>\n",
              "      <td>122110.90</td>\n",
              "    </tr>\n",
              "    <tr>\n",
              "      <th>Macan</th>\n",
              "      <td>Motor Diesel V6</td>\n",
              "      <td>1992</td>\n",
              "      <td>50188.0</td>\n",
              "      <td>False</td>\n",
              "      <td>['Central multimídia', 'Teto panorâmico', 'Vid...</td>\n",
              "      <td>90381.47</td>\n",
              "    </tr>\n",
              "  </tbody>\n",
              "</table>\n",
              "<p>258 rows × 6 columns</p>\n",
              "</div>"
            ],
            "text/plain": [
              "                                       Motor   Ano  Quilometragem  Zero_km  \\\n",
              "Nome                                                                         \n",
              "Jetta Variant                Motor 4.0 Turbo  2003        44410.0    False   \n",
              "Passat                          Motor Diesel  1991         5712.0    False   \n",
              "Crossfox                     Motor Diesel V8  1990        37123.0    False   \n",
              "DS5                          Motor 2.4 Turbo  2019            NaN     True   \n",
              "Aston Martin DB4             Motor 2.4 Turbo  2006        25757.0    False   \n",
              "...                                      ...   ...            ...      ...   \n",
              "Phantom 2013                        Motor V8  2014        27505.0    False   \n",
              "Cadillac Ciel concept               Motor V8  1991        29981.0    False   \n",
              "Classe GLK             Motor 5.0 V8 Bi-Turbo  2002        52637.0    False   \n",
              "Aston Martin DB5                Motor Diesel  1996         7685.0    False   \n",
              "Macan                        Motor Diesel V6  1992        50188.0    False   \n",
              "\n",
              "                                                              Acessórios  \\\n",
              "Nome                                                                       \n",
              "Jetta Variant          ['Rodas de liga', 'Travas elétricas', 'Piloto ...   \n",
              "Passat                 ['Central multimídia', 'Teto panorâmico', 'Fre...   \n",
              "Crossfox               ['Piloto automático', 'Controle de estabilidad...   \n",
              "DS5                    ['Travas elétricas', '4 X 4', 'Vidros elétrico...   \n",
              "Aston Martin DB4       ['Rodas de liga', '4 X 4', 'Central multimídia...   \n",
              "...                                                                  ...   \n",
              "Phantom 2013           ['Controle de estabilidade', 'Piloto automátic...   \n",
              "Cadillac Ciel concept  ['Bancos de couro', 'Painel digital', 'Sensor ...   \n",
              "Classe GLK             ['Rodas de liga', 'Controle de tração', 'Câmbi...   \n",
              "Aston Martin DB5       ['Ar condicionado', '4 X 4', 'Câmbio automátic...   \n",
              "Macan                  ['Central multimídia', 'Teto panorâmico', 'Vid...   \n",
              "\n",
              "                           Valor  \n",
              "Nome                              \n",
              "Jetta Variant           88078.64  \n",
              "Passat                 106161.94  \n",
              "Crossfox                72832.16  \n",
              "DS5                    124549.07  \n",
              "Aston Martin DB4        92612.10  \n",
              "...                          ...  \n",
              "Phantom 2013            51759.58  \n",
              "Cadillac Ciel concept   51667.06  \n",
              "Classe GLK              68934.03  \n",
              "Aston Martin DB5       122110.90  \n",
              "Macan                   90381.47  \n",
              "\n",
              "[258 rows x 6 columns]"
            ]
          },
          "execution_count": 126,
          "metadata": {},
          "output_type": "execute_result"
        }
      ],
      "source": [
        "dataset"
      ]
    },
    {
      "cell_type": "markdown",
      "metadata": {
        "colab_type": "text",
        "id": "y5V-1AK-D1BN"
      },
      "source": [
        "# 5.2 Seleções com DataFrames"
      ]
    },
    {
      "cell_type": "markdown",
      "metadata": {
        "colab_type": "text",
        "id": "wZjqlHe9D1BN"
      },
      "source": [
        "### Selecionando colunas"
      ]
    },
    {
      "cell_type": "code",
      "execution_count": 127,
      "metadata": {
        "colab": {},
        "colab_type": "code",
        "id": "gM3LbtzlD1BN",
        "scrolled": true
      },
      "outputs": [
        {
          "data": {
            "text/html": [
              "<div>\n",
              "<style scoped>\n",
              "    .dataframe tbody tr th:only-of-type {\n",
              "        vertical-align: middle;\n",
              "    }\n",
              "\n",
              "    .dataframe tbody tr th {\n",
              "        vertical-align: top;\n",
              "    }\n",
              "\n",
              "    .dataframe thead th {\n",
              "        text-align: right;\n",
              "    }\n",
              "</style>\n",
              "<table border=\"1\" class=\"dataframe\">\n",
              "  <thead>\n",
              "    <tr style=\"text-align: right;\">\n",
              "      <th></th>\n",
              "      <th>Motor</th>\n",
              "      <th>Ano</th>\n",
              "      <th>Quilometragem</th>\n",
              "      <th>Zero_km</th>\n",
              "      <th>Acessórios</th>\n",
              "      <th>Valor</th>\n",
              "    </tr>\n",
              "    <tr>\n",
              "      <th>Nome</th>\n",
              "      <th></th>\n",
              "      <th></th>\n",
              "      <th></th>\n",
              "      <th></th>\n",
              "      <th></th>\n",
              "      <th></th>\n",
              "    </tr>\n",
              "  </thead>\n",
              "  <tbody>\n",
              "    <tr>\n",
              "      <th>Jetta Variant</th>\n",
              "      <td>Motor 4.0 Turbo</td>\n",
              "      <td>2003</td>\n",
              "      <td>44410.0</td>\n",
              "      <td>False</td>\n",
              "      <td>['Rodas de liga', 'Travas elétricas', 'Piloto ...</td>\n",
              "      <td>88078.64</td>\n",
              "    </tr>\n",
              "    <tr>\n",
              "      <th>Passat</th>\n",
              "      <td>Motor Diesel</td>\n",
              "      <td>1991</td>\n",
              "      <td>5712.0</td>\n",
              "      <td>False</td>\n",
              "      <td>['Central multimídia', 'Teto panorâmico', 'Fre...</td>\n",
              "      <td>106161.94</td>\n",
              "    </tr>\n",
              "    <tr>\n",
              "      <th>Crossfox</th>\n",
              "      <td>Motor Diesel V8</td>\n",
              "      <td>1990</td>\n",
              "      <td>37123.0</td>\n",
              "      <td>False</td>\n",
              "      <td>['Piloto automático', 'Controle de estabilidad...</td>\n",
              "      <td>72832.16</td>\n",
              "    </tr>\n",
              "    <tr>\n",
              "      <th>DS5</th>\n",
              "      <td>Motor 2.4 Turbo</td>\n",
              "      <td>2019</td>\n",
              "      <td>NaN</td>\n",
              "      <td>True</td>\n",
              "      <td>['Travas elétricas', '4 X 4', 'Vidros elétrico...</td>\n",
              "      <td>124549.07</td>\n",
              "    </tr>\n",
              "    <tr>\n",
              "      <th>Aston Martin DB4</th>\n",
              "      <td>Motor 2.4 Turbo</td>\n",
              "      <td>2006</td>\n",
              "      <td>25757.0</td>\n",
              "      <td>False</td>\n",
              "      <td>['Rodas de liga', '4 X 4', 'Central multimídia...</td>\n",
              "      <td>92612.10</td>\n",
              "    </tr>\n",
              "  </tbody>\n",
              "</table>\n",
              "</div>"
            ],
            "text/plain": [
              "                            Motor   Ano  Quilometragem  Zero_km  \\\n",
              "Nome                                                              \n",
              "Jetta Variant     Motor 4.0 Turbo  2003        44410.0    False   \n",
              "Passat               Motor Diesel  1991         5712.0    False   \n",
              "Crossfox          Motor Diesel V8  1990        37123.0    False   \n",
              "DS5               Motor 2.4 Turbo  2019            NaN     True   \n",
              "Aston Martin DB4  Motor 2.4 Turbo  2006        25757.0    False   \n",
              "\n",
              "                                                         Acessórios      Valor  \n",
              "Nome                                                                            \n",
              "Jetta Variant     ['Rodas de liga', 'Travas elétricas', 'Piloto ...   88078.64  \n",
              "Passat            ['Central multimídia', 'Teto panorâmico', 'Fre...  106161.94  \n",
              "Crossfox          ['Piloto automático', 'Controle de estabilidad...   72832.16  \n",
              "DS5               ['Travas elétricas', '4 X 4', 'Vidros elétrico...  124549.07  \n",
              "Aston Martin DB4  ['Rodas de liga', '4 X 4', 'Central multimídia...   92612.10  "
            ]
          },
          "execution_count": 127,
          "metadata": {},
          "output_type": "execute_result"
        }
      ],
      "source": [
        "dataset.head()"
      ]
    },
    {
      "cell_type": "code",
      "execution_count": 128,
      "metadata": {
        "colab": {},
        "colab_type": "code",
        "id": "R2FWgCM_D1BO"
      },
      "outputs": [
        {
          "data": {
            "text/plain": [
              "Nome\n",
              "Jetta Variant             88078.64\n",
              "Passat                   106161.94\n",
              "Crossfox                  72832.16\n",
              "DS5                      124549.07\n",
              "Aston Martin DB4          92612.10\n",
              "                           ...    \n",
              "Phantom 2013              51759.58\n",
              "Cadillac Ciel concept     51667.06\n",
              "Classe GLK                68934.03\n",
              "Aston Martin DB5         122110.90\n",
              "Macan                     90381.47\n",
              "Name: Valor, Length: 258, dtype: float64"
            ]
          },
          "execution_count": 128,
          "metadata": {},
          "output_type": "execute_result"
        }
      ],
      "source": [
        "dataset['Valor']"
      ]
    },
    {
      "cell_type": "code",
      "execution_count": 129,
      "metadata": {
        "colab": {},
        "colab_type": "code",
        "id": "lCCumsxsD1BP",
        "scrolled": true
      },
      "outputs": [
        {
          "data": {
            "text/plain": [
              "pandas.core.series.Series"
            ]
          },
          "execution_count": 129,
          "metadata": {},
          "output_type": "execute_result"
        }
      ],
      "source": [
        "type(dataset['Valor'])"
      ]
    },
    {
      "cell_type": "code",
      "execution_count": 130,
      "metadata": {
        "colab": {},
        "colab_type": "code",
        "id": "zxlyC3B8D1BP"
      },
      "outputs": [
        {
          "data": {
            "text/html": [
              "<div>\n",
              "<style scoped>\n",
              "    .dataframe tbody tr th:only-of-type {\n",
              "        vertical-align: middle;\n",
              "    }\n",
              "\n",
              "    .dataframe tbody tr th {\n",
              "        vertical-align: top;\n",
              "    }\n",
              "\n",
              "    .dataframe thead th {\n",
              "        text-align: right;\n",
              "    }\n",
              "</style>\n",
              "<table border=\"1\" class=\"dataframe\">\n",
              "  <thead>\n",
              "    <tr style=\"text-align: right;\">\n",
              "      <th></th>\n",
              "      <th>Valor</th>\n",
              "    </tr>\n",
              "    <tr>\n",
              "      <th>Nome</th>\n",
              "      <th></th>\n",
              "    </tr>\n",
              "  </thead>\n",
              "  <tbody>\n",
              "    <tr>\n",
              "      <th>Jetta Variant</th>\n",
              "      <td>88078.64</td>\n",
              "    </tr>\n",
              "    <tr>\n",
              "      <th>Passat</th>\n",
              "      <td>106161.94</td>\n",
              "    </tr>\n",
              "    <tr>\n",
              "      <th>Crossfox</th>\n",
              "      <td>72832.16</td>\n",
              "    </tr>\n",
              "    <tr>\n",
              "      <th>DS5</th>\n",
              "      <td>124549.07</td>\n",
              "    </tr>\n",
              "    <tr>\n",
              "      <th>Aston Martin DB4</th>\n",
              "      <td>92612.10</td>\n",
              "    </tr>\n",
              "    <tr>\n",
              "      <th>...</th>\n",
              "      <td>...</td>\n",
              "    </tr>\n",
              "    <tr>\n",
              "      <th>Phantom 2013</th>\n",
              "      <td>51759.58</td>\n",
              "    </tr>\n",
              "    <tr>\n",
              "      <th>Cadillac Ciel concept</th>\n",
              "      <td>51667.06</td>\n",
              "    </tr>\n",
              "    <tr>\n",
              "      <th>Classe GLK</th>\n",
              "      <td>68934.03</td>\n",
              "    </tr>\n",
              "    <tr>\n",
              "      <th>Aston Martin DB5</th>\n",
              "      <td>122110.90</td>\n",
              "    </tr>\n",
              "    <tr>\n",
              "      <th>Macan</th>\n",
              "      <td>90381.47</td>\n",
              "    </tr>\n",
              "  </tbody>\n",
              "</table>\n",
              "<p>258 rows × 1 columns</p>\n",
              "</div>"
            ],
            "text/plain": [
              "                           Valor\n",
              "Nome                            \n",
              "Jetta Variant           88078.64\n",
              "Passat                 106161.94\n",
              "Crossfox                72832.16\n",
              "DS5                    124549.07\n",
              "Aston Martin DB4        92612.10\n",
              "...                          ...\n",
              "Phantom 2013            51759.58\n",
              "Cadillac Ciel concept   51667.06\n",
              "Classe GLK              68934.03\n",
              "Aston Martin DB5       122110.90\n",
              "Macan                   90381.47\n",
              "\n",
              "[258 rows x 1 columns]"
            ]
          },
          "execution_count": 130,
          "metadata": {},
          "output_type": "execute_result"
        }
      ],
      "source": [
        "dataset[['Valor']]"
      ]
    },
    {
      "cell_type": "code",
      "execution_count": 131,
      "metadata": {},
      "outputs": [
        {
          "data": {
            "text/plain": [
              "pandas.core.frame.DataFrame"
            ]
          },
          "execution_count": 131,
          "metadata": {},
          "output_type": "execute_result"
        }
      ],
      "source": [
        "type(dataset[['Valor']])\n"
      ]
    },
    {
      "cell_type": "markdown",
      "metadata": {
        "colab_type": "text",
        "id": "7RPXPm1XD1BQ"
      },
      "source": [
        "### Selecionando linhas - [ i : j ] \n",
        "\n",
        "<font color=red>**Observação:**</font> A indexação tem origem no zero e nos fatiamentos (*slices*) a linha com índice i é **incluída** e a linha com índice j **não é incluída** no resultado."
      ]
    },
    {
      "cell_type": "code",
      "execution_count": 132,
      "metadata": {
        "colab": {},
        "colab_type": "code",
        "id": "PdDUwPw3D1BQ"
      },
      "outputs": [
        {
          "data": {
            "text/html": [
              "<div>\n",
              "<style scoped>\n",
              "    .dataframe tbody tr th:only-of-type {\n",
              "        vertical-align: middle;\n",
              "    }\n",
              "\n",
              "    .dataframe tbody tr th {\n",
              "        vertical-align: top;\n",
              "    }\n",
              "\n",
              "    .dataframe thead th {\n",
              "        text-align: right;\n",
              "    }\n",
              "</style>\n",
              "<table border=\"1\" class=\"dataframe\">\n",
              "  <thead>\n",
              "    <tr style=\"text-align: right;\">\n",
              "      <th></th>\n",
              "      <th>Motor</th>\n",
              "      <th>Ano</th>\n",
              "      <th>Quilometragem</th>\n",
              "      <th>Zero_km</th>\n",
              "      <th>Acessórios</th>\n",
              "      <th>Valor</th>\n",
              "    </tr>\n",
              "    <tr>\n",
              "      <th>Nome</th>\n",
              "      <th></th>\n",
              "      <th></th>\n",
              "      <th></th>\n",
              "      <th></th>\n",
              "      <th></th>\n",
              "      <th></th>\n",
              "    </tr>\n",
              "  </thead>\n",
              "  <tbody>\n",
              "    <tr>\n",
              "      <th>Jetta Variant</th>\n",
              "      <td>Motor 4.0 Turbo</td>\n",
              "      <td>2003</td>\n",
              "      <td>44410.0</td>\n",
              "      <td>False</td>\n",
              "      <td>['Rodas de liga', 'Travas elétricas', 'Piloto ...</td>\n",
              "      <td>88078.64</td>\n",
              "    </tr>\n",
              "    <tr>\n",
              "      <th>Passat</th>\n",
              "      <td>Motor Diesel</td>\n",
              "      <td>1991</td>\n",
              "      <td>5712.0</td>\n",
              "      <td>False</td>\n",
              "      <td>['Central multimídia', 'Teto panorâmico', 'Fre...</td>\n",
              "      <td>106161.94</td>\n",
              "    </tr>\n",
              "    <tr>\n",
              "      <th>Crossfox</th>\n",
              "      <td>Motor Diesel V8</td>\n",
              "      <td>1990</td>\n",
              "      <td>37123.0</td>\n",
              "      <td>False</td>\n",
              "      <td>['Piloto automático', 'Controle de estabilidad...</td>\n",
              "      <td>72832.16</td>\n",
              "    </tr>\n",
              "  </tbody>\n",
              "</table>\n",
              "</div>"
            ],
            "text/plain": [
              "                         Motor   Ano  Quilometragem  Zero_km  \\\n",
              "Nome                                                           \n",
              "Jetta Variant  Motor 4.0 Turbo  2003        44410.0    False   \n",
              "Passat            Motor Diesel  1991         5712.0    False   \n",
              "Crossfox       Motor Diesel V8  1990        37123.0    False   \n",
              "\n",
              "                                                      Acessórios      Valor  \n",
              "Nome                                                                         \n",
              "Jetta Variant  ['Rodas de liga', 'Travas elétricas', 'Piloto ...   88078.64  \n",
              "Passat         ['Central multimídia', 'Teto panorâmico', 'Fre...  106161.94  \n",
              "Crossfox       ['Piloto automático', 'Controle de estabilidad...   72832.16  "
            ]
          },
          "execution_count": 132,
          "metadata": {},
          "output_type": "execute_result"
        }
      ],
      "source": [
        "dataset[0:3]"
      ]
    },
    {
      "cell_type": "markdown",
      "metadata": {
        "colab_type": "text",
        "id": "G3DMSk97D1BR"
      },
      "source": [
        "### Utilizando .loc para seleções\n",
        "\n",
        "<font color=red>**Observação:**</font> Seleciona um grupo de linhas e colunas segundo os rótulos ou uma matriz booleana."
      ]
    },
    {
      "cell_type": "code",
      "execution_count": 133,
      "metadata": {
        "colab": {},
        "colab_type": "code",
        "id": "Ftg-hNOoD1BR"
      },
      "outputs": [
        {
          "data": {
            "text/plain": [
              "Motor                                                 Motor Diesel\n",
              "Ano                                                           1991\n",
              "Quilometragem                                                 5712\n",
              "Zero_km                                                      False\n",
              "Acessórios       ['Central multimídia', 'Teto panorâmico', 'Fre...\n",
              "Valor                                                       106162\n",
              "Name: Passat, dtype: object"
            ]
          },
          "execution_count": 133,
          "metadata": {},
          "output_type": "execute_result"
        }
      ],
      "source": [
        "dataset.loc['Passat']"
      ]
    },
    {
      "cell_type": "code",
      "execution_count": 135,
      "metadata": {
        "colab": {},
        "colab_type": "code",
        "id": "xdxkDrHvD1BS"
      },
      "outputs": [
        {
          "data": {
            "text/html": [
              "<div>\n",
              "<style scoped>\n",
              "    .dataframe tbody tr th:only-of-type {\n",
              "        vertical-align: middle;\n",
              "    }\n",
              "\n",
              "    .dataframe tbody tr th {\n",
              "        vertical-align: top;\n",
              "    }\n",
              "\n",
              "    .dataframe thead th {\n",
              "        text-align: right;\n",
              "    }\n",
              "</style>\n",
              "<table border=\"1\" class=\"dataframe\">\n",
              "  <thead>\n",
              "    <tr style=\"text-align: right;\">\n",
              "      <th></th>\n",
              "      <th>Motor</th>\n",
              "      <th>Ano</th>\n",
              "      <th>Quilometragem</th>\n",
              "      <th>Zero_km</th>\n",
              "      <th>Acessórios</th>\n",
              "      <th>Valor</th>\n",
              "    </tr>\n",
              "    <tr>\n",
              "      <th>Nome</th>\n",
              "      <th></th>\n",
              "      <th></th>\n",
              "      <th></th>\n",
              "      <th></th>\n",
              "      <th></th>\n",
              "      <th></th>\n",
              "    </tr>\n",
              "  </thead>\n",
              "  <tbody>\n",
              "    <tr>\n",
              "      <th>Passat</th>\n",
              "      <td>Motor Diesel</td>\n",
              "      <td>1991</td>\n",
              "      <td>5712.0</td>\n",
              "      <td>False</td>\n",
              "      <td>['Central multimídia', 'Teto panorâmico', 'Fre...</td>\n",
              "      <td>106161.94</td>\n",
              "    </tr>\n",
              "    <tr>\n",
              "      <th>DS5</th>\n",
              "      <td>Motor 2.4 Turbo</td>\n",
              "      <td>2019</td>\n",
              "      <td>NaN</td>\n",
              "      <td>True</td>\n",
              "      <td>['Travas elétricas', '4 X 4', 'Vidros elétrico...</td>\n",
              "      <td>124549.07</td>\n",
              "    </tr>\n",
              "  </tbody>\n",
              "</table>\n",
              "</div>"
            ],
            "text/plain": [
              "                  Motor   Ano  Quilometragem  Zero_km  \\\n",
              "Nome                                                    \n",
              "Passat     Motor Diesel  1991         5712.0    False   \n",
              "DS5     Motor 2.4 Turbo  2019            NaN     True   \n",
              "\n",
              "                                               Acessórios      Valor  \n",
              "Nome                                                                  \n",
              "Passat  ['Central multimídia', 'Teto panorâmico', 'Fre...  106161.94  \n",
              "DS5     ['Travas elétricas', '4 X 4', 'Vidros elétrico...  124549.07  "
            ]
          },
          "execution_count": 135,
          "metadata": {},
          "output_type": "execute_result"
        }
      ],
      "source": [
        "dataset.loc[['Passat', 'DS5']]\n"
      ]
    },
    {
      "cell_type": "code",
      "execution_count": 139,
      "metadata": {
        "colab": {},
        "colab_type": "code",
        "id": "pMN3U1KjD1BS"
      },
      "outputs": [
        {
          "data": {
            "text/html": [
              "<div>\n",
              "<style scoped>\n",
              "    .dataframe tbody tr th:only-of-type {\n",
              "        vertical-align: middle;\n",
              "    }\n",
              "\n",
              "    .dataframe tbody tr th {\n",
              "        vertical-align: top;\n",
              "    }\n",
              "\n",
              "    .dataframe thead th {\n",
              "        text-align: right;\n",
              "    }\n",
              "</style>\n",
              "<table border=\"1\" class=\"dataframe\">\n",
              "  <thead>\n",
              "    <tr style=\"text-align: right;\">\n",
              "      <th></th>\n",
              "      <th>Motor</th>\n",
              "      <th>Valor</th>\n",
              "    </tr>\n",
              "    <tr>\n",
              "      <th>Nome</th>\n",
              "      <th></th>\n",
              "      <th></th>\n",
              "    </tr>\n",
              "  </thead>\n",
              "  <tbody>\n",
              "    <tr>\n",
              "      <th>Passat</th>\n",
              "      <td>Motor Diesel</td>\n",
              "      <td>106161.94</td>\n",
              "    </tr>\n",
              "    <tr>\n",
              "      <th>DS5</th>\n",
              "      <td>Motor 2.4 Turbo</td>\n",
              "      <td>124549.07</td>\n",
              "    </tr>\n",
              "  </tbody>\n",
              "</table>\n",
              "</div>"
            ],
            "text/plain": [
              "                  Motor      Valor\n",
              "Nome                              \n",
              "Passat     Motor Diesel  106161.94\n",
              "DS5     Motor 2.4 Turbo  124549.07"
            ]
          },
          "execution_count": 139,
          "metadata": {},
          "output_type": "execute_result"
        }
      ],
      "source": [
        "dataset.loc[['Passat', 'DS5'], ['Motor', 'Valor']]"
      ]
    },
    {
      "cell_type": "code",
      "execution_count": 140,
      "metadata": {
        "colab": {},
        "colab_type": "code",
        "id": "oOEO72uZD1BT",
        "scrolled": true
      },
      "outputs": [
        {
          "data": {
            "text/html": [
              "<div>\n",
              "<style scoped>\n",
              "    .dataframe tbody tr th:only-of-type {\n",
              "        vertical-align: middle;\n",
              "    }\n",
              "\n",
              "    .dataframe tbody tr th {\n",
              "        vertical-align: top;\n",
              "    }\n",
              "\n",
              "    .dataframe thead th {\n",
              "        text-align: right;\n",
              "    }\n",
              "</style>\n",
              "<table border=\"1\" class=\"dataframe\">\n",
              "  <thead>\n",
              "    <tr style=\"text-align: right;\">\n",
              "      <th></th>\n",
              "      <th>Motor</th>\n",
              "      <th>Valor</th>\n",
              "    </tr>\n",
              "    <tr>\n",
              "      <th>Nome</th>\n",
              "      <th></th>\n",
              "      <th></th>\n",
              "    </tr>\n",
              "  </thead>\n",
              "  <tbody>\n",
              "    <tr>\n",
              "      <th>Jetta Variant</th>\n",
              "      <td>Motor 4.0 Turbo</td>\n",
              "      <td>88078.64</td>\n",
              "    </tr>\n",
              "    <tr>\n",
              "      <th>Passat</th>\n",
              "      <td>Motor Diesel</td>\n",
              "      <td>106161.94</td>\n",
              "    </tr>\n",
              "    <tr>\n",
              "      <th>Crossfox</th>\n",
              "      <td>Motor Diesel V8</td>\n",
              "      <td>72832.16</td>\n",
              "    </tr>\n",
              "    <tr>\n",
              "      <th>DS5</th>\n",
              "      <td>Motor 2.4 Turbo</td>\n",
              "      <td>124549.07</td>\n",
              "    </tr>\n",
              "    <tr>\n",
              "      <th>Aston Martin DB4</th>\n",
              "      <td>Motor 2.4 Turbo</td>\n",
              "      <td>92612.10</td>\n",
              "    </tr>\n",
              "    <tr>\n",
              "      <th>...</th>\n",
              "      <td>...</td>\n",
              "      <td>...</td>\n",
              "    </tr>\n",
              "    <tr>\n",
              "      <th>Phantom 2013</th>\n",
              "      <td>Motor V8</td>\n",
              "      <td>51759.58</td>\n",
              "    </tr>\n",
              "    <tr>\n",
              "      <th>Cadillac Ciel concept</th>\n",
              "      <td>Motor V8</td>\n",
              "      <td>51667.06</td>\n",
              "    </tr>\n",
              "    <tr>\n",
              "      <th>Classe GLK</th>\n",
              "      <td>Motor 5.0 V8 Bi-Turbo</td>\n",
              "      <td>68934.03</td>\n",
              "    </tr>\n",
              "    <tr>\n",
              "      <th>Aston Martin DB5</th>\n",
              "      <td>Motor Diesel</td>\n",
              "      <td>122110.90</td>\n",
              "    </tr>\n",
              "    <tr>\n",
              "      <th>Macan</th>\n",
              "      <td>Motor Diesel V6</td>\n",
              "      <td>90381.47</td>\n",
              "    </tr>\n",
              "  </tbody>\n",
              "</table>\n",
              "<p>258 rows × 2 columns</p>\n",
              "</div>"
            ],
            "text/plain": [
              "                                       Motor      Valor\n",
              "Nome                                                   \n",
              "Jetta Variant                Motor 4.0 Turbo   88078.64\n",
              "Passat                          Motor Diesel  106161.94\n",
              "Crossfox                     Motor Diesel V8   72832.16\n",
              "DS5                          Motor 2.4 Turbo  124549.07\n",
              "Aston Martin DB4             Motor 2.4 Turbo   92612.10\n",
              "...                                      ...        ...\n",
              "Phantom 2013                        Motor V8   51759.58\n",
              "Cadillac Ciel concept               Motor V8   51667.06\n",
              "Classe GLK             Motor 5.0 V8 Bi-Turbo   68934.03\n",
              "Aston Martin DB5                Motor Diesel  122110.90\n",
              "Macan                        Motor Diesel V6   90381.47\n",
              "\n",
              "[258 rows x 2 columns]"
            ]
          },
          "execution_count": 140,
          "metadata": {},
          "output_type": "execute_result"
        }
      ],
      "source": [
        "dataset.loc[:, ['Motor', 'Valor']]"
      ]
    },
    {
      "cell_type": "markdown",
      "metadata": {
        "colab_type": "text",
        "id": "SYKEe3vCD1BT"
      },
      "source": [
        "### Utilizando .iloc para seleções\n",
        "\n",
        "<font color=red>**Observação:**</font> Seleciona com base nos índices, ou seja, se baseia na posição das informações."
      ]
    },
    {
      "cell_type": "code",
      "execution_count": 142,
      "metadata": {
        "colab": {},
        "colab_type": "code",
        "id": "U4Bru90bD1BT"
      },
      "outputs": [
        {
          "data": {
            "text/html": [
              "<div>\n",
              "<style scoped>\n",
              "    .dataframe tbody tr th:only-of-type {\n",
              "        vertical-align: middle;\n",
              "    }\n",
              "\n",
              "    .dataframe tbody tr th {\n",
              "        vertical-align: top;\n",
              "    }\n",
              "\n",
              "    .dataframe thead th {\n",
              "        text-align: right;\n",
              "    }\n",
              "</style>\n",
              "<table border=\"1\" class=\"dataframe\">\n",
              "  <thead>\n",
              "    <tr style=\"text-align: right;\">\n",
              "      <th></th>\n",
              "      <th>Motor</th>\n",
              "      <th>Ano</th>\n",
              "      <th>Quilometragem</th>\n",
              "      <th>Zero_km</th>\n",
              "      <th>Acessórios</th>\n",
              "      <th>Valor</th>\n",
              "    </tr>\n",
              "    <tr>\n",
              "      <th>Nome</th>\n",
              "      <th></th>\n",
              "      <th></th>\n",
              "      <th></th>\n",
              "      <th></th>\n",
              "      <th></th>\n",
              "      <th></th>\n",
              "    </tr>\n",
              "  </thead>\n",
              "  <tbody>\n",
              "    <tr>\n",
              "      <th>Passat</th>\n",
              "      <td>Motor Diesel</td>\n",
              "      <td>1991</td>\n",
              "      <td>5712.0</td>\n",
              "      <td>False</td>\n",
              "      <td>['Central multimídia', 'Teto panorâmico', 'Fre...</td>\n",
              "      <td>106161.94</td>\n",
              "    </tr>\n",
              "  </tbody>\n",
              "</table>\n",
              "</div>"
            ],
            "text/plain": [
              "               Motor   Ano  Quilometragem  Zero_km  \\\n",
              "Nome                                                 \n",
              "Passat  Motor Diesel  1991         5712.0    False   \n",
              "\n",
              "                                               Acessórios      Valor  \n",
              "Nome                                                                  \n",
              "Passat  ['Central multimídia', 'Teto panorâmico', 'Fre...  106161.94  "
            ]
          },
          "execution_count": 142,
          "metadata": {},
          "output_type": "execute_result"
        }
      ],
      "source": [
        "dataset.iloc[[1]]"
      ]
    },
    {
      "cell_type": "code",
      "execution_count": 145,
      "metadata": {
        "colab": {},
        "colab_type": "code",
        "id": "iLKUyrzND1BU"
      },
      "outputs": [
        {
          "data": {
            "text/html": [
              "<div>\n",
              "<style scoped>\n",
              "    .dataframe tbody tr th:only-of-type {\n",
              "        vertical-align: middle;\n",
              "    }\n",
              "\n",
              "    .dataframe tbody tr th {\n",
              "        vertical-align: top;\n",
              "    }\n",
              "\n",
              "    .dataframe thead th {\n",
              "        text-align: right;\n",
              "    }\n",
              "</style>\n",
              "<table border=\"1\" class=\"dataframe\">\n",
              "  <thead>\n",
              "    <tr style=\"text-align: right;\">\n",
              "      <th></th>\n",
              "      <th>Motor</th>\n",
              "      <th>Ano</th>\n",
              "      <th>Quilometragem</th>\n",
              "      <th>Zero_km</th>\n",
              "      <th>Acessórios</th>\n",
              "      <th>Valor</th>\n",
              "    </tr>\n",
              "    <tr>\n",
              "      <th>Nome</th>\n",
              "      <th></th>\n",
              "      <th></th>\n",
              "      <th></th>\n",
              "      <th></th>\n",
              "      <th></th>\n",
              "      <th></th>\n",
              "    </tr>\n",
              "  </thead>\n",
              "  <tbody>\n",
              "    <tr>\n",
              "      <th>Passat</th>\n",
              "      <td>Motor Diesel</td>\n",
              "      <td>1991</td>\n",
              "      <td>5712.0</td>\n",
              "      <td>False</td>\n",
              "      <td>['Central multimídia', 'Teto panorâmico', 'Fre...</td>\n",
              "      <td>106161.94</td>\n",
              "    </tr>\n",
              "    <tr>\n",
              "      <th>Crossfox</th>\n",
              "      <td>Motor Diesel V8</td>\n",
              "      <td>1990</td>\n",
              "      <td>37123.0</td>\n",
              "      <td>False</td>\n",
              "      <td>['Piloto automático', 'Controle de estabilidad...</td>\n",
              "      <td>72832.16</td>\n",
              "    </tr>\n",
              "    <tr>\n",
              "      <th>DS5</th>\n",
              "      <td>Motor 2.4 Turbo</td>\n",
              "      <td>2019</td>\n",
              "      <td>NaN</td>\n",
              "      <td>True</td>\n",
              "      <td>['Travas elétricas', '4 X 4', 'Vidros elétrico...</td>\n",
              "      <td>124549.07</td>\n",
              "    </tr>\n",
              "  </tbody>\n",
              "</table>\n",
              "</div>"
            ],
            "text/plain": [
              "                    Motor   Ano  Quilometragem  Zero_km  \\\n",
              "Nome                                                      \n",
              "Passat       Motor Diesel  1991         5712.0    False   \n",
              "Crossfox  Motor Diesel V8  1990        37123.0    False   \n",
              "DS5       Motor 2.4 Turbo  2019            NaN     True   \n",
              "\n",
              "                                                 Acessórios      Valor  \n",
              "Nome                                                                    \n",
              "Passat    ['Central multimídia', 'Teto panorâmico', 'Fre...  106161.94  \n",
              "Crossfox  ['Piloto automático', 'Controle de estabilidad...   72832.16  \n",
              "DS5       ['Travas elétricas', '4 X 4', 'Vidros elétrico...  124549.07  "
            ]
          },
          "execution_count": 145,
          "metadata": {},
          "output_type": "execute_result"
        }
      ],
      "source": [
        "dataset.iloc[1:4]"
      ]
    },
    {
      "cell_type": "code",
      "execution_count": 147,
      "metadata": {
        "colab": {},
        "colab_type": "code",
        "id": "KGZpixYUD1BU"
      },
      "outputs": [
        {
          "data": {
            "text/html": [
              "<div>\n",
              "<style scoped>\n",
              "    .dataframe tbody tr th:only-of-type {\n",
              "        vertical-align: middle;\n",
              "    }\n",
              "\n",
              "    .dataframe tbody tr th {\n",
              "        vertical-align: top;\n",
              "    }\n",
              "\n",
              "    .dataframe thead th {\n",
              "        text-align: right;\n",
              "    }\n",
              "</style>\n",
              "<table border=\"1\" class=\"dataframe\">\n",
              "  <thead>\n",
              "    <tr style=\"text-align: right;\">\n",
              "      <th></th>\n",
              "      <th>Motor</th>\n",
              "      <th>Valor</th>\n",
              "      <th>Quilometragem</th>\n",
              "    </tr>\n",
              "    <tr>\n",
              "      <th>Nome</th>\n",
              "      <th></th>\n",
              "      <th></th>\n",
              "      <th></th>\n",
              "    </tr>\n",
              "  </thead>\n",
              "  <tbody>\n",
              "    <tr>\n",
              "      <th>Passat</th>\n",
              "      <td>Motor Diesel</td>\n",
              "      <td>106161.94</td>\n",
              "      <td>5712.0</td>\n",
              "    </tr>\n",
              "    <tr>\n",
              "      <th>Crossfox</th>\n",
              "      <td>Motor Diesel V8</td>\n",
              "      <td>72832.16</td>\n",
              "      <td>37123.0</td>\n",
              "    </tr>\n",
              "    <tr>\n",
              "      <th>DS5</th>\n",
              "      <td>Motor 2.4 Turbo</td>\n",
              "      <td>124549.07</td>\n",
              "      <td>NaN</td>\n",
              "    </tr>\n",
              "  </tbody>\n",
              "</table>\n",
              "</div>"
            ],
            "text/plain": [
              "                    Motor      Valor  Quilometragem\n",
              "Nome                                               \n",
              "Passat       Motor Diesel  106161.94         5712.0\n",
              "Crossfox  Motor Diesel V8   72832.16        37123.0\n",
              "DS5       Motor 2.4 Turbo  124549.07            NaN"
            ]
          },
          "execution_count": 147,
          "metadata": {},
          "output_type": "execute_result"
        }
      ],
      "source": [
        "dataset.iloc[1:4, [0, 5, 2]]"
      ]
    },
    {
      "cell_type": "code",
      "execution_count": 148,
      "metadata": {
        "colab": {},
        "colab_type": "code",
        "id": "GxdqIz4LD1BV"
      },
      "outputs": [
        {
          "data": {
            "text/html": [
              "<div>\n",
              "<style scoped>\n",
              "    .dataframe tbody tr th:only-of-type {\n",
              "        vertical-align: middle;\n",
              "    }\n",
              "\n",
              "    .dataframe tbody tr th {\n",
              "        vertical-align: top;\n",
              "    }\n",
              "\n",
              "    .dataframe thead th {\n",
              "        text-align: right;\n",
              "    }\n",
              "</style>\n",
              "<table border=\"1\" class=\"dataframe\">\n",
              "  <thead>\n",
              "    <tr style=\"text-align: right;\">\n",
              "      <th></th>\n",
              "      <th>Motor</th>\n",
              "      <th>Valor</th>\n",
              "      <th>Quilometragem</th>\n",
              "    </tr>\n",
              "    <tr>\n",
              "      <th>Nome</th>\n",
              "      <th></th>\n",
              "      <th></th>\n",
              "      <th></th>\n",
              "    </tr>\n",
              "  </thead>\n",
              "  <tbody>\n",
              "    <tr>\n",
              "      <th>Passat</th>\n",
              "      <td>Motor Diesel</td>\n",
              "      <td>106161.94</td>\n",
              "      <td>5712.0</td>\n",
              "    </tr>\n",
              "    <tr>\n",
              "      <th>Optima</th>\n",
              "      <td>Motor 1.8 16v</td>\n",
              "      <td>86641.34</td>\n",
              "      <td>NaN</td>\n",
              "    </tr>\n",
              "    <tr>\n",
              "      <th>Lamborghini Obvious</th>\n",
              "      <td>Motor Diesel V6</td>\n",
              "      <td>133529.84</td>\n",
              "      <td>98079.0</td>\n",
              "    </tr>\n",
              "  </tbody>\n",
              "</table>\n",
              "</div>"
            ],
            "text/plain": [
              "                               Motor      Valor  Quilometragem\n",
              "Nome                                                          \n",
              "Passat                  Motor Diesel  106161.94         5712.0\n",
              "Optima                 Motor 1.8 16v   86641.34            NaN\n",
              "Lamborghini Obvious  Motor Diesel V6  133529.84        98079.0"
            ]
          },
          "execution_count": 148,
          "metadata": {},
          "output_type": "execute_result"
        }
      ],
      "source": [
        "dataset.iloc[[1, 42, 22], [0, 5, 2]]"
      ]
    },
    {
      "cell_type": "code",
      "execution_count": 150,
      "metadata": {
        "colab": {},
        "colab_type": "code",
        "id": "AVIhs7uLD1BW",
        "scrolled": true
      },
      "outputs": [
        {
          "data": {
            "text/html": [
              "<div>\n",
              "<style scoped>\n",
              "    .dataframe tbody tr th:only-of-type {\n",
              "        vertical-align: middle;\n",
              "    }\n",
              "\n",
              "    .dataframe tbody tr th {\n",
              "        vertical-align: top;\n",
              "    }\n",
              "\n",
              "    .dataframe thead th {\n",
              "        text-align: right;\n",
              "    }\n",
              "</style>\n",
              "<table border=\"1\" class=\"dataframe\">\n",
              "  <thead>\n",
              "    <tr style=\"text-align: right;\">\n",
              "      <th></th>\n",
              "      <th>Motor</th>\n",
              "      <th>Valor</th>\n",
              "      <th>Quilometragem</th>\n",
              "    </tr>\n",
              "    <tr>\n",
              "      <th>Nome</th>\n",
              "      <th></th>\n",
              "      <th></th>\n",
              "      <th></th>\n",
              "    </tr>\n",
              "  </thead>\n",
              "  <tbody>\n",
              "    <tr>\n",
              "      <th>Jetta Variant</th>\n",
              "      <td>Motor 4.0 Turbo</td>\n",
              "      <td>88078.64</td>\n",
              "      <td>44410.0</td>\n",
              "    </tr>\n",
              "    <tr>\n",
              "      <th>Passat</th>\n",
              "      <td>Motor Diesel</td>\n",
              "      <td>106161.94</td>\n",
              "      <td>5712.0</td>\n",
              "    </tr>\n",
              "    <tr>\n",
              "      <th>Crossfox</th>\n",
              "      <td>Motor Diesel V8</td>\n",
              "      <td>72832.16</td>\n",
              "      <td>37123.0</td>\n",
              "    </tr>\n",
              "    <tr>\n",
              "      <th>DS5</th>\n",
              "      <td>Motor 2.4 Turbo</td>\n",
              "      <td>124549.07</td>\n",
              "      <td>NaN</td>\n",
              "    </tr>\n",
              "    <tr>\n",
              "      <th>Aston Martin DB4</th>\n",
              "      <td>Motor 2.4 Turbo</td>\n",
              "      <td>92612.10</td>\n",
              "      <td>25757.0</td>\n",
              "    </tr>\n",
              "    <tr>\n",
              "      <th>...</th>\n",
              "      <td>...</td>\n",
              "      <td>...</td>\n",
              "      <td>...</td>\n",
              "    </tr>\n",
              "    <tr>\n",
              "      <th>Phantom 2013</th>\n",
              "      <td>Motor V8</td>\n",
              "      <td>51759.58</td>\n",
              "      <td>27505.0</td>\n",
              "    </tr>\n",
              "    <tr>\n",
              "      <th>Cadillac Ciel concept</th>\n",
              "      <td>Motor V8</td>\n",
              "      <td>51667.06</td>\n",
              "      <td>29981.0</td>\n",
              "    </tr>\n",
              "    <tr>\n",
              "      <th>Classe GLK</th>\n",
              "      <td>Motor 5.0 V8 Bi-Turbo</td>\n",
              "      <td>68934.03</td>\n",
              "      <td>52637.0</td>\n",
              "    </tr>\n",
              "    <tr>\n",
              "      <th>Aston Martin DB5</th>\n",
              "      <td>Motor Diesel</td>\n",
              "      <td>122110.90</td>\n",
              "      <td>7685.0</td>\n",
              "    </tr>\n",
              "    <tr>\n",
              "      <th>Macan</th>\n",
              "      <td>Motor Diesel V6</td>\n",
              "      <td>90381.47</td>\n",
              "      <td>50188.0</td>\n",
              "    </tr>\n",
              "  </tbody>\n",
              "</table>\n",
              "<p>258 rows × 3 columns</p>\n",
              "</div>"
            ],
            "text/plain": [
              "                                       Motor      Valor  Quilometragem\n",
              "Nome                                                                  \n",
              "Jetta Variant                Motor 4.0 Turbo   88078.64        44410.0\n",
              "Passat                          Motor Diesel  106161.94         5712.0\n",
              "Crossfox                     Motor Diesel V8   72832.16        37123.0\n",
              "DS5                          Motor 2.4 Turbo  124549.07            NaN\n",
              "Aston Martin DB4             Motor 2.4 Turbo   92612.10        25757.0\n",
              "...                                      ...        ...            ...\n",
              "Phantom 2013                        Motor V8   51759.58        27505.0\n",
              "Cadillac Ciel concept               Motor V8   51667.06        29981.0\n",
              "Classe GLK             Motor 5.0 V8 Bi-Turbo   68934.03        52637.0\n",
              "Aston Martin DB5                Motor Diesel  122110.90         7685.0\n",
              "Macan                        Motor Diesel V6   90381.47        50188.0\n",
              "\n",
              "[258 rows x 3 columns]"
            ]
          },
          "execution_count": 150,
          "metadata": {},
          "output_type": "execute_result"
        }
      ],
      "source": [
        "dataset.iloc[:, [0, 5, 2]]\n"
      ]
    },
    {
      "cell_type": "markdown",
      "metadata": {
        "colab_type": "text",
        "id": "eAbwq1oLD1BW"
      },
      "source": [
        "# 5.3 Queries com DataFrames"
      ]
    },
    {
      "cell_type": "code",
      "execution_count": 151,
      "metadata": {
        "colab": {},
        "colab_type": "code",
        "id": "AOZTWzehD1BW",
        "scrolled": true
      },
      "outputs": [
        {
          "data": {
            "text/html": [
              "<div>\n",
              "<style scoped>\n",
              "    .dataframe tbody tr th:only-of-type {\n",
              "        vertical-align: middle;\n",
              "    }\n",
              "\n",
              "    .dataframe tbody tr th {\n",
              "        vertical-align: top;\n",
              "    }\n",
              "\n",
              "    .dataframe thead th {\n",
              "        text-align: right;\n",
              "    }\n",
              "</style>\n",
              "<table border=\"1\" class=\"dataframe\">\n",
              "  <thead>\n",
              "    <tr style=\"text-align: right;\">\n",
              "      <th></th>\n",
              "      <th>Motor</th>\n",
              "      <th>Ano</th>\n",
              "      <th>Quilometragem</th>\n",
              "      <th>Zero_km</th>\n",
              "      <th>Acessórios</th>\n",
              "      <th>Valor</th>\n",
              "    </tr>\n",
              "    <tr>\n",
              "      <th>Nome</th>\n",
              "      <th></th>\n",
              "      <th></th>\n",
              "      <th></th>\n",
              "      <th></th>\n",
              "      <th></th>\n",
              "      <th></th>\n",
              "    </tr>\n",
              "  </thead>\n",
              "  <tbody>\n",
              "    <tr>\n",
              "      <th>Jetta Variant</th>\n",
              "      <td>Motor 4.0 Turbo</td>\n",
              "      <td>2003</td>\n",
              "      <td>44410.0</td>\n",
              "      <td>False</td>\n",
              "      <td>['Rodas de liga', 'Travas elétricas', 'Piloto ...</td>\n",
              "      <td>88078.64</td>\n",
              "    </tr>\n",
              "    <tr>\n",
              "      <th>Passat</th>\n",
              "      <td>Motor Diesel</td>\n",
              "      <td>1991</td>\n",
              "      <td>5712.0</td>\n",
              "      <td>False</td>\n",
              "      <td>['Central multimídia', 'Teto panorâmico', 'Fre...</td>\n",
              "      <td>106161.94</td>\n",
              "    </tr>\n",
              "    <tr>\n",
              "      <th>Crossfox</th>\n",
              "      <td>Motor Diesel V8</td>\n",
              "      <td>1990</td>\n",
              "      <td>37123.0</td>\n",
              "      <td>False</td>\n",
              "      <td>['Piloto automático', 'Controle de estabilidad...</td>\n",
              "      <td>72832.16</td>\n",
              "    </tr>\n",
              "    <tr>\n",
              "      <th>DS5</th>\n",
              "      <td>Motor 2.4 Turbo</td>\n",
              "      <td>2019</td>\n",
              "      <td>NaN</td>\n",
              "      <td>True</td>\n",
              "      <td>['Travas elétricas', '4 X 4', 'Vidros elétrico...</td>\n",
              "      <td>124549.07</td>\n",
              "    </tr>\n",
              "    <tr>\n",
              "      <th>Aston Martin DB4</th>\n",
              "      <td>Motor 2.4 Turbo</td>\n",
              "      <td>2006</td>\n",
              "      <td>25757.0</td>\n",
              "      <td>False</td>\n",
              "      <td>['Rodas de liga', '4 X 4', 'Central multimídia...</td>\n",
              "      <td>92612.10</td>\n",
              "    </tr>\n",
              "  </tbody>\n",
              "</table>\n",
              "</div>"
            ],
            "text/plain": [
              "                            Motor   Ano  Quilometragem  Zero_km  \\\n",
              "Nome                                                              \n",
              "Jetta Variant     Motor 4.0 Turbo  2003        44410.0    False   \n",
              "Passat               Motor Diesel  1991         5712.0    False   \n",
              "Crossfox          Motor Diesel V8  1990        37123.0    False   \n",
              "DS5               Motor 2.4 Turbo  2019            NaN     True   \n",
              "Aston Martin DB4  Motor 2.4 Turbo  2006        25757.0    False   \n",
              "\n",
              "                                                         Acessórios      Valor  \n",
              "Nome                                                                            \n",
              "Jetta Variant     ['Rodas de liga', 'Travas elétricas', 'Piloto ...   88078.64  \n",
              "Passat            ['Central multimídia', 'Teto panorâmico', 'Fre...  106161.94  \n",
              "Crossfox          ['Piloto automático', 'Controle de estabilidad...   72832.16  \n",
              "DS5               ['Travas elétricas', '4 X 4', 'Vidros elétrico...  124549.07  \n",
              "Aston Martin DB4  ['Rodas de liga', '4 X 4', 'Central multimídia...   92612.10  "
            ]
          },
          "execution_count": 151,
          "metadata": {},
          "output_type": "execute_result"
        }
      ],
      "source": [
        "dataset.head()"
      ]
    },
    {
      "cell_type": "code",
      "execution_count": 152,
      "metadata": {
        "colab": {},
        "colab_type": "code",
        "id": "rO5T4h94D1BX",
        "scrolled": true
      },
      "outputs": [
        {
          "data": {
            "text/plain": [
              "Nome\n",
              "Jetta Variant                  Motor 4.0 Turbo\n",
              "Passat                            Motor Diesel\n",
              "Crossfox                       Motor Diesel V8\n",
              "DS5                            Motor 2.4 Turbo\n",
              "Aston Martin DB4               Motor 2.4 Turbo\n",
              "                                 ...          \n",
              "Phantom 2013                          Motor V8\n",
              "Cadillac Ciel concept                 Motor V8\n",
              "Classe GLK               Motor 5.0 V8 Bi-Turbo\n",
              "Aston Martin DB5                  Motor Diesel\n",
              "Macan                          Motor Diesel V6\n",
              "Name: Motor, Length: 258, dtype: object"
            ]
          },
          "execution_count": 152,
          "metadata": {},
          "output_type": "execute_result"
        }
      ],
      "source": [
        "dataset.Motor"
      ]
    },
    {
      "cell_type": "code",
      "execution_count": 157,
      "metadata": {
        "colab": {},
        "colab_type": "code",
        "id": "STZ-l8oaD1BX"
      },
      "outputs": [],
      "source": [
        "select = dataset.Motor == 'Motor Diesel'"
      ]
    },
    {
      "cell_type": "code",
      "execution_count": 158,
      "metadata": {
        "colab": {},
        "colab_type": "code",
        "id": "OZC8NAn6D1BX"
      },
      "outputs": [
        {
          "data": {
            "text/plain": [
              "Nome\n",
              "Jetta Variant            False\n",
              "Passat                    True\n",
              "Crossfox                 False\n",
              "DS5                      False\n",
              "Aston Martin DB4         False\n",
              "                         ...  \n",
              "Phantom 2013             False\n",
              "Cadillac Ciel concept    False\n",
              "Classe GLK               False\n",
              "Aston Martin DB5          True\n",
              "Macan                    False\n",
              "Name: Motor, Length: 258, dtype: bool"
            ]
          },
          "execution_count": 158,
          "metadata": {},
          "output_type": "execute_result"
        }
      ],
      "source": [
        "select"
      ]
    },
    {
      "cell_type": "code",
      "execution_count": 159,
      "metadata": {
        "colab": {},
        "colab_type": "code",
        "id": "OzXC2M40D1BY",
        "scrolled": true
      },
      "outputs": [
        {
          "data": {
            "text/plain": [
              "pandas.core.series.Series"
            ]
          },
          "execution_count": 159,
          "metadata": {},
          "output_type": "execute_result"
        }
      ],
      "source": [
        "type(select)"
      ]
    },
    {
      "cell_type": "code",
      "execution_count": 160,
      "metadata": {},
      "outputs": [
        {
          "data": {
            "text/html": [
              "<div>\n",
              "<style scoped>\n",
              "    .dataframe tbody tr th:only-of-type {\n",
              "        vertical-align: middle;\n",
              "    }\n",
              "\n",
              "    .dataframe tbody tr th {\n",
              "        vertical-align: top;\n",
              "    }\n",
              "\n",
              "    .dataframe thead th {\n",
              "        text-align: right;\n",
              "    }\n",
              "</style>\n",
              "<table border=\"1\" class=\"dataframe\">\n",
              "  <thead>\n",
              "    <tr style=\"text-align: right;\">\n",
              "      <th></th>\n",
              "      <th>Motor</th>\n",
              "      <th>Ano</th>\n",
              "      <th>Quilometragem</th>\n",
              "      <th>Zero_km</th>\n",
              "      <th>Acessórios</th>\n",
              "      <th>Valor</th>\n",
              "    </tr>\n",
              "    <tr>\n",
              "      <th>Nome</th>\n",
              "      <th></th>\n",
              "      <th></th>\n",
              "      <th></th>\n",
              "      <th></th>\n",
              "      <th></th>\n",
              "      <th></th>\n",
              "    </tr>\n",
              "  </thead>\n",
              "  <tbody>\n",
              "    <tr>\n",
              "      <th>Passat</th>\n",
              "      <td>Motor Diesel</td>\n",
              "      <td>1991</td>\n",
              "      <td>5712.0</td>\n",
              "      <td>False</td>\n",
              "      <td>['Central multimídia', 'Teto panorâmico', 'Fre...</td>\n",
              "      <td>106161.94</td>\n",
              "    </tr>\n",
              "    <tr>\n",
              "      <th>Effa Hafei Picape Baú</th>\n",
              "      <td>Motor Diesel</td>\n",
              "      <td>1991</td>\n",
              "      <td>102959.0</td>\n",
              "      <td>False</td>\n",
              "      <td>['Controle de estabilidade', 'Painel digital',...</td>\n",
              "      <td>125684.65</td>\n",
              "    </tr>\n",
              "    <tr>\n",
              "      <th>Sorento</th>\n",
              "      <td>Motor Diesel</td>\n",
              "      <td>2019</td>\n",
              "      <td>NaN</td>\n",
              "      <td>True</td>\n",
              "      <td>['Sensor de chuva', 'Câmera de estacionamento'...</td>\n",
              "      <td>81399.35</td>\n",
              "    </tr>\n",
              "    <tr>\n",
              "      <th>New Fiesta Hatch</th>\n",
              "      <td>Motor Diesel</td>\n",
              "      <td>2017</td>\n",
              "      <td>118895.0</td>\n",
              "      <td>False</td>\n",
              "      <td>['Sensor de estacionamento', 'Travas elétricas...</td>\n",
              "      <td>66007.16</td>\n",
              "    </tr>\n",
              "    <tr>\n",
              "      <th>Kangoo Express</th>\n",
              "      <td>Motor Diesel</td>\n",
              "      <td>2007</td>\n",
              "      <td>29132.0</td>\n",
              "      <td>False</td>\n",
              "      <td>['Bancos de couro', 'Câmbio automático', 'Pilo...</td>\n",
              "      <td>146716.91</td>\n",
              "    </tr>\n",
              "    <tr>\n",
              "      <th>Fit</th>\n",
              "      <td>Motor Diesel</td>\n",
              "      <td>2013</td>\n",
              "      <td>44329.0</td>\n",
              "      <td>False</td>\n",
              "      <td>['Freios ABS', 'Câmera de estacionamento', 'Câ...</td>\n",
              "      <td>77836.23</td>\n",
              "    </tr>\n",
              "    <tr>\n",
              "      <th>Cielo Hatch</th>\n",
              "      <td>Motor Diesel</td>\n",
              "      <td>2019</td>\n",
              "      <td>NaN</td>\n",
              "      <td>True</td>\n",
              "      <td>['Painel digital', 'Central multimídia', 'Câme...</td>\n",
              "      <td>145197.70</td>\n",
              "    </tr>\n",
              "    <tr>\n",
              "      <th>Symbol</th>\n",
              "      <td>Motor Diesel</td>\n",
              "      <td>2016</td>\n",
              "      <td>117714.0</td>\n",
              "      <td>False</td>\n",
              "      <td>['4 X 4', 'Piloto automático', 'Sensor crepusc...</td>\n",
              "      <td>133030.60</td>\n",
              "    </tr>\n",
              "    <tr>\n",
              "      <th>A4 Sedan</th>\n",
              "      <td>Motor Diesel</td>\n",
              "      <td>2002</td>\n",
              "      <td>30511.0</td>\n",
              "      <td>False</td>\n",
              "      <td>['Câmera de estacionamento', '4 X 4', 'Travas ...</td>\n",
              "      <td>96369.04</td>\n",
              "    </tr>\n",
              "    <tr>\n",
              "      <th>A4 Avant</th>\n",
              "      <td>Motor Diesel</td>\n",
              "      <td>2014</td>\n",
              "      <td>17357.0</td>\n",
              "      <td>False</td>\n",
              "      <td>['Teto panorâmico', '4 X 4', 'Bancos de couro'...</td>\n",
              "      <td>138946.88</td>\n",
              "    </tr>\n",
              "    <tr>\n",
              "      <th>Silver Shadow</th>\n",
              "      <td>Motor Diesel</td>\n",
              "      <td>2015</td>\n",
              "      <td>99052.0</td>\n",
              "      <td>False</td>\n",
              "      <td>['4 X 4', 'Central multimídia', 'Ar condiciona...</td>\n",
              "      <td>143568.22</td>\n",
              "    </tr>\n",
              "    <tr>\n",
              "      <th>Camry</th>\n",
              "      <td>Motor Diesel</td>\n",
              "      <td>2019</td>\n",
              "      <td>NaN</td>\n",
              "      <td>True</td>\n",
              "      <td>['Travas elétricas', 'Rodas de liga', 'Sensor ...</td>\n",
              "      <td>138597.27</td>\n",
              "    </tr>\n",
              "    <tr>\n",
              "      <th>Clio</th>\n",
              "      <td>Motor Diesel</td>\n",
              "      <td>1990</td>\n",
              "      <td>66437.0</td>\n",
              "      <td>False</td>\n",
              "      <td>['4 X 4', 'Câmbio automático', 'Freios ABS', '...</td>\n",
              "      <td>111130.33</td>\n",
              "    </tr>\n",
              "    <tr>\n",
              "      <th>Série 3 M3 Coupé</th>\n",
              "      <td>Motor Diesel</td>\n",
              "      <td>2013</td>\n",
              "      <td>19896.0</td>\n",
              "      <td>False</td>\n",
              "      <td>['Bancos de couro', 'Sensor de chuva', 'Ar con...</td>\n",
              "      <td>69219.89</td>\n",
              "    </tr>\n",
              "    <tr>\n",
              "      <th>Gallardo LP 560 – 4</th>\n",
              "      <td>Motor Diesel</td>\n",
              "      <td>2000</td>\n",
              "      <td>113045.0</td>\n",
              "      <td>False</td>\n",
              "      <td>['Freios ABS', 'Teto panorâmico', 'Central mul...</td>\n",
              "      <td>144118.91</td>\n",
              "    </tr>\n",
              "    <tr>\n",
              "      <th>Chana Utility</th>\n",
              "      <td>Motor Diesel</td>\n",
              "      <td>2009</td>\n",
              "      <td>52034.0</td>\n",
              "      <td>False</td>\n",
              "      <td>['Ar condicionado', 'Sensor de estacionamento'...</td>\n",
              "      <td>132662.32</td>\n",
              "    </tr>\n",
              "    <tr>\n",
              "      <th>TT Roadster</th>\n",
              "      <td>Motor Diesel</td>\n",
              "      <td>1998</td>\n",
              "      <td>107392.0</td>\n",
              "      <td>False</td>\n",
              "      <td>['Ar condicionado', 'Sensor de estacionamento'...</td>\n",
              "      <td>85311.40</td>\n",
              "    </tr>\n",
              "    <tr>\n",
              "      <th>Aston Martin Virage</th>\n",
              "      <td>Motor Diesel</td>\n",
              "      <td>2019</td>\n",
              "      <td>NaN</td>\n",
              "      <td>True</td>\n",
              "      <td>['Travas elétricas', 'Controle de tração', 'Câ...</td>\n",
              "      <td>97290.18</td>\n",
              "    </tr>\n",
              "    <tr>\n",
              "      <th>Sandero</th>\n",
              "      <td>Motor Diesel</td>\n",
              "      <td>2015</td>\n",
              "      <td>34783.0</td>\n",
              "      <td>False</td>\n",
              "      <td>['Piloto automático', 'Teto panorâmico', 'Câmb...</td>\n",
              "      <td>112350.61</td>\n",
              "    </tr>\n",
              "    <tr>\n",
              "      <th>XKR</th>\n",
              "      <td>Motor Diesel</td>\n",
              "      <td>1996</td>\n",
              "      <td>85127.0</td>\n",
              "      <td>False</td>\n",
              "      <td>['Controle de tração', 'Ar condicionado', 'Tra...</td>\n",
              "      <td>54263.16</td>\n",
              "    </tr>\n",
              "    <tr>\n",
              "      <th>X5</th>\n",
              "      <td>Motor Diesel</td>\n",
              "      <td>2002</td>\n",
              "      <td>13606.0</td>\n",
              "      <td>False</td>\n",
              "      <td>['Controle de tração', 'Piloto automático', 'T...</td>\n",
              "      <td>62041.32</td>\n",
              "    </tr>\n",
              "    <tr>\n",
              "      <th>Dodge Dakota</th>\n",
              "      <td>Motor Diesel</td>\n",
              "      <td>1993</td>\n",
              "      <td>71544.0</td>\n",
              "      <td>False</td>\n",
              "      <td>['Controle de tração', 'Sensor de estacionamen...</td>\n",
              "      <td>141083.35</td>\n",
              "    </tr>\n",
              "    <tr>\n",
              "      <th>i30 CW</th>\n",
              "      <td>Motor Diesel</td>\n",
              "      <td>2015</td>\n",
              "      <td>8497.0</td>\n",
              "      <td>False</td>\n",
              "      <td>['Sensor de chuva', 'Vidros elétricos', 'Contr...</td>\n",
              "      <td>73311.75</td>\n",
              "    </tr>\n",
              "    <tr>\n",
              "      <th>Série 7 Sedã</th>\n",
              "      <td>Motor Diesel</td>\n",
              "      <td>2019</td>\n",
              "      <td>NaN</td>\n",
              "      <td>True</td>\n",
              "      <td>['Vidros elétricos', 'Travas elétricas', 'Roda...</td>\n",
              "      <td>67539.79</td>\n",
              "    </tr>\n",
              "    <tr>\n",
              "      <th>V60</th>\n",
              "      <td>Motor Diesel</td>\n",
              "      <td>2004</td>\n",
              "      <td>91840.0</td>\n",
              "      <td>False</td>\n",
              "      <td>['Rodas de liga', 'Sensor crepuscular', 'Ar co...</td>\n",
              "      <td>114728.74</td>\n",
              "    </tr>\n",
              "    <tr>\n",
              "      <th>Aston Martin DB5</th>\n",
              "      <td>Motor Diesel</td>\n",
              "      <td>1996</td>\n",
              "      <td>7685.0</td>\n",
              "      <td>False</td>\n",
              "      <td>['Ar condicionado', '4 X 4', 'Câmbio automátic...</td>\n",
              "      <td>122110.90</td>\n",
              "    </tr>\n",
              "  </tbody>\n",
              "</table>\n",
              "</div>"
            ],
            "text/plain": [
              "                              Motor   Ano  Quilometragem  Zero_km  \\\n",
              "Nome                                                                \n",
              "Passat                 Motor Diesel  1991         5712.0    False   \n",
              "Effa Hafei Picape Baú  Motor Diesel  1991       102959.0    False   \n",
              "Sorento                Motor Diesel  2019            NaN     True   \n",
              "New Fiesta Hatch       Motor Diesel  2017       118895.0    False   \n",
              "Kangoo Express         Motor Diesel  2007        29132.0    False   \n",
              "Fit                    Motor Diesel  2013        44329.0    False   \n",
              "Cielo Hatch            Motor Diesel  2019            NaN     True   \n",
              "Symbol                 Motor Diesel  2016       117714.0    False   \n",
              "A4 Sedan               Motor Diesel  2002        30511.0    False   \n",
              "A4 Avant               Motor Diesel  2014        17357.0    False   \n",
              "Silver Shadow          Motor Diesel  2015        99052.0    False   \n",
              "Camry                  Motor Diesel  2019            NaN     True   \n",
              "Clio                   Motor Diesel  1990        66437.0    False   \n",
              "Série 3 M3 Coupé       Motor Diesel  2013        19896.0    False   \n",
              "Gallardo LP 560 – 4    Motor Diesel  2000       113045.0    False   \n",
              "Chana Utility          Motor Diesel  2009        52034.0    False   \n",
              "TT Roadster            Motor Diesel  1998       107392.0    False   \n",
              "Aston Martin Virage    Motor Diesel  2019            NaN     True   \n",
              "Sandero                Motor Diesel  2015        34783.0    False   \n",
              "XKR                    Motor Diesel  1996        85127.0    False   \n",
              "X5                     Motor Diesel  2002        13606.0    False   \n",
              "Dodge Dakota           Motor Diesel  1993        71544.0    False   \n",
              "i30 CW                 Motor Diesel  2015         8497.0    False   \n",
              "Série 7 Sedã           Motor Diesel  2019            NaN     True   \n",
              "V60                    Motor Diesel  2004        91840.0    False   \n",
              "Aston Martin DB5       Motor Diesel  1996         7685.0    False   \n",
              "\n",
              "                                                              Acessórios  \\\n",
              "Nome                                                                       \n",
              "Passat                 ['Central multimídia', 'Teto panorâmico', 'Fre...   \n",
              "Effa Hafei Picape Baú  ['Controle de estabilidade', 'Painel digital',...   \n",
              "Sorento                ['Sensor de chuva', 'Câmera de estacionamento'...   \n",
              "New Fiesta Hatch       ['Sensor de estacionamento', 'Travas elétricas...   \n",
              "Kangoo Express         ['Bancos de couro', 'Câmbio automático', 'Pilo...   \n",
              "Fit                    ['Freios ABS', 'Câmera de estacionamento', 'Câ...   \n",
              "Cielo Hatch            ['Painel digital', 'Central multimídia', 'Câme...   \n",
              "Symbol                 ['4 X 4', 'Piloto automático', 'Sensor crepusc...   \n",
              "A4 Sedan               ['Câmera de estacionamento', '4 X 4', 'Travas ...   \n",
              "A4 Avant               ['Teto panorâmico', '4 X 4', 'Bancos de couro'...   \n",
              "Silver Shadow          ['4 X 4', 'Central multimídia', 'Ar condiciona...   \n",
              "Camry                  ['Travas elétricas', 'Rodas de liga', 'Sensor ...   \n",
              "Clio                   ['4 X 4', 'Câmbio automático', 'Freios ABS', '...   \n",
              "Série 3 M3 Coupé       ['Bancos de couro', 'Sensor de chuva', 'Ar con...   \n",
              "Gallardo LP 560 – 4    ['Freios ABS', 'Teto panorâmico', 'Central mul...   \n",
              "Chana Utility          ['Ar condicionado', 'Sensor de estacionamento'...   \n",
              "TT Roadster            ['Ar condicionado', 'Sensor de estacionamento'...   \n",
              "Aston Martin Virage    ['Travas elétricas', 'Controle de tração', 'Câ...   \n",
              "Sandero                ['Piloto automático', 'Teto panorâmico', 'Câmb...   \n",
              "XKR                    ['Controle de tração', 'Ar condicionado', 'Tra...   \n",
              "X5                     ['Controle de tração', 'Piloto automático', 'T...   \n",
              "Dodge Dakota           ['Controle de tração', 'Sensor de estacionamen...   \n",
              "i30 CW                 ['Sensor de chuva', 'Vidros elétricos', 'Contr...   \n",
              "Série 7 Sedã           ['Vidros elétricos', 'Travas elétricas', 'Roda...   \n",
              "V60                    ['Rodas de liga', 'Sensor crepuscular', 'Ar co...   \n",
              "Aston Martin DB5       ['Ar condicionado', '4 X 4', 'Câmbio automátic...   \n",
              "\n",
              "                           Valor  \n",
              "Nome                              \n",
              "Passat                 106161.94  \n",
              "Effa Hafei Picape Baú  125684.65  \n",
              "Sorento                 81399.35  \n",
              "New Fiesta Hatch        66007.16  \n",
              "Kangoo Express         146716.91  \n",
              "Fit                     77836.23  \n",
              "Cielo Hatch            145197.70  \n",
              "Symbol                 133030.60  \n",
              "A4 Sedan                96369.04  \n",
              "A4 Avant               138946.88  \n",
              "Silver Shadow          143568.22  \n",
              "Camry                  138597.27  \n",
              "Clio                   111130.33  \n",
              "Série 3 M3 Coupé        69219.89  \n",
              "Gallardo LP 560 – 4    144118.91  \n",
              "Chana Utility          132662.32  \n",
              "TT Roadster             85311.40  \n",
              "Aston Martin Virage     97290.18  \n",
              "Sandero                112350.61  \n",
              "XKR                     54263.16  \n",
              "X5                      62041.32  \n",
              "Dodge Dakota           141083.35  \n",
              "i30 CW                  73311.75  \n",
              "Série 7 Sedã            67539.79  \n",
              "V60                    114728.74  \n",
              "Aston Martin DB5       122110.90  "
            ]
          },
          "execution_count": 160,
          "metadata": {},
          "output_type": "execute_result"
        }
      ],
      "source": [
        "dataset[select]"
      ]
    },
    {
      "cell_type": "code",
      "execution_count": 161,
      "metadata": {},
      "outputs": [
        {
          "data": {
            "text/html": [
              "<div>\n",
              "<style scoped>\n",
              "    .dataframe tbody tr th:only-of-type {\n",
              "        vertical-align: middle;\n",
              "    }\n",
              "\n",
              "    .dataframe tbody tr th {\n",
              "        vertical-align: top;\n",
              "    }\n",
              "\n",
              "    .dataframe thead th {\n",
              "        text-align: right;\n",
              "    }\n",
              "</style>\n",
              "<table border=\"1\" class=\"dataframe\">\n",
              "  <thead>\n",
              "    <tr style=\"text-align: right;\">\n",
              "      <th></th>\n",
              "      <th>Motor</th>\n",
              "      <th>Ano</th>\n",
              "      <th>Quilometragem</th>\n",
              "      <th>Zero_km</th>\n",
              "      <th>Acessórios</th>\n",
              "      <th>Valor</th>\n",
              "    </tr>\n",
              "    <tr>\n",
              "      <th>Nome</th>\n",
              "      <th></th>\n",
              "      <th></th>\n",
              "      <th></th>\n",
              "      <th></th>\n",
              "      <th></th>\n",
              "      <th></th>\n",
              "    </tr>\n",
              "  </thead>\n",
              "  <tbody>\n",
              "    <tr>\n",
              "      <th>Sorento</th>\n",
              "      <td>Motor Diesel</td>\n",
              "      <td>2019</td>\n",
              "      <td>NaN</td>\n",
              "      <td>True</td>\n",
              "      <td>['Sensor de chuva', 'Câmera de estacionamento'...</td>\n",
              "      <td>81399.35</td>\n",
              "    </tr>\n",
              "    <tr>\n",
              "      <th>Cielo Hatch</th>\n",
              "      <td>Motor Diesel</td>\n",
              "      <td>2019</td>\n",
              "      <td>NaN</td>\n",
              "      <td>True</td>\n",
              "      <td>['Painel digital', 'Central multimídia', 'Câme...</td>\n",
              "      <td>145197.70</td>\n",
              "    </tr>\n",
              "    <tr>\n",
              "      <th>Camry</th>\n",
              "      <td>Motor Diesel</td>\n",
              "      <td>2019</td>\n",
              "      <td>NaN</td>\n",
              "      <td>True</td>\n",
              "      <td>['Travas elétricas', 'Rodas de liga', 'Sensor ...</td>\n",
              "      <td>138597.27</td>\n",
              "    </tr>\n",
              "    <tr>\n",
              "      <th>Aston Martin Virage</th>\n",
              "      <td>Motor Diesel</td>\n",
              "      <td>2019</td>\n",
              "      <td>NaN</td>\n",
              "      <td>True</td>\n",
              "      <td>['Travas elétricas', 'Controle de tração', 'Câ...</td>\n",
              "      <td>97290.18</td>\n",
              "    </tr>\n",
              "    <tr>\n",
              "      <th>Série 7 Sedã</th>\n",
              "      <td>Motor Diesel</td>\n",
              "      <td>2019</td>\n",
              "      <td>NaN</td>\n",
              "      <td>True</td>\n",
              "      <td>['Vidros elétricos', 'Travas elétricas', 'Roda...</td>\n",
              "      <td>67539.79</td>\n",
              "    </tr>\n",
              "  </tbody>\n",
              "</table>\n",
              "</div>"
            ],
            "text/plain": [
              "                            Motor   Ano  Quilometragem  Zero_km  \\\n",
              "Nome                                                              \n",
              "Sorento              Motor Diesel  2019            NaN     True   \n",
              "Cielo Hatch          Motor Diesel  2019            NaN     True   \n",
              "Camry                Motor Diesel  2019            NaN     True   \n",
              "Aston Martin Virage  Motor Diesel  2019            NaN     True   \n",
              "Série 7 Sedã         Motor Diesel  2019            NaN     True   \n",
              "\n",
              "                                                            Acessórios  \\\n",
              "Nome                                                                     \n",
              "Sorento              ['Sensor de chuva', 'Câmera de estacionamento'...   \n",
              "Cielo Hatch          ['Painel digital', 'Central multimídia', 'Câme...   \n",
              "Camry                ['Travas elétricas', 'Rodas de liga', 'Sensor ...   \n",
              "Aston Martin Virage  ['Travas elétricas', 'Controle de tração', 'Câ...   \n",
              "Série 7 Sedã         ['Vidros elétricos', 'Travas elétricas', 'Roda...   \n",
              "\n",
              "                         Valor  \n",
              "Nome                            \n",
              "Sorento               81399.35  \n",
              "Cielo Hatch          145197.70  \n",
              "Camry                138597.27  \n",
              "Aston Martin Virage   97290.18  \n",
              "Série 7 Sedã          67539.79  "
            ]
          },
          "execution_count": 161,
          "metadata": {},
          "output_type": "execute_result"
        }
      ],
      "source": [
        "dataset[(dataset.Motor == 'Motor Diesel') & (dataset.Zero_km == True)]\n"
      ]
    },
    {
      "cell_type": "code",
      "execution_count": 162,
      "metadata": {},
      "outputs": [
        {
          "data": {
            "text/plain": [
              "Nome\n",
              "Jetta Variant            False\n",
              "Passat                   False\n",
              "Crossfox                 False\n",
              "DS5                      False\n",
              "Aston Martin DB4         False\n",
              "                         ...  \n",
              "Phantom 2013             False\n",
              "Cadillac Ciel concept    False\n",
              "Classe GLK               False\n",
              "Aston Martin DB5         False\n",
              "Macan                    False\n",
              "Length: 258, dtype: bool"
            ]
          },
          "execution_count": 162,
          "metadata": {},
          "output_type": "execute_result"
        }
      ],
      "source": [
        "(dataset.Motor == 'Motor Diesel') & (dataset.Zero_km == True)"
      ]
    },
    {
      "cell_type": "markdown",
      "metadata": {
        "colab_type": "text",
        "id": "_XKXcWO-D1BY"
      },
      "source": [
        "### Utilizando o método query"
      ]
    },
    {
      "cell_type": "code",
      "execution_count": 166,
      "metadata": {
        "colab": {},
        "colab_type": "code",
        "id": "AB9JirSoD1BY"
      },
      "outputs": [
        {
          "data": {
            "text/html": [
              "<div>\n",
              "<style scoped>\n",
              "    .dataframe tbody tr th:only-of-type {\n",
              "        vertical-align: middle;\n",
              "    }\n",
              "\n",
              "    .dataframe tbody tr th {\n",
              "        vertical-align: top;\n",
              "    }\n",
              "\n",
              "    .dataframe thead th {\n",
              "        text-align: right;\n",
              "    }\n",
              "</style>\n",
              "<table border=\"1\" class=\"dataframe\">\n",
              "  <thead>\n",
              "    <tr style=\"text-align: right;\">\n",
              "      <th></th>\n",
              "      <th>Motor</th>\n",
              "      <th>Ano</th>\n",
              "      <th>Quilometragem</th>\n",
              "      <th>Zero_km</th>\n",
              "      <th>Acessórios</th>\n",
              "      <th>Valor</th>\n",
              "    </tr>\n",
              "    <tr>\n",
              "      <th>Nome</th>\n",
              "      <th></th>\n",
              "      <th></th>\n",
              "      <th></th>\n",
              "      <th></th>\n",
              "      <th></th>\n",
              "      <th></th>\n",
              "    </tr>\n",
              "  </thead>\n",
              "  <tbody>\n",
              "    <tr>\n",
              "      <th>Sorento</th>\n",
              "      <td>Motor Diesel</td>\n",
              "      <td>2019</td>\n",
              "      <td>NaN</td>\n",
              "      <td>True</td>\n",
              "      <td>['Sensor de chuva', 'Câmera de estacionamento'...</td>\n",
              "      <td>81399.35</td>\n",
              "    </tr>\n",
              "    <tr>\n",
              "      <th>Cielo Hatch</th>\n",
              "      <td>Motor Diesel</td>\n",
              "      <td>2019</td>\n",
              "      <td>NaN</td>\n",
              "      <td>True</td>\n",
              "      <td>['Painel digital', 'Central multimídia', 'Câme...</td>\n",
              "      <td>145197.70</td>\n",
              "    </tr>\n",
              "    <tr>\n",
              "      <th>Camry</th>\n",
              "      <td>Motor Diesel</td>\n",
              "      <td>2019</td>\n",
              "      <td>NaN</td>\n",
              "      <td>True</td>\n",
              "      <td>['Travas elétricas', 'Rodas de liga', 'Sensor ...</td>\n",
              "      <td>138597.27</td>\n",
              "    </tr>\n",
              "    <tr>\n",
              "      <th>Aston Martin Virage</th>\n",
              "      <td>Motor Diesel</td>\n",
              "      <td>2019</td>\n",
              "      <td>NaN</td>\n",
              "      <td>True</td>\n",
              "      <td>['Travas elétricas', 'Controle de tração', 'Câ...</td>\n",
              "      <td>97290.18</td>\n",
              "    </tr>\n",
              "    <tr>\n",
              "      <th>Série 7 Sedã</th>\n",
              "      <td>Motor Diesel</td>\n",
              "      <td>2019</td>\n",
              "      <td>NaN</td>\n",
              "      <td>True</td>\n",
              "      <td>['Vidros elétricos', 'Travas elétricas', 'Roda...</td>\n",
              "      <td>67539.79</td>\n",
              "    </tr>\n",
              "  </tbody>\n",
              "</table>\n",
              "</div>"
            ],
            "text/plain": [
              "                            Motor   Ano  Quilometragem  Zero_km  \\\n",
              "Nome                                                              \n",
              "Sorento              Motor Diesel  2019            NaN     True   \n",
              "Cielo Hatch          Motor Diesel  2019            NaN     True   \n",
              "Camry                Motor Diesel  2019            NaN     True   \n",
              "Aston Martin Virage  Motor Diesel  2019            NaN     True   \n",
              "Série 7 Sedã         Motor Diesel  2019            NaN     True   \n",
              "\n",
              "                                                            Acessórios  \\\n",
              "Nome                                                                     \n",
              "Sorento              ['Sensor de chuva', 'Câmera de estacionamento'...   \n",
              "Cielo Hatch          ['Painel digital', 'Central multimídia', 'Câme...   \n",
              "Camry                ['Travas elétricas', 'Rodas de liga', 'Sensor ...   \n",
              "Aston Martin Virage  ['Travas elétricas', 'Controle de tração', 'Câ...   \n",
              "Série 7 Sedã         ['Vidros elétricos', 'Travas elétricas', 'Roda...   \n",
              "\n",
              "                         Valor  \n",
              "Nome                            \n",
              "Sorento               81399.35  \n",
              "Cielo Hatch          145197.70  \n",
              "Camry                138597.27  \n",
              "Aston Martin Virage   97290.18  \n",
              "Série 7 Sedã          67539.79  "
            ]
          },
          "execution_count": 166,
          "metadata": {},
          "output_type": "execute_result"
        }
      ],
      "source": [
        "dataset.query('Motor == \"Motor Diesel\" and Zero_km == True')"
      ]
    },
    {
      "cell_type": "markdown",
      "metadata": {
        "colab_type": "text",
        "id": "ciJ4dw_FD1BZ"
      },
      "source": [
        "# 5.4 Iterando com DataFrames"
      ]
    },
    {
      "cell_type": "code",
      "execution_count": 167,
      "metadata": {
        "colab": {},
        "colab_type": "code",
        "id": "TKAB-g5KD1BZ"
      },
      "outputs": [
        {
          "data": {
            "text/html": [
              "<div>\n",
              "<style scoped>\n",
              "    .dataframe tbody tr th:only-of-type {\n",
              "        vertical-align: middle;\n",
              "    }\n",
              "\n",
              "    .dataframe tbody tr th {\n",
              "        vertical-align: top;\n",
              "    }\n",
              "\n",
              "    .dataframe thead th {\n",
              "        text-align: right;\n",
              "    }\n",
              "</style>\n",
              "<table border=\"1\" class=\"dataframe\">\n",
              "  <thead>\n",
              "    <tr style=\"text-align: right;\">\n",
              "      <th></th>\n",
              "      <th>Motor</th>\n",
              "      <th>Ano</th>\n",
              "      <th>Quilometragem</th>\n",
              "      <th>Zero_km</th>\n",
              "      <th>Acessórios</th>\n",
              "      <th>Valor</th>\n",
              "    </tr>\n",
              "    <tr>\n",
              "      <th>Nome</th>\n",
              "      <th></th>\n",
              "      <th></th>\n",
              "      <th></th>\n",
              "      <th></th>\n",
              "      <th></th>\n",
              "      <th></th>\n",
              "    </tr>\n",
              "  </thead>\n",
              "  <tbody>\n",
              "    <tr>\n",
              "      <th>Jetta Variant</th>\n",
              "      <td>Motor 4.0 Turbo</td>\n",
              "      <td>2003</td>\n",
              "      <td>44410.0</td>\n",
              "      <td>False</td>\n",
              "      <td>['Rodas de liga', 'Travas elétricas', 'Piloto ...</td>\n",
              "      <td>88078.64</td>\n",
              "    </tr>\n",
              "    <tr>\n",
              "      <th>Passat</th>\n",
              "      <td>Motor Diesel</td>\n",
              "      <td>1991</td>\n",
              "      <td>5712.0</td>\n",
              "      <td>False</td>\n",
              "      <td>['Central multimídia', 'Teto panorâmico', 'Fre...</td>\n",
              "      <td>106161.94</td>\n",
              "    </tr>\n",
              "    <tr>\n",
              "      <th>Crossfox</th>\n",
              "      <td>Motor Diesel V8</td>\n",
              "      <td>1990</td>\n",
              "      <td>37123.0</td>\n",
              "      <td>False</td>\n",
              "      <td>['Piloto automático', 'Controle de estabilidad...</td>\n",
              "      <td>72832.16</td>\n",
              "    </tr>\n",
              "    <tr>\n",
              "      <th>DS5</th>\n",
              "      <td>Motor 2.4 Turbo</td>\n",
              "      <td>2019</td>\n",
              "      <td>NaN</td>\n",
              "      <td>True</td>\n",
              "      <td>['Travas elétricas', '4 X 4', 'Vidros elétrico...</td>\n",
              "      <td>124549.07</td>\n",
              "    </tr>\n",
              "    <tr>\n",
              "      <th>Aston Martin DB4</th>\n",
              "      <td>Motor 2.4 Turbo</td>\n",
              "      <td>2006</td>\n",
              "      <td>25757.0</td>\n",
              "      <td>False</td>\n",
              "      <td>['Rodas de liga', '4 X 4', 'Central multimídia...</td>\n",
              "      <td>92612.10</td>\n",
              "    </tr>\n",
              "  </tbody>\n",
              "</table>\n",
              "</div>"
            ],
            "text/plain": [
              "                            Motor   Ano  Quilometragem  Zero_km  \\\n",
              "Nome                                                              \n",
              "Jetta Variant     Motor 4.0 Turbo  2003        44410.0    False   \n",
              "Passat               Motor Diesel  1991         5712.0    False   \n",
              "Crossfox          Motor Diesel V8  1990        37123.0    False   \n",
              "DS5               Motor 2.4 Turbo  2019            NaN     True   \n",
              "Aston Martin DB4  Motor 2.4 Turbo  2006        25757.0    False   \n",
              "\n",
              "                                                         Acessórios      Valor  \n",
              "Nome                                                                            \n",
              "Jetta Variant     ['Rodas de liga', 'Travas elétricas', 'Piloto ...   88078.64  \n",
              "Passat            ['Central multimídia', 'Teto panorâmico', 'Fre...  106161.94  \n",
              "Crossfox          ['Piloto automático', 'Controle de estabilidad...   72832.16  \n",
              "DS5               ['Travas elétricas', '4 X 4', 'Vidros elétrico...  124549.07  \n",
              "Aston Martin DB4  ['Rodas de liga', '4 X 4', 'Central multimídia...   92612.10  "
            ]
          },
          "execution_count": 167,
          "metadata": {},
          "output_type": "execute_result"
        }
      ],
      "source": [
        "dataset.head()"
      ]
    },
    {
      "cell_type": "code",
      "execution_count": 169,
      "metadata": {
        "colab": {},
        "colab_type": "code",
        "id": "eFTNtPRWD1Ba"
      },
      "outputs": [
        {
          "name": "stdout",
          "output_type": "stream",
          "text": [
            "Motor\n",
            "Ano\n",
            "Quilometragem\n",
            "Zero_km\n",
            "Acessórios\n",
            "Valor\n"
          ]
        }
      ],
      "source": [
        "for item in dataset:\n",
        "    print(item)"
      ]
    },
    {
      "cell_type": "code",
      "execution_count": 170,
      "metadata": {},
      "outputs": [
        {
          "data": {
            "text/plain": [
              "[('Jetta Variant',\n",
              "  Motor                                              Motor 4.0 Turbo\n",
              "  Ano                                                           2003\n",
              "  Quilometragem                                                44410\n",
              "  Zero_km                                                      False\n",
              "  Acessórios       ['Rodas de liga', 'Travas elétricas', 'Piloto ...\n",
              "  Valor                                                      88078.6\n",
              "  Name: Jetta Variant, dtype: object),\n",
              " ('Passat',\n",
              "  Motor                                                 Motor Diesel\n",
              "  Ano                                                           1991\n",
              "  Quilometragem                                                 5712\n",
              "  Zero_km                                                      False\n",
              "  Acessórios       ['Central multimídia', 'Teto panorâmico', 'Fre...\n",
              "  Valor                                                       106162\n",
              "  Name: Passat, dtype: object),\n",
              " ('Crossfox',\n",
              "  Motor                                              Motor Diesel V8\n",
              "  Ano                                                           1990\n",
              "  Quilometragem                                                37123\n",
              "  Zero_km                                                      False\n",
              "  Acessórios       ['Piloto automático', 'Controle de estabilidad...\n",
              "  Valor                                                      72832.2\n",
              "  Name: Crossfox, dtype: object),\n",
              " ('DS5',\n",
              "  Motor                                              Motor 2.4 Turbo\n",
              "  Ano                                                           2019\n",
              "  Quilometragem                                                  NaN\n",
              "  Zero_km                                                       True\n",
              "  Acessórios       ['Travas elétricas', '4 X 4', 'Vidros elétrico...\n",
              "  Valor                                                       124549\n",
              "  Name: DS5, dtype: object),\n",
              " ('Aston Martin DB4',\n",
              "  Motor                                              Motor 2.4 Turbo\n",
              "  Ano                                                           2006\n",
              "  Quilometragem                                                25757\n",
              "  Zero_km                                                      False\n",
              "  Acessórios       ['Rodas de liga', '4 X 4', 'Central multimídia...\n",
              "  Valor                                                      92612.1\n",
              "  Name: Aston Martin DB4, dtype: object),\n",
              " ('Palio Weekend',\n",
              "  Motor                                                Motor 1.8 16v\n",
              "  Ano                                                           2012\n",
              "  Quilometragem                                                10728\n",
              "  Zero_km                                                      False\n",
              "  Acessórios       ['Sensor de estacionamento', 'Teto panorâmico'...\n",
              "  Valor                                                      97497.7\n",
              "  Name: Palio Weekend, dtype: object),\n",
              " ('A5',\n",
              "  Motor                                              Motor 4.0 Turbo\n",
              "  Ano                                                           2019\n",
              "  Quilometragem                                                  NaN\n",
              "  Zero_km                                                       True\n",
              "  Acessórios       ['Câmbio automático', 'Câmera de estacionament...\n",
              "  Valor                                                      56445.2\n",
              "  Name: A5, dtype: object),\n",
              " ('Série 3 Cabrio',\n",
              "  Motor                                                 Motor 1.0 8v\n",
              "  Ano                                                           2009\n",
              "  Quilometragem                                                77599\n",
              "  Zero_km                                                      False\n",
              "  Acessórios       ['Controle de estabilidade', 'Sensor crepuscul...\n",
              "  Valor                                                       112310\n",
              "  Name: Série 3 Cabrio, dtype: object),\n",
              " ('Dodge Jorney',\n",
              "  Motor                                                Motor 3.0 32v\n",
              "  Ano                                                           2010\n",
              "  Quilometragem                                                99197\n",
              "  Zero_km                                                      False\n",
              "  Acessórios       ['Vidros elétricos', 'Piloto automático', 'Tet...\n",
              "  Valor                                                       120716\n",
              "  Name: Dodge Jorney, dtype: object),\n",
              " ('Carens',\n",
              "  Motor                                        Motor 5.0 V8 Bi-Turbo\n",
              "  Ano                                                           2011\n",
              "  Quilometragem                                                37978\n",
              "  Zero_km                                                      False\n",
              "  Acessórios       ['Ar condicionado', 'Painel digital', 'Central...\n",
              "  Valor                                                      76566.5\n",
              "  Name: Carens, dtype: object),\n",
              " ('Ford Edge',\n",
              "  Motor                                              Motor Diesel V6\n",
              "  Ano                                                           2002\n",
              "  Quilometragem                                                12859\n",
              "  Zero_km                                                      False\n",
              "  Acessórios       ['Sensor crepuscular', 'Rodas de liga', 'Teto ...\n",
              "  Valor                                                      71647.6\n",
              "  Name: Ford Edge, dtype: object),\n",
              " ('Courier',\n",
              "  Motor                                              Motor Diesel V8\n",
              "  Ano                                                           2007\n",
              "  Quilometragem                                                 8052\n",
              "  Zero_km                                                      False\n",
              "  Acessórios       ['Central multimídia', '4 X 4', 'Piloto automá...\n",
              "  Valor                                                      73919.5\n",
              "  Name: Courier, dtype: object),\n",
              " ('S-18',\n",
              "  Motor                                                     Motor V6\n",
              "  Ano                                                           2001\n",
              "  Quilometragem                                                89773\n",
              "  Zero_km                                                      False\n",
              "  Acessórios       ['Bancos de couro', 'Sensor de chuva', 'Rodas ...\n",
              "  Valor                                                       112733\n",
              "  Name: S-18, dtype: object),\n",
              " ('J5',\n",
              "  Motor                                                     Motor V6\n",
              "  Ano                                                           2019\n",
              "  Quilometragem                                                  NaN\n",
              "  Zero_km                                                       True\n",
              "  Acessórios       ['Sensor crepuscular', 'Painel digital', 'Roda...\n",
              "  Valor                                                      53183.4\n",
              "  Name: J5, dtype: object),\n",
              " ('F-Type Coupé',\n",
              "  Motor                                        Motor 5.0 V8 Bi-Turbo\n",
              "  Ano                                                           2009\n",
              "  Quilometragem                                                41457\n",
              "  Zero_km                                                      False\n",
              "  Acessórios       ['Piloto automático', 'Sensor crepuscular', 'S...\n",
              "  Valor                                                       127488\n",
              "  Name: F-Type Coupé, dtype: object),\n",
              " ('RAM',\n",
              "  Motor                                              Motor Diesel V8\n",
              "  Ano                                                           2016\n",
              "  Quilometragem                                               115607\n",
              "  Zero_km                                                      False\n",
              "  Acessórios       ['Sensor crepuscular', 'Câmbio automático', 'S...\n",
              "  Valor                                                      59910.4\n",
              "  Name: RAM, dtype: object),\n",
              " ('Série 1',\n",
              "  Motor                                                Motor 3.0 32v\n",
              "  Ano                                                           2012\n",
              "  Quilometragem                                                46449\n",
              "  Zero_km                                                      False\n",
              "  Acessórios       ['Teto panorâmico', 'Câmera de estacionamento'...\n",
              "  Valor                                                      61118.6\n",
              "  Name: Série 1, dtype: object),\n",
              " ('A3',\n",
              "  Motor                                                 Motor 1.0 8v\n",
              "  Ano                                                           2019\n",
              "  Quilometragem                                                  NaN\n",
              "  Zero_km                                                       True\n",
              "  Acessórios       ['4 X 4', 'Piloto automático', 'Central multim...\n",
              "  Valor                                                      88552.4\n",
              "  Name: A3, dtype: object),\n",
              " ('XC90',\n",
              "  Motor                                                 Motor 1.0 8v\n",
              "  Ano                                                           2016\n",
              "  Quilometragem                                                37086\n",
              "  Zero_km                                                      False\n",
              "  Acessórios       ['Travas elétricas', 'Vidros elétricos', 'Teto...\n",
              "  Valor                                                      62696.7\n",
              "  Name: XC90, dtype: object),\n",
              " ('RS 3 Sportback',\n",
              "  Motor                                                Motor 3.0 32v\n",
              "  Ano                                                           2017\n",
              "  Quilometragem                                                15173\n",
              "  Zero_km                                                      False\n",
              "  Acessórios       ['4 X 4', 'Piloto automático', 'Central multim...\n",
              "  Valor                                                       101726\n",
              "  Name: RS 3 Sportback, dtype: object),\n",
              " ('Pajero Sport',\n",
              "  Motor                                                 Motor 1.0 8v\n",
              "  Ano                                                           2002\n",
              "  Quilometragem                                               101193\n",
              "  Zero_km                                                      False\n",
              "  Acessórios       ['Sensor de estacionamento', 'Piloto automátic...\n",
              "  Valor                                                       106147\n",
              "  Name: Pajero Sport, dtype: object),\n",
              " ('Série 1 M',\n",
              "  Motor                                                     Motor V8\n",
              "  Ano                                                           2019\n",
              "  Quilometragem                                                  NaN\n",
              "  Zero_km                                                       True\n",
              "  Acessórios       ['Controle de estabilidade', 'Central multimíd...\n",
              "  Valor                                                      94564.4\n",
              "  Name: Série 1 M, dtype: object),\n",
              " ('Lamborghini Obvious',\n",
              "  Motor                                              Motor Diesel V6\n",
              "  Ano                                                           1994\n",
              "  Quilometragem                                                98079\n",
              "  Zero_km                                                      False\n",
              "  Acessórios       ['Rodas de liga', 'Câmbio automático', 'Travas...\n",
              "  Valor                                                       133530\n",
              "  Name: Lamborghini Obvious, dtype: object),\n",
              " ('Effa Hafei Picape Baú',\n",
              "  Motor                                                 Motor Diesel\n",
              "  Ano                                                           1991\n",
              "  Quilometragem                                               102959\n",
              "  Zero_km                                                      False\n",
              "  Acessórios       ['Controle de estabilidade', 'Painel digital',...\n",
              "  Valor                                                       125685\n",
              "  Name: Effa Hafei Picape Baú, dtype: object),\n",
              " ('Lamborghini Murciélago',\n",
              "  Motor                                        Motor 5.0 V8 Bi-Turbo\n",
              "  Ano                                                           2019\n",
              "  Quilometragem                                                  NaN\n",
              "  Zero_km                                                       True\n",
              "  Acessórios       ['Freios ABS', 'Câmbio automático', 'Ar condic...\n",
              "  Valor                                                       121596\n",
              "  Name: Lamborghini Murciélago, dtype: object),\n",
              " ('Up!',\n",
              "  Motor                                              Motor Diesel V6\n",
              "  Ano                                                           2019\n",
              "  Quilometragem                                                  NaN\n",
              "  Zero_km                                                       True\n",
              "  Acessórios       ['Sensor de estacionamento', 'Vidros elétricos...\n",
              "  Valor                                                      71367.1\n",
              "  Name: Up!, dtype: object),\n",
              " ('Fiesta Rocam Sedan',\n",
              "  Motor                                              Motor 4.0 Turbo\n",
              "  Ano                                                           2016\n",
              "  Quilometragem                                                 5795\n",
              "  Zero_km                                                      False\n",
              "  Acessórios       ['Ar condicionado', 'Bancos de couro', 'Câmbio...\n",
              "  Valor                                                      95347.8\n",
              "  Name: Fiesta Rocam Sedan, dtype: object),\n",
              " ('Sandero Stepway',\n",
              "  Motor                                                Motor 3.0 32v\n",
              "  Ano                                                           2019\n",
              "  Quilometragem                                                  NaN\n",
              "  Zero_km                                                       True\n",
              "  Acessórios       ['Freios ABS', 'Ar condicionado', 'Teto panorâ...\n",
              "  Valor                                                       105433\n",
              "  Name: Sandero Stepway, dtype: object),\n",
              " ('Cayman S',\n",
              "  Motor                                                Motor 3.0 32v\n",
              "  Ano                                                           2002\n",
              "  Quilometragem                                                58848\n",
              "  Zero_km                                                      False\n",
              "  Acessórios       ['Câmbio automático', 'Sensor de estacionament...\n",
              "  Valor                                                      57045.3\n",
              "  Name: Cayman S, dtype: object),\n",
              " ('V40',\n",
              "  Motor                                              Motor 4.0 Turbo\n",
              "  Ano                                                           1991\n",
              "  Quilometragem                                                94381\n",
              "  Zero_km                                                      False\n",
              "  Acessórios       ['Câmera de estacionamento', 'Sensor de estaci...\n",
              "  Valor                                                       120433\n",
              "  Name: V40, dtype: object),\n",
              " ('Classe SLS AMG',\n",
              "  Motor                                                 Motor 1.0 8v\n",
              "  Ano                                                           1997\n",
              "  Quilometragem                                                30163\n",
              "  Zero_km                                                      False\n",
              "  Acessórios       ['Sensor de estacionamento', 'Controle de esta...\n",
              "  Valor                                                      70707.2\n",
              "  Name: Classe SLS AMG, dtype: object),\n",
              " ('Gol G4',\n",
              "  Motor                                                Motor 2.0 16v\n",
              "  Ano                                                           1995\n",
              "  Quilometragem                                                53332\n",
              "  Zero_km                                                      False\n",
              "  Acessórios       ['Sensor crepuscular', '4 X 4', 'Vidros elétri...\n",
              "  Valor                                                      69105.2\n",
              "  Name: Gol G4, dtype: object),\n",
              " ('Linea',\n",
              "  Motor                                                 Motor 1.0 8v\n",
              "  Ano                                                           2018\n",
              "  Quilometragem                                                17720\n",
              "  Zero_km                                                      False\n",
              "  Acessórios       ['Piloto automático', 'Painel digital', 'Vidro...\n",
              "  Valor                                                      59358.7\n",
              "  Name: Linea, dtype: object),\n",
              " ('Ford F100',\n",
              "  Motor                                                Motor 2.0 16v\n",
              "  Ano                                                           1991\n",
              "  Quilometragem                                                33808\n",
              "  Zero_km                                                      False\n",
              "  Acessórios       ['Controle de tração', 'Sensor crepuscular', '...\n",
              "  Valor                                                      65955.4\n",
              "  Name: Ford F100, dtype: object),\n",
              " ('J2',\n",
              "  Motor                                                     Motor V8\n",
              "  Ano                                                           2014\n",
              "  Quilometragem                                                90684\n",
              "  Zero_km                                                      False\n",
              "  Acessórios       ['Teto panorâmico', 'Sensor de estacionamento'...\n",
              "  Valor                                                        60017\n",
              "  Name: J2, dtype: object),\n",
              " ('Aston Martin DBS',\n",
              "  Motor                                                     Motor V8\n",
              "  Ano                                                           1995\n",
              "  Quilometragem                                                43975\n",
              "  Zero_km                                                      False\n",
              "  Acessórios       ['Teto panorâmico', 'Piloto automático', 'Ar c...\n",
              "  Valor                                                       118910\n",
              "  Name: Aston Martin DBS, dtype: object),\n",
              " ('Pajero TR4',\n",
              "  Motor                                              Motor 2.4 Turbo\n",
              "  Ano                                                           2019\n",
              "  Quilometragem                                                  NaN\n",
              "  Zero_km                                                       True\n",
              "  Acessórios       ['Controle de tração', 'Bancos de couro', 'Câm...\n",
              "  Valor                                                      51606.6\n",
              "  Name: Pajero TR4, dtype: object),\n",
              " ('Polo Sedan',\n",
              "  Motor                                                     Motor V6\n",
              "  Ano                                                           2019\n",
              "  Quilometragem                                                  NaN\n",
              "  Zero_km                                                       True\n",
              "  Acessórios       ['Sensor de chuva', 'Sensor crepuscular', 'Ar ...\n",
              "  Valor                                                       123282\n",
              "  Name: Polo Sedan, dtype: object),\n",
              " ('California',\n",
              "  Motor                                                 Motor 1.0 8v\n",
              "  Ano                                                           2009\n",
              "  Quilometragem                                                 5526\n",
              "  Zero_km                                                      False\n",
              "  Acessórios       ['Rodas de liga', 'Ar condicionado', 'Câmera d...\n",
              "  Valor                                                      69770.2\n",
              "  Name: California, dtype: object),\n",
              " ('S60',\n",
              "  Motor                                              Motor 2.4 Turbo\n",
              "  Ano                                                           2019\n",
              "  Quilometragem                                                  NaN\n",
              "  Zero_km                                                       True\n",
              "  Acessórios       ['Teto panorâmico', 'Freios ABS', '4 X 4', 'Ar...\n",
              "  Valor                                                       102610\n",
              "  Name: S60, dtype: object),\n",
              " ('Tucson',\n",
              "  Motor                                                Motor 2.0 16v\n",
              "  Ano                                                           2013\n",
              "  Quilometragem                                                93415\n",
              "  Zero_km                                                      False\n",
              "  Acessórios       ['Vidros elétricos', 'Sensor crepuscular', 'Fr...\n",
              "  Valor                                                      67997.2\n",
              "  Name: Tucson, dtype: object),\n",
              " ('HB20',\n",
              "  Motor                                                     Motor V6\n",
              "  Ano                                                           2003\n",
              "  Quilometragem                                                40762\n",
              "  Zero_km                                                      False\n",
              "  Acessórios       ['Sensor de chuva', 'Travas elétricas', 'Contr...\n",
              "  Valor                                                       135235\n",
              "  Name: HB20, dtype: object),\n",
              " ('Optima',\n",
              "  Motor                                                Motor 1.8 16v\n",
              "  Ano                                                           2019\n",
              "  Quilometragem                                                  NaN\n",
              "  Zero_km                                                       True\n",
              "  Acessórios       ['Central multimídia', 'Ar condicionado', 'Tet...\n",
              "  Valor                                                      86641.3\n",
              "  Name: Optima, dtype: object),\n",
              " ('Logan',\n",
              "  Motor                                              Motor 4.0 Turbo\n",
              "  Ano                                                           2002\n",
              "  Quilometragem                                                86302\n",
              "  Zero_km                                                      False\n",
              "  Acessórios       ['Câmera de estacionamento', 'Vidros elétricos...\n",
              "  Valor                                                       136818\n",
              "  Name: Logan, dtype: object),\n",
              " ('Range Rover Vogue',\n",
              "  Motor                                                 Motor 1.0 8v\n",
              "  Ano                                                           2019\n",
              "  Quilometragem                                                  NaN\n",
              "  Zero_km                                                       True\n",
              "  Acessórios       ['4 X 4', 'Vidros elétricos', 'Rodas de liga',...\n",
              "  Valor                                                       117627\n",
              "  Name: Range Rover Vogue, dtype: object),\n",
              " ('Sonata',\n",
              "  Motor                                        Motor 5.0 V8 Bi-Turbo\n",
              "  Ano                                                           2002\n",
              "  Quilometragem                                                 9755\n",
              "  Zero_km                                                      False\n",
              "  Acessórios       ['Piloto automático', 'Ar condicionado', 'Vidr...\n",
              "  Valor                                                      56208.7\n",
              "  Name: Sonata, dtype: object),\n",
              " ('Ford New Fiesta Sedan',\n",
              "  Motor                                                Motor 3.0 32v\n",
              "  Ano                                                           2004\n",
              "  Quilometragem                                                69945\n",
              "  Zero_km                                                      False\n",
              "  Acessórios       ['Teto panorâmico', 'Painel digital', 'Ar cond...\n",
              "  Valor                                                      84222.6\n",
              "  Name: Ford New Fiesta Sedan, dtype: object),\n",
              " ('Série 5 Gran Turismo',\n",
              "  Motor                                              Motor 4.0 Turbo\n",
              "  Ano                                                           2001\n",
              "  Quilometragem                                                 2395\n",
              "  Zero_km                                                      False\n",
              "  Acessórios       ['Controle de tração', 'Piloto automático', 'A...\n",
              "  Valor                                                      90781.6\n",
              "  Name: Série 5 Gran Turismo, dtype: object),\n",
              " ('CR-V',\n",
              "  Motor                                              Motor Diesel V8\n",
              "  Ano                                                           2019\n",
              "  Quilometragem                                                  NaN\n",
              "  Zero_km                                                       True\n",
              "  Acessórios       ['Câmbio automático', 'Central multimídia', 'V...\n",
              "  Valor                                                      64701.1\n",
              "  Name: CR-V, dtype: object),\n",
              " ('Ford EcoSport',\n",
              "  Motor                                                 Motor 1.0 8v\n",
              "  Ano                                                           2003\n",
              "  Quilometragem                                                80349\n",
              "  Zero_km                                                      False\n",
              "  Acessórios       ['Vidros elétricos', 'Piloto automático', 'Pai...\n",
              "  Valor                                                       126350\n",
              "  Name: Ford EcoSport, dtype: object),\n",
              " ('Versa',\n",
              "  Motor                                                Motor 3.0 32v\n",
              "  Ano                                                           2009\n",
              "  Quilometragem                                                85554\n",
              "  Zero_km                                                      False\n",
              "  Acessórios       ['Bancos de couro', 'Ar condicionado', 'Rodas ...\n",
              "  Valor                                                       148153\n",
              "  Name: Versa, dtype: object),\n",
              " ('Classe E',\n",
              "  Motor                                                 Motor 1.0 8v\n",
              "  Ano                                                           2006\n",
              "  Quilometragem                                                50496\n",
              "  Zero_km                                                      False\n",
              "  Acessórios       ['Freios ABS', 'Sensor de estacionamento', 'Ce...\n",
              "  Valor                                                       132299\n",
              "  Name: Classe E, dtype: object),\n",
              " ('Carnival',\n",
              "  Motor                                                     Motor V8\n",
              "  Ano                                                           2000\n",
              "  Quilometragem                                                67716\n",
              "  Zero_km                                                      False\n",
              "  Acessórios       ['Travas elétricas', 'Câmbio automático', 'Câm...\n",
              "  Valor                                                       137628\n",
              "  Name: Carnival, dtype: object),\n",
              " ('Aston Martin V8 Vantage Roadster',\n",
              "  Motor                                              Motor 2.4 Turbo\n",
              "  Ano                                                           2006\n",
              "  Quilometragem                                                93947\n",
              "  Zero_km                                                      False\n",
              "  Acessórios       ['Câmbio automático', 'Câmera de estacionament...\n",
              "  Valor                                                      80422.7\n",
              "  Name: Aston Martin V8 Vantage Roadster, dtype: object),\n",
              " ('Hoggar',\n",
              "  Motor                                        Motor 5.0 V8 Bi-Turbo\n",
              "  Ano                                                           2010\n",
              "  Quilometragem                                                35345\n",
              "  Zero_km                                                      False\n",
              "  Acessórios       ['Controle de estabilidade', 'Bancos de couro'...\n",
              "  Valor                                                        56374\n",
              "  Name: Hoggar, dtype: object),\n",
              " ('A1',\n",
              "  Motor                                        Motor 5.0 V8 Bi-Turbo\n",
              "  Ano                                                           1994\n",
              "  Quilometragem                                                81007\n",
              "  Zero_km                                                      False\n",
              "  Acessórios       ['Painel digital', 'Câmbio automático', 'Câmer...\n",
              "  Valor                                                        70846\n",
              "  Name: A1, dtype: object),\n",
              " ('Aston Martin DB7 Vantage',\n",
              "  Motor                                                     Motor V6\n",
              "  Ano                                                           2007\n",
              "  Quilometragem                                               119513\n",
              "  Zero_km                                                      False\n",
              "  Acessórios       ['Sensor crepuscular', 'Piloto automático', 'T...\n",
              "  Valor                                                       128694\n",
              "  Name: Aston Martin DB7 Vantage, dtype: object),\n",
              " ('CLA',\n",
              "  Motor                                                 Motor 1.0 8v\n",
              "  Ano                                                           2019\n",
              "  Quilometragem                                                  NaN\n",
              "  Zero_km                                                       True\n",
              "  Acessórios       ['Central multimídia', 'Sensor de chuva', 'Con...\n",
              "  Valor                                                       133329\n",
              "  Name: CLA, dtype: object),\n",
              " ('Accord',\n",
              "  Motor                                                     Motor V8\n",
              "  Ano                                                           2019\n",
              "  Quilometragem                                                  NaN\n",
              "  Zero_km                                                       True\n",
              "  Acessórios       ['Sensor de estacionamento', 'Ar condicionado'...\n",
              "  Valor                                                       131961\n",
              "  Name: Accord, dtype: object),\n",
              " ('EXTRA 103EX',\n",
              "  Motor                                                Motor 2.0 16v\n",
              "  Ano                                                           2019\n",
              "  Quilometragem                                                  NaN\n",
              "  Zero_km                                                       True\n",
              "  Acessórios       ['Sensor de estacionamento', 'Central multimíd...\n",
              "  Valor                                                       112033\n",
              "  Name: EXTRA 103EX, dtype: object),\n",
              " ('Sorento',\n",
              "  Motor                                                 Motor Diesel\n",
              "  Ano                                                           2019\n",
              "  Quilometragem                                                  NaN\n",
              "  Zero_km                                                       True\n",
              "  Acessórios       ['Sensor de chuva', 'Câmera de estacionamento'...\n",
              "  Valor                                                      81399.4\n",
              "  Name: Sorento, dtype: object),\n",
              " ('Tiggo',\n",
              "  Motor                                                Motor 3.0 32v\n",
              "  Ano                                                           2019\n",
              "  Quilometragem                                                  NaN\n",
              "  Zero_km                                                       True\n",
              "  Acessórios       ['Câmera de estacionamento', 'Freios ABS', 'Pi...\n",
              "  Valor                                                      97163.1\n",
              "  Name: Tiggo, dtype: object),\n",
              " ('New Fiesta Hatch',\n",
              "  Motor                                                 Motor Diesel\n",
              "  Ano                                                           2017\n",
              "  Quilometragem                                               118895\n",
              "  Zero_km                                                      False\n",
              "  Acessórios       ['Sensor de estacionamento', 'Travas elétricas...\n",
              "  Valor                                                      66007.2\n",
              "  Name: New Fiesta Hatch, dtype: object),\n",
              " ('Jeep Renegade',\n",
              "  Motor                                        Motor 5.0 V8 Bi-Turbo\n",
              "  Ano                                                           2011\n",
              "  Quilometragem                                                48509\n",
              "  Zero_km                                                      False\n",
              "  Acessórios       ['Vidros elétricos', 'Teto panorâmico', 'Banco...\n",
              "  Valor                                                       128776\n",
              "  Name: Jeep Renegade, dtype: object),\n",
              " ('Lamborghini Ankonian',\n",
              "  Motor                                                Motor 2.0 16v\n",
              "  Ano                                                           2001\n",
              "  Quilometragem                                               100912\n",
              "  Zero_km                                                      False\n",
              "  Acessórios       ['Bancos de couro', 'Câmera de estacionamento'...\n",
              "  Valor                                                       142623\n",
              "  Name: Lamborghini Ankonian, dtype: object),\n",
              " ('Space Cross',\n",
              "  Motor                                        Motor 5.0 V8 Bi-Turbo\n",
              "  Ano                                                           1996\n",
              "  Quilometragem                                                95649\n",
              "  Zero_km                                                      False\n",
              "  Acessórios       ['Teto panorâmico', 'Vidros elétricos', 'Senso...\n",
              "  Valor                                                       136930\n",
              "  Name: Space Cross, dtype: object),\n",
              " ('Touareg',\n",
              "  Motor                                                     Motor V8\n",
              "  Ano                                                           2019\n",
              "  Quilometragem                                                  NaN\n",
              "  Zero_km                                                       True\n",
              "  Acessórios       ['Controle de estabilidade', 'Piloto automátic...\n",
              "  Valor                                                      66526.6\n",
              "  Name: Touareg, dtype: object),\n",
              " ('Classe M',\n",
              "  Motor                                                 Motor 1.0 8v\n",
              "  Ano                                                           1994\n",
              "  Quilometragem                                                90495\n",
              "  Zero_km                                                      False\n",
              "  Acessórios       ['Central multimídia', 'Bancos de couro', 'Rod...\n",
              "  Valor                                                       114155\n",
              "  Name: Classe M, dtype: object),\n",
              " ('Lancer Evolution X',\n",
              "  Motor                                              Motor Diesel V6\n",
              "  Ano                                                           2019\n",
              "  Quilometragem                                                  NaN\n",
              "  Zero_km                                                       True\n",
              "  Acessórios       ['Vidros elétricos', 'Câmbio automático', 'Con...\n",
              "  Valor                                                       142393\n",
              "  Name: Lancer Evolution X, dtype: object),\n",
              " ('Kangoo Express',\n",
              "  Motor                                                 Motor Diesel\n",
              "  Ano                                                           2007\n",
              "  Quilometragem                                                29132\n",
              "  Zero_km                                                      False\n",
              "  Acessórios       ['Bancos de couro', 'Câmbio automático', 'Pilo...\n",
              "  Valor                                                       146717\n",
              "  Name: Kangoo Express, dtype: object),\n",
              " ('SW4',\n",
              "  Motor                                              Motor Diesel V6\n",
              "  Ano                                                           1994\n",
              "  Quilometragem                                                23802\n",
              "  Zero_km                                                      False\n",
              "  Acessórios       ['Sensor de chuva', 'Bancos de couro', 'Contro...\n",
              "  Valor                                                       122486\n",
              "  Name: SW4, dtype: object),\n",
              " ('Cadillac ELR',\n",
              "  Motor                                                 Motor 1.0 8v\n",
              "  Ano                                                           2007\n",
              "  Quilometragem                                                84992\n",
              "  Zero_km                                                      False\n",
              "  Acessórios       ['Sensor crepuscular', 'Travas elétricas', 'Te...\n",
              "  Valor                                                        97951\n",
              "  Name: Cadillac ELR, dtype: object),\n",
              " ('Doblò',\n",
              "  Motor                                                Motor 1.8 16v\n",
              "  Ano                                                           1997\n",
              "  Quilometragem                                                54395\n",
              "  Zero_km                                                      False\n",
              "  Acessórios       ['Câmera de estacionamento', 'Teto panorâmico'...\n",
              "  Valor                                                      78283.5\n",
              "  Name: Doblò, dtype: object),\n",
              " ('Lamborghini Egoista',\n",
              "  Motor                                                Motor 3.0 32v\n",
              "  Ano                                                           2006\n",
              "  Quilometragem                                                26731\n",
              "  Zero_km                                                      False\n",
              "  Acessórios       ['Rodas de liga', 'Controle de tração', 'Centr...\n",
              "  Valor                                                        83434\n",
              "  Name: Lamborghini Egoista, dtype: object),\n",
              " ('Fit',\n",
              "  Motor                                                 Motor Diesel\n",
              "  Ano                                                           2013\n",
              "  Quilometragem                                                44329\n",
              "  Zero_km                                                      False\n",
              "  Acessórios       ['Freios ABS', 'Câmera de estacionamento', 'Câ...\n",
              "  Valor                                                      77836.2\n",
              "  Name: Fit, dtype: object),\n",
              " ('C5',\n",
              "  Motor                                                Motor 2.0 16v\n",
              "  Ano                                                           1994\n",
              "  Quilometragem                                               118236\n",
              "  Zero_km                                                      False\n",
              "  Acessórios       ['Painel digital', 'Teto panorâmico', 'Piloto ...\n",
              "  Valor                                                      60813.9\n",
              "  Name: C5, dtype: object),\n",
              " ('Celer Hatch',\n",
              "  Motor                                                     Motor V8\n",
              "  Ano                                                           2008\n",
              "  Quilometragem                                               113808\n",
              "  Zero_km                                                      False\n",
              "  Acessórios       ['Controle de estabilidade', 'Câmbio automátic...\n",
              "  Valor                                                      91353.9\n",
              "  Name: Celer Hatch, dtype: object),\n",
              " ('HB20S',\n",
              "  Motor                                                     Motor V8\n",
              "  Ano                                                           2008\n",
              "  Quilometragem                                                  610\n",
              "  Zero_km                                                      False\n",
              "  Acessórios       ['Teto panorâmico', 'Rodas de liga', 'Travas e...\n",
              "  Valor                                                       116281\n",
              "  Name: HB20S, dtype: object),\n",
              " ('Cielo Hatch',\n",
              "  Motor                                                 Motor Diesel\n",
              "  Ano                                                           2019\n",
              "  Quilometragem                                                  NaN\n",
              "  Zero_km                                                       True\n",
              "  Acessórios       ['Painel digital', 'Central multimídia', 'Câme...\n",
              "  Valor                                                       145198\n",
              "  Name: Cielo Hatch, dtype: object),\n",
              " ('Livina',\n",
              "  Motor                                                Motor 2.0 16v\n",
              "  Ano                                                           2019\n",
              "  Quilometragem                                                  NaN\n",
              "  Zero_km                                                       True\n",
              "  Acessórios       ['Sensor crepuscular', 'Câmera de estacionamen...\n",
              "  Valor                                                      50742.1\n",
              "  Name: Livina, dtype: object),\n",
              " ('Ducato',\n",
              "  Motor                                        Motor 5.0 V8 Bi-Turbo\n",
              "  Ano                                                           1999\n",
              "  Quilometragem                                                12887\n",
              "  Zero_km                                                      False\n",
              "  Acessórios       ['Sensor de chuva', 'Painel digital', 'Sensor ...\n",
              "  Valor                                                      73033.5\n",
              "  Name: Ducato, dtype: object),\n",
              " ('March',\n",
              "  Motor                                                     Motor V6\n",
              "  Ano                                                           2007\n",
              "  Quilometragem                                                79607\n",
              "  Zero_km                                                      False\n",
              "  Acessórios       ['Bancos de couro', 'Piloto automático', 'Sens...\n",
              "  Valor                                                      54332.9\n",
              "  Name: March, dtype: object),\n",
              " ('Cadillac XTS sedan',\n",
              "  Motor                                              Motor Diesel V6\n",
              "  Ano                                                           1993\n",
              "  Quilometragem                                                90924\n",
              "  Zero_km                                                      False\n",
              "  Acessórios       ['Ar condicionado', 'Câmbio automático', 'Sens...\n",
              "  Valor                                                      52207.4\n",
              "  Name: Cadillac XTS sedan, dtype: object),\n",
              " ('Lamborghini Centenario',\n",
              "  Motor                                                     Motor V6\n",
              "  Ano                                                           1995\n",
              "  Quilometragem                                                42733\n",
              "  Zero_km                                                      False\n",
              "  Acessórios       ['Central multimídia', 'Vidros elétricos', 'Se...\n",
              "  Valor                                                      63578.5\n",
              "  Name: Lamborghini Centenario, dtype: object),\n",
              " ('Hilux',\n",
              "  Motor                                        Motor 5.0 V8 Bi-Turbo\n",
              "  Ano                                                           2019\n",
              "  Quilometragem                                                  NaN\n",
              "  Zero_km                                                       True\n",
              "  Acessórios       ['4 X 4', 'Piloto automático', 'Teto panorâmic...\n",
              "  Valor                                                      64507.7\n",
              "  Name: Hilux, dtype: object),\n",
              " ('Grand Siena',\n",
              "  Motor                                              Motor Diesel V8\n",
              "  Ano                                                           2019\n",
              "  Quilometragem                                                  NaN\n",
              "  Zero_km                                                       True\n",
              "  Acessórios       ['Bancos de couro', 'Painel digital', 'Sensor ...\n",
              "  Valor                                                       115076\n",
              "  Name: Grand Siena, dtype: object),\n",
              " ('Symbol',\n",
              "  Motor                                                 Motor Diesel\n",
              "  Ano                                                           2016\n",
              "  Quilometragem                                               117714\n",
              "  Zero_km                                                      False\n",
              "  Acessórios       ['4 X 4', 'Piloto automático', 'Sensor crepusc...\n",
              "  Valor                                                       133031\n",
              "  Name: Symbol, dtype: object),\n",
              " ('Aston Martin V12 GT Zagato',\n",
              "  Motor                                              Motor 4.0 Turbo\n",
              "  Ano                                                           2011\n",
              "  Quilometragem                                               113885\n",
              "  Zero_km                                                      False\n",
              "  Acessórios       ['Central multimídia', 'Piloto automático', 'S...\n",
              "  Valor                                                       141592\n",
              "  Name: Aston Martin V12 GT Zagato, dtype: object),\n",
              " ('Fusion',\n",
              "  Motor                                                Motor 1.8 16v\n",
              "  Ano                                                           2019\n",
              "  Quilometragem                                                  NaN\n",
              "  Zero_km                                                       True\n",
              "  Acessórios       ['Controle de tração', 'Câmbio automático', 'F...\n",
              "  Valor                                                       100380\n",
              "  Name: Fusion, dtype: object),\n",
              " ('A4 Sedan',\n",
              "  Motor                                                 Motor Diesel\n",
              "  Ano                                                           2002\n",
              "  Quilometragem                                                30511\n",
              "  Zero_km                                                      False\n",
              "  Acessórios       ['Câmera de estacionamento', '4 X 4', 'Travas ...\n",
              "  Valor                                                        96369\n",
              "  Name: A4 Sedan, dtype: object),\n",
              " ('Xsara Picasso',\n",
              "  Motor                                                Motor 2.0 16v\n",
              "  Ano                                                           2013\n",
              "  Quilometragem                                                74867\n",
              "  Zero_km                                                      False\n",
              "  Acessórios       ['Sensor de chuva', 'Teto panorâmico', 'Centra...\n",
              "  Valor                                                       142604\n",
              "  Name: Xsara Picasso, dtype: object),\n",
              " ('207 SW',\n",
              "  Motor                                                Motor 3.0 32v\n",
              "  Ano                                                           2017\n",
              "  Quilometragem                                               119760\n",
              "  Zero_km                                                      False\n",
              "  Acessórios       ['Controle de estabilidade', 'Travas elétricas...\n",
              "  Valor                                                       117710\n",
              "  Name: 207 SW, dtype: object),\n",
              " ('Star',\n",
              "  Motor                                                     Motor V6\n",
              "  Ano                                                           2016\n",
              "  Quilometragem                                                 8356\n",
              "  Zero_km                                                      False\n",
              "  Acessórios       ['Câmera de estacionamento', '4 X 4', 'Central...\n",
              "  Valor                                                       102242\n",
              "  Name: Star, dtype: object),\n",
              " ('Doblò Cargo',\n",
              "  Motor                                                Motor 3.0 32v\n",
              "  Ano                                                           2008\n",
              "  Quilometragem                                                64247\n",
              "  Zero_km                                                      False\n",
              "  Acessórios       ['Freios ABS', 'Teto panorâmico', 'Vidros elét...\n",
              "  Valor                                                      96065.4\n",
              "  Name: Doblò Cargo, dtype: object),\n",
              " ('Cadillac CTS',\n",
              "  Motor                                                Motor 1.8 16v\n",
              "  Ano                                                           2018\n",
              "  Quilometragem                                                88661\n",
              "  Zero_km                                                      False\n",
              "  Acessórios       ['Travas elétricas', 'Sensor de chuva', 'Freio...\n",
              "  Valor                                                      53894.6\n",
              "  Name: Cadillac CTS, dtype: object),\n",
              " ('Cayenne',\n",
              "  Motor                                                 Motor 1.0 8v\n",
              "  Ano                                                           2003\n",
              "  Quilometragem                                                 4539\n",
              "  Zero_km                                                      False\n",
              "  Acessórios       ['Controle de tração', 'Piloto automático', 'T...\n",
              "  Valor                                                       123912\n",
              "  Name: Cayenne, dtype: object),\n",
              " ('Fox',\n",
              "  Motor                                              Motor 4.0 Turbo\n",
              "  Ano                                                           2003\n",
              "  Quilometragem                                               110116\n",
              "  Zero_km                                                      False\n",
              "  Acessórios       ['Piloto automático', 'Câmbio automático', 'Tr...\n",
              "  Valor                                                       101996\n",
              "  Name: Fox, dtype: object),\n",
              " ('Tiida Hatch',\n",
              "  Motor                                              Motor Diesel V6\n",
              "  Ano                                                           2004\n",
              "  Quilometragem                                                33215\n",
              "  Zero_km                                                      False\n",
              "  Acessórios       ['Teto panorâmico', 'Travas elétricas', 'Senso...\n",
              "  Valor                                                      83431.7\n",
              "  Name: Tiida Hatch, dtype: object),\n",
              " ('Dodge Charger',\n",
              "  Motor                                              Motor 2.4 Turbo\n",
              "  Ano                                                           2010\n",
              "  Quilometragem                                                92001\n",
              "  Zero_km                                                      False\n",
              "  Acessórios       ['Vidros elétricos', 'Sensor crepuscular', 'Co...\n",
              "  Valor                                                       122976\n",
              "  Name: Dodge Charger, dtype: object),\n",
              " ('Face',\n",
              "  Motor                                                     Motor V8\n",
              "  Ano                                                           2019\n",
              "  Quilometragem                                                  NaN\n",
              "  Zero_km                                                       True\n",
              "  Acessórios       ['Controle de estabilidade', 'Vidros elétricos...\n",
              "  Valor                                                      93227.7\n",
              "  Name: Face, dtype: object),\n",
              " ('Prius',\n",
              "  Motor                                                Motor 3.0 32v\n",
              "  Ano                                                           2006\n",
              "  Quilometragem                                                81708\n",
              "  Zero_km                                                      False\n",
              "  Acessórios       ['Rodas de liga', 'Bancos de couro', 'Painel d...\n",
              "  Valor                                                      58762.7\n",
              "  Name: Prius, dtype: object),\n",
              " ('Idea',\n",
              "  Motor                                                     Motor V6\n",
              "  Ano                                                           2001\n",
              "  Quilometragem                                                70641\n",
              "  Zero_km                                                      False\n",
              "  Acessórios       ['Central multimídia', 'Piloto automático', 'T...\n",
              "  Valor                                                       139550\n",
              "  Name: Idea, dtype: object),\n",
              " ('A8',\n",
              "  Motor                                                Motor 2.0 16v\n",
              "  Ano                                                           2019\n",
              "  Quilometragem                                                  NaN\n",
              "  Zero_km                                                       True\n",
              "  Acessórios       ['Painel digital', 'Teto panorâmico', 'Piloto ...\n",
              "  Valor                                                       122016\n",
              "  Name: A8, dtype: object),\n",
              " ('Série 1 Cabrio',\n",
              "  Motor                                                Motor 3.0 32v\n",
              "  Ano                                                           2015\n",
              "  Quilometragem                                                91277\n",
              "  Zero_km                                                      False\n",
              "  Acessórios       ['Vidros elétricos', 'Travas elétricas', 'Cont...\n",
              "  Valor                                                        72732\n",
              "  Name: Série 1 Cabrio, dtype: object),\n",
              " ('Edge',\n",
              "  Motor                                                     Motor V6\n",
              "  Ano                                                           2018\n",
              "  Quilometragem                                                26544\n",
              "  Zero_km                                                      False\n",
              "  Acessórios       ['Freios ABS', 'Controle de tração', 'Sensor c...\n",
              "  Valor                                                      88416.5\n",
              "  Name: Edge, dtype: object),\n",
              " ('Cadillac ATS sedan',\n",
              "  Motor                                                Motor 1.8 16v\n",
              "  Ano                                                           2017\n",
              "  Quilometragem                                                52596\n",
              "  Zero_km                                                      False\n",
              "  Acessórios       ['Painel digital', 'Vidros elétricos', 'Teto p...\n",
              "  Valor                                                      73873.4\n",
              "  Name: Cadillac ATS sedan, dtype: object),\n",
              " ('Lamborghini Asterion LPI 910-4',\n",
              "  Motor                                        Motor 5.0 V8 Bi-Turbo\n",
              "  Ano                                                           1992\n",
              "  Quilometragem                                                47503\n",
              "  Zero_km                                                      False\n",
              "  Acessórios       ['Ar condicionado', 'Painel digital', 'Control...\n",
              "  Valor                                                      70709.3\n",
              "  Name: Lamborghini Asterion LPI 910-4, dtype: object),\n",
              " ('Frontier',\n",
              "  Motor                                                     Motor V8\n",
              "  Ano                                                           2001\n",
              "  Quilometragem                                                89056\n",
              "  Zero_km                                                      False\n",
              "  Acessórios       ['Câmbio automático', 'Rodas de liga', 'Sensor...\n",
              "  Valor                                                       115306\n",
              "  Name: Frontier, dtype: object),\n",
              " ('Série 3 Sedã',\n",
              "  Motor                                                Motor 3.0 32v\n",
              "  Ano                                                           1993\n",
              "  Quilometragem                                                28834\n",
              "  Zero_km                                                      False\n",
              "  Acessórios       ['Controle de tração', 'Controle de estabilida...\n",
              "  Valor                                                      55924.6\n",
              "  Name: Série 3 Sedã, dtype: object),\n",
              " ('Lamborghini LM002',\n",
              "  Motor                                                Motor 1.8 16v\n",
              "  Ano                                                           1995\n",
              "  Quilometragem                                               110564\n",
              "  Zero_km                                                      False\n",
              "  Acessórios       ['Bancos de couro', 'Freios ABS', 'Central mul...\n",
              "  Valor                                                      85052.3\n",
              "  Name: Lamborghini LM002, dtype: object),\n",
              " ('Cadillac XLR',\n",
              "  Motor                                              Motor Diesel V8\n",
              "  Ano                                                           2003\n",
              "  Quilometragem                                                56638\n",
              "  Zero_km                                                      False\n",
              "  Acessórios       ['Sensor crepuscular', 'Teto panorâmico', 'Sen...\n",
              "  Valor                                                      56646.3\n",
              "  Name: Cadillac XLR, dtype: object),\n",
              " ('A4 Avant',\n",
              "  Motor                                                 Motor Diesel\n",
              "  Ano                                                           2014\n",
              "  Quilometragem                                                17357\n",
              "  Zero_km                                                      False\n",
              "  Acessórios       ['Teto panorâmico', '4 X 4', 'Bancos de couro'...\n",
              "  Valor                                                       138947\n",
              "  Name: A4 Avant, dtype: object),\n",
              " ('EcoSport',\n",
              "  Motor                                              Motor 4.0 Turbo\n",
              "  Ano                                                           2008\n",
              "  Quilometragem                                                74015\n",
              "  Zero_km                                                      False\n",
              "  Acessórios       ['Piloto automático', 'Sensor de estacionament...\n",
              "  Valor                                                       108257\n",
              "  Name: EcoSport, dtype: object),\n",
              " ('J3',\n",
              "  Motor                                                Motor 1.8 16v\n",
              "  Ano                                                           2013\n",
              "  Quilometragem                                                15196\n",
              "  Zero_km                                                      False\n",
              "  Acessórios       ['Controle de estabilidade', '4 X 4', 'Câmera ...\n",
              "  Valor                                                      58979.3\n",
              "  Name: J3, dtype: object),\n",
              " ('Q3',\n",
              "  Motor                                                Motor 3.0 32v\n",
              "  Ano                                                           2019\n",
              "  Quilometragem                                                  NaN\n",
              "  Zero_km                                                       True\n",
              "  Acessórios       ['Controle de estabilidade', 'Bancos de couro'...\n",
              "  Valor                                                       114728\n",
              "  Name: Q3, dtype: object),\n",
              " ('Aston Martin V8 Vantage',\n",
              "  Motor                                                     Motor V8\n",
              "  Ano                                                           2017\n",
              "  Quilometragem                                                10821\n",
              "  Zero_km                                                      False\n",
              "  Acessórios       ['Teto panorâmico', 'Controle de tração', 'Pai...\n",
              "  Valor                                                       139661\n",
              "  Name: Aston Martin V8 Vantage, dtype: object),\n",
              " ('Z4 Roadster',\n",
              "  Motor                                                Motor 3.0 32v\n",
              "  Ano                                                           2019\n",
              "  Quilometragem                                                  NaN\n",
              "  Zero_km                                                       True\n",
              "  Acessórios       ['Central multimídia', 'Câmbio automático', 'T...\n",
              "  Valor                                                      80382.2\n",
              "  Name: Z4 Roadster, dtype: object),\n",
              " ('Lamborghini Ferruccio',\n",
              "  Motor                                                Motor 3.0 32v\n",
              "  Ano                                                           2019\n",
              "  Quilometragem                                                  NaN\n",
              "  Zero_km                                                       True\n",
              "  Acessórios       ['Vidros elétricos', 'Piloto automático', 'Tet...\n",
              "  Valor                                                       149157\n",
              "  Name: Lamborghini Ferruccio, dtype: object),\n",
              " ('Ford Ka+',\n",
              "  Motor                                                Motor 1.8 16v\n",
              "  Ano                                                           2006\n",
              "  Quilometragem                                                 9595\n",
              "  Zero_km                                                      False\n",
              "  Acessórios       ['Sensor crepuscular', 'Piloto automático', 'C...\n",
              "  Valor                                                      87830.4\n",
              "  Name: Ford Ka+, dtype: object),\n",
              " ('Silver Shadow',\n",
              "  Motor                                                 Motor Diesel\n",
              "  Ano                                                           2015\n",
              "  Quilometragem                                                99052\n",
              "  Zero_km                                                      False\n",
              "  Acessórios       ['4 X 4', 'Central multimídia', 'Ar condiciona...\n",
              "  Valor                                                       143568\n",
              "  Name: Silver Shadow, dtype: object),\n",
              " ('Classe C 63 AMG Touring',\n",
              "  Motor                                              Motor Diesel V8\n",
              "  Ano                                                           2007\n",
              "  Quilometragem                                                52389\n",
              "  Zero_km                                                      False\n",
              "  Acessórios       ['Central multimídia', 'Piloto automático', 'F...\n",
              "  Valor                                                       138172\n",
              "  Name: Classe C 63 AMG Touring, dtype: object),\n",
              " ('Discovery 4',\n",
              "  Motor                                              Motor 4.0 Turbo\n",
              "  Ano                                                           2005\n",
              "  Quilometragem                                               119945\n",
              "  Zero_km                                                      False\n",
              "  Acessórios       ['Freios ABS', 'Rodas de liga', 'Sensor de chu...\n",
              "  Valor                                                       115785\n",
              "  Name: Discovery 4, dtype: object),\n",
              " ('Veloster',\n",
              "  Motor                                              Motor Diesel V8\n",
              "  Ano                                                           2017\n",
              "  Quilometragem                                                96005\n",
              "  Zero_km                                                      False\n",
              "  Acessórios       ['Ar condicionado', 'Central multimídia', 'Ban...\n",
              "  Valor                                                       146509\n",
              "  Name: Veloster, dtype: object),\n",
              " ('Classe C',\n",
              "  Motor                                              Motor Diesel V6\n",
              "  Ano                                                           1998\n",
              "  Quilometragem                                                31639\n",
              "  Zero_km                                                      False\n",
              "  Acessórios       ['Freios ABS', 'Sensor de chuva', 'Central mul...\n",
              "  Valor                                                       137670\n",
              "  Name: Classe C, dtype: object),\n",
              " ('Camry',\n",
              "  Motor                                                 Motor Diesel\n",
              "  Ano                                                           2019\n",
              "  Quilometragem                                                  NaN\n",
              "  Zero_km                                                       True\n",
              "  Acessórios       ['Travas elétricas', 'Rodas de liga', 'Sensor ...\n",
              "  Valor                                                       138597\n",
              "  Name: Camry, dtype: object),\n",
              " ('C5 Tourer',\n",
              "  Motor                                              Motor Diesel V6\n",
              "  Ano                                                           1999\n",
              "  Quilometragem                                                80187\n",
              "  Zero_km                                                      False\n",
              "  Acessórios       ['Rodas de liga', 'Sensor de chuva', 'Painel d...\n",
              "  Valor                                                       147628\n",
              "  Name: C5 Tourer, dtype: object),\n",
              " ('R8 GT',\n",
              "  Motor                                              Motor 4.0 Turbo\n",
              "  Ano                                                           2019\n",
              "  Quilometragem                                                  NaN\n",
              "  Zero_km                                                       True\n",
              "  Acessórios       ['Rodas de liga', 'Câmbio automático', 'Sensor...\n",
              "  Valor                                                        62999\n",
              "  Name: R8 GT, dtype: object),\n",
              " ('Bongo',\n",
              "  Motor                                              Motor Diesel V8\n",
              "  Ano                                                           2009\n",
              "  Quilometragem                                                58212\n",
              "  Zero_km                                                      False\n",
              "  Acessórios       ['Vidros elétricos', 'Teto panorâmico', 'Paine...\n",
              "  Valor                                                      91242.4\n",
              "  Name: Bongo, dtype: object),\n",
              " ('ASX',\n",
              "  Motor                                              Motor Diesel V8\n",
              "  Ano                                                           2003\n",
              "  Quilometragem                                                61672\n",
              "  Zero_km                                                      False\n",
              "  Acessórios       ['Ar condicionado', 'Sensor crepuscular', 'Rod...\n",
              "  Valor                                                       149490\n",
              "  Name: ASX, dtype: object),\n",
              " ('Cadillac SRX',\n",
              "  Motor                                        Motor 5.0 V8 Bi-Turbo\n",
              "  Ano                                                           1994\n",
              "  Quilometragem                                                32017\n",
              "  Zero_km                                                      False\n",
              "  Acessórios       ['Painel digital', 'Piloto automático', 'Contr...\n",
              "  Valor                                                      63529.9\n",
              "  Name: Cadillac SRX, dtype: object),\n",
              " ('Classe CL',\n",
              "  Motor                                                     Motor V8\n",
              "  Ano                                                           2019\n",
              "  Quilometragem                                                  NaN\n",
              "  Zero_km                                                       True\n",
              "  Acessórios       ['Central multimídia', 'Câmbio automático', '4...\n",
              "  Valor                                                      58525.4\n",
              "  Name: Classe CL, dtype: object),\n",
              " ('500 Abarth',\n",
              "  Motor                                                     Motor V6\n",
              "  Ano                                                           1994\n",
              "  Quilometragem                                                56944\n",
              "  Zero_km                                                      False\n",
              "  Acessórios       ['4 X 4', 'Teto panorâmico', 'Controle de traç...\n",
              "  Valor                                                      90345.1\n",
              "  Name: 500 Abarth, dtype: object),\n",
              " ('Aston Martin Cygnet',\n",
              "  Motor                                        Motor 5.0 V8 Bi-Turbo\n",
              "  Ano                                                           2019\n",
              "  Quilometragem                                                  NaN\n",
              "  Zero_km                                                       True\n",
              "  Acessórios       ['Painel digital', 'Ar condicionado', 'Sensor ...\n",
              "  Valor                                                       147771\n",
              "  Name: Aston Martin Cygnet, dtype: object),\n",
              " ('Cadillac STS',\n",
              "  Motor                                              Motor 4.0 Turbo\n",
              "  Ano                                                           2015\n",
              "  Quilometragem                                                86519\n",
              "  Zero_km                                                      False\n",
              "  Acessórios       ['Painel digital', 'Bancos de couro', 'Sensor ...\n",
              "  Valor                                                       106618\n",
              "  Name: Cadillac STS, dtype: object),\n",
              " ('Aston Martin DB9',\n",
              "  Motor                                                Motor 1.8 16v\n",
              "  Ano                                                           1996\n",
              "  Quilometragem                                                 4821\n",
              "  Zero_km                                                      False\n",
              "  Acessórios       ['Ar condicionado', 'Vidros elétricos', '4 X 4...\n",
              "  Valor                                                       104930\n",
              "  Name: Aston Martin DB9, dtype: object),\n",
              " ('NX 200t',\n",
              "  Motor                                              Motor 2.4 Turbo\n",
              "  Ano                                                           1997\n",
              "  Quilometragem                                               101025\n",
              "  Zero_km                                                      False\n",
              "  Acessórios       ['Controle de estabilidade', 'Painel digital',...\n",
              "  Valor                                                       100712\n",
              "  Name: NX 200t, dtype: object),\n",
              " ('Aston Martin One-77',\n",
              "  Motor                                                     Motor V6\n",
              "  Ano                                                           1993\n",
              "  Quilometragem                                                30705\n",
              "  Zero_km                                                      False\n",
              "  Acessórios       ['Sensor de estacionamento', 'Rodas de liga', ...\n",
              "  Valor                                                       141983\n",
              "  Name: Aston Martin One-77, dtype: object),\n",
              " ('Lamborghini Veneno',\n",
              "  Motor                                                Motor 3.0 32v\n",
              "  Ano                                                           2019\n",
              "  Quilometragem                                                  NaN\n",
              "  Zero_km                                                       True\n",
              "  Acessórios       ['4 X 4', 'Sensor de estacionamento', 'Câmbio ...\n",
              "  Valor                                                       104039\n",
              "  Name: Lamborghini Veneno, dtype: object),\n",
              " ('Sentra',\n",
              "  Motor                                                Motor 2.0 16v\n",
              "  Ano                                                           1992\n",
              "  Quilometragem                                                32555\n",
              "  Zero_km                                                      False\n",
              "  Acessórios       ['Piloto automático', 'Sensor crepuscular', 'T...\n",
              "  Valor                                                      88501.5\n",
              "  Name: Sentra, dtype: object),\n",
              " ('Jumper',\n",
              "  Motor                                              Motor 2.4 Turbo\n",
              "  Ano                                                           1995\n",
              "  Quilometragem                                               103389\n",
              "  Zero_km                                                      False\n",
              "  Acessórios       ['Ar condicionado', 'Rodas de liga', 'Câmbio a...\n",
              "  Valor                                                        79782\n",
              "  Name: Jumper, dtype: object),\n",
              " ('i30',\n",
              "  Motor                                                Motor 1.8 16v\n",
              "  Ano                                                           2019\n",
              "  Quilometragem                                                  NaN\n",
              "  Zero_km                                                       True\n",
              "  Acessórios       ['Câmbio automático', 'Controle de estabilidad...\n",
              "  Valor                                                      86224.1\n",
              "  Name: i30, dtype: object),\n",
              " ('X6',\n",
              "  Motor                                              Motor Diesel V6\n",
              "  Ano                                                           1990\n",
              "  Quilometragem                                                55289\n",
              "  Zero_km                                                      False\n",
              "  Acessórios       ['Câmera de estacionamento', 'Travas elétricas...\n",
              "  Valor                                                       103596\n",
              "  Name: X6, dtype: object),\n",
              " ('Voyage',\n",
              "  Motor                                        Motor 5.0 V8 Bi-Turbo\n",
              "  Ano                                                           2019\n",
              "  Quilometragem                                                  NaN\n",
              "  Zero_km                                                       True\n",
              "  Acessórios       ['Ar condicionado', 'Sensor de estacionamento'...\n",
              "  Valor                                                       148996\n",
              "  Name: Voyage, dtype: object),\n",
              " ('Phantom I Phantom II',\n",
              "  Motor                                                Motor 1.8 16v\n",
              "  Ano                                                           2019\n",
              "  Quilometragem                                                  NaN\n",
              "  Zero_km                                                       True\n",
              "  Acessórios       ['Piloto automático', 'Freios ABS', 'Painel di...\n",
              "  Valor                                                        60948\n",
              "  Name: Phantom I Phantom II, dtype: object),\n",
              " ('Passat Variant',\n",
              "  Motor                                                 Motor 1.0 8v\n",
              "  Ano                                                           1991\n",
              "  Quilometragem                                               115930\n",
              "  Zero_km                                                      False\n",
              "  Acessórios       ['Freios ABS', 'Rodas de liga', 'Piloto automá...\n",
              "  Valor                                                      69535.4\n",
              "  Name: Passat Variant, dtype: object),\n",
              " ('Clio',\n",
              "  Motor                                                 Motor Diesel\n",
              "  Ano                                                           1990\n",
              "  Quilometragem                                                66437\n",
              "  Zero_km                                                      False\n",
              "  Acessórios       ['4 X 4', 'Câmbio automático', 'Freios ABS', '...\n",
              "  Valor                                                       111130\n",
              "  Name: Clio, dtype: object),\n",
              " ('Classe G',\n",
              "  Motor                                              Motor Diesel V6\n",
              "  Ano                                                           2012\n",
              "  Quilometragem                                                96800\n",
              "  Zero_km                                                      False\n",
              "  Acessórios       ['Controle de estabilidade', 'Central multimíd...\n",
              "  Valor                                                      65847.7\n",
              "  Name: Classe G, dtype: object),\n",
              " ('Silver Ghost',\n",
              "  Motor                                                Motor 1.8 16v\n",
              "  Ano                                                           2007\n",
              "  Quilometragem                                                14237\n",
              "  Zero_km                                                      False\n",
              "  Acessórios       ['Travas elétricas', 'Painel digital', 'Câmera...\n",
              "  Valor                                                      78096.1\n",
              "  Name: Silver Ghost, dtype: object),\n",
              " ('Série 3 M3 Coupé',\n",
              "  Motor                                                 Motor Diesel\n",
              "  Ano                                                           2013\n",
              "  Quilometragem                                                19896\n",
              "  Zero_km                                                      False\n",
              "  Acessórios       ['Bancos de couro', 'Sensor de chuva', 'Ar con...\n",
              "  Valor                                                      69219.9\n",
              "  Name: Série 3 M3 Coupé, dtype: object),\n",
              " ('Gallardo LP 560 – 4',\n",
              "  Motor                                                 Motor Diesel\n",
              "  Ano                                                           2000\n",
              "  Quilometragem                                               113045\n",
              "  Zero_km                                                      False\n",
              "  Acessórios       ['Freios ABS', 'Teto panorâmico', 'Central mul...\n",
              "  Valor                                                       144119\n",
              "  Name: Gallardo LP 560 – 4, dtype: object),\n",
              " ('Freelander 2',\n",
              "  Motor                                              Motor Diesel V6\n",
              "  Ano                                                           2002\n",
              "  Quilometragem                                               114942\n",
              "  Zero_km                                                      False\n",
              "  Acessórios       ['4 X 4', 'Câmera de estacionamento', 'Sensor ...\n",
              "  Valor                                                      77397.1\n",
              "  Name: Freelander 2, dtype: object),\n",
              " ('Grand Cherokee',\n",
              "  Motor                                        Motor 5.0 V8 Bi-Turbo\n",
              "  Ano                                                           1996\n",
              "  Quilometragem                                                 3173\n",
              "  Zero_km                                                      False\n",
              "  Acessórios       ['Câmbio automático', 'Travas elétricas', 'Sen...\n",
              "  Valor                                                      68974.2\n",
              "  Name: Grand Cherokee, dtype: object),\n",
              " ('Aston Martin DBR9',\n",
              "  Motor                                              Motor 4.0 Turbo\n",
              "  Ano                                                           1996\n",
              "  Quilometragem                                                83611\n",
              "  Zero_km                                                      False\n",
              "  Acessórios       ['Controle de estabilidade', 'Sensor de estaci...\n",
              "  Valor                                                       125231\n",
              "  Name: Aston Martin DBR9, dtype: object),\n",
              " ('Soul',\n",
              "  Motor                                        Motor 5.0 V8 Bi-Turbo\n",
              "  Ano                                                           2015\n",
              "  Quilometragem                                                25356\n",
              "  Zero_km                                                      False\n",
              "  Acessórios       ['Sensor crepuscular', 'Piloto automático', 'S...\n",
              "  Valor                                                      85501.1\n",
              "  Name: Soul, dtype: object),\n",
              " ('Cadillac BLS',\n",
              "  Motor                                                     Motor V8\n",
              "  Ano                                                           1993\n",
              "  Quilometragem                                                88634\n",
              "  Zero_km                                                      False\n",
              "  Acessórios       ['Teto panorâmico', 'Controle de estabilidade'...\n",
              "  Valor                                                       137116\n",
              "  Name: Cadillac BLS, dtype: object),\n",
              " ('RX 350',\n",
              "  Motor                                                     Motor V6\n",
              "  Ano                                                           2013\n",
              "  Quilometragem                                                 2314\n",
              "  Zero_km                                                      False\n",
              "  Acessórios       ['Piloto automático', 'Sensor crepuscular', 'A...\n",
              "  Valor                                                       138824\n",
              "  Name: RX 350, dtype: object),\n",
              " ('Cayman',\n",
              "  Motor                                                Motor 3.0 32v\n",
              "  Ano                                                           2013\n",
              "  Quilometragem                                                 2627\n",
              "  Zero_km                                                      False\n",
              "  Acessórios       ['Central multimídia', 'Painel digital', 'Sens...\n",
              "  Valor                                                       117962\n",
              "  Name: Cayman, dtype: object),\n",
              " ('Chana Utility',\n",
              "  Motor                                                 Motor Diesel\n",
              "  Ano                                                           2009\n",
              "  Quilometragem                                                52034\n",
              "  Zero_km                                                      False\n",
              "  Acessórios       ['Ar condicionado', 'Sensor de estacionamento'...\n",
              "  Valor                                                       132662\n",
              "  Name: Chana Utility, dtype: object),\n",
              " ('308 CC',\n",
              "  Motor                                              Motor 4.0 Turbo\n",
              "  Ano                                                           2019\n",
              "  Quilometragem                                                  NaN\n",
              "  Zero_km                                                       True\n",
              "  Acessórios       ['Câmera de estacionamento', 'Bancos de couro'...\n",
              "  Valor                                                       146406\n",
              "  Name: 308 CC, dtype: object),\n",
              " ('L200 Triton',\n",
              "  Motor                                              Motor Diesel V8\n",
              "  Ano                                                           2019\n",
              "  Quilometragem                                                  NaN\n",
              "  Zero_km                                                       True\n",
              "  Acessórios       ['Vidros elétricos', 'Ar condicionado', 'Paine...\n",
              "  Valor                                                      81999.2\n",
              "  Name: L200 Triton, dtype: object),\n",
              " ('Jetta',\n",
              "  Motor                                        Motor 5.0 V8 Bi-Turbo\n",
              "  Ano                                                           2002\n",
              "  Quilometragem                                                79577\n",
              "  Zero_km                                                      False\n",
              "  Acessórios       ['Central multimídia', 'Vidros elétricos', 'Câ...\n",
              "  Valor                                                       140935\n",
              "  Name: Jetta, dtype: object),\n",
              " ('C4 Lounge',\n",
              "  Motor                                                     Motor V8\n",
              "  Ano                                                           1997\n",
              "  Quilometragem                                               108201\n",
              "  Zero_km                                                      False\n",
              "  Acessórios       ['Central multimídia', 'Controle de tração', '...\n",
              "  Valor                                                      82366.8\n",
              "  Name: C4 Lounge, dtype: object),\n",
              " ('C4 Pallas',\n",
              "  Motor                                                 Motor 1.0 8v\n",
              "  Ano                                                           1998\n",
              "  Quilometragem                                                76453\n",
              "  Zero_km                                                      False\n",
              "  Acessórios       ['4 X 4', 'Freios ABS', 'Sensor de chuva', 'Ro...\n",
              "  Valor                                                      70424.1\n",
              "  Name: C4 Pallas, dtype: object),\n",
              " ('Equus',\n",
              "  Motor                                                Motor 3.0 32v\n",
              "  Ano                                                           2004\n",
              "  Quilometragem                                                57683\n",
              "  Zero_km                                                      False\n",
              "  Acessórios       ['Travas elétricas', 'Rodas de liga', '4 X 4',...\n",
              "  Valor                                                      53620.3\n",
              "  Name: Equus, dtype: object),\n",
              " ('Classe GL',\n",
              "  Motor                                                Motor 3.0 32v\n",
              "  Ano                                                           1996\n",
              "  Quilometragem                                                96610\n",
              "  Zero_km                                                      False\n",
              "  Acessórios       ['Freios ABS', 'Câmera de estacionamento', 'Tr...\n",
              "  Valor                                                      73389.2\n",
              "  Name: Classe GL, dtype: object),\n",
              " ('Range Rover Evoque',\n",
              "  Motor                                                Motor 2.0 16v\n",
              "  Ano                                                           2015\n",
              "  Quilometragem                                               109001\n",
              "  Zero_km                                                      False\n",
              "  Acessórios       ['Rodas de liga', 'Teto panorâmico', 'Sensor d...\n",
              "  Valor                                                       111618\n",
              "  Name: Range Rover Evoque, dtype: object),\n",
              " ('Cherokee',\n",
              "  Motor                                              Motor 4.0 Turbo\n",
              "  Ano                                                           2016\n",
              "  Quilometragem                                                26212\n",
              "  Zero_km                                                      False\n",
              "  Acessórios       ['Painel digital', 'Travas elétricas', 'Rodas ...\n",
              "  Valor                                                       112187\n",
              "  Name: Cherokee, dtype: object),\n",
              " ('Punto',\n",
              "  Motor                                              Motor 4.0 Turbo\n",
              "  Ano                                                           2005\n",
              "  Quilometragem                                                45971\n",
              "  Zero_km                                                      False\n",
              "  Acessórios       ['Central multimídia', 'Câmbio automático', 'P...\n",
              "  Valor                                                       120813\n",
              "  Name: Punto, dtype: object),\n",
              " ('Grand Tour',\n",
              "  Motor                                                Motor 3.0 32v\n",
              "  Ano                                                           1999\n",
              "  Quilometragem                                                49182\n",
              "  Zero_km                                                      False\n",
              "  Acessórios       ['Rodas de liga', 'Travas elétricas', 'Bancos ...\n",
              "  Valor                                                       116031\n",
              "  Name: Grand Tour, dtype: object),\n",
              " ('Fluence',\n",
              "  Motor                                              Motor Diesel V6\n",
              "  Ano                                                           1995\n",
              "  Quilometragem                                                49907\n",
              "  Zero_km                                                      False\n",
              "  Acessórios       ['Sensor crepuscular', 'Teto panorâmico', 'Câm...\n",
              "  Valor                                                       125398\n",
              "  Name: Fluence, dtype: object),\n",
              " ('Effa Hafei Picape Cabine Simples',\n",
              "  Motor                                                 Motor 1.0 8v\n",
              "  Ano                                                           1993\n",
              "  Quilometragem                                                38620\n",
              "  Zero_km                                                      False\n",
              "  Acessórios       ['Piloto automático', 'Ar condicionado', 'Cent...\n",
              "  Valor                                                      76101.5\n",
              "  Name: Effa Hafei Picape Cabine Simples, dtype: object),\n",
              " ('Durango',\n",
              "  Motor                                                Motor 2.0 16v\n",
              "  Ano                                                           2004\n",
              "  Quilometragem                                                60996\n",
              "  Zero_km                                                      False\n",
              "  Acessórios       ['Bancos de couro', 'Painel digital', 'Câmbio ...\n",
              "  Valor                                                      75263.2\n",
              "  Name: Durango, dtype: object),\n",
              " ('Boxster',\n",
              "  Motor                                              Motor Diesel V8\n",
              "  Ano                                                           2013\n",
              "  Quilometragem                                                73914\n",
              "  Zero_km                                                      False\n",
              "  Acessórios       ['Teto panorâmico', 'Sensor crepuscular', 'Ban...\n",
              "  Valor                                                       147388\n",
              "  Name: Boxster, dtype: object),\n",
              " ('TT Roadster',\n",
              "  Motor                                                 Motor Diesel\n",
              "  Ano                                                           1998\n",
              "  Quilometragem                                               107392\n",
              "  Zero_km                                                      False\n",
              "  Acessórios       ['Ar condicionado', 'Sensor de estacionamento'...\n",
              "  Valor                                                      85311.4\n",
              "  Name: TT Roadster, dtype: object),\n",
              " ('Lamborghini Jalpa',\n",
              "  Motor                                                Motor 1.8 16v\n",
              "  Ano                                                           2018\n",
              "  Quilometragem                                                 9146\n",
              "  Zero_km                                                      False\n",
              "  Acessórios       ['Piloto automático', 'Freios ABS', 'Sensor de...\n",
              "  Valor                                                      54388.1\n",
              "  Name: Lamborghini Jalpa, dtype: object),\n",
              " ('Classe SLK',\n",
              "  Motor                                              Motor 4.0 Turbo\n",
              "  Ano                                                           2019\n",
              "  Quilometragem                                                  NaN\n",
              "  Zero_km                                                       True\n",
              "  Acessórios       ['4 X 4', 'Sensor de estacionamento', 'Control...\n",
              "  Valor                                                       124157\n",
              "  Name: Classe SLK, dtype: object),\n",
              " ('Golf',\n",
              "  Motor                                                 Motor 1.0 8v\n",
              "  Ano                                                           2018\n",
              "  Quilometragem                                                17924\n",
              "  Zero_km                                                      False\n",
              "  Acessórios       ['Rodas de liga', 'Controle de tração', 'Senso...\n",
              "  Valor                                                       146203\n",
              "  Name: Golf, dtype: object),\n",
              " ('C3 Picasso',\n",
              "  Motor                                                Motor 3.0 32v\n",
              "  Ano                                                           2019\n",
              "  Quilometragem                                                  NaN\n",
              "  Zero_km                                                       True\n",
              "  Acessórios       ['Teto panorâmico', 'Sensor crepuscular', 'Sen...\n",
              "  Valor                                                      56453.9\n",
              "  Name: C3 Picasso, dtype: object),\n",
              " ('V50',\n",
              "  Motor                                                Motor 2.0 16v\n",
              "  Ano                                                           1990\n",
              "  Quilometragem                                               116949\n",
              "  Zero_km                                                      False\n",
              "  Acessórios       ['Teto panorâmico', 'Câmera de estacionamento'...\n",
              "  Valor                                                      68873.8\n",
              "  Name: V50, dtype: object),\n",
              " ('Picanto',\n",
              "  Motor                                              Motor 4.0 Turbo\n",
              "  Ano                                                           2009\n",
              "  Quilometragem                                                20476\n",
              "  Zero_km                                                      False\n",
              "  Acessórios       ['Painel digital', 'Controle de estabilidade',...\n",
              "  Valor                                                      91667.6\n",
              "  Name: Picanto, dtype: object),\n",
              " ('Cadenza',\n",
              "  Motor                                              Motor Diesel V6\n",
              "  Ano                                                           1990\n",
              "  Quilometragem                                                52804\n",
              "  Zero_km                                                      False\n",
              "  Acessórios       ['Sensor crepuscular', 'Controle de estabilida...\n",
              "  Valor                                                      93776.5\n",
              "  Name: Cadenza, dtype: object),\n",
              " ('Etios Sedã',\n",
              "  Motor                                        Motor 5.0 V8 Bi-Turbo\n",
              "  Ano                                                           2006\n",
              "  Quilometragem                                                 8849\n",
              "  Zero_km                                                      False\n",
              "  Acessórios       ['Ar condicionado', 'Vidros elétricos', 'Senso...\n",
              "  Valor                                                      66433.8\n",
              "  Name: Etios Sedã, dtype: object),\n",
              " ('Alsvin',\n",
              "  Motor                                              Motor Diesel V8\n",
              "  Ano                                                           2002\n",
              "  Quilometragem                                                91724\n",
              "  Zero_km                                                      False\n",
              "  Acessórios       ['Central multimídia', 'Controle de estabilida...\n",
              "  Valor                                                       109059\n",
              "  Name: Alsvin, dtype: object),\n",
              " ('Cadillac ATS',\n",
              "  Motor                                              Motor Diesel V6\n",
              "  Ano                                                           1991\n",
              "  Quilometragem                                                32056\n",
              "  Zero_km                                                      False\n",
              "  Acessórios       ['Piloto automático', 'Rodas de liga', '4 X 4'...\n",
              "  Valor                                                       122070\n",
              "  Name: Cadillac ATS, dtype: object),\n",
              " ('Série 3 M3 Sedã',\n",
              "  Motor                                              Motor Diesel V6\n",
              "  Ano                                                           1992\n",
              "  Quilometragem                                                74886\n",
              "  Zero_km                                                      False\n",
              "  Acessórios       ['Painel digital', 'Freios ABS', 'Ar condicion...\n",
              "  Valor                                                       113090\n",
              "  Name: Série 3 M3 Sedã, dtype: object),\n",
              " ('Classe S',\n",
              "  Motor                                                Motor 3.0 32v\n",
              "  Ano                                                           2019\n",
              "  Quilometragem                                                  NaN\n",
              "  Zero_km                                                       True\n",
              "  Acessórios       ['Controle de tração', 'Teto panorâmico', 'Câm...\n",
              "  Valor                                                      89401.1\n",
              "  Name: Classe S, dtype: object),\n",
              " ('T6',\n",
              "  Motor                                                Motor 3.0 32v\n",
              "  Ano                                                           2019\n",
              "  Quilometragem                                                  NaN\n",
              "  Zero_km                                                       True\n",
              "  Acessórios       ['Sensor de chuva', 'Câmera de estacionamento'...\n",
              "  Valor                                                      56842.8\n",
              "  Name: T6, dtype: object),\n",
              " ('Aston Martin DB7',\n",
              "  Motor                                              Motor Diesel V8\n",
              "  Ano                                                           2005\n",
              "  Quilometragem                                                52189\n",
              "  Zero_km                                                      False\n",
              "  Acessórios       ['Travas elétricas', 'Painel digital', 'Sensor...\n",
              "  Valor                                                       146677\n",
              "  Name: Aston Martin DB7, dtype: object),\n",
              " ('207 Sedan',\n",
              "  Motor                                              Motor 4.0 Turbo\n",
              "  Ano                                                           2010\n",
              "  Quilometragem                                                83559\n",
              "  Zero_km                                                      False\n",
              "  Acessórios       ['Controle de tração', 'Central multimídia', '...\n",
              "  Valor                                                        89512\n",
              "  Name: 207 Sedan, dtype: object),\n",
              " ('Aston Martin Virage',\n",
              "  Motor                                                 Motor Diesel\n",
              "  Ano                                                           2019\n",
              "  Quilometragem                                                  NaN\n",
              "  Zero_km                                                       True\n",
              "  Acessórios       ['Travas elétricas', 'Controle de tração', 'Câ...\n",
              "  Valor                                                      97290.2\n",
              "  Name: Aston Martin Virage, dtype: object),\n",
              " ('Azera',\n",
              "  Motor                                                Motor 1.8 16v\n",
              "  Ano                                                           2016\n",
              "  Quilometragem                                                20328\n",
              "  Zero_km                                                      False\n",
              "  Acessórios       ['Bancos de couro', 'Controle de tração', 'Ar ...\n",
              "  Valor                                                       120674\n",
              "  Name: Azera, dtype: object),\n",
              " ('Vantage Volante',\n",
              "  Motor                                              Motor Diesel V8\n",
              "  Ano                                                           2019\n",
              "  Quilometragem                                                  NaN\n",
              "  Zero_km                                                       True\n",
              "  Acessórios       ['Freios ABS', 'Controle de tração', 'Central ...\n",
              "  Valor                                                       114435\n",
              "  Name: Vantage Volante, dtype: object),\n",
              " ('Siena EL',\n",
              "  Motor                                                     Motor V8\n",
              "  Ano                                                           2010\n",
              "  Quilometragem                                                75577\n",
              "  Zero_km                                                      False\n",
              "  Acessórios       ['Freios ABS', 'Sensor crepuscular', 'Controle...\n",
              "  Valor                                                       139547\n",
              "  Name: Siena EL, dtype: object),\n",
              " ('Palio Adventure',\n",
              "  Motor                                              Motor Diesel V8\n",
              "  Ano                                                           1994\n",
              "  Quilometragem                                                33659\n",
              "  Zero_km                                                      False\n",
              "  Acessórios       ['Teto panorâmico', 'Central multimídia', 'Pil...\n",
              "  Valor                                                      95078.2\n",
              "  Name: Palio Adventure, dtype: object),\n",
              " ('HB20X',\n",
              "  Motor                                                     Motor V8\n",
              "  Ano                                                           2001\n",
              "  Quilometragem                                               104341\n",
              "  Zero_km                                                      False\n",
              "  Acessórios       ['Sensor crepuscular', 'Teto panorâmico', 'Pai...\n",
              "  Valor                                                      68091.8\n",
              "  Name: HB20X, dtype: object),\n",
              " ('HR',\n",
              "  Motor                                        Motor 5.0 V8 Bi-Turbo\n",
              "  Ano                                                           2014\n",
              "  Quilometragem                                                25510\n",
              "  Zero_km                                                      False\n",
              "  Acessórios       ['Controle de tração', 'Câmbio automático', '4...\n",
              "  Valor                                                        61497\n",
              "  Name: HR, dtype: object),\n",
              " ('Cadillac STS V-Series',\n",
              "  Motor                                                Motor 2.0 16v\n",
              "  Ano                                                           1996\n",
              "  Quilometragem                                                18965\n",
              "  Zero_km                                                      False\n",
              "  Acessórios       ['Vidros elétricos', 'Piloto automático', 'Câm...\n",
              "  Valor                                                       139669\n",
              "  Name: Cadillac STS V-Series, dtype: object),\n",
              " ('Série 1 Coupé',\n",
              "  Motor                                                 Motor 1.0 8v\n",
              "  Ano                                                           1993\n",
              "  Quilometragem                                                87161\n",
              "  Zero_km                                                      False\n",
              "  Acessórios       ['Controle de estabilidade', 'Teto panorâmico'...\n",
              "  Valor                                                      80661.4\n",
              "  Name: Série 1 Coupé, dtype: object),\n",
              " ('SpaceFox',\n",
              "  Motor                                                     Motor V8\n",
              "  Ano                                                           1993\n",
              "  Quilometragem                                                 6652\n",
              "  Zero_km                                                      False\n",
              "  Acessórios       ['Sensor crepuscular', '4 X 4', 'Painel digita...\n",
              "  Valor                                                      61783.7\n",
              "  Name: SpaceFox, dtype: object),\n",
              " ('C30',\n",
              "  Motor                                                 Motor 1.0 8v\n",
              "  Ano                                                           2001\n",
              "  Quilometragem                                                55738\n",
              "  Zero_km                                                      False\n",
              "  Acessórios       ['Teto panorâmico', 'Freios ABS', 'Sensor crep...\n",
              "  Valor                                                      52805.9\n",
              "  Name: C30, dtype: object),\n",
              " ('J3 Turin',\n",
              "  Motor                                                     Motor V6\n",
              "  Ano                                                           2019\n",
              "  Quilometragem                                                  NaN\n",
              "  Zero_km                                                       True\n",
              "  Acessórios       ['Sensor crepuscular', 'Câmera de estacionamen...\n",
              "  Valor                                                       127025\n",
              "  Name: J3 Turin, dtype: object),\n",
              " ('Classe B',\n",
              "  Motor                                              Motor Diesel V8\n",
              "  Ano                                                           2019\n",
              "  Quilometragem                                                  NaN\n",
              "  Zero_km                                                       True\n",
              "  Acessórios       ['4 X 4', 'Bancos de couro', 'Sensor crepuscul...\n",
              "  Valor                                                       135543\n",
              "  Name: Classe B, dtype: object),\n",
              " ('Parati',\n",
              "  Motor                                              Motor Diesel V8\n",
              "  Ano                                                           2019\n",
              "  Quilometragem                                                  NaN\n",
              "  Zero_km                                                       True\n",
              "  Acessórios       ['Sensor de estacionamento', 'Piloto automátic...\n",
              "  Valor                                                       121709\n",
              "  Name: Parati, dtype: object),\n",
              " ('Cadillac CTS V-Series',\n",
              "  Motor                                              Motor 4.0 Turbo\n",
              "  Ano                                                           2007\n",
              "  Quilometragem                                                64320\n",
              "  Zero_km                                                      False\n",
              "  Acessórios       ['Piloto automático', 'Ar condicionado', 'Cent...\n",
              "  Valor                                                       107343\n",
              "  Name: Cadillac CTS V-Series, dtype: object),\n",
              " ('Sedan',\n",
              "  Motor                                                     Motor V8\n",
              "  Ano                                                           2019\n",
              "  Quilometragem                                                  NaN\n",
              "  Zero_km                                                       True\n",
              "  Acessórios       ['Bancos de couro', 'Central multimídia', 'Fre...\n",
              "  Valor                                                      57888.1\n",
              "  Name: Sedan, dtype: object),\n",
              " ('Classe CLS 63 AMG',\n",
              "  Motor                                              Motor Diesel V6\n",
              "  Ano                                                           2016\n",
              "  Quilometragem                                                68678\n",
              "  Zero_km                                                      False\n",
              "  Acessórios       ['Freios ABS', 'Vidros elétricos', 'Câmbio aut...\n",
              "  Valor                                                       118161\n",
              "  Name: Classe CLS 63 AMG, dtype: object),\n",
              " ('Aircross',\n",
              "  Motor                                                 Motor 1.0 8v\n",
              "  Ano                                                           2014\n",
              "  Quilometragem                                                71697\n",
              "  Zero_km                                                      False\n",
              "  Acessórios       ['Controle de tração', 'Piloto automático', 'C...\n",
              "  Valor                                                       142499\n",
              "  Name: Aircross, dtype: object),\n",
              " ('Aston Martin V12 Vantage',\n",
              "  Motor                                                     Motor V8\n",
              "  Ano                                                           2019\n",
              "  Quilometragem                                                  NaN\n",
              "  Zero_km                                                       True\n",
              "  Acessórios       ['Bancos de couro', 'Central multimídia', 'Con...\n",
              "  Valor                                                       128396\n",
              "  Name: Aston Martin V12 Vantage, dtype: object),\n",
              " ('Sandero',\n",
              "  Motor                                                 Motor Diesel\n",
              "  Ano                                                           2015\n",
              "  Quilometragem                                                34783\n",
              "  Zero_km                                                      False\n",
              "  Acessórios       ['Piloto automático', 'Teto panorâmico', 'Câmb...\n",
              "  Valor                                                       112351\n",
              "  Name: Sandero, dtype: object),\n",
              " ('New Fiesta',\n",
              "  Motor                                        Motor 5.0 V8 Bi-Turbo\n",
              "  Ano                                                           2015\n",
              "  Quilometragem                                                33772\n",
              "  Zero_km                                                      False\n",
              "  Acessórios       ['Controle de tração', 'Travas elétricas', '4 ...\n",
              "  Valor                                                       124661\n",
              "  Name: New Fiesta, dtype: object),\n",
              " ('XKR',\n",
              "  Motor                                                 Motor Diesel\n",
              "  Ano                                                           1996\n",
              "  Quilometragem                                                85127\n",
              "  Zero_km                                                      False\n",
              "  Acessórios       ['Controle de tração', 'Ar condicionado', 'Tra...\n",
              "  Valor                                                      54263.2\n",
              "  Name: XKR, dtype: object),\n",
              " ('X5',\n",
              "  Motor                                                 Motor Diesel\n",
              "  Ano                                                           2002\n",
              "  Quilometragem                                                13606\n",
              "  Zero_km                                                      False\n",
              "  Acessórios       ['Controle de tração', 'Piloto automático', 'T...\n",
              "  Valor                                                      62041.3\n",
              "  Name: X5, dtype: object),\n",
              " ('Cadillac DTS',\n",
              "  Motor                                                Motor 1.8 16v\n",
              "  Ano                                                           2005\n",
              "  Quilometragem                                                35647\n",
              "  Zero_km                                                      False\n",
              "  Acessórios       ['Central multimídia', 'Rodas de liga', 'Câmbi...\n",
              "  Valor                                                       129296\n",
              "  Name: Cadillac DTS, dtype: object),\n",
              " ('Pajero Dakar',\n",
              "  Motor                                              Motor 4.0 Turbo\n",
              "  Ano                                                           1995\n",
              "  Quilometragem                                                95128\n",
              "  Zero_km                                                      False\n",
              "  Acessórios       ['Piloto automático', 'Sensor de chuva', 'Cont...\n",
              "  Valor                                                      60998.3\n",
              "  Name: Pajero Dakar, dtype: object),\n",
              " ('Classe A',\n",
              "  Motor                                                 Motor 1.0 8v\n",
              "  Ano                                                           1999\n",
              "  Quilometragem                                                14046\n",
              "  Zero_km                                                      False\n",
              "  Acessórios       ['Controle de tração', 'Central multimídia', '...\n",
              "  Valor                                                      58008.5\n",
              "  Name: Classe A, dtype: object),\n",
              " ('Ford Focus Fastback',\n",
              "  Motor                                              Motor 4.0 Turbo\n",
              "  Ano                                                           2005\n",
              "  Quilometragem                                                41194\n",
              "  Zero_km                                                      False\n",
              "  Acessórios       ['Bancos de couro', 'Câmera de estacionamento'...\n",
              "  Valor                                                      82304.2\n",
              "  Name: Ford Focus Fastback, dtype: object),\n",
              " ('Partner',\n",
              "  Motor                                              Motor 2.4 Turbo\n",
              "  Ano                                                           2019\n",
              "  Quilometragem                                                  NaN\n",
              "  Zero_km                                                       True\n",
              "  Acessórios       ['Central multimídia', 'Controle de tração', '...\n",
              "  Valor                                                       114532\n",
              "  Name: Partner, dtype: object),\n",
              " ('R8',\n",
              "  Motor                                                     Motor V6\n",
              "  Ano                                                           1997\n",
              "  Quilometragem                                                96100\n",
              "  Zero_km                                                      False\n",
              "  Acessórios       ['4 X 4', 'Controle de estabilidade', 'Câmera ...\n",
              "  Valor                                                       128566\n",
              "  Name: R8, dtype: object),\n",
              " ('Aston Martin DBS Volante',\n",
              "  Motor                                              Motor 4.0 Turbo\n",
              "  Ano                                                           1990\n",
              "  Quilometragem                                               103900\n",
              "  Zero_km                                                      False\n",
              "  Acessórios       ['Central multimídia', 'Controle de estabilida...\n",
              "  Valor                                                       126488\n",
              "  Name: Aston Martin DBS Volante, dtype: object),\n",
              " ('Mohave',\n",
              "  Motor                                              Motor Diesel V6\n",
              "  Ano                                                           2001\n",
              "  Quilometragem                                                43814\n",
              "  Zero_km                                                      False\n",
              "  Acessórios       ['Travas elétricas', 'Central multimídia', 'Pa...\n",
              "  Valor                                                       119075\n",
              "  Name: Mohave, dtype: object),\n",
              " ('Fusca',\n",
              "  Motor                                                Motor 3.0 32v\n",
              "  Ano                                                           2013\n",
              "  Quilometragem                                                24638\n",
              "  Zero_km                                                      False\n",
              "  Acessórios       ['Câmbio automático', 'Teto panorâmico', 'Sens...\n",
              "  Valor                                                       130238\n",
              "  Name: Fusca, dtype: object),\n",
              " ('Chana Family',\n",
              "  Motor                                                     Motor V8\n",
              "  Ano                                                           2019\n",
              "  Quilometragem                                                  NaN\n",
              "  Zero_km                                                       True\n",
              "  Acessórios       ['Piloto automático', 'Teto panorâmico', 'Sens...\n",
              "  Valor                                                       115760\n",
              "  Name: Chana Family, dtype: object),\n",
              " ('XC40',\n",
              "  Motor                                              Motor 2.4 Turbo\n",
              "  Ano                                                           2017\n",
              "  Quilometragem                                               110966\n",
              "  Zero_km                                                      False\n",
              "  Acessórios       ['Sensor de chuva', 'Central multimídia', 'Vid...\n",
              "  Valor                                                       121248\n",
              "  Name: XC40, dtype: object),\n",
              " ('Phantom I Jonckheere Aerodynamic Coupe',\n",
              "  Motor                                                Motor 1.8 16v\n",
              "  Ano                                                           2011\n",
              "  Quilometragem                                                15987\n",
              "  Zero_km                                                      False\n",
              "  Acessórios       ['Sensor crepuscular', 'Travas elétricas', 'Pi...\n",
              "  Valor                                                      98156.4\n",
              "  Name: Phantom I Jonckheere Aerodynamic Coupe, dtype: object),\n",
              " ('Boxer',\n",
              "  Motor                                                     Motor V6\n",
              "  Ano                                                           2005\n",
              "  Quilometragem                                                53369\n",
              "  Zero_km                                                      False\n",
              "  Acessórios       ['Travas elétricas', 'Piloto automático', 'Vid...\n",
              "  Valor                                                       112147\n",
              "  Name: Boxer, dtype: object),\n",
              " ('Chana Cargo',\n",
              "  Motor                                                Motor 2.0 16v\n",
              "  Ano                                                           2007\n",
              "  Quilometragem                                                10077\n",
              "  Zero_km                                                      False\n",
              "  Acessórios       ['Teto panorâmico', '4 X 4', 'Central multimíd...\n",
              "  Valor                                                       102730\n",
              "  Name: Chana Cargo, dtype: object),\n",
              " ('Dodge Dakota',\n",
              "  Motor                                                 Motor Diesel\n",
              "  Ano                                                           1993\n",
              "  Quilometragem                                                71544\n",
              "  Zero_km                                                      False\n",
              "  Acessórios       ['Controle de tração', 'Sensor de estacionamen...\n",
              "  Valor                                                       141083\n",
              "  Name: Dodge Dakota, dtype: object),\n",
              " ('X1',\n",
              "  Motor                                              Motor Diesel V8\n",
              "  Ano                                                           1991\n",
              "  Quilometragem                                                  107\n",
              "  Zero_km                                                      False\n",
              "  Acessórios       ['4 X 4', 'Teto panorâmico', 'Ar condicionado'...\n",
              "  Valor                                                       102969\n",
              "  Name: X1, dtype: object),\n",
              " ('GLA',\n",
              "  Motor                                                 Motor 1.0 8v\n",
              "  Ano                                                           1991\n",
              "  Quilometragem                                                 8394\n",
              "  Zero_km                                                      False\n",
              "  Acessórios       ['Sensor de chuva', 'Câmera de estacionamento'...\n",
              "  Valor                                                        76310\n",
              "  Name: GLA, dtype: object),\n",
              " ('Range Rover Sport',\n",
              "  Motor                                                 Motor 1.0 8v\n",
              "  Ano                                                           1997\n",
              "  Quilometragem                                                41498\n",
              "  Zero_km                                                      False\n",
              "  Acessórios       ['Sensor de estacionamento', 'Câmera de estaci...\n",
              "  Valor                                                       120482\n",
              "  Name: Range Rover Sport, dtype: object),\n",
              " ('DS3',\n",
              "  Motor                                                Motor 1.8 16v\n",
              "  Ano                                                           2000\n",
              "  Quilometragem                                               116002\n",
              "  Zero_km                                                      False\n",
              "  Acessórios       ['Controle de estabilidade', 'Ar condicionado'...\n",
              "  Valor                                                      54559.2\n",
              "  Name: DS3, dtype: object),\n",
              " ('Veracruz',\n",
              "  Motor                                              Motor Diesel V8\n",
              "  Ano                                                           2007\n",
              "  Quilometragem                                               100858\n",
              "  Zero_km                                                      False\n",
              "  Acessórios       ['Controle de estabilidade', 'Câmera de estaci...\n",
              "  Valor                                                      92957.6\n",
              "  Name: Veracruz, dtype: object),\n",
              " ('Cadillac CTS coupe, sedan, and wagon',\n",
              "  Motor                                                     Motor V8\n",
              "  Ano                                                           2006\n",
              "  Quilometragem                                                67475\n",
              "  Zero_km                                                      False\n",
              "  Acessórios       ['Sensor de chuva', 'Sensor de estacionamento'...\n",
              "  Valor                                                       127810\n",
              "  Name: Cadillac CTS coupe, sedan, and wagon, dtype: object),\n",
              " ('i30 CW',\n",
              "  Motor                                                 Motor Diesel\n",
              "  Ano                                                           2015\n",
              "  Quilometragem                                                 8497\n",
              "  Zero_km                                                      False\n",
              "  Acessórios       ['Sensor de chuva', 'Vidros elétricos', 'Contr...\n",
              "  Valor                                                      73311.8\n",
              "  Name: i30 CW, dtype: object),\n",
              " ('Phantom III',\n",
              "  Motor                                              Motor Diesel V6\n",
              "  Ano                                                           2008\n",
              "  Quilometragem                                                 4420\n",
              "  Zero_km                                                      False\n",
              "  Acessórios       ['Vidros elétricos', 'Bancos de couro', 'Pilot...\n",
              "  Valor                                                        65138\n",
              "  Name: Phantom III, dtype: object),\n",
              " ('A3 Sedan',\n",
              "  Motor                                                     Motor V6\n",
              "  Ano                                                           2019\n",
              "  Quilometragem                                                  NaN\n",
              "  Zero_km                                                       True\n",
              "  Acessórios       ['Ar condicionado', 'Sensor de chuva', 'Travas...\n",
              "  Valor                                                      90141.5\n",
              "  Name: A3 Sedan, dtype: object),\n",
              " ('Aston Martin DB9 Volante',\n",
              "  Motor                                                Motor 2.0 16v\n",
              "  Ano                                                           1996\n",
              "  Quilometragem                                                58537\n",
              "  Zero_km                                                      False\n",
              "  Acessórios       ['Central multimídia', 'Bancos de couro', 'Câm...\n",
              "  Valor                                                      71160.4\n",
              "  Name: Aston Martin DB9 Volante, dtype: object),\n",
              " ('Série 7 Sedã',\n",
              "  Motor                                                 Motor Diesel\n",
              "  Ano                                                           2019\n",
              "  Quilometragem                                                  NaN\n",
              "  Zero_km                                                       True\n",
              "  Acessórios       ['Vidros elétricos', 'Travas elétricas', 'Roda...\n",
              "  Valor                                                      67539.8\n",
              "  Name: Série 7 Sedã, dtype: object),\n",
              " ('Lamborghini Reventón',\n",
              "  Motor                                              Motor 4.0 Turbo\n",
              "  Ano                                                           2019\n",
              "  Quilometragem                                                  NaN\n",
              "  Zero_km                                                       True\n",
              "  Acessórios       ['Controle de tração', 'Ar condicionado', 'Cen...\n",
              "  Valor                                                      67664.9\n",
              "  Name: Lamborghini Reventón, dtype: object),\n",
              " ('Grand Livina',\n",
              "  Motor                                                Motor 2.0 16v\n",
              "  Ano                                                           2014\n",
              "  Quilometragem                                               112016\n",
              "  Zero_km                                                      False\n",
              "  Acessórios       ['Controle de tração', 'Teto panorâmico', 'Vid...\n",
              "  Valor                                                      68652.2\n",
              "  Name: Grand Livina, dtype: object),\n",
              " ('V60',\n",
              "  Motor                                                 Motor Diesel\n",
              "  Ano                                                           2004\n",
              "  Quilometragem                                                91840\n",
              "  Zero_km                                                      False\n",
              "  Acessórios       ['Rodas de liga', 'Sensor crepuscular', 'Ar co...\n",
              "  Valor                                                       114729\n",
              "  Name: V60, dtype: object),\n",
              " ('Effa Hafei Picape Cabine Dupla',\n",
              "  Motor                                                     Motor V6\n",
              "  Ano                                                           2008\n",
              "  Quilometragem                                               112787\n",
              "  Zero_km                                                      False\n",
              "  Acessórios       ['Sensor crepuscular', 'Controle de tração', '...\n",
              "  Valor                                                       141645\n",
              "  Name: Effa Hafei Picape Cabine Dupla, dtype: object),\n",
              " ('Benni Mini',\n",
              "  Motor                                                     Motor V8\n",
              "  Ano                                                           2019\n",
              "  Quilometragem                                                  NaN\n",
              "  Zero_km                                                       True\n",
              "  Acessórios       ['Sensor crepuscular', 'Câmbio automático', 'C...\n",
              "  Valor                                                       126248\n",
              "  Name: Benni Mini, dtype: object),\n",
              " ('Uno',\n",
              "  Motor                                              Motor Diesel V6\n",
              "  Ano                                                           2019\n",
              "  Quilometragem                                                  NaN\n",
              "  Zero_km                                                       True\n",
              "  Acessórios       ['Central multimídia', 'Sensor crepuscular', '...\n",
              "  Valor                                                       128852\n",
              "  Name: Uno, dtype: object),\n",
              " ('L200 Savana',\n",
              "  Motor                                                Motor 2.0 16v\n",
              "  Ano                                                           2012\n",
              "  Quilometragem                                                 9293\n",
              "  Zero_km                                                      False\n",
              "  Acessórios       ['Sensor de chuva', 'Vidros elétricos', 'Paine...\n",
              "  Valor                                                       132385\n",
              "  Name: L200 Savana, dtype: object),\n",
              " ('Santa Fe',\n",
              "  Motor                                                Motor 3.0 32v\n",
              "  Ano                                                           2019\n",
              "  Quilometragem                                                  NaN\n",
              "  Zero_km                                                       True\n",
              "  Acessórios       ['Travas elétricas', 'Ar condicionado', '4 X 4...\n",
              "  Valor                                                       129415\n",
              "  Name: Santa Fe, dtype: object),\n",
              " ('RS5',\n",
              "  Motor                                                     Motor V6\n",
              "  Ano                                                           1996\n",
              "  Quilometragem                                                55083\n",
              "  Zero_km                                                      False\n",
              "  Acessórios       ['Painel digital', 'Câmbio automático', 'Vidro...\n",
              "  Valor                                                      89536.8\n",
              "  Name: RS5, dtype: object),\n",
              " ('Cerato',\n",
              "  Motor                                                     Motor V6\n",
              "  Ano                                                           2011\n",
              "  Quilometragem                                                48796\n",
              "  Zero_km                                                      False\n",
              "  Acessórios       ['Sensor de estacionamento', 'Câmera de estaci...\n",
              "  Valor                                                      87975.3\n",
              "  Name: Cerato, dtype: object),\n",
              " ('XC60',\n",
              "  Motor                                              Motor 4.0 Turbo\n",
              "  Ano                                                           2019\n",
              "  Quilometragem                                                  NaN\n",
              "  Zero_km                                                       True\n",
              "  Acessórios       ['Painel digital', 'Piloto automático', 'Centr...\n",
              "  Valor                                                      77675.8\n",
              "  Name: XC60, dtype: object),\n",
              " ('LS 460L',\n",
              "  Motor                                              Motor Diesel V8\n",
              "  Ano                                                           2010\n",
              "  Quilometragem                                                89685\n",
              "  Zero_km                                                      False\n",
              "  Acessórios       ['Rodas de liga', 'Freios ABS', 'Controle de t...\n",
              "  Valor                                                      58881.7\n",
              "  Name: LS 460L, dtype: object),\n",
              " ('Lamborghini Sesto Elemento',\n",
              "  Motor                                                     Motor V8\n",
              "  Ano                                                           2007\n",
              "  Quilometragem                                                85384\n",
              "  Zero_km                                                      False\n",
              "  Acessórios       ['Sensor crepuscular', 'Freios ABS', 'Ar condi...\n",
              "  Valor                                                        55082\n",
              "  Name: Lamborghini Sesto Elemento, dtype: object),\n",
              " ('Lamborghini Huracán',\n",
              "  Motor                                                     Motor V8\n",
              "  Ano                                                           1994\n",
              "  Quilometragem                                                98108\n",
              "  Zero_km                                                      False\n",
              "  Acessórios       ['Sensor de chuva', 'Sensor de estacionamento'...\n",
              "  Valor                                                       118826\n",
              "  Name: Lamborghini Huracán, dtype: object),\n",
              " ('A7',\n",
              "  Motor                                                 Motor 1.0 8v\n",
              "  Ano                                                           2007\n",
              "  Quilometragem                                                71280\n",
              "  Zero_km                                                      False\n",
              "  Acessórios       ['Sensor de chuva', 'Vidros elétricos', 'Senso...\n",
              "  Valor                                                       137628\n",
              "  Name: A7, dtype: object),\n",
              " ('Phantom 2013',\n",
              "  Motor                                                     Motor V8\n",
              "  Ano                                                           2014\n",
              "  Quilometragem                                                27505\n",
              "  Zero_km                                                      False\n",
              "  Acessórios       ['Controle de estabilidade', 'Piloto automátic...\n",
              "  Valor                                                      51759.6\n",
              "  Name: Phantom 2013, dtype: object),\n",
              " ('Cadillac Ciel concept',\n",
              "  Motor                                                     Motor V8\n",
              "  Ano                                                           1991\n",
              "  Quilometragem                                                29981\n",
              "  Zero_km                                                      False\n",
              "  Acessórios       ['Bancos de couro', 'Painel digital', 'Sensor ...\n",
              "  Valor                                                      51667.1\n",
              "  Name: Cadillac Ciel concept, dtype: object),\n",
              " ('Classe GLK',\n",
              "  Motor                                        Motor 5.0 V8 Bi-Turbo\n",
              "  Ano                                                           2002\n",
              "  Quilometragem                                                52637\n",
              "  Zero_km                                                      False\n",
              "  Acessórios       ['Rodas de liga', 'Controle de tração', 'Câmbi...\n",
              "  Valor                                                        68934\n",
              "  Name: Classe GLK, dtype: object),\n",
              " ('Aston Martin DB5',\n",
              "  Motor                                                 Motor Diesel\n",
              "  Ano                                                           1996\n",
              "  Quilometragem                                                 7685\n",
              "  Zero_km                                                      False\n",
              "  Acessórios       ['Ar condicionado', '4 X 4', 'Câmbio automátic...\n",
              "  Valor                                                       122111\n",
              "  Name: Aston Martin DB5, dtype: object),\n",
              " ('Macan',\n",
              "  Motor                                              Motor Diesel V6\n",
              "  Ano                                                           1992\n",
              "  Quilometragem                                                50188\n",
              "  Zero_km                                                      False\n",
              "  Acessórios       ['Central multimídia', 'Teto panorâmico', 'Vid...\n",
              "  Valor                                                      90381.5\n",
              "  Name: Macan, dtype: object)]"
            ]
          },
          "execution_count": 170,
          "metadata": {},
          "output_type": "execute_result"
        }
      ],
      "source": [
        "list(dataset.iterrows())"
      ]
    },
    {
      "cell_type": "code",
      "execution_count": 171,
      "metadata": {},
      "outputs": [
        {
          "data": {
            "text/html": [
              "<div>\n",
              "<style scoped>\n",
              "    .dataframe tbody tr th:only-of-type {\n",
              "        vertical-align: middle;\n",
              "    }\n",
              "\n",
              "    .dataframe tbody tr th {\n",
              "        vertical-align: top;\n",
              "    }\n",
              "\n",
              "    .dataframe thead th {\n",
              "        text-align: right;\n",
              "    }\n",
              "</style>\n",
              "<table border=\"1\" class=\"dataframe\">\n",
              "  <thead>\n",
              "    <tr style=\"text-align: right;\">\n",
              "      <th></th>\n",
              "      <th>Motor</th>\n",
              "      <th>Ano</th>\n",
              "      <th>Quilometragem</th>\n",
              "      <th>Zero_km</th>\n",
              "      <th>Acessórios</th>\n",
              "      <th>Valor</th>\n",
              "      <th>km_media</th>\n",
              "    </tr>\n",
              "    <tr>\n",
              "      <th>Nome</th>\n",
              "      <th></th>\n",
              "      <th></th>\n",
              "      <th></th>\n",
              "      <th></th>\n",
              "      <th></th>\n",
              "      <th></th>\n",
              "      <th></th>\n",
              "    </tr>\n",
              "  </thead>\n",
              "  <tbody>\n",
              "    <tr>\n",
              "      <th>Jetta Variant</th>\n",
              "      <td>Motor 4.0 Turbo</td>\n",
              "      <td>2003</td>\n",
              "      <td>44410.0</td>\n",
              "      <td>False</td>\n",
              "      <td>['Rodas de liga', 'Travas elétricas', 'Piloto ...</td>\n",
              "      <td>88078.64</td>\n",
              "      <td>2775.625000</td>\n",
              "    </tr>\n",
              "    <tr>\n",
              "      <th>Passat</th>\n",
              "      <td>Motor Diesel</td>\n",
              "      <td>1991</td>\n",
              "      <td>5712.0</td>\n",
              "      <td>False</td>\n",
              "      <td>['Central multimídia', 'Teto panorâmico', 'Fre...</td>\n",
              "      <td>106161.94</td>\n",
              "      <td>204.000000</td>\n",
              "    </tr>\n",
              "    <tr>\n",
              "      <th>Crossfox</th>\n",
              "      <td>Motor Diesel V8</td>\n",
              "      <td>1990</td>\n",
              "      <td>37123.0</td>\n",
              "      <td>False</td>\n",
              "      <td>['Piloto automático', 'Controle de estabilidad...</td>\n",
              "      <td>72832.16</td>\n",
              "      <td>1280.103448</td>\n",
              "    </tr>\n",
              "    <tr>\n",
              "      <th>DS5</th>\n",
              "      <td>Motor 2.4 Turbo</td>\n",
              "      <td>2019</td>\n",
              "      <td>NaN</td>\n",
              "      <td>True</td>\n",
              "      <td>['Travas elétricas', '4 X 4', 'Vidros elétrico...</td>\n",
              "      <td>124549.07</td>\n",
              "      <td>0.000000</td>\n",
              "    </tr>\n",
              "    <tr>\n",
              "      <th>Aston Martin DB4</th>\n",
              "      <td>Motor 2.4 Turbo</td>\n",
              "      <td>2006</td>\n",
              "      <td>25757.0</td>\n",
              "      <td>False</td>\n",
              "      <td>['Rodas de liga', '4 X 4', 'Central multimídia...</td>\n",
              "      <td>92612.10</td>\n",
              "      <td>1981.307692</td>\n",
              "    </tr>\n",
              "    <tr>\n",
              "      <th>...</th>\n",
              "      <td>...</td>\n",
              "      <td>...</td>\n",
              "      <td>...</td>\n",
              "      <td>...</td>\n",
              "      <td>...</td>\n",
              "      <td>...</td>\n",
              "      <td>...</td>\n",
              "    </tr>\n",
              "    <tr>\n",
              "      <th>Phantom 2013</th>\n",
              "      <td>Motor V8</td>\n",
              "      <td>2014</td>\n",
              "      <td>27505.0</td>\n",
              "      <td>False</td>\n",
              "      <td>['Controle de estabilidade', 'Piloto automátic...</td>\n",
              "      <td>51759.58</td>\n",
              "      <td>5501.000000</td>\n",
              "    </tr>\n",
              "    <tr>\n",
              "      <th>Cadillac Ciel concept</th>\n",
              "      <td>Motor V8</td>\n",
              "      <td>1991</td>\n",
              "      <td>29981.0</td>\n",
              "      <td>False</td>\n",
              "      <td>['Bancos de couro', 'Painel digital', 'Sensor ...</td>\n",
              "      <td>51667.06</td>\n",
              "      <td>1070.750000</td>\n",
              "    </tr>\n",
              "    <tr>\n",
              "      <th>Classe GLK</th>\n",
              "      <td>Motor 5.0 V8 Bi-Turbo</td>\n",
              "      <td>2002</td>\n",
              "      <td>52637.0</td>\n",
              "      <td>False</td>\n",
              "      <td>['Rodas de liga', 'Controle de tração', 'Câmbi...</td>\n",
              "      <td>68934.03</td>\n",
              "      <td>3096.294118</td>\n",
              "    </tr>\n",
              "    <tr>\n",
              "      <th>Aston Martin DB5</th>\n",
              "      <td>Motor Diesel</td>\n",
              "      <td>1996</td>\n",
              "      <td>7685.0</td>\n",
              "      <td>False</td>\n",
              "      <td>['Ar condicionado', '4 X 4', 'Câmbio automátic...</td>\n",
              "      <td>122110.90</td>\n",
              "      <td>334.130435</td>\n",
              "    </tr>\n",
              "    <tr>\n",
              "      <th>Macan</th>\n",
              "      <td>Motor Diesel V6</td>\n",
              "      <td>1992</td>\n",
              "      <td>50188.0</td>\n",
              "      <td>False</td>\n",
              "      <td>['Central multimídia', 'Teto panorâmico', 'Vid...</td>\n",
              "      <td>90381.47</td>\n",
              "      <td>1858.814815</td>\n",
              "    </tr>\n",
              "  </tbody>\n",
              "</table>\n",
              "<p>258 rows × 7 columns</p>\n",
              "</div>"
            ],
            "text/plain": [
              "                                       Motor   Ano  Quilometragem  Zero_km  \\\n",
              "Nome                                                                         \n",
              "Jetta Variant                Motor 4.0 Turbo  2003        44410.0    False   \n",
              "Passat                          Motor Diesel  1991         5712.0    False   \n",
              "Crossfox                     Motor Diesel V8  1990        37123.0    False   \n",
              "DS5                          Motor 2.4 Turbo  2019            NaN     True   \n",
              "Aston Martin DB4             Motor 2.4 Turbo  2006        25757.0    False   \n",
              "...                                      ...   ...            ...      ...   \n",
              "Phantom 2013                        Motor V8  2014        27505.0    False   \n",
              "Cadillac Ciel concept               Motor V8  1991        29981.0    False   \n",
              "Classe GLK             Motor 5.0 V8 Bi-Turbo  2002        52637.0    False   \n",
              "Aston Martin DB5                Motor Diesel  1996         7685.0    False   \n",
              "Macan                        Motor Diesel V6  1992        50188.0    False   \n",
              "\n",
              "                                                              Acessórios  \\\n",
              "Nome                                                                       \n",
              "Jetta Variant          ['Rodas de liga', 'Travas elétricas', 'Piloto ...   \n",
              "Passat                 ['Central multimídia', 'Teto panorâmico', 'Fre...   \n",
              "Crossfox               ['Piloto automático', 'Controle de estabilidad...   \n",
              "DS5                    ['Travas elétricas', '4 X 4', 'Vidros elétrico...   \n",
              "Aston Martin DB4       ['Rodas de liga', '4 X 4', 'Central multimídia...   \n",
              "...                                                                  ...   \n",
              "Phantom 2013           ['Controle de estabilidade', 'Piloto automátic...   \n",
              "Cadillac Ciel concept  ['Bancos de couro', 'Painel digital', 'Sensor ...   \n",
              "Classe GLK             ['Rodas de liga', 'Controle de tração', 'Câmbi...   \n",
              "Aston Martin DB5       ['Ar condicionado', '4 X 4', 'Câmbio automátic...   \n",
              "Macan                  ['Central multimídia', 'Teto panorâmico', 'Vid...   \n",
              "\n",
              "                           Valor     km_media  \n",
              "Nome                                           \n",
              "Jetta Variant           88078.64  2775.625000  \n",
              "Passat                 106161.94   204.000000  \n",
              "Crossfox                72832.16  1280.103448  \n",
              "DS5                    124549.07     0.000000  \n",
              "Aston Martin DB4        92612.10  1981.307692  \n",
              "...                          ...          ...  \n",
              "Phantom 2013            51759.58  5501.000000  \n",
              "Cadillac Ciel concept   51667.06  1070.750000  \n",
              "Classe GLK              68934.03  3096.294118  \n",
              "Aston Martin DB5       122110.90   334.130435  \n",
              "Macan                   90381.47  1858.814815  \n",
              "\n",
              "[258 rows x 7 columns]"
            ]
          },
          "execution_count": 171,
          "metadata": {},
          "output_type": "execute_result"
        }
      ],
      "source": [
        "for index, row in dataset.iterrows():\n",
        "    if(2019 - row['Ano'] != 0):\n",
        "        dataset.loc[index, 'km_media'] = row['Quilometragem'] / (2019 - row['Ano'])\n",
        "    else:\n",
        "        dataset.loc[index, 'km_media'] = 0\n",
        "dataset"
      ]
    },
    {
      "cell_type": "markdown",
      "metadata": {
        "colab_type": "text",
        "id": "HnUzHFQPD1Ba"
      },
      "source": [
        "# 5.5 Tratamento de dados"
      ]
    },
    {
      "cell_type": "code",
      "execution_count": 172,
      "metadata": {
        "colab": {},
        "colab_type": "code",
        "id": "FRxBWoBGD1Ba"
      },
      "outputs": [
        {
          "data": {
            "text/html": [
              "<div>\n",
              "<style scoped>\n",
              "    .dataframe tbody tr th:only-of-type {\n",
              "        vertical-align: middle;\n",
              "    }\n",
              "\n",
              "    .dataframe tbody tr th {\n",
              "        vertical-align: top;\n",
              "    }\n",
              "\n",
              "    .dataframe thead th {\n",
              "        text-align: right;\n",
              "    }\n",
              "</style>\n",
              "<table border=\"1\" class=\"dataframe\">\n",
              "  <thead>\n",
              "    <tr style=\"text-align: right;\">\n",
              "      <th></th>\n",
              "      <th>Motor</th>\n",
              "      <th>Ano</th>\n",
              "      <th>Quilometragem</th>\n",
              "      <th>Zero_km</th>\n",
              "      <th>Acessórios</th>\n",
              "      <th>Valor</th>\n",
              "      <th>km_media</th>\n",
              "    </tr>\n",
              "    <tr>\n",
              "      <th>Nome</th>\n",
              "      <th></th>\n",
              "      <th></th>\n",
              "      <th></th>\n",
              "      <th></th>\n",
              "      <th></th>\n",
              "      <th></th>\n",
              "      <th></th>\n",
              "    </tr>\n",
              "  </thead>\n",
              "  <tbody>\n",
              "    <tr>\n",
              "      <th>Jetta Variant</th>\n",
              "      <td>Motor 4.0 Turbo</td>\n",
              "      <td>2003</td>\n",
              "      <td>44410.0</td>\n",
              "      <td>False</td>\n",
              "      <td>['Rodas de liga', 'Travas elétricas', 'Piloto ...</td>\n",
              "      <td>88078.64</td>\n",
              "      <td>2775.625000</td>\n",
              "    </tr>\n",
              "    <tr>\n",
              "      <th>Passat</th>\n",
              "      <td>Motor Diesel</td>\n",
              "      <td>1991</td>\n",
              "      <td>5712.0</td>\n",
              "      <td>False</td>\n",
              "      <td>['Central multimídia', 'Teto panorâmico', 'Fre...</td>\n",
              "      <td>106161.94</td>\n",
              "      <td>204.000000</td>\n",
              "    </tr>\n",
              "    <tr>\n",
              "      <th>Crossfox</th>\n",
              "      <td>Motor Diesel V8</td>\n",
              "      <td>1990</td>\n",
              "      <td>37123.0</td>\n",
              "      <td>False</td>\n",
              "      <td>['Piloto automático', 'Controle de estabilidad...</td>\n",
              "      <td>72832.16</td>\n",
              "      <td>1280.103448</td>\n",
              "    </tr>\n",
              "    <tr>\n",
              "      <th>DS5</th>\n",
              "      <td>Motor 2.4 Turbo</td>\n",
              "      <td>2019</td>\n",
              "      <td>NaN</td>\n",
              "      <td>True</td>\n",
              "      <td>['Travas elétricas', '4 X 4', 'Vidros elétrico...</td>\n",
              "      <td>124549.07</td>\n",
              "      <td>0.000000</td>\n",
              "    </tr>\n",
              "    <tr>\n",
              "      <th>Aston Martin DB4</th>\n",
              "      <td>Motor 2.4 Turbo</td>\n",
              "      <td>2006</td>\n",
              "      <td>25757.0</td>\n",
              "      <td>False</td>\n",
              "      <td>['Rodas de liga', '4 X 4', 'Central multimídia...</td>\n",
              "      <td>92612.10</td>\n",
              "      <td>1981.307692</td>\n",
              "    </tr>\n",
              "  </tbody>\n",
              "</table>\n",
              "</div>"
            ],
            "text/plain": [
              "                            Motor   Ano  Quilometragem  Zero_km  \\\n",
              "Nome                                                              \n",
              "Jetta Variant     Motor 4.0 Turbo  2003        44410.0    False   \n",
              "Passat               Motor Diesel  1991         5712.0    False   \n",
              "Crossfox          Motor Diesel V8  1990        37123.0    False   \n",
              "DS5               Motor 2.4 Turbo  2019            NaN     True   \n",
              "Aston Martin DB4  Motor 2.4 Turbo  2006        25757.0    False   \n",
              "\n",
              "                                                         Acessórios  \\\n",
              "Nome                                                                  \n",
              "Jetta Variant     ['Rodas de liga', 'Travas elétricas', 'Piloto ...   \n",
              "Passat            ['Central multimídia', 'Teto panorâmico', 'Fre...   \n",
              "Crossfox          ['Piloto automático', 'Controle de estabilidad...   \n",
              "DS5               ['Travas elétricas', '4 X 4', 'Vidros elétrico...   \n",
              "Aston Martin DB4  ['Rodas de liga', '4 X 4', 'Central multimídia...   \n",
              "\n",
              "                      Valor     km_media  \n",
              "Nome                                      \n",
              "Jetta Variant      88078.64  2775.625000  \n",
              "Passat            106161.94   204.000000  \n",
              "Crossfox           72832.16  1280.103448  \n",
              "DS5               124549.07     0.000000  \n",
              "Aston Martin DB4   92612.10  1981.307692  "
            ]
          },
          "execution_count": 172,
          "metadata": {},
          "output_type": "execute_result"
        }
      ],
      "source": [
        "dataset.head()"
      ]
    },
    {
      "cell_type": "code",
      "execution_count": 173,
      "metadata": {
        "colab": {},
        "colab_type": "code",
        "id": "HHSwH0ZaD1Bc"
      },
      "outputs": [
        {
          "name": "stdout",
          "output_type": "stream",
          "text": [
            "<class 'pandas.core.frame.DataFrame'>\n",
            "Index: 258 entries, Jetta Variant to Macan\n",
            "Data columns (total 7 columns):\n",
            " #   Column         Non-Null Count  Dtype  \n",
            "---  ------         --------------  -----  \n",
            " 0   Motor          258 non-null    object \n",
            " 1   Ano            258 non-null    int64  \n",
            " 2   Quilometragem  197 non-null    float64\n",
            " 3   Zero_km        258 non-null    bool   \n",
            " 4   Acessórios     258 non-null    object \n",
            " 5   Valor          258 non-null    float64\n",
            " 6   km_media       258 non-null    float64\n",
            "dtypes: bool(1), float64(3), int64(1), object(2)\n",
            "memory usage: 24.4+ KB\n"
          ]
        }
      ],
      "source": [
        "dataset.info()"
      ]
    },
    {
      "cell_type": "code",
      "execution_count": 174,
      "metadata": {
        "colab": {},
        "colab_type": "code",
        "id": "G27pxgZ5D1Bd",
        "scrolled": true
      },
      "outputs": [
        {
          "data": {
            "text/plain": [
              "Nome\n",
              "Jetta Variant            False\n",
              "Passat                   False\n",
              "Crossfox                 False\n",
              "DS5                       True\n",
              "Aston Martin DB4         False\n",
              "                         ...  \n",
              "Phantom 2013             False\n",
              "Cadillac Ciel concept    False\n",
              "Classe GLK               False\n",
              "Aston Martin DB5         False\n",
              "Macan                    False\n",
              "Name: Quilometragem, Length: 258, dtype: bool"
            ]
          },
          "execution_count": 174,
          "metadata": {},
          "output_type": "execute_result"
        }
      ],
      "source": [
        "dataset.Quilometragem.isna()"
      ]
    },
    {
      "cell_type": "code",
      "execution_count": 175,
      "metadata": {
        "colab": {},
        "colab_type": "code",
        "id": "DhlRbxy2D1Bd",
        "scrolled": true
      },
      "outputs": [
        {
          "data": {
            "text/html": [
              "<div>\n",
              "<style scoped>\n",
              "    .dataframe tbody tr th:only-of-type {\n",
              "        vertical-align: middle;\n",
              "    }\n",
              "\n",
              "    .dataframe tbody tr th {\n",
              "        vertical-align: top;\n",
              "    }\n",
              "\n",
              "    .dataframe thead th {\n",
              "        text-align: right;\n",
              "    }\n",
              "</style>\n",
              "<table border=\"1\" class=\"dataframe\">\n",
              "  <thead>\n",
              "    <tr style=\"text-align: right;\">\n",
              "      <th></th>\n",
              "      <th>Motor</th>\n",
              "      <th>Ano</th>\n",
              "      <th>Quilometragem</th>\n",
              "      <th>Zero_km</th>\n",
              "      <th>Acessórios</th>\n",
              "      <th>Valor</th>\n",
              "      <th>km_media</th>\n",
              "    </tr>\n",
              "    <tr>\n",
              "      <th>Nome</th>\n",
              "      <th></th>\n",
              "      <th></th>\n",
              "      <th></th>\n",
              "      <th></th>\n",
              "      <th></th>\n",
              "      <th></th>\n",
              "      <th></th>\n",
              "    </tr>\n",
              "  </thead>\n",
              "  <tbody>\n",
              "    <tr>\n",
              "      <th>DS5</th>\n",
              "      <td>Motor 2.4 Turbo</td>\n",
              "      <td>2019</td>\n",
              "      <td>NaN</td>\n",
              "      <td>True</td>\n",
              "      <td>['Travas elétricas', '4 X 4', 'Vidros elétrico...</td>\n",
              "      <td>124549.07</td>\n",
              "      <td>0.0</td>\n",
              "    </tr>\n",
              "    <tr>\n",
              "      <th>A5</th>\n",
              "      <td>Motor 4.0 Turbo</td>\n",
              "      <td>2019</td>\n",
              "      <td>NaN</td>\n",
              "      <td>True</td>\n",
              "      <td>['Câmbio automático', 'Câmera de estacionament...</td>\n",
              "      <td>56445.20</td>\n",
              "      <td>0.0</td>\n",
              "    </tr>\n",
              "    <tr>\n",
              "      <th>J5</th>\n",
              "      <td>Motor V6</td>\n",
              "      <td>2019</td>\n",
              "      <td>NaN</td>\n",
              "      <td>True</td>\n",
              "      <td>['Sensor crepuscular', 'Painel digital', 'Roda...</td>\n",
              "      <td>53183.38</td>\n",
              "      <td>0.0</td>\n",
              "    </tr>\n",
              "    <tr>\n",
              "      <th>A3</th>\n",
              "      <td>Motor 1.0 8v</td>\n",
              "      <td>2019</td>\n",
              "      <td>NaN</td>\n",
              "      <td>True</td>\n",
              "      <td>['4 X 4', 'Piloto automático', 'Central multim...</td>\n",
              "      <td>88552.39</td>\n",
              "      <td>0.0</td>\n",
              "    </tr>\n",
              "    <tr>\n",
              "      <th>Série 1 M</th>\n",
              "      <td>Motor V8</td>\n",
              "      <td>2019</td>\n",
              "      <td>NaN</td>\n",
              "      <td>True</td>\n",
              "      <td>['Controle de estabilidade', 'Central multimíd...</td>\n",
              "      <td>94564.40</td>\n",
              "      <td>0.0</td>\n",
              "    </tr>\n",
              "    <tr>\n",
              "      <th>...</th>\n",
              "      <td>...</td>\n",
              "      <td>...</td>\n",
              "      <td>...</td>\n",
              "      <td>...</td>\n",
              "      <td>...</td>\n",
              "      <td>...</td>\n",
              "      <td>...</td>\n",
              "    </tr>\n",
              "    <tr>\n",
              "      <th>Lamborghini Reventón</th>\n",
              "      <td>Motor 4.0 Turbo</td>\n",
              "      <td>2019</td>\n",
              "      <td>NaN</td>\n",
              "      <td>True</td>\n",
              "      <td>['Controle de tração', 'Ar condicionado', 'Cen...</td>\n",
              "      <td>67664.86</td>\n",
              "      <td>0.0</td>\n",
              "    </tr>\n",
              "    <tr>\n",
              "      <th>Benni Mini</th>\n",
              "      <td>Motor V8</td>\n",
              "      <td>2019</td>\n",
              "      <td>NaN</td>\n",
              "      <td>True</td>\n",
              "      <td>['Sensor crepuscular', 'Câmbio automático', 'C...</td>\n",
              "      <td>126247.84</td>\n",
              "      <td>0.0</td>\n",
              "    </tr>\n",
              "    <tr>\n",
              "      <th>Uno</th>\n",
              "      <td>Motor Diesel V6</td>\n",
              "      <td>2019</td>\n",
              "      <td>NaN</td>\n",
              "      <td>True</td>\n",
              "      <td>['Central multimídia', 'Sensor crepuscular', '...</td>\n",
              "      <td>128852.21</td>\n",
              "      <td>0.0</td>\n",
              "    </tr>\n",
              "    <tr>\n",
              "      <th>Santa Fe</th>\n",
              "      <td>Motor 3.0 32v</td>\n",
              "      <td>2019</td>\n",
              "      <td>NaN</td>\n",
              "      <td>True</td>\n",
              "      <td>['Travas elétricas', 'Ar condicionado', '4 X 4...</td>\n",
              "      <td>129415.33</td>\n",
              "      <td>0.0</td>\n",
              "    </tr>\n",
              "    <tr>\n",
              "      <th>XC60</th>\n",
              "      <td>Motor 4.0 Turbo</td>\n",
              "      <td>2019</td>\n",
              "      <td>NaN</td>\n",
              "      <td>True</td>\n",
              "      <td>['Painel digital', 'Piloto automático', 'Centr...</td>\n",
              "      <td>77675.79</td>\n",
              "      <td>0.0</td>\n",
              "    </tr>\n",
              "  </tbody>\n",
              "</table>\n",
              "<p>61 rows × 7 columns</p>\n",
              "</div>"
            ],
            "text/plain": [
              "                                Motor   Ano  Quilometragem  Zero_km  \\\n",
              "Nome                                                                  \n",
              "DS5                   Motor 2.4 Turbo  2019            NaN     True   \n",
              "A5                    Motor 4.0 Turbo  2019            NaN     True   \n",
              "J5                           Motor V6  2019            NaN     True   \n",
              "A3                       Motor 1.0 8v  2019            NaN     True   \n",
              "Série 1 M                    Motor V8  2019            NaN     True   \n",
              "...                               ...   ...            ...      ...   \n",
              "Lamborghini Reventón  Motor 4.0 Turbo  2019            NaN     True   \n",
              "Benni Mini                   Motor V8  2019            NaN     True   \n",
              "Uno                   Motor Diesel V6  2019            NaN     True   \n",
              "Santa Fe                Motor 3.0 32v  2019            NaN     True   \n",
              "XC60                  Motor 4.0 Turbo  2019            NaN     True   \n",
              "\n",
              "                                                             Acessórios  \\\n",
              "Nome                                                                      \n",
              "DS5                   ['Travas elétricas', '4 X 4', 'Vidros elétrico...   \n",
              "A5                    ['Câmbio automático', 'Câmera de estacionament...   \n",
              "J5                    ['Sensor crepuscular', 'Painel digital', 'Roda...   \n",
              "A3                    ['4 X 4', 'Piloto automático', 'Central multim...   \n",
              "Série 1 M             ['Controle de estabilidade', 'Central multimíd...   \n",
              "...                                                                 ...   \n",
              "Lamborghini Reventón  ['Controle de tração', 'Ar condicionado', 'Cen...   \n",
              "Benni Mini            ['Sensor crepuscular', 'Câmbio automático', 'C...   \n",
              "Uno                   ['Central multimídia', 'Sensor crepuscular', '...   \n",
              "Santa Fe              ['Travas elétricas', 'Ar condicionado', '4 X 4...   \n",
              "XC60                  ['Painel digital', 'Piloto automático', 'Centr...   \n",
              "\n",
              "                          Valor  km_media  \n",
              "Nome                                       \n",
              "DS5                   124549.07       0.0  \n",
              "A5                     56445.20       0.0  \n",
              "J5                     53183.38       0.0  \n",
              "A3                     88552.39       0.0  \n",
              "Série 1 M              94564.40       0.0  \n",
              "...                         ...       ...  \n",
              "Lamborghini Reventón   67664.86       0.0  \n",
              "Benni Mini            126247.84       0.0  \n",
              "Uno                   128852.21       0.0  \n",
              "Santa Fe              129415.33       0.0  \n",
              "XC60                   77675.79       0.0  \n",
              "\n",
              "[61 rows x 7 columns]"
            ]
          },
          "execution_count": 175,
          "metadata": {},
          "output_type": "execute_result"
        }
      ],
      "source": [
        "dataset[dataset.Quilometragem.isna()]"
      ]
    },
    {
      "cell_type": "code",
      "execution_count": 178,
      "metadata": {
        "colab": {},
        "colab_type": "code",
        "id": "OL04QU5RD1Be"
      },
      "outputs": [],
      "source": [
        "dataset.fillna(0, inplace=True)"
      ]
    },
    {
      "cell_type": "code",
      "execution_count": 180,
      "metadata": {
        "colab": {},
        "colab_type": "code",
        "id": "fTH2JkGDD1Bf",
        "scrolled": true
      },
      "outputs": [
        {
          "data": {
            "text/html": [
              "<div>\n",
              "<style scoped>\n",
              "    .dataframe tbody tr th:only-of-type {\n",
              "        vertical-align: middle;\n",
              "    }\n",
              "\n",
              "    .dataframe tbody tr th {\n",
              "        vertical-align: top;\n",
              "    }\n",
              "\n",
              "    .dataframe thead th {\n",
              "        text-align: right;\n",
              "    }\n",
              "</style>\n",
              "<table border=\"1\" class=\"dataframe\">\n",
              "  <thead>\n",
              "    <tr style=\"text-align: right;\">\n",
              "      <th></th>\n",
              "      <th>Motor</th>\n",
              "      <th>Ano</th>\n",
              "      <th>Quilometragem</th>\n",
              "      <th>Zero_km</th>\n",
              "      <th>Acessórios</th>\n",
              "      <th>Valor</th>\n",
              "      <th>km_media</th>\n",
              "    </tr>\n",
              "    <tr>\n",
              "      <th>Nome</th>\n",
              "      <th></th>\n",
              "      <th></th>\n",
              "      <th></th>\n",
              "      <th></th>\n",
              "      <th></th>\n",
              "      <th></th>\n",
              "      <th></th>\n",
              "    </tr>\n",
              "  </thead>\n",
              "  <tbody>\n",
              "    <tr>\n",
              "      <th>DS5</th>\n",
              "      <td>Motor 2.4 Turbo</td>\n",
              "      <td>2019</td>\n",
              "      <td>0.0</td>\n",
              "      <td>True</td>\n",
              "      <td>['Travas elétricas', '4 X 4', 'Vidros elétrico...</td>\n",
              "      <td>124549.07</td>\n",
              "      <td>0.0</td>\n",
              "    </tr>\n",
              "    <tr>\n",
              "      <th>A5</th>\n",
              "      <td>Motor 4.0 Turbo</td>\n",
              "      <td>2019</td>\n",
              "      <td>0.0</td>\n",
              "      <td>True</td>\n",
              "      <td>['Câmbio automático', 'Câmera de estacionament...</td>\n",
              "      <td>56445.20</td>\n",
              "      <td>0.0</td>\n",
              "    </tr>\n",
              "    <tr>\n",
              "      <th>J5</th>\n",
              "      <td>Motor V6</td>\n",
              "      <td>2019</td>\n",
              "      <td>0.0</td>\n",
              "      <td>True</td>\n",
              "      <td>['Sensor crepuscular', 'Painel digital', 'Roda...</td>\n",
              "      <td>53183.38</td>\n",
              "      <td>0.0</td>\n",
              "    </tr>\n",
              "    <tr>\n",
              "      <th>A3</th>\n",
              "      <td>Motor 1.0 8v</td>\n",
              "      <td>2019</td>\n",
              "      <td>0.0</td>\n",
              "      <td>True</td>\n",
              "      <td>['4 X 4', 'Piloto automático', 'Central multim...</td>\n",
              "      <td>88552.39</td>\n",
              "      <td>0.0</td>\n",
              "    </tr>\n",
              "    <tr>\n",
              "      <th>Série 1 M</th>\n",
              "      <td>Motor V8</td>\n",
              "      <td>2019</td>\n",
              "      <td>0.0</td>\n",
              "      <td>True</td>\n",
              "      <td>['Controle de estabilidade', 'Central multimíd...</td>\n",
              "      <td>94564.40</td>\n",
              "      <td>0.0</td>\n",
              "    </tr>\n",
              "    <tr>\n",
              "      <th>...</th>\n",
              "      <td>...</td>\n",
              "      <td>...</td>\n",
              "      <td>...</td>\n",
              "      <td>...</td>\n",
              "      <td>...</td>\n",
              "      <td>...</td>\n",
              "      <td>...</td>\n",
              "    </tr>\n",
              "    <tr>\n",
              "      <th>Lamborghini Reventón</th>\n",
              "      <td>Motor 4.0 Turbo</td>\n",
              "      <td>2019</td>\n",
              "      <td>0.0</td>\n",
              "      <td>True</td>\n",
              "      <td>['Controle de tração', 'Ar condicionado', 'Cen...</td>\n",
              "      <td>67664.86</td>\n",
              "      <td>0.0</td>\n",
              "    </tr>\n",
              "    <tr>\n",
              "      <th>Benni Mini</th>\n",
              "      <td>Motor V8</td>\n",
              "      <td>2019</td>\n",
              "      <td>0.0</td>\n",
              "      <td>True</td>\n",
              "      <td>['Sensor crepuscular', 'Câmbio automático', 'C...</td>\n",
              "      <td>126247.84</td>\n",
              "      <td>0.0</td>\n",
              "    </tr>\n",
              "    <tr>\n",
              "      <th>Uno</th>\n",
              "      <td>Motor Diesel V6</td>\n",
              "      <td>2019</td>\n",
              "      <td>0.0</td>\n",
              "      <td>True</td>\n",
              "      <td>['Central multimídia', 'Sensor crepuscular', '...</td>\n",
              "      <td>128852.21</td>\n",
              "      <td>0.0</td>\n",
              "    </tr>\n",
              "    <tr>\n",
              "      <th>Santa Fe</th>\n",
              "      <td>Motor 3.0 32v</td>\n",
              "      <td>2019</td>\n",
              "      <td>0.0</td>\n",
              "      <td>True</td>\n",
              "      <td>['Travas elétricas', 'Ar condicionado', '4 X 4...</td>\n",
              "      <td>129415.33</td>\n",
              "      <td>0.0</td>\n",
              "    </tr>\n",
              "    <tr>\n",
              "      <th>XC60</th>\n",
              "      <td>Motor 4.0 Turbo</td>\n",
              "      <td>2019</td>\n",
              "      <td>0.0</td>\n",
              "      <td>True</td>\n",
              "      <td>['Painel digital', 'Piloto automático', 'Centr...</td>\n",
              "      <td>77675.79</td>\n",
              "      <td>0.0</td>\n",
              "    </tr>\n",
              "  </tbody>\n",
              "</table>\n",
              "<p>61 rows × 7 columns</p>\n",
              "</div>"
            ],
            "text/plain": [
              "                                Motor   Ano  Quilometragem  Zero_km  \\\n",
              "Nome                                                                  \n",
              "DS5                   Motor 2.4 Turbo  2019            0.0     True   \n",
              "A5                    Motor 4.0 Turbo  2019            0.0     True   \n",
              "J5                           Motor V6  2019            0.0     True   \n",
              "A3                       Motor 1.0 8v  2019            0.0     True   \n",
              "Série 1 M                    Motor V8  2019            0.0     True   \n",
              "...                               ...   ...            ...      ...   \n",
              "Lamborghini Reventón  Motor 4.0 Turbo  2019            0.0     True   \n",
              "Benni Mini                   Motor V8  2019            0.0     True   \n",
              "Uno                   Motor Diesel V6  2019            0.0     True   \n",
              "Santa Fe                Motor 3.0 32v  2019            0.0     True   \n",
              "XC60                  Motor 4.0 Turbo  2019            0.0     True   \n",
              "\n",
              "                                                             Acessórios  \\\n",
              "Nome                                                                      \n",
              "DS5                   ['Travas elétricas', '4 X 4', 'Vidros elétrico...   \n",
              "A5                    ['Câmbio automático', 'Câmera de estacionament...   \n",
              "J5                    ['Sensor crepuscular', 'Painel digital', 'Roda...   \n",
              "A3                    ['4 X 4', 'Piloto automático', 'Central multim...   \n",
              "Série 1 M             ['Controle de estabilidade', 'Central multimíd...   \n",
              "...                                                                 ...   \n",
              "Lamborghini Reventón  ['Controle de tração', 'Ar condicionado', 'Cen...   \n",
              "Benni Mini            ['Sensor crepuscular', 'Câmbio automático', 'C...   \n",
              "Uno                   ['Central multimídia', 'Sensor crepuscular', '...   \n",
              "Santa Fe              ['Travas elétricas', 'Ar condicionado', '4 X 4...   \n",
              "XC60                  ['Painel digital', 'Piloto automático', 'Centr...   \n",
              "\n",
              "                          Valor  km_media  \n",
              "Nome                                       \n",
              "DS5                   124549.07       0.0  \n",
              "A5                     56445.20       0.0  \n",
              "J5                     53183.38       0.0  \n",
              "A3                     88552.39       0.0  \n",
              "Série 1 M              94564.40       0.0  \n",
              "...                         ...       ...  \n",
              "Lamborghini Reventón   67664.86       0.0  \n",
              "Benni Mini            126247.84       0.0  \n",
              "Uno                   128852.21       0.0  \n",
              "Santa Fe              129415.33       0.0  \n",
              "XC60                   77675.79       0.0  \n",
              "\n",
              "[61 rows x 7 columns]"
            ]
          },
          "execution_count": 180,
          "metadata": {},
          "output_type": "execute_result"
        }
      ],
      "source": [
        "dataset.query(\"Zero_km == True\")"
      ]
    },
    {
      "cell_type": "code",
      "execution_count": 181,
      "metadata": {
        "colab": {},
        "colab_type": "code",
        "id": "lure2GvpD1Bg"
      },
      "outputs": [],
      "source": [
        "dataset = pd.read_csv('db.csv', sep = \";\")"
      ]
    },
    {
      "cell_type": "code",
      "execution_count": 182,
      "metadata": {
        "colab": {},
        "colab_type": "code",
        "id": "4-ZvhXjvD1Bj"
      },
      "outputs": [
        {
          "data": {
            "text/html": [
              "<div>\n",
              "<style scoped>\n",
              "    .dataframe tbody tr th:only-of-type {\n",
              "        vertical-align: middle;\n",
              "    }\n",
              "\n",
              "    .dataframe tbody tr th {\n",
              "        vertical-align: top;\n",
              "    }\n",
              "\n",
              "    .dataframe thead th {\n",
              "        text-align: right;\n",
              "    }\n",
              "</style>\n",
              "<table border=\"1\" class=\"dataframe\">\n",
              "  <thead>\n",
              "    <tr style=\"text-align: right;\">\n",
              "      <th></th>\n",
              "      <th>Nome</th>\n",
              "      <th>Motor</th>\n",
              "      <th>Ano</th>\n",
              "      <th>Quilometragem</th>\n",
              "      <th>Zero_km</th>\n",
              "      <th>Acessórios</th>\n",
              "      <th>Valor</th>\n",
              "    </tr>\n",
              "  </thead>\n",
              "  <tbody>\n",
              "    <tr>\n",
              "      <th>0</th>\n",
              "      <td>Jetta Variant</td>\n",
              "      <td>Motor 4.0 Turbo</td>\n",
              "      <td>2003</td>\n",
              "      <td>44410.0</td>\n",
              "      <td>False</td>\n",
              "      <td>['Rodas de liga', 'Travas elétricas', 'Piloto ...</td>\n",
              "      <td>88078.64</td>\n",
              "    </tr>\n",
              "    <tr>\n",
              "      <th>1</th>\n",
              "      <td>Passat</td>\n",
              "      <td>Motor Diesel</td>\n",
              "      <td>1991</td>\n",
              "      <td>5712.0</td>\n",
              "      <td>False</td>\n",
              "      <td>['Central multimídia', 'Teto panorâmico', 'Fre...</td>\n",
              "      <td>106161.94</td>\n",
              "    </tr>\n",
              "    <tr>\n",
              "      <th>2</th>\n",
              "      <td>Crossfox</td>\n",
              "      <td>Motor Diesel V8</td>\n",
              "      <td>1990</td>\n",
              "      <td>37123.0</td>\n",
              "      <td>False</td>\n",
              "      <td>['Piloto automático', 'Controle de estabilidad...</td>\n",
              "      <td>72832.16</td>\n",
              "    </tr>\n",
              "    <tr>\n",
              "      <th>3</th>\n",
              "      <td>DS5</td>\n",
              "      <td>Motor 2.4 Turbo</td>\n",
              "      <td>2019</td>\n",
              "      <td>NaN</td>\n",
              "      <td>True</td>\n",
              "      <td>['Travas elétricas', '4 X 4', 'Vidros elétrico...</td>\n",
              "      <td>124549.07</td>\n",
              "    </tr>\n",
              "    <tr>\n",
              "      <th>4</th>\n",
              "      <td>Aston Martin DB4</td>\n",
              "      <td>Motor 2.4 Turbo</td>\n",
              "      <td>2006</td>\n",
              "      <td>25757.0</td>\n",
              "      <td>False</td>\n",
              "      <td>['Rodas de liga', '4 X 4', 'Central multimídia...</td>\n",
              "      <td>92612.10</td>\n",
              "    </tr>\n",
              "    <tr>\n",
              "      <th>...</th>\n",
              "      <td>...</td>\n",
              "      <td>...</td>\n",
              "      <td>...</td>\n",
              "      <td>...</td>\n",
              "      <td>...</td>\n",
              "      <td>...</td>\n",
              "      <td>...</td>\n",
              "    </tr>\n",
              "    <tr>\n",
              "      <th>253</th>\n",
              "      <td>Phantom 2013</td>\n",
              "      <td>Motor V8</td>\n",
              "      <td>2014</td>\n",
              "      <td>27505.0</td>\n",
              "      <td>False</td>\n",
              "      <td>['Controle de estabilidade', 'Piloto automátic...</td>\n",
              "      <td>51759.58</td>\n",
              "    </tr>\n",
              "    <tr>\n",
              "      <th>254</th>\n",
              "      <td>Cadillac Ciel concept</td>\n",
              "      <td>Motor V8</td>\n",
              "      <td>1991</td>\n",
              "      <td>29981.0</td>\n",
              "      <td>False</td>\n",
              "      <td>['Bancos de couro', 'Painel digital', 'Sensor ...</td>\n",
              "      <td>51667.06</td>\n",
              "    </tr>\n",
              "    <tr>\n",
              "      <th>255</th>\n",
              "      <td>Classe GLK</td>\n",
              "      <td>Motor 5.0 V8 Bi-Turbo</td>\n",
              "      <td>2002</td>\n",
              "      <td>52637.0</td>\n",
              "      <td>False</td>\n",
              "      <td>['Rodas de liga', 'Controle de tração', 'Câmbi...</td>\n",
              "      <td>68934.03</td>\n",
              "    </tr>\n",
              "    <tr>\n",
              "      <th>256</th>\n",
              "      <td>Aston Martin DB5</td>\n",
              "      <td>Motor Diesel</td>\n",
              "      <td>1996</td>\n",
              "      <td>7685.0</td>\n",
              "      <td>False</td>\n",
              "      <td>['Ar condicionado', '4 X 4', 'Câmbio automátic...</td>\n",
              "      <td>122110.90</td>\n",
              "    </tr>\n",
              "    <tr>\n",
              "      <th>257</th>\n",
              "      <td>Macan</td>\n",
              "      <td>Motor Diesel V6</td>\n",
              "      <td>1992</td>\n",
              "      <td>50188.0</td>\n",
              "      <td>False</td>\n",
              "      <td>['Central multimídia', 'Teto panorâmico', 'Vid...</td>\n",
              "      <td>90381.47</td>\n",
              "    </tr>\n",
              "  </tbody>\n",
              "</table>\n",
              "<p>258 rows × 7 columns</p>\n",
              "</div>"
            ],
            "text/plain": [
              "                      Nome                  Motor   Ano  Quilometragem  \\\n",
              "0            Jetta Variant        Motor 4.0 Turbo  2003        44410.0   \n",
              "1                   Passat           Motor Diesel  1991         5712.0   \n",
              "2                 Crossfox        Motor Diesel V8  1990        37123.0   \n",
              "3                      DS5        Motor 2.4 Turbo  2019            NaN   \n",
              "4         Aston Martin DB4        Motor 2.4 Turbo  2006        25757.0   \n",
              "..                     ...                    ...   ...            ...   \n",
              "253           Phantom 2013               Motor V8  2014        27505.0   \n",
              "254  Cadillac Ciel concept               Motor V8  1991        29981.0   \n",
              "255             Classe GLK  Motor 5.0 V8 Bi-Turbo  2002        52637.0   \n",
              "256       Aston Martin DB5           Motor Diesel  1996         7685.0   \n",
              "257                  Macan        Motor Diesel V6  1992        50188.0   \n",
              "\n",
              "     Zero_km                                         Acessórios      Valor  \n",
              "0      False  ['Rodas de liga', 'Travas elétricas', 'Piloto ...   88078.64  \n",
              "1      False  ['Central multimídia', 'Teto panorâmico', 'Fre...  106161.94  \n",
              "2      False  ['Piloto automático', 'Controle de estabilidad...   72832.16  \n",
              "3       True  ['Travas elétricas', '4 X 4', 'Vidros elétrico...  124549.07  \n",
              "4      False  ['Rodas de liga', '4 X 4', 'Central multimídia...   92612.10  \n",
              "..       ...                                                ...        ...  \n",
              "253    False  ['Controle de estabilidade', 'Piloto automátic...   51759.58  \n",
              "254    False  ['Bancos de couro', 'Painel digital', 'Sensor ...   51667.06  \n",
              "255    False  ['Rodas de liga', 'Controle de tração', 'Câmbi...   68934.03  \n",
              "256    False  ['Ar condicionado', '4 X 4', 'Câmbio automátic...  122110.90  \n",
              "257    False  ['Central multimídia', 'Teto panorâmico', 'Vid...   90381.47  \n",
              "\n",
              "[258 rows x 7 columns]"
            ]
          },
          "execution_count": 182,
          "metadata": {},
          "output_type": "execute_result"
        }
      ],
      "source": [
        "dataset"
      ]
    },
    {
      "cell_type": "code",
      "execution_count": 183,
      "metadata": {
        "colab": {},
        "colab_type": "code",
        "id": "MQUw7i1OD1Bk",
        "scrolled": true
      },
      "outputs": [],
      "source": [
        "dataset.dropna(subset=['Quilometragem'], inplace=True)"
      ]
    },
    {
      "cell_type": "code",
      "execution_count": 184,
      "metadata": {
        "colab": {},
        "colab_type": "code",
        "id": "U4Cse7miD1Bl"
      },
      "outputs": [
        {
          "data": {
            "text/html": [
              "<div>\n",
              "<style scoped>\n",
              "    .dataframe tbody tr th:only-of-type {\n",
              "        vertical-align: middle;\n",
              "    }\n",
              "\n",
              "    .dataframe tbody tr th {\n",
              "        vertical-align: top;\n",
              "    }\n",
              "\n",
              "    .dataframe thead th {\n",
              "        text-align: right;\n",
              "    }\n",
              "</style>\n",
              "<table border=\"1\" class=\"dataframe\">\n",
              "  <thead>\n",
              "    <tr style=\"text-align: right;\">\n",
              "      <th></th>\n",
              "      <th>Nome</th>\n",
              "      <th>Motor</th>\n",
              "      <th>Ano</th>\n",
              "      <th>Quilometragem</th>\n",
              "      <th>Zero_km</th>\n",
              "      <th>Acessórios</th>\n",
              "      <th>Valor</th>\n",
              "    </tr>\n",
              "  </thead>\n",
              "  <tbody>\n",
              "    <tr>\n",
              "      <th>0</th>\n",
              "      <td>Jetta Variant</td>\n",
              "      <td>Motor 4.0 Turbo</td>\n",
              "      <td>2003</td>\n",
              "      <td>44410.0</td>\n",
              "      <td>False</td>\n",
              "      <td>['Rodas de liga', 'Travas elétricas', 'Piloto ...</td>\n",
              "      <td>88078.64</td>\n",
              "    </tr>\n",
              "    <tr>\n",
              "      <th>1</th>\n",
              "      <td>Passat</td>\n",
              "      <td>Motor Diesel</td>\n",
              "      <td>1991</td>\n",
              "      <td>5712.0</td>\n",
              "      <td>False</td>\n",
              "      <td>['Central multimídia', 'Teto panorâmico', 'Fre...</td>\n",
              "      <td>106161.94</td>\n",
              "    </tr>\n",
              "    <tr>\n",
              "      <th>2</th>\n",
              "      <td>Crossfox</td>\n",
              "      <td>Motor Diesel V8</td>\n",
              "      <td>1990</td>\n",
              "      <td>37123.0</td>\n",
              "      <td>False</td>\n",
              "      <td>['Piloto automático', 'Controle de estabilidad...</td>\n",
              "      <td>72832.16</td>\n",
              "    </tr>\n",
              "    <tr>\n",
              "      <th>4</th>\n",
              "      <td>Aston Martin DB4</td>\n",
              "      <td>Motor 2.4 Turbo</td>\n",
              "      <td>2006</td>\n",
              "      <td>25757.0</td>\n",
              "      <td>False</td>\n",
              "      <td>['Rodas de liga', '4 X 4', 'Central multimídia...</td>\n",
              "      <td>92612.10</td>\n",
              "    </tr>\n",
              "    <tr>\n",
              "      <th>5</th>\n",
              "      <td>Palio Weekend</td>\n",
              "      <td>Motor 1.8 16v</td>\n",
              "      <td>2012</td>\n",
              "      <td>10728.0</td>\n",
              "      <td>False</td>\n",
              "      <td>['Sensor de estacionamento', 'Teto panorâmico'...</td>\n",
              "      <td>97497.73</td>\n",
              "    </tr>\n",
              "    <tr>\n",
              "      <th>...</th>\n",
              "      <td>...</td>\n",
              "      <td>...</td>\n",
              "      <td>...</td>\n",
              "      <td>...</td>\n",
              "      <td>...</td>\n",
              "      <td>...</td>\n",
              "      <td>...</td>\n",
              "    </tr>\n",
              "    <tr>\n",
              "      <th>253</th>\n",
              "      <td>Phantom 2013</td>\n",
              "      <td>Motor V8</td>\n",
              "      <td>2014</td>\n",
              "      <td>27505.0</td>\n",
              "      <td>False</td>\n",
              "      <td>['Controle de estabilidade', 'Piloto automátic...</td>\n",
              "      <td>51759.58</td>\n",
              "    </tr>\n",
              "    <tr>\n",
              "      <th>254</th>\n",
              "      <td>Cadillac Ciel concept</td>\n",
              "      <td>Motor V8</td>\n",
              "      <td>1991</td>\n",
              "      <td>29981.0</td>\n",
              "      <td>False</td>\n",
              "      <td>['Bancos de couro', 'Painel digital', 'Sensor ...</td>\n",
              "      <td>51667.06</td>\n",
              "    </tr>\n",
              "    <tr>\n",
              "      <th>255</th>\n",
              "      <td>Classe GLK</td>\n",
              "      <td>Motor 5.0 V8 Bi-Turbo</td>\n",
              "      <td>2002</td>\n",
              "      <td>52637.0</td>\n",
              "      <td>False</td>\n",
              "      <td>['Rodas de liga', 'Controle de tração', 'Câmbi...</td>\n",
              "      <td>68934.03</td>\n",
              "    </tr>\n",
              "    <tr>\n",
              "      <th>256</th>\n",
              "      <td>Aston Martin DB5</td>\n",
              "      <td>Motor Diesel</td>\n",
              "      <td>1996</td>\n",
              "      <td>7685.0</td>\n",
              "      <td>False</td>\n",
              "      <td>['Ar condicionado', '4 X 4', 'Câmbio automátic...</td>\n",
              "      <td>122110.90</td>\n",
              "    </tr>\n",
              "    <tr>\n",
              "      <th>257</th>\n",
              "      <td>Macan</td>\n",
              "      <td>Motor Diesel V6</td>\n",
              "      <td>1992</td>\n",
              "      <td>50188.0</td>\n",
              "      <td>False</td>\n",
              "      <td>['Central multimídia', 'Teto panorâmico', 'Vid...</td>\n",
              "      <td>90381.47</td>\n",
              "    </tr>\n",
              "  </tbody>\n",
              "</table>\n",
              "<p>197 rows × 7 columns</p>\n",
              "</div>"
            ],
            "text/plain": [
              "                      Nome                  Motor   Ano  Quilometragem  \\\n",
              "0            Jetta Variant        Motor 4.0 Turbo  2003        44410.0   \n",
              "1                   Passat           Motor Diesel  1991         5712.0   \n",
              "2                 Crossfox        Motor Diesel V8  1990        37123.0   \n",
              "4         Aston Martin DB4        Motor 2.4 Turbo  2006        25757.0   \n",
              "5            Palio Weekend          Motor 1.8 16v  2012        10728.0   \n",
              "..                     ...                    ...   ...            ...   \n",
              "253           Phantom 2013               Motor V8  2014        27505.0   \n",
              "254  Cadillac Ciel concept               Motor V8  1991        29981.0   \n",
              "255             Classe GLK  Motor 5.0 V8 Bi-Turbo  2002        52637.0   \n",
              "256       Aston Martin DB5           Motor Diesel  1996         7685.0   \n",
              "257                  Macan        Motor Diesel V6  1992        50188.0   \n",
              "\n",
              "     Zero_km                                         Acessórios      Valor  \n",
              "0      False  ['Rodas de liga', 'Travas elétricas', 'Piloto ...   88078.64  \n",
              "1      False  ['Central multimídia', 'Teto panorâmico', 'Fre...  106161.94  \n",
              "2      False  ['Piloto automático', 'Controle de estabilidad...   72832.16  \n",
              "4      False  ['Rodas de liga', '4 X 4', 'Central multimídia...   92612.10  \n",
              "5      False  ['Sensor de estacionamento', 'Teto panorâmico'...   97497.73  \n",
              "..       ...                                                ...        ...  \n",
              "253    False  ['Controle de estabilidade', 'Piloto automátic...   51759.58  \n",
              "254    False  ['Bancos de couro', 'Painel digital', 'Sensor ...   51667.06  \n",
              "255    False  ['Rodas de liga', 'Controle de tração', 'Câmbi...   68934.03  \n",
              "256    False  ['Ar condicionado', '4 X 4', 'Câmbio automátic...  122110.90  \n",
              "257    False  ['Central multimídia', 'Teto panorâmico', 'Vid...   90381.47  \n",
              "\n",
              "[197 rows x 7 columns]"
            ]
          },
          "execution_count": 184,
          "metadata": {},
          "output_type": "execute_result"
        }
      ],
      "source": [
        "dataset"
      ]
    },
    {
      "cell_type": "code",
      "execution_count": null,
      "metadata": {
        "colab": {},
        "colab_type": "code",
        "id": "8L4wum05D1Bl",
        "scrolled": true
      },
      "outputs": [],
      "source": []
    },
    {
      "cell_type": "code",
      "execution_count": null,
      "metadata": {
        "colab": {},
        "colab_type": "code",
        "id": "8iLOc-U3D1Bm"
      },
      "outputs": [],
      "source": []
    }
  ],
  "metadata": {
    "colab": {
      "name": "Python para Data Science - Pandas.ipynb",
      "provenance": []
    },
    "interpreter": {
      "hash": "9726a43947539454533853d3201a59fdf1078c50b678dc55536f50e7896ad32c"
    },
    "kernelspec": {
      "display_name": "Python 3.8.5 64-bit ('base': conda)",
      "name": "python3"
    },
    "language_info": {
      "codemirror_mode": {
        "name": "ipython",
        "version": 3
      },
      "file_extension": ".py",
      "mimetype": "text/x-python",
      "name": "python",
      "nbconvert_exporter": "python",
      "pygments_lexer": "ipython3",
      "version": "3.8.5"
    }
  },
  "nbformat": 4,
  "nbformat_minor": 2
}
